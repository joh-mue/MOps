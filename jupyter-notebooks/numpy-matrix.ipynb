{
 "cells": [
  {
   "cell_type": "code",
   "execution_count": 24,
   "metadata": {
    "collapsed": true,
    "deletable": true,
    "editable": true
   },
   "outputs": [],
   "source": [
    "import numpy as np"
   ]
  },
  {
   "cell_type": "code",
   "execution_count": 25,
   "metadata": {
    "collapsed": false,
    "deletable": true,
    "editable": true
   },
   "outputs": [
    {
     "data": {
      "text/plain": [
       "array([[   1,    2,    3, ...,  998,  999, 1000],\n",
       "       [   1,    2,    3, ...,  998,  999, 1000],\n",
       "       [   1,    2,    3, ...,  998,  999, 1000],\n",
       "       ..., \n",
       "       [   1,    2,    3, ...,  998,  999, 1000],\n",
       "       [   1,    2,    3, ...,  998,  999, 1000],\n",
       "       [   1,    2,    3, ...,  998,  999, 1000]])"
      ]
     },
     "execution_count": 25,
     "metadata": {},
     "output_type": "execute_result"
    }
   ],
   "source": [
    "matrix_size = 1000\n",
    "test_matrix = []\n",
    "for i in range(matrix_size):\n",
    "    row = [x for x in range(1, matrix_size + 1)] # from 1,....,matrix_size\n",
    "    test_matrix.append(row)\n",
    "np.array(test_matrix)"
   ]
  },
  {
   "cell_type": "code",
   "execution_count": 26,
   "metadata": {
    "collapsed": false,
    "deletable": true,
    "editable": true,
    "scrolled": true
   },
   "outputs": [
    {
     "data": {
      "text/plain": [
       "array([[   500500,   1001000,   1501500, ..., 499499000, 499999500,\n",
       "        500500000],\n",
       "       [   500500,   1001000,   1501500, ..., 499499000, 499999500,\n",
       "        500500000],\n",
       "       [   500500,   1001000,   1501500, ..., 499499000, 499999500,\n",
       "        500500000],\n",
       "       ..., \n",
       "       [   500500,   1001000,   1501500, ..., 499499000, 499999500,\n",
       "        500500000],\n",
       "       [   500500,   1001000,   1501500, ..., 499499000, 499999500,\n",
       "        500500000],\n",
       "       [   500500,   1001000,   1501500, ..., 499499000, 499999500,\n",
       "        500500000]])"
      ]
     },
     "execution_count": 26,
     "metadata": {},
     "output_type": "execute_result"
    }
   ],
   "source": [
    "c_100 = np.array(test_matrix)\n",
    "product = c_100.dot(c_100)\n",
    "product"
   ]
  },
  {
   "cell_type": "code",
   "execution_count": 27,
   "metadata": {
    "collapsed": false,
    "deletable": true,
    "editable": true
   },
   "outputs": [
    {
     "data": {
      "text/plain": [
       "1001000"
      ]
     },
     "execution_count": 27,
     "metadata": {},
     "output_type": "execute_result"
    }
   ],
   "source": [
    "product[1][1]"
   ]
  },
  {
   "cell_type": "code",
   "execution_count": 28,
   "metadata": {
    "collapsed": false,
    "deletable": true,
    "editable": true
   },
   "outputs": [
    {
     "data": {
      "text/plain": [
       "array([[1, 1, 1, 1, 1],\n",
       "       [1, 1, 1, 1, 1],\n",
       "       [1, 1, 1, 1, 1],\n",
       "       [1, 1, 1, 1, 1],\n",
       "       [1, 1, 1, 1, 1]], dtype=int16)"
      ]
     },
     "execution_count": 28,
     "metadata": {},
     "output_type": "execute_result"
    }
   ],
   "source": [
    "einheitsmatrix = np.ones((5,5), dtype=np.int16)\n",
    "einheitsmatrix"
   ]
  },
  {
   "cell_type": "code",
   "execution_count": 29,
   "metadata": {
    "collapsed": false,
    "deletable": true,
    "editable": true
   },
   "outputs": [
    {
     "data": {
      "text/plain": [
       "array([[1, 1, 1, 1, 1],\n",
       "       [0, 1, 1, 1, 1],\n",
       "       [0, 0, 1, 1, 1],\n",
       "       [0, 0, 0, 1, 1],\n",
       "       [0, 0, 0, 0, 1]])"
      ]
     },
     "execution_count": 29,
     "metadata": {},
     "output_type": "execute_result"
    }
   ],
   "source": [
    "ematrix = np.array([\n",
    "    [1, 1, 1, 1, 1],\n",
    "    [0, 1, 1, 1, 1],\n",
    "    [0, 0, 1, 1, 1],\n",
    "    [0, 0, 0, 1, 1],\n",
    "    [0, 0, 0, 0, 1]])\n",
    "ematrix"
   ]
  },
  {
   "cell_type": "code",
   "execution_count": null,
   "metadata": {
    "collapsed": true,
    "deletable": true,
    "editable": true
   },
   "outputs": [],
   "source": []
  }
 ],
 "metadata": {
  "kernelspec": {
   "display_name": "Python 2",
   "language": "python",
   "name": "python2"
  },
  "language_info": {
   "codemirror_mode": {
    "name": "ipython",
    "version": 2
   },
   "file_extension": ".py",
   "mimetype": "text/x-python",
   "name": "python",
   "nbconvert_exporter": "python",
   "pygments_lexer": "ipython2",
   "version": "2.7.13"
  }
 },
 "nbformat": 4,
 "nbformat_minor": 2
}
