{
 "cells": [
  {
   "cell_type": "code",
   "execution_count": 2,
   "metadata": {
    "collapsed": true
   },
   "outputs": [],
   "source": [
    "import os\n",
    "import boto3\n",
    "import numpy as np\n",
    "\n",
    "s3_client = boto3.client('s3')\n",
    "\n",
    "def download_s3_file(bucket, folder, filename, s3_client):\n",
    "    if not os.path.exists('/tmp/' + folder):\n",
    "        os.mkdir('/tmp/' + folder)\n",
    "\n",
    "    key = folder + \"/\" + filename # e.g. 'S3_U0_m2'\n",
    "    s3_client.download_file(bucket, key, '/tmp/' + key)\n",
    "    return '/tmp/' + key\n",
    "\n",
    "\n",
    "def get_all_objects_for_matrix(matrix_name):\n",
    "    return s3_client.list_objects_v2(\n",
    "        Bucket='jmue-multiplication-benchmarks',\n",
    "        Delimiter='string',\n",
    "        Prefix=matrix_name + '/'\n",
    "    )"
   ]
  },
  {
   "cell_type": "code",
   "execution_count": 27,
   "metadata": {
    "collapsed": true
   },
   "outputs": [],
   "source": [
    "response = get_all_objects_for_matrix('sq_8kx8k_bs4k')"
   ]
  },
  {
   "cell_type": "code",
   "execution_count": 31,
   "metadata": {},
   "outputs": [
    {
     "name": "stdout",
     "output_type": "stream",
     "text": [
      "4\n"
     ]
    },
    {
     "data": {
      "text/plain": [
       "{u'Contents': [{u'ETag': '\"4cfb819a40e4862fbcd7b9f477177dd8-16\"',\n",
       "   u'Key': 'sq_8kx8k_bs4k/m_0_0.npy',\n",
       "   u'LastModified': datetime.datetime(2017, 10, 14, 12, 57, 41, tzinfo=tzutc()),\n",
       "   u'Size': 128000080,\n",
       "   u'StorageClass': 'STANDARD'},\n",
       "  {u'ETag': '\"3598a8e80ac99125d1fb7bff9403b731-16\"',\n",
       "   u'Key': 'sq_8kx8k_bs4k/m_0_1.npy',\n",
       "   u'LastModified': datetime.datetime(2017, 10, 14, 12, 57, 49, tzinfo=tzutc()),\n",
       "   u'Size': 128000080,\n",
       "   u'StorageClass': 'STANDARD'},\n",
       "  {u'ETag': '\"7c666644cb2ce845a86963df26756305-16\"',\n",
       "   u'Key': 'sq_8kx8k_bs4k/m_1_0.npy',\n",
       "   u'LastModified': datetime.datetime(2017, 10, 14, 12, 57, 56, tzinfo=tzutc()),\n",
       "   u'Size': 128000080,\n",
       "   u'StorageClass': 'STANDARD'},\n",
       "  {u'ETag': '\"44cafe001fe513cf0f1be63408bc0fbf-16\"',\n",
       "   u'Key': 'sq_8kx8k_bs4k/m_1_1.npy',\n",
       "   u'LastModified': datetime.datetime(2017, 10, 14, 12, 58, 4, tzinfo=tzutc()),\n",
       "   u'Size': 128000080,\n",
       "   u'StorageClass': 'STANDARD'}],\n",
       " u'Delimiter': 'string',\n",
       " u'IsTruncated': False,\n",
       " u'KeyCount': 4,\n",
       " u'MaxKeys': 1000,\n",
       " u'Name': 'jmue-multiplication-benchmarks',\n",
       " u'Prefix': 'sq_8kx8k_bs4k/',\n",
       " 'ResponseMetadata': {'HTTPHeaders': {'content-type': 'application/xml',\n",
       "   'date': 'Tue, 31 Oct 2017 12:56:28 GMT',\n",
       "   'server': 'AmazonS3',\n",
       "   'transfer-encoding': 'chunked',\n",
       "   'x-amz-bucket-region': 'eu-central-1',\n",
       "   'x-amz-id-2': 'ps21TfehwsF/5GPdJGRT0lb660QSMWEkibnm+XoGnygy/bxPVI+O2OZlRccE+7Bx9cpLlCjjgdk=',\n",
       "   'x-amz-request-id': '480766E2CC750BF4'},\n",
       "  'HTTPStatusCode': 200,\n",
       "  'HostId': 'ps21TfehwsF/5GPdJGRT0lb660QSMWEkibnm+XoGnygy/bxPVI+O2OZlRccE+7Bx9cpLlCjjgdk=',\n",
       "  'RequestId': '480766E2CC750BF4',\n",
       "  'RetryAttempts': 0}}"
      ]
     },
     "execution_count": 31,
     "metadata": {},
     "output_type": "execute_result"
    }
   ],
   "source": [
    "print response['KeyCount']\n",
    "response"
   ]
  },
  {
   "cell_type": "code",
   "execution_count": 33,
   "metadata": {},
   "outputs": [
    {
     "data": {
      "text/plain": [
       "array([[1, 2, 3, 6, 6, 6],\n",
       "       [1, 1, 1, 6, 6, 6]])"
      ]
     },
     "execution_count": 33,
     "metadata": {},
     "output_type": "execute_result"
    }
   ],
   "source": [
    "np.hstack(([[1,2,3],[1,1,1]], [[6,6,6],[6,6,6]]))"
   ]
  },
  {
   "cell_type": "code",
   "execution_count": 35,
   "metadata": {
    "collapsed": true
   },
   "outputs": [],
   "source": [
    "m_0_0 = np.load('/Volumes/data/sq_4kx4k_bs2k/m_0_0.npy')\n",
    "m_0_1 = np.load('/Volumes/data/sq_4kx4k_bs2k/m_0_1.npy')\n",
    "m_1_0 = np.load('/Volumes/data/sq_4kx4k_bs2k/m_1_0.npy')\n",
    "m_1_1 = np.load('/Volumes/data/sq_4kx4k_bs2k/m_1_1.npy')"
   ]
  },
  {
   "cell_type": "code",
   "execution_count": 3,
   "metadata": {
    "collapsed": true
   },
   "outputs": [],
   "source": [
    "m_0_0 = np.array([[1,1,1,1],[1,1,1,1],[1,1,1,1],[1,1,1,1]])\n",
    "m_0_1 = np.array([[2,2,2,2],[2,2,2,2],[2,2,2,2],[2,2,2,2]])\n",
    "m_1_0 = np.array([[3,3,3,3],[3,3,3,3],[3,3,3,3],[3,3,3,3]])\n",
    "m_1_1 = np.array([[4,4,4,4],[4,4,4,4],[4,4,4,4],[4,4,4,4]])"
   ]
  },
  {
   "cell_type": "code",
   "execution_count": 4,
   "metadata": {
    "collapsed": true
   },
   "outputs": [],
   "source": [
    "top = np.hstack([m_0_0, m_0_1])\n",
    "bottom = np.hstack((m_1_0, m_1_1))\n",
    "complete = np.vstack((top, bottom))"
   ]
  },
  {
   "cell_type": "code",
   "execution_count": 5,
   "metadata": {},
   "outputs": [
    {
     "data": {
      "text/plain": [
       "array([[1, 1, 1, 1, 2, 2, 2, 2],\n",
       "       [1, 1, 1, 1, 2, 2, 2, 2],\n",
       "       [1, 1, 1, 1, 2, 2, 2, 2],\n",
       "       [1, 1, 1, 1, 2, 2, 2, 2]])"
      ]
     },
     "execution_count": 5,
     "metadata": {},
     "output_type": "execute_result"
    }
   ],
   "source": [
    "top"
   ]
  },
  {
   "cell_type": "code",
   "execution_count": 43,
   "metadata": {},
   "outputs": [
    {
     "data": {
      "text/plain": [
       "array([[1, 1, 1, 1, 2, 2, 2, 2],\n",
       "       [1, 1, 1, 1, 2, 2, 2, 2],\n",
       "       [1, 1, 1, 1, 2, 2, 2, 2],\n",
       "       [1, 1, 1, 1, 2, 2, 2, 2],\n",
       "       [3, 3, 3, 3, 4, 4, 4, 4],\n",
       "       [3, 3, 3, 3, 4, 4, 4, 4],\n",
       "       [3, 3, 3, 3, 4, 4, 4, 4],\n",
       "       [3, 3, 3, 3, 4, 4, 4, 4]])"
      ]
     },
     "execution_count": 43,
     "metadata": {},
     "output_type": "execute_result"
    }
   ],
   "source": [
    "complete"
   ]
  },
  {
   "cell_type": "code",
   "execution_count": 56,
   "metadata": {
    "collapsed": true
   },
   "outputs": [],
   "source": [
    "top, bottom = np.vsplit(complete, 2)"
   ]
  },
  {
   "cell_type": "code",
   "execution_count": 57,
   "metadata": {},
   "outputs": [
    {
     "data": {
      "text/plain": [
       "array([[1, 1, 1, 1, 2, 2, 2, 2],\n",
       "       [1, 1, 1, 1, 2, 2, 2, 2],\n",
       "       [1, 1, 1, 1, 2, 2, 2, 2],\n",
       "       [1, 1, 1, 1, 2, 2, 2, 2]])"
      ]
     },
     "execution_count": 57,
     "metadata": {},
     "output_type": "execute_result"
    }
   ],
   "source": [
    "top"
   ]
  },
  {
   "cell_type": "code",
   "execution_count": 58,
   "metadata": {},
   "outputs": [
    {
     "data": {
      "text/plain": [
       "array([[3, 3, 3, 3, 4, 4, 4, 4],\n",
       "       [3, 3, 3, 3, 4, 4, 4, 4],\n",
       "       [3, 3, 3, 3, 4, 4, 4, 4],\n",
       "       [3, 3, 3, 3, 4, 4, 4, 4]])"
      ]
     },
     "execution_count": 58,
     "metadata": {},
     "output_type": "execute_result"
    }
   ],
   "source": [
    "bottom"
   ]
  },
  {
   "cell_type": "code",
   "execution_count": 59,
   "metadata": {
    "collapsed": true
   },
   "outputs": [],
   "source": [
    "m_0_0, m_0_1 = np.hsplit(top, 2)\n",
    "m_1_0, m_1_1 = np.hsplit(bottom, 2)"
   ]
  },
  {
   "cell_type": "code",
   "execution_count": 34,
   "metadata": {
    "collapsed": true
   },
   "outputs": [],
   "source": [
    "def build_matrix(matrix_name, dimension, block_size):\n",
    "    rows = []\n",
    "    for i in range(0,dimension/block_size):\n",
    "        blocks = []\n",
    "        for j in range(0,dimension/block_size):\n",
    "            blocks.append(np.load('/tmp/{}/m_{}_{}.npy'.format(matrix_name,i,j)))\n",
    "        rows.append(np.vstack(blocks))\n",
    "    return np.hstack(rows)"
   ]
  },
  {
   "cell_type": "code",
   "execution_count": 38,
   "metadata": {
    "collapsed": true
   },
   "outputs": [],
   "source": [
    "matrix = build_matrix('sq_4kx4k_bs2k', 4, 2)"
   ]
  },
  {
   "cell_type": "code",
   "execution_count": 39,
   "metadata": {},
   "outputs": [
    {
     "data": {
      "text/plain": [
       "(4000, 4000)"
      ]
     },
     "execution_count": 39,
     "metadata": {},
     "output_type": "execute_result"
    }
   ],
   "source": [
    "matrix.shape"
   ]
  },
  {
   "cell_type": "code",
   "execution_count": 40,
   "metadata": {},
   "outputs": [
    {
     "data": {
      "text/plain": [
       "(4, 4)"
      ]
     },
     "execution_count": 40,
     "metadata": {},
     "output_type": "execute_result"
    }
   ],
   "source": [
    "np.array([[1,2,3,4],[1,2,3,4],[1,2,3,4],[1,2,3,4]]).shape"
   ]
  },
  {
   "cell_type": "code",
   "execution_count": 44,
   "metadata": {},
   "outputs": [
    {
     "name": "stdout",
     "output_type": "stream",
     "text": [
      "5\n",
      "0\n",
      "5\n",
      "1\n",
      "5\n",
      "2\n",
      "5\n",
      "3\n"
     ]
    }
   ],
   "source": [
    "for i, val in enumerate([5,5,5,5]):\n",
    "    print val\n",
    "    print i"
   ]
  },
  {
   "cell_type": "code",
   "execution_count": null,
   "metadata": {
    "collapsed": true
   },
   "outputs": [],
   "source": []
  }
 ],
 "metadata": {
  "kernelspec": {
   "display_name": "Python 2",
   "language": "python",
   "name": "python2"
  },
  "language_info": {
   "codemirror_mode": {
    "name": "ipython",
    "version": 2
   },
   "file_extension": ".py",
   "mimetype": "text/x-python",
   "name": "python",
   "nbconvert_exporter": "python",
   "pygments_lexer": "ipython2",
   "version": "2.7.14"
  }
 },
 "nbformat": 4,
 "nbformat_minor": 2
}
