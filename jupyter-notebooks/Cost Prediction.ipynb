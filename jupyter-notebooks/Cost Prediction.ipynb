{
 "cells": [
  {
   "cell_type": "markdown",
   "metadata": {},
   "source": [
    "# Cost and Processing-Time Prediction for Parallel Matrix Operations"
   ]
  },
  {
   "cell_type": "code",
   "execution_count": 6,
   "metadata": {
    "collapsed": true
   },
   "outputs": [],
   "source": [
    "import math\n",
    "from collections import namedtuple"
   ]
  },
  {
   "cell_type": "code",
   "execution_count": 7,
   "metadata": {
    "collapsed": true
   },
   "outputs": [],
   "source": [
    "MatrixDimensions = namedtuple('MatrixDimensions', ['height', 'width'])"
   ]
  },
  {
   "cell_type": "markdown",
   "metadata": {},
   "source": [
    "### Lambda Cost"
   ]
  },
  {
   "cell_type": "code",
   "execution_count": 105,
   "metadata": {
    "collapsed": true
   },
   "outputs": [],
   "source": [
    "# lambda cost\n",
    "price_per_request = 0.0000002 # in $\n",
    "price_per_GBs = 0.00001667 # in $\n",
    "\n",
    "# Average Execution Times\n",
    "intermediate_exec_time = { '1000': 2500, '2000':  14000 } \n",
    "collect_exec_time = { '1000': 3900,'2000': 13000 }\n",
    "accumulate_exec_time = {'1000': 2000,'2000': 6700 }"
   ]
  },
  {
   "cell_type": "code",
   "execution_count": 56,
   "metadata": {
    "collapsed": true
   },
   "outputs": [],
   "source": [
    "def lambda_execution_cost(milliseconds, memory):\n",
    "    price_per_GBs = 0.00001667 # in $\n",
    "    ms_rounded_up = (math.ceil(milliseconds/100.0))*100.0\n",
    "    return ms_rounded_up * memory * price_per_GBs/1024.0"
   ]
  },
  {
   "cell_type": "code",
   "execution_count": 71,
   "metadata": {
    "collapsed": true
   },
   "outputs": [],
   "source": [
    "def execution_time(splits, units_per_split, blocksize):\n",
    "    units = splits * units_per_split\n",
    "    intermediates = 7\n",
    "    collectors = 1\n",
    "    \n",
    "    intermediate_time = units * intermediates * intermediate_exec_time[str(blocksize)]\n",
    "    collector_time = units * collectors * collect_exec_time[str(blocksize)]\n",
    "    accumulator_time = units * accumulators_per_split * accumulate_exec_time[str(blocksize)]\n",
    "\n",
    "    return  intermediate_time + collector_time + accumulator_time"
   ]
  },
  {
   "cell_type": "code",
   "execution_count": null,
   "metadata": {},
   "outputs": [],
   "source": [
    "execution_cost(170.0, 1536.0)"
   ]
  },
  {
   "cell_type": "markdown",
   "metadata": {},
   "source": [
    "### StepFunction Cost"
   ]
  },
  {
   "cell_type": "code",
   "execution_count": 122,
   "metadata": {
    "collapsed": true
   },
   "outputs": [],
   "source": [
    "price_per_transition = 0.000025 # in $\n",
    "\n",
    "TRANSITIONS_PER_UNIT_OLD = 2 + 14 + 1\n",
    "# 2 in/out of unit-pass, 7 intermediates, 1 collector\n",
    "TRANSITIONS_PER_UNIT = 2 + 7 + 1\n",
    "ACCUMULATORS_PER_SPLIT = 1"
   ]
  },
  {
   "cell_type": "code",
   "execution_count": 127,
   "metadata": {
    "collapsed": true
   },
   "outputs": [],
   "source": [
    "def transitions_for_split_with(units):\n",
    "    start = 1 # transition to surrounding parallel state\n",
    "    unit_transitions = units * TRANSITIONS_PER_UNIT\n",
    "    accumulators = 1\n",
    "    accumulate_transitions = ACCUMULATORS_PER_SPLIT * 2 # in and out of accum.\n",
    "    return start + unit_transitions + accumulate_transitions"
   ]
  },
  {
   "cell_type": "code",
   "execution_count": 21,
   "metadata": {},
   "outputs": [
    {
     "data": {
      "text/plain": [
       "23"
      ]
     },
     "execution_count": 21,
     "metadata": {},
     "output_type": "execute_result"
    }
   ],
   "source": [
    "units = 2\n",
    "transitions_for_split_with(units)"
   ]
  },
  {
   "cell_type": "markdown",
   "metadata": {},
   "source": [
    "### S3 cost"
   ]
  },
  {
   "cell_type": "code",
   "execution_count": 10,
   "metadata": {
    "collapsed": true
   },
   "outputs": [],
   "source": [
    "price_per_put_request =  0.01 /  1000.0 # in $\n",
    "price_per_get_request = 0.001 / 10000.0 # in $"
   ]
  },
  {
   "cell_type": "code",
   "execution_count": null,
   "metadata": {
    "collapsed": true
   },
   "outputs": [],
   "source": [
    "# S3 reuests\n",
    "KB = 1024\n",
    "MB = kB * kB\n",
    "\n",
    "multipart threshold = 8 * MB\n",
    "multipart_chunksize = 8 * MB\n",
    "\n",
    "# transfer\n",
    "\n",
    "\n",
    "# get_requests\n"
   ]
  },
  {
   "cell_type": "code",
   "execution_count": 97,
   "metadata": {},
   "outputs": [
    {
     "name": "stdout",
     "output_type": "stream",
     "text": [
      "\n"
     ]
    }
   ],
   "source": [
    "def estimate_puts(splits, units_per_split):\n",
    "    uploads_per_intermediate = 1\n",
    "    uploads_per_collector = 4\n",
    "    uploads_per_accumulator = 4\n",
    "    \n",
    "    intermediate_uploads = uploads_per_intermediate * 7 * splits * units_per_split\n",
    "    collector_uploads = uploads_per_collector * splits * units_per_split\n",
    "    accumulators_uploads = uploads_per_collector * splits\n",
    "    \n",
    "    return intermediate_uploads + collector_uploads + accumulators_uploads\n",
    "    \n",
    "\n",
    "def estimate_gets(splits, units_per_split):\n",
    "    downloads_per_intermediate = (4 * 3 + 3 * 4) / 7 # = 3,43 downloads on average\n",
    "    downloads_per_collector = 12\n",
    "    downloads_per_accumulator = 4 * units_per_split\n",
    "    \n",
    "    intermediate_downloads = downloads_per_intermediate * units_per_split * splits\n",
    "    collector_downloads = downloads_per_collector * units_per_split * splits\n",
    "    accumulators_downloads = downloads_per_accumulator * splits\n",
    "\n",
    "    return intermediate_downloads + collector_downloads + accumulators_downloads"
   ]
  },
  {
   "cell_type": "code",
   "execution_count": 92,
   "metadata": {
    "collapsed": true
   },
   "outputs": [],
   "source": [
    "def s3_request_cost(puts, gets, data_transfered_in_MB):\n",
    "    data_transfer_cost = data_transfered_in_MB * 0.01/1024\n",
    "    put_cost = puts * price_per_put_request\n",
    "    get_cost = gets * price_per_get_request\n",
    "    return data_transfer_cost + put_cost + get_cost"
   ]
  },
  {
   "cell_type": "code",
   "execution_count": null,
   "metadata": {
    "collapsed": true
   },
   "outputs": [],
   "source": []
  },
  {
   "cell_type": "markdown",
   "metadata": {},
   "source": [
    "### Total Cost"
   ]
  },
  {
   "cell_type": "code",
   "execution_count": null,
   "metadata": {
    "collapsed": true
   },
   "outputs": [],
   "source": [
    "def operational_cost(transitions, execution_time, memory, transfered_data):\n",
    "    lambda_cost = lambda_execution_cost + lambda_request_cost\n",
    "    stepfunction_cost = transitions * price_per_transition\n",
    "    s3_cost = s3_requests + s3_storage_cost + transfer_cost\n",
    "    return lambda_cost + stepfunction_cost + s3_cost"
   ]
  },
  {
   "cell_type": "code",
   "execution_count": 118,
   "metadata": {},
   "outputs": [],
   "source": [
    "def calculate_cost(matA, matB, blocksize=2000):\n",
    "    splitsize = blocksize * 2\n",
    "    \n",
    "    # Values\n",
    "    m = matrixA.height\n",
    "    n = matrixA.width\n",
    "    p = matrixB.width\n",
    "    \n",
    "    units_per_split = n / splitsize\n",
    "    splits = m/splitsize * p/splitsize\n",
    "    \n",
    "    print 'Units per split: ', units_per_split\n",
    "    print 'Splits: ', splits\n",
    "    print 'Units total:' , units_per_split * splits\n",
    "    \n",
    "    print '\\nCost division'\n",
    "    \n",
    "    lmbd = calculate_lambda_cost(splits, units_per_split, blocksize)\n",
    "    print 'Lambda cost: $', lmbd\n",
    "    sfn = calculate_stepfunction_cost(splits, units_per_split)\n",
    "    print 'StepFunction cost: $', sfn\n",
    "    s3 = calculate_s3_cost(splits, units_per_split)\n",
    "    print 'S3 cost: $', s3\n",
    "            \n",
    "    print '------\\nTotal: $', lmbd + s3 + sfn\n",
    "    return lmbd + s3 + sfn\n",
    "\n",
    "def calculate_lambda_cost(splits, units_per_split, blocksize):\n",
    "    exec_time = execution_time(splits, units_per_split, blocksize)\n",
    "    exec_cost = lambda_execution_cost(milliseconds=exec_time, memory=1024)\n",
    "    request_cost = 0\n",
    "    return exec_cost + request_cost\n",
    "\n",
    "def calculate_stepfunction_cost(splits, units_per_split):\n",
    "    transitions = splits * transitions_for_split_with(units_per_split) \n",
    "    return transitions * price_per_transition\n",
    "\n",
    "def calculate_s3_cost(splits, units_per_split):\n",
    "    puts=estimate_puts(splits, units_per_split)\n",
    "    gets=estimate_gets(splits, units_per_split)\n",
    "    return s3_request_cost(puts, gets, data_transfered_in_MB=0)"
   ]
  },
  {
   "cell_type": "code",
   "execution_count": 128,
   "metadata": {},
   "outputs": [
    {
     "name": "stdout",
     "output_type": "stream",
     "text": [
      "Units per split:  2\n",
      "Splits:  4\n",
      "Units total: 8\n",
      "\n",
      "Cost division\n",
      "Lambda cost: $ 15.696472\n",
      "StepFunction cost: $ 0.0023\n",
      "S3 cost: $ 0.0010552\n",
      "------\n",
      "Total: $ 15.6998272\n"
     ]
    },
    {
     "data": {
      "text/plain": [
       "15.699827200000001"
      ]
     },
     "execution_count": 128,
     "metadata": {},
     "output_type": "execute_result"
    }
   ],
   "source": [
    "calculate_cost(MatrixDimensions(height=8000, width=8000), MatrixDimensions(height=8000, width=8000), blocksize=2000)"
   ]
  },
  {
   "cell_type": "code",
   "execution_count": 129,
   "metadata": {},
   "outputs": [
    {
     "name": "stdout",
     "output_type": "stream",
     "text": [
      "Units per split:  4\n",
      "Splits:  16\n",
      "Units total: 64\n",
      "\n",
      "Cost division\n",
      "Lambda cost: $ 24.964992\n",
      "StepFunction cost: $ 0.0172\n",
      "S3 cost: $ 0.0078016\n",
      "------\n",
      "Total: $ 24.9899936\n"
     ]
    },
    {
     "data": {
      "text/plain": [
       "24.989993600000002"
      ]
     },
     "execution_count": 129,
     "metadata": {},
     "output_type": "execute_result"
    }
   ],
   "source": [
    "calculate_cost(MatrixDimensions(height=8000, width=8000), MatrixDimensions(height=8000, width=8000), blocksize=1000)"
   ]
  },
  {
   "cell_type": "code",
   "execution_count": 130,
   "metadata": {},
   "outputs": [
    {
     "name": "stdout",
     "output_type": "stream",
     "text": [
      "Units per split:  4\n",
      "Splits:  16\n",
      "Units total: 64\n",
      "\n",
      "Cost division\n",
      "Lambda cost: $ 24.964992\n",
      "StepFunction cost: $ 0.0172\n",
      "S3 cost: $ 0.0078016\n",
      "------\n",
      "Total: $ 24.9899936\n"
     ]
    },
    {
     "data": {
      "text/plain": [
       "24.989993600000002"
      ]
     },
     "execution_count": 130,
     "metadata": {},
     "output_type": "execute_result"
    }
   ],
   "source": [
    "calculate_cost(MatrixDimensions(height=4000, width=4000), MatrixDimensions(height=4000, width=4000), blocksize=1000)"
   ]
  },
  {
   "cell_type": "code",
   "execution_count": null,
   "metadata": {
    "collapsed": true
   },
   "outputs": [],
   "source": [
    "def plot_total_time_vs_total_cost_prediction():\n",
    "    # as a function of blocksize for a fixed Matrix Multiplication (e.g. 8k*8k)\n",
    "    "
   ]
  },
  {
   "cell_type": "code",
   "execution_count": null,
   "metadata": {
    "collapsed": true
   },
   "outputs": [],
   "source": []
  },
  {
   "cell_type": "code",
   "execution_count": null,
   "metadata": {
    "collapsed": true
   },
   "outputs": [],
   "source": []
  }
 ],
 "metadata": {
  "kernelspec": {
   "display_name": "Python 2",
   "language": "python",
   "name": "python2"
  },
  "language_info": {
   "codemirror_mode": {
    "name": "ipython",
    "version": 2
   },
   "file_extension": ".py",
   "mimetype": "text/x-python",
   "name": "python",
   "nbconvert_exporter": "python",
   "pygments_lexer": "ipython2",
   "version": "2.7.14"
  }
 },
 "nbformat": 4,
 "nbformat_minor": 2
}
