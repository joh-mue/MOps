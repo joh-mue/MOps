{
 "cells": [
  {
   "cell_type": "markdown",
   "metadata": {},
   "source": [
    "# Cost and Processing-Time Prediction for Parallel Matrix Operations"
   ]
  },
  {
   "cell_type": "code",
   "execution_count": 1,
   "metadata": {
    "collapsed": true
   },
   "outputs": [],
   "source": [
    "import math\n",
    "from collections import namedtuple\n",
    "import matplotlib.pyplot as plt\n",
    "import numpy as np"
   ]
  },
  {
   "cell_type": "code",
   "execution_count": 2,
   "metadata": {
    "collapsed": true
   },
   "outputs": [],
   "source": [
    "MatrixDimensions = namedtuple('MatrixDimensions', ['height', 'width'])"
   ]
  },
  {
   "cell_type": "markdown",
   "metadata": {},
   "source": [
    "### Lambda Cost"
   ]
  },
  {
   "cell_type": "code",
   "execution_count": 49,
   "metadata": {
    "collapsed": true
   },
   "outputs": [],
   "source": [
    "# lambda cost\n",
    "price_per_request = 0.0000002 # in $\n",
    "price_per_GBs = 0.00001667 # in $\n",
    "\n",
    "# Average Execution Times according to block size\n",
    "intermediate_exec_time = { '1000': 2500, '2000':  14000, '3000': 42570, '4000': 56294}\n",
    "collect_exec_time = { '1000': 3900,'2000': 13000, '3000': 22157, '4000': 15744}\n",
    "accumulate_exec_time = {'1000': 2000,'2000': 6700, '3000': 10096, '4000': 4924}"
   ]
  },
  {
   "cell_type": "code",
   "execution_count": 33,
   "metadata": {},
   "outputs": [
    {
     "data": {
      "text/plain": [
       "0.007376475"
      ]
     },
     "execution_count": 33,
     "metadata": {},
     "output_type": "execute_result"
    }
   ],
   "source": [
    "(295800)/1000 * 1536 * (price_per_GBs/1024.0)"
   ]
  },
  {
   "cell_type": "code",
   "execution_count": 25,
   "metadata": {},
   "outputs": [
    {
     "name": "stdout",
     "output_type": "stream",
     "text": [
      "0.83831763\n",
      "0.0001056\n",
      "0.83842323\n"
     ]
    }
   ],
   "source": [
    "C_exec = (3258.0 * (1536.0/1024.0) + 45402.0) * 0.00001667\n",
    "print C_exec\n",
    "print 528 * 0.0000002\n",
    "C_lambda = C_exec + 528 * 0.0000002\n",
    "print C_lambda"
   ]
  },
  {
   "cell_type": "code",
   "execution_count": 48,
   "metadata": {
    "collapsed": true
   },
   "outputs": [],
   "source": [
    "def lambda_execution_cost(milliseconds, memory):\n",
    "    price_per_GBs = 0.00001667 # in $\n",
    "    ms_rounded_up = math.ceil(milliseconds/100.0) * 100.0\n",
    "    return (ms_rounded_up)/1000 * memory * (price_per_GBs/1024.0)"
   ]
  },
  {
   "cell_type": "code",
   "execution_count": 47,
   "metadata": {
    "collapsed": true
   },
   "outputs": [],
   "source": [
    "def execution_time(splits, units_per_split, blocksize):\n",
    "    units = splits * units_per_split\n",
    "    intermediates = 7\n",
    "    collectors = 1\n",
    "    \n",
    "    intermediate_time = units * intermediates * intermediate_exec_time[str(blocksize)]\n",
    "    collector_time = units * collectors * collect_exec_time[str(blocksize)]\n",
    "    accumulator_time = splits * ACCUMULATORS_PER_SPLIT * accumulate_exec_time[str(blocksize)]\n",
    "    \n",
    "    print(\"Lambdas: {}\".format(units*(intermediates+collectors) + splits))\n",
    "\n",
    "    return  intermediate_time + collector_time + accumulator_time"
   ]
  },
  {
   "cell_type": "code",
   "execution_count": 51,
   "metadata": {
    "collapsed": true
   },
   "outputs": [],
   "source": [
    "def lambda_request_cost(splits, units_per_split):\n",
    "    units = splits*units_per_split\n",
    "    requests = 8 * units + 1 * splits\n",
    "    return 0.0000002 * requests"
   ]
  },
  {
   "cell_type": "code",
   "execution_count": 243,
   "metadata": {},
   "outputs": [
    {
     "data": {
      "text/plain": [
       "0.031206240000000003"
      ]
     },
     "execution_count": 243,
     "metadata": {},
     "output_type": "execute_result"
    }
   ],
   "source": [
    "lambda_execution_cost(1872000, 1024)"
   ]
  },
  {
   "cell_type": "markdown",
   "metadata": {},
   "source": [
    "### StepFunction Cost"
   ]
  },
  {
   "cell_type": "code",
   "execution_count": 45,
   "metadata": {
    "collapsed": true
   },
   "outputs": [],
   "source": [
    "price_per_transition = 0.000025 # in $\n",
    "\n",
    "TRANSITIONS_PER_UNIT_OLD = 2 + 14 + 1\n",
    "# 2 in/out of unit-pass, 7 intermediates, 1 collector\n",
    "TRANSITIONS_PER_UNIT = 2 + 7 + 1\n",
    "ACCUMULATORS_PER_SPLIT = 1"
   ]
  },
  {
   "cell_type": "code",
   "execution_count": 46,
   "metadata": {
    "collapsed": true
   },
   "outputs": [],
   "source": [
    "def transitions_for_split_with(units):\n",
    "    start = 1 # transition to surrounding parallel state\n",
    "    unit_transitions = units * TRANSITIONS_PER_UNIT\n",
    "    accumulators = 1\n",
    "    accumulate_transitions = ACCUMULATORS_PER_SPLIT * 2 # in and out of accum.\n",
    "    return start + unit_transitions + accumulate_transitions"
   ]
  },
  {
   "cell_type": "code",
   "execution_count": 29,
   "metadata": {},
   "outputs": [
    {
     "data": {
      "text/plain": [
       "92"
      ]
     },
     "execution_count": 29,
     "metadata": {},
     "output_type": "execute_result"
    }
   ],
   "source": [
    "4*transitions_for_split_with(2)"
   ]
  },
  {
   "cell_type": "code",
   "execution_count": 21,
   "metadata": {},
   "outputs": [
    {
     "data": {
      "text/plain": [
       "23"
      ]
     },
     "execution_count": 21,
     "metadata": {},
     "output_type": "execute_result"
    }
   ],
   "source": [
    "units = 2\n",
    "transitions_for_split_with(units)"
   ]
  },
  {
   "cell_type": "markdown",
   "metadata": {},
   "source": [
    "### S3 cost"
   ]
  },
  {
   "cell_type": "code",
   "execution_count": 39,
   "metadata": {
    "collapsed": true
   },
   "outputs": [],
   "source": [
    "# standard infrequent access\n",
    "price_per_put_request =  0.01 /  1000.0 # in $\n",
    "price_per_get_request = 0.001 / 10000.0 # in $"
   ]
  },
  {
   "cell_type": "code",
   "execution_count": 56,
   "metadata": {
    "collapsed": true
   },
   "outputs": [],
   "source": [
    "# standard infrequent access\n",
    "price_per_put_request =  0.0054 /  1000.0 # in $\n",
    "price_per_get_request = 0.0043 / 10000.0 # in $"
   ]
  },
  {
   "cell_type": "code",
   "execution_count": 40,
   "metadata": {
    "collapsed": true
   },
   "outputs": [],
   "source": [
    "# multipart uploads\n",
    "kB = 1024\n",
    "MB = kB * kB\n",
    "multipart_threshold = 8 * MB\n",
    "multipart_chunksize = 8 * MB\n",
    "\n",
    "from collections import OrderedDict\n",
    "blocksizes_in_MB = OrderedDict({ 1000: 7.6, 2000: 30.5 , 3000: 72.0, 4000: 128.0, 5000: 200.0, 6000: 288.0, 7000: 392.0, 8000: 512.0 })"
   ]
  },
  {
   "cell_type": "code",
   "execution_count": 41,
   "metadata": {
    "collapsed": true
   },
   "outputs": [],
   "source": [
    "def estimate_puts(splits, units_per_split):\n",
    "    uploads_per_intermediate = 1\n",
    "    uploads_per_collector = 4\n",
    "    uploads_per_accumulator = 4\n",
    "    \n",
    "    intermediate_uploads = uploads_per_intermediate * 7 * splits * units_per_split\n",
    "    collector_uploads = uploads_per_collector * splits * units_per_split\n",
    "    accumulators_uploads = uploads_per_collector * splits\n",
    "    \n",
    "    return intermediate_uploads + collector_uploads + accumulators_uploads\n",
    "    \n",
    "\n",
    "def estimate_gets(splits, units_per_split):\n",
    "    downloads_per_intermediate = (4 * 3 + 3 * 4) / 7 # = 3,43 downloads on average\n",
    "    downloads_per_collector = 12\n",
    "    downloads_per_accumulator = 4 * units_per_split\n",
    "    \n",
    "    intermediate_downloads = downloads_per_intermediate * units_per_split * splits\n",
    "    collector_downloads = downloads_per_collector * units_per_split * splits\n",
    "    accumulators_downloads = downloads_per_accumulator * splits\n",
    "\n",
    "    return intermediate_downloads + collector_downloads + accumulators_downloads"
   ]
  },
  {
   "cell_type": "code",
   "execution_count": 42,
   "metadata": {
    "collapsed": true
   },
   "outputs": [],
   "source": [
    "def s3_request_cost(puts, gets, data_transfered_in_MB):\n",
    "    data_transfer_cost = data_transfered_in_MB * 0.01/1024\n",
    "    put_cost = puts * price_per_put_request\n",
    "    get_cost = gets * price_per_get_request\n",
    "    return data_transfer_cost + put_cost + get_cost"
   ]
  },
  {
   "cell_type": "code",
   "execution_count": 33,
   "metadata": {},
   "outputs": [
    {
     "name": "stdout",
     "output_type": "stream",
     "text": [
      "104\n",
      "152\n"
     ]
    }
   ],
   "source": [
    "print estimate_puts(4, 2)\n",
    "print estimate_gets(4, 2)"
   ]
  },
  {
   "cell_type": "markdown",
   "metadata": {},
   "source": [
    "### Total Cost"
   ]
  },
  {
   "cell_type": "code",
   "execution_count": 205,
   "metadata": {},
   "outputs": [
    {
     "name": "stdout",
     "output_type": "stream",
     "text": [
      "64\n"
     ]
    }
   ],
   "source": [
    "m = 16000\n",
    "p = 16000\n",
    "splitsize = 2000\n",
    "splits = m/splitsize * p/splitsize\n",
    "print splits"
   ]
  },
  {
   "cell_type": "code",
   "execution_count": 43,
   "metadata": {
    "collapsed": true
   },
   "outputs": [],
   "source": [
    "def calculate_cost(matA, matB, blocksize):\n",
    "    print matA\n",
    "    print matB\n",
    "    print blocksize\n",
    "    splitsize = blocksize * 2\n",
    "    \n",
    "    # Values\n",
    "    m = matA.height\n",
    "    n = matA.width\n",
    "    p = matB.width\n",
    "    \n",
    "    units_per_split = n / splitsize\n",
    "    splits = m/splitsize * p/splitsize\n",
    "    \n",
    "    print 'Splits: {}, with {} units per split'.format(splits, units_per_split)\n",
    "    print 'Units total:' , units_per_split * splits\n",
    "    \n",
    "    print '\\nCost division'\n",
    "    \n",
    "    lmbd = calculate_lambda_cost(splits, units_per_split, blocksize)\n",
    "    print 'Lambda cost: $', lmbd\n",
    "    sfn = calculate_stepfunction_cost(splits, units_per_split)\n",
    "    print 'StepFunction cost: $', sfn\n",
    "    s3 = calculate_s3_cost(splits, units_per_split)\n",
    "    print 'S3 cost: $', s3\n",
    "            \n",
    "    print '------\\nTotal: $', lmbd + s3 + sfn\n",
    "    print '\\n\\n\\n'\n",
    "    if (lmbd + s3 + sfn) == 0.0:\n",
    "        return None\n",
    "    else:\n",
    "        return lmbd + s3 + sfn\n",
    "\n",
    "def calculate_lambda_cost(splits, units_per_split, blocksize):\n",
    "    exec_time = execution_time(splits, units_per_split, blocksize)\n",
    "    exec_cost = lambda_execution_cost(milliseconds=exec_time, memory=1024)\n",
    "    request_cost = lambda_request_cost(splits, units_per_split)\n",
    "    return exec_cost + request_cost\n",
    "\n",
    "def calculate_stepfunction_cost(splits, units_per_split):\n",
    "    transitions = splits * transitions_for_split_with(units_per_split) \n",
    "    return transitions * price_per_transition\n",
    "\n",
    "def calculate_s3_cost(splits, units_per_split):\n",
    "    puts=estimate_puts(splits, units_per_split)\n",
    "    gets=estimate_gets(splits, units_per_split)\n",
    "    return s3_request_cost(puts, gets, data_transfered_in_MB=0)"
   ]
  },
  {
   "cell_type": "code",
   "execution_count": 395,
   "metadata": {},
   "outputs": [
    {
     "name": "stdout",
     "output_type": "stream",
     "text": [
      "MatrixDimensions(height=2000, width=2000)\n",
      "MatrixDimensions(height=2000, width=2000)\n",
      "1000\n",
      "Splits: 1, with 1 units per split\n",
      "Units total: 1\n",
      "\n",
      "Cost division\n",
      "Lambdas: 9\n",
      "Lambda cost: $ 0.000391878\n",
      "StepFunction cost: $ 0.000325\n",
      "S3 cost: $ 0.0001519\n",
      "------\n",
      "Total: $ 0.000868778\n",
      "\n",
      "\n",
      "\n",
      "\n"
     ]
    }
   ],
   "source": [
    "res1 = calculate_cost(MatrixDimensions(height=2000, width=2000), MatrixDimensions(height=2000, width=2000), blocksize=1000)"
   ]
  },
  {
   "cell_type": "code",
   "execution_count": null,
   "metadata": {
    "collapsed": true
   },
   "outputs": [],
   "source": [
    "calculate_cost(MatrixDimensions(height=4000, width=4000), MatrixDimensions(height=4000, width=4000), blocksize=1000)\n",
    "calculate_cost(MatrixDimensions(height=4000, width=4000), MatrixDimensions(height=4000, width=4000), blocksize=2000)\n",
    "calculate_cost(MatrixDimensions(height=4000, width=4000), MatrixDimensions(height=4000, width=4000), blocksize=4000)"
   ]
  },
  {
   "cell_type": "code",
   "execution_count": 26,
   "metadata": {},
   "outputs": [
    {
     "data": {
      "text/plain": [
       "{'a': {'hello': 3}}"
      ]
     },
     "execution_count": 26,
     "metadata": {},
     "output_type": "execute_result"
    }
   ],
   "source": [
    "tester = {'a':{}}\n",
    "tester['a']['hello'] = 3\n",
    "tester"
   ]
  },
  {
   "cell_type": "code",
   "execution_count": null,
   "metadata": {
    "collapsed": true
   },
   "outputs": [],
   "source": []
  },
  {
   "cell_type": "code",
   "execution_count": 58,
   "metadata": {
    "scrolled": true
   },
   "outputs": [
    {
     "name": "stdout",
     "output_type": "stream",
     "text": [
      "MatrixDimensions(height=2000, width=2000)\n",
      "MatrixDimensions(height=2000, width=2000)\n",
      "1000\n",
      "Splits: 1, with 1 units per split\n",
      "Units total: 1\n",
      "\n",
      "Cost division\n",
      "Lambdas: 9\n",
      "Lambda cost: $ 0.000391878\n",
      "StepFunction cost: $ 0.000325\n",
      "S3 cost: $ 8.917e-05\n",
      "------\n",
      "Total: $ 0.000806048\n",
      "\n",
      "\n",
      "\n",
      "\n",
      "MatrixDimensions(height=4000, width=4000)\n",
      "MatrixDimensions(height=4000, width=4000)\n",
      "1000\n",
      "Splits: 4, with 2 units per split\n",
      "Units total: 8\n",
      "\n",
      "Cost division\n",
      "Lambdas: 68\n",
      "Lambda cost: $ 0.003000864\n",
      "StepFunction cost: $ 0.0023\n",
      "S3 cost: $ 0.00062696\n",
      "------\n",
      "Total: $ 0.005927824\n",
      "\n",
      "\n",
      "\n",
      "\n",
      "MatrixDimensions(height=8000, width=8000)\n",
      "MatrixDimensions(height=8000, width=8000)\n",
      "1000\n",
      "Splits: 16, with 4 units per split\n",
      "Units total: 64\n",
      "\n",
      "Cost division\n",
      "Lambdas: 528\n",
      "Lambda cost: $ 0.023470272\n",
      "StepFunction cost: $ 0.0172\n",
      "S3 cost: $ 0.00467008\n",
      "------\n",
      "Total: $ 0.045340352\n",
      "\n",
      "\n",
      "\n",
      "\n",
      "MatrixDimensions(height=2000, width=2000)\n",
      "MatrixDimensions(height=2000, width=2000)\n",
      "2000\n",
      "Splits: 0, with 0 units per split\n",
      "Units total: 0\n",
      "\n",
      "Cost division\n",
      "Lambdas: 0\n",
      "Lambda cost: $ 0.0\n",
      "StepFunction cost: $ 0.0\n",
      "S3 cost: $ 0.0\n",
      "------\n",
      "Total: $ 0.0\n",
      "\n",
      "\n",
      "\n",
      "\n",
      "MatrixDimensions(height=4000, width=4000)\n",
      "MatrixDimensions(height=4000, width=4000)\n",
      "2000\n",
      "Splits: 1, with 1 units per split\n",
      "Units total: 1\n",
      "\n",
      "Cost division\n",
      "Lambdas: 9\n",
      "Lambda cost: $ 0.001963859\n",
      "StepFunction cost: $ 0.000325\n",
      "S3 cost: $ 8.917e-05\n",
      "------\n",
      "Total: $ 0.002378029\n",
      "\n",
      "\n",
      "\n",
      "\n",
      "MatrixDimensions(height=8000, width=8000)\n",
      "MatrixDimensions(height=8000, width=8000)\n",
      "2000\n",
      "Splits: 4, with 2 units per split\n",
      "Units total: 8\n",
      "\n",
      "Cost division\n",
      "Lambdas: 68\n",
      "Lambda cost: $ 0.015263316\n",
      "StepFunction cost: $ 0.0023\n",
      "S3 cost: $ 0.00062696\n",
      "------\n",
      "Total: $ 0.018190276\n",
      "\n",
      "\n",
      "\n",
      "\n",
      "MatrixDimensions(height=2000, width=2000)\n",
      "MatrixDimensions(height=2000, width=2000)\n",
      "4000\n",
      "Splits: 0, with 0 units per split\n",
      "Units total: 0\n",
      "\n",
      "Cost division\n",
      "Lambdas: 0\n",
      "Lambda cost: $ 0.0\n",
      "StepFunction cost: $ 0.0\n",
      "S3 cost: $ 0.0\n",
      "------\n",
      "Total: $ 0.0\n",
      "\n",
      "\n",
      "\n",
      "\n",
      "MatrixDimensions(height=4000, width=4000)\n",
      "MatrixDimensions(height=4000, width=4000)\n",
      "4000\n",
      "Splits: 0, with 0 units per split\n",
      "Units total: 0\n",
      "\n",
      "Cost division\n",
      "Lambdas: 0\n",
      "Lambda cost: $ 0.0\n",
      "StepFunction cost: $ 0.0\n",
      "S3 cost: $ 0.0\n",
      "------\n",
      "Total: $ 0.0\n",
      "\n",
      "\n",
      "\n",
      "\n",
      "MatrixDimensions(height=8000, width=8000)\n",
      "MatrixDimensions(height=8000, width=8000)\n",
      "4000\n",
      "Splits: 1, with 1 units per split\n",
      "Units total: 1\n",
      "\n",
      "Cost division\n",
      "Lambdas: 9\n",
      "Lambda cost: $ 0.006916516\n",
      "StepFunction cost: $ 0.000325\n",
      "S3 cost: $ 8.917e-05\n",
      "------\n",
      "Total: $ 0.007330686\n",
      "\n",
      "\n",
      "\n",
      "\n"
     ]
    }
   ],
   "source": [
    "costs = { 1000: {}, 2000: {}, 4000: {} }\n",
    "for blocksize in [1000, 2000, 4000]:\n",
    "    for dim in [2000, 4000, 8000]:\n",
    "        costs[blocksize][2*(dim/1000)**2] = calculate_cost(MatrixDimensions(height=dim, width=dim), MatrixDimensions(height=dim, width=dim), blocksize)"
   ]
  },
  {
   "cell_type": "code",
   "execution_count": 74,
   "metadata": {
    "collapsed": true
   },
   "outputs": [],
   "source": [
    "costs[4000][512] = 0.058349794"
   ]
  },
  {
   "cell_type": "code",
   "execution_count": 53,
   "metadata": {},
   "outputs": [
    {
     "data": {
      "text/plain": [
       "{1000: {8: 0.000868778, 32: 0.006356064, 128: 0.048471872},\n",
       " 2000: {8: None, 32: 0.0024407590000000007, 128: 0.018618516},\n",
       " 4000: {8: None, 32: None, 128: 0.007393416}}"
      ]
     },
     "execution_count": 53,
     "metadata": {},
     "output_type": "execute_result"
    }
   ],
   "source": [
    "costs"
   ]
  },
  {
   "cell_type": "code",
   "execution_count": 59,
   "metadata": {},
   "outputs": [
    {
     "data": {
      "text/plain": [
       "{1000: {8: 0.0008060480000000001, 32: 0.005927824, 128: 0.045340352},\n",
       " 2000: {8: None, 32: 0.0023780290000000007, 128: 0.018190276000000002},\n",
       " 4000: {8: None, 32: None, 128: 0.007330686}}"
      ]
     },
     "execution_count": 59,
     "metadata": {},
     "output_type": "execute_result"
    }
   ],
   "source": [
    "costs"
   ]
  },
  {
   "cell_type": "code",
   "execution_count": 19,
   "metadata": {
    "collapsed": true
   },
   "outputs": [],
   "source": [
    "import matplotlib"
   ]
  },
  {
   "cell_type": "code",
   "execution_count": 20,
   "metadata": {},
   "outputs": [
    {
     "name": "stderr",
     "output_type": "stream",
     "text": [
      "/Users/Johannes/Library/Python/2.7/lib/python/site-packages/matplotlib/figure.py:1742: UserWarning: This figure includes Axes that are not compatible with tight_layout, so its results might be incorrect.\n",
      "  warnings.warn(\"This figure includes Axes that are not \"\n"
     ]
    },
    {
     "data": {
      "image/png": "[encoded data removed]",
      "text/plain": [
       "<matplotlib.figure.Figure at 0x1084ddc10>"
      ]
     },
     "metadata": {},
     "output_type": "display_data"
    }
   ],
   "source": [
    "%matplotlib inline\n",
    "\n",
    "matplotlib.rcParams.update({'font.size': 14})\n",
    "matplotlib.rcParams.update({'figure.autolayout': True})\n",
    "\n",
    "plt.plot(costs[1000].keys(), costs[1000].values(), linestyle='-', linewidth=2, marker='s')\n",
    "plt.plot(costs[2000].keys(), costs[2000].values(), linestyle='-', linewidth=2, marker='s')\n",
    "plt.plot(costs[4000].keys(), costs[4000].values(), linestyle='-', linewidth=2, marker='s')\n",
    "\n",
    "plt.grid()\n",
    "plt.xlabel('Number of elements in Millions')\n",
    "plt.ylabel('Cost in $')\n",
    "plt.title('Cost for Operations per splitsize')\n",
    "plt.legend(('splitsize 2000', 'splitsize 4000', 'splitsize 8000'))\n",
    "\n",
    "plt.savefig('/Users/Johannes/Desktop/cost.png', dpi=600)"
   ]
  },
  {
   "cell_type": "code",
   "execution_count": 77,
   "metadata": {
    "collapsed": true
   },
   "outputs": [],
   "source": []
  },
  {
   "cell_type": "code",
   "execution_count": 20,
   "metadata": {
    "scrolled": true
   },
   "outputs": [
    {
     "name": "stdout",
     "output_type": "stream",
     "text": [
      "MatrixDimensions(height=8000, width=8000)\n",
      "MatrixDimensions(height=8000, width=8000)\n",
      "1000\n",
      "Splits: 16, with 4 units per split\n",
      "Units total: 64\n",
      "\n",
      "Cost division\n",
      "Lambdas: 528\n",
      "Lambda cost: $ 0.023470272\n",
      "StepFunction cost: $ 0.0172\n",
      "S3 cost: $ 0.0078016\n",
      "------\n",
      "Total: $ 0.048471872\n",
      "\n",
      "\n",
      "\n",
      "\n",
      "MatrixDimensions(height=8000, width=8000)\n",
      "MatrixDimensions(height=8000, width=8000)\n",
      "2000\n",
      "Splits: 4, with 2 units per split\n",
      "Units total: 8\n",
      "\n",
      "Cost division\n",
      "Lambdas: 68\n",
      "Lambda cost: $ 0.015263316\n",
      "StepFunction cost: $ 0.0023\n",
      "S3 cost: $ 0.0010552\n",
      "------\n",
      "Total: $ 0.018618516\n",
      "\n",
      "\n",
      "\n",
      "\n",
      "MatrixDimensions(height=8000, width=8000)\n",
      "MatrixDimensions(height=8000, width=8000)\n",
      "4000\n",
      "Splits: 1, with 1 units per split\n",
      "Units total: 1\n",
      "\n",
      "Cost division\n",
      "Lambdas: 9\n",
      "Lambda cost: $ 0.006916516\n",
      "StepFunction cost: $ 0.000325\n",
      "S3 cost: $ 0.0001519\n",
      "------\n",
      "Total: $ 0.007393416\n",
      "\n",
      "\n",
      "\n",
      "\n"
     ]
    },
    {
     "data": {
      "text/plain": [
       "0.007393416"
      ]
     },
     "execution_count": 20,
     "metadata": {},
     "output_type": "execute_result"
    }
   ],
   "source": [
    "calculate_cost(MatrixDimensions(height=8000, width=8000), MatrixDimensions(height=8000, width=8000), blocksize=1000)\n",
    "calculate_cost(MatrixDimensions(height=8000, width=8000), MatrixDimensions(height=8000, width=8000), blocksize=2000)\n",
    "calculate_cost(MatrixDimensions(height=8000, width=8000), MatrixDimensions(height=8000, width=8000), blocksize=4000)"
   ]
  },
  {
   "cell_type": "code",
   "execution_count": 27,
   "metadata": {},
   "outputs": [
    {
     "name": "stdout",
     "output_type": "stream",
     "text": [
      "MatrixDimensions(height=8000, width=16000)\n",
      "MatrixDimensions(height=16000, width=8000)\n",
      "2000\n",
      "Splits: 4, with 4 units per split\n",
      "Units total: 16\n",
      "\n",
      "Cost division\n",
      "Lambdas: 132\n",
      "Lambda cost: $ 0.030079076\n",
      "StepFunction cost: $ 0.0043\n",
      "S3 cost: $ 0.0019504\n",
      "------\n",
      "Total: $ 0.036329476\n",
      "\n",
      "\n",
      "\n",
      "\n"
     ]
    },
    {
     "data": {
      "text/plain": [
       "0.036329476"
      ]
     },
     "execution_count": 27,
     "metadata": {},
     "output_type": "execute_result"
    }
   ],
   "source": [
    "calculate_cost(MatrixDimensions(height=8000, width=16000), MatrixDimensions(height=16000, width=8000), blocksize=2000)"
   ]
  },
  {
   "cell_type": "code",
   "execution_count": null,
   "metadata": {
    "collapsed": true
   },
   "outputs": [],
   "source": []
  },
  {
   "cell_type": "code",
   "execution_count": 60,
   "metadata": {},
   "outputs": [
    {
     "name": "stdout",
     "output_type": "stream",
     "text": [
      "MatrixDimensions(height=16000, width=16000)\n",
      "MatrixDimensions(height=16000, width=16000)\n",
      "4000\n",
      "Splits: 4, with 2 units per split\n",
      "Units total: 8\n",
      "\n",
      "Cost division\n",
      "Lambdas: 68\n",
      "Lambda cost: $ 0.054994594\n",
      "StepFunction cost: $ 0.0023\n",
      "S3 cost: $ 0.00062696\n",
      "------\n",
      "Total: $ 0.057921554\n",
      "\n",
      "\n",
      "\n",
      "\n"
     ]
    },
    {
     "data": {
      "text/plain": [
       "0.057921554"
      ]
     },
     "execution_count": 60,
     "metadata": {},
     "output_type": "execute_result"
    }
   ],
   "source": [
    "calculate_cost(MatrixDimensions(height=16000, width=16000), MatrixDimensions(height=16000, width=16000), blocksize=4000)"
   ]
  },
  {
   "cell_type": "code",
   "execution_count": 36,
   "metadata": {},
   "outputs": [
    {
     "ename": "NameError",
     "evalue": "name 'calculate_cost' is not defined",
     "output_type": "error",
     "traceback": [
      "\u001b[0;31m---------------------------------------------------------------------------\u001b[0m",
      "\u001b[0;31mNameError\u001b[0m                                 Traceback (most recent call last)",
      "\u001b[0;32m<ipython-input-36-c363a144aaff>\u001b[0m in \u001b[0;36m<module>\u001b[0;34m()\u001b[0m\n\u001b[0;32m----> 1\u001b[0;31m \u001b[0mcalculate_cost\u001b[0m\u001b[0;34m(\u001b[0m\u001b[0mMatrixDimensions\u001b[0m\u001b[0;34m(\u001b[0m\u001b[0mheight\u001b[0m\u001b[0;34m=\u001b[0m\u001b[0;36m8000\u001b[0m\u001b[0;34m,\u001b[0m \u001b[0mwidth\u001b[0m\u001b[0;34m=\u001b[0m\u001b[0;36m8000\u001b[0m\u001b[0;34m)\u001b[0m\u001b[0;34m,\u001b[0m \u001b[0mMatrixDimensions\u001b[0m\u001b[0;34m(\u001b[0m\u001b[0mheight\u001b[0m\u001b[0;34m=\u001b[0m\u001b[0;36m8000\u001b[0m\u001b[0;34m,\u001b[0m \u001b[0mwidth\u001b[0m\u001b[0;34m=\u001b[0m\u001b[0;36m8000\u001b[0m\u001b[0;34m)\u001b[0m\u001b[0;34m,\u001b[0m \u001b[0mblocksize\u001b[0m\u001b[0;34m=\u001b[0m\u001b[0;36m4000\u001b[0m\u001b[0;34m)\u001b[0m\u001b[0;34m\u001b[0m\u001b[0m\n\u001b[0m",
      "\u001b[0;31mNameError\u001b[0m: name 'calculate_cost' is not defined"
     ]
    }
   ],
   "source": [
    "calculate_cost(MatrixDimensions(height=8000, width=8000), MatrixDimensions(height=8000, width=8000), blocksize=4000)"
   ]
  },
  {
   "cell_type": "code",
   "execution_count": 274,
   "metadata": {
    "scrolled": true
   },
   "outputs": [
    {
     "name": "stdout",
     "output_type": "stream",
     "text": [
      "Splits: 1, with 1 units per split\n",
      "Units total: 1\n",
      "\n",
      "Cost division\n",
      "Lambdas: 9\n",
      "Lambda cost: $ 0.005507901\n",
      "StepFunction cost: $ 0.000325\n",
      "S3 cost: $ 0.0001519\n",
      "------\n",
      "Total: $ 0.005984801\n"
     ]
    }
   ],
   "source": [
    "calculate_cost(MatrixDimensions(height=6000, width=6000), MatrixDimensions(height=6000, width=6000), blocksize=3000)"
   ]
  },
  {
   "cell_type": "code",
   "execution_count": 275,
   "metadata": {},
   "outputs": [
    {
     "name": "stdout",
     "output_type": "stream",
     "text": [
      "Splits: 1, with 1 units per split\n",
      "Units total: 1\n",
      "\n",
      "Cost division\n",
      "Lambdas: 9\n",
      "Lambda cost: $ 0.005507901\n",
      "StepFunction cost: $ 0.000325\n",
      "S3 cost: $ 0.0001519\n",
      "------\n",
      "Total: $ 0.005984801\n"
     ]
    }
   ],
   "source": [
    "calculate_cost(MatrixDimensions(height=9000, width=9000), MatrixDimensions(height=9000, width=9000), blocksize=3000)"
   ]
  },
  {
   "cell_type": "code",
   "execution_count": null,
   "metadata": {
    "collapsed": true
   },
   "outputs": [],
   "source": []
  },
  {
   "cell_type": "code",
   "execution_count": null,
   "metadata": {
    "collapsed": true
   },
   "outputs": [],
   "source": [
    "def plot_total_time_vs_total_cost_prediction():\n",
    "    # as a function of blocksize for a fixed Matrix Multiplication (e.g. 8k*8k)\n",
    "    "
   ]
  },
  {
   "cell_type": "code",
   "execution_count": 378,
   "metadata": {},
   "outputs": [
    {
     "data": {
      "text/plain": [
       "array([1000, 2000, 3000, 4000])"
      ]
     },
     "execution_count": 378,
     "metadata": {},
     "output_type": "execute_result"
    }
   ],
   "source": [
    "blocksizes = np.arange(1000,5000,1000)\n",
    "blocksizes"
   ]
  },
  {
   "cell_type": "code",
   "execution_count": 396,
   "metadata": {},
   "outputs": [
    {
     "data": {
      "text/plain": [
       "[8, 18, 32, 50, 72, 98, 128]"
      ]
     },
     "execution_count": 396,
     "metadata": {},
     "output_type": "execute_result"
    }
   ],
   "source": [
    "operation_sizes = [2*x**2 for x in range(2,9)]\n",
    "operation_sizes"
   ]
  },
  {
   "cell_type": "code",
   "execution_count": 381,
   "metadata": {},
   "outputs": [
    {
     "data": {
      "text/plain": [
       "[[0, 0, 18, 32, 50, 72, 98, 0.048471872],\n",
       " [0, 0, 18, 32, 50, 72, 98, 0.018618516],\n",
       " [0, 0, 18, 32, 50, 72, 98, 128],\n",
       " [0, 0, 18, 32, 50, 72, 98, 0.007393416]]"
      ]
     },
     "execution_count": 381,
     "metadata": {},
     "output_type": "execute_result"
    }
   ],
   "source": [
    "[[0,0.000868778, 18, 0.006356064, 50, 72, 98, 0.048471872], #1000\n",
    " [0,0, 0, 0.002440759, 50, 72, 98, 0.018618516], #2000\n",
    " [0,0, 0, 0, 0, 0, 0, 0.013005966], #3000 calculated\n",
    " [0,0, 0, 0, 0, 0, 0, 0.007393416]] #4000"
   ]
  },
  {
   "cell_type": "code",
   "execution_count": 403,
   "metadata": {},
   "outputs": [
    {
     "data": {
      "image/png": "[encoded data removed]",
      "text/plain": [
       "<matplotlib.figure.Figure at 0x10b7fab50>"
      ]
     },
     "metadata": {},
     "output_type": "display_data"
    }
   ],
   "source": [
    "plt.plot([1000,2000,4000],[04.8471872,001.8618516,000.7393416])\n",
    "plt.show()"
   ]
  },
  {
   "cell_type": "code",
   "execution_count": 408,
   "metadata": {},
   "outputs": [
    {
     "data": {
      "image/png": "[encoded data removed]",
      "text/plain": [
       "<matplotlib.figure.Figure at 0x10b93e7d0>"
      ]
     },
     "metadata": {},
     "output_type": "display_data"
    }
   ],
   "source": [
    "fig, ax = plt.subplots()\n",
    "\n",
    "p1 = plt.plot([2000,4000,8000],[04.8471872,001.8618516,000.7393416])\n",
    "p2 = plt.plot([2000,4000],[000.6356064, 000.24407590000000007])\n",
    "p3 = plt.plot([2000],[])\n",
    "\n",
    "plt.show()\n"
   ]
  },
  {
   "cell_type": "code",
   "execution_count": 405,
   "metadata": {},
   "outputs": [
    {
     "name": "stdout",
     "output_type": "stream",
     "text": [
      "[0.006356064, 0.0024407590000000007, 0.0]\n"
     ]
    }
   ],
   "source": [
    "print [res1, res2, res3]"
   ]
  },
  {
   "cell_type": "code",
   "execution_count": null,
   "metadata": {
    "collapsed": true
   },
   "outputs": [],
   "source": []
  },
  {
   "cell_type": "code",
   "execution_count": null,
   "metadata": {
    "collapsed": true
   },
   "outputs": [],
   "source": []
  },
  {
   "cell_type": "code",
   "execution_count": null,
   "metadata": {},
   "outputs": [],
   "source": []
  },
  {
   "cell_type": "code",
   "execution_count": null,
   "metadata": {
    "collapsed": true
   },
   "outputs": [],
   "source": []
  },
  {
   "cell_type": "code",
   "execution_count": null,
   "metadata": {},
   "outputs": [],
   "source": []
  },
  {
   "cell_type": "code",
   "execution_count": null,
   "metadata": {
    "collapsed": true
   },
   "outputs": [],
   "source": []
  },
  {
   "cell_type": "code",
   "execution_count": null,
   "metadata": {
    "collapsed": true
   },
   "outputs": [],
   "source": []
  }
 ],
 "metadata": {
  "kernelspec": {
   "display_name": "Python 2",
   "language": "python",
   "name": "python2"
  },
  "language_info": {
   "codemirror_mode": {
    "name": "ipython",
    "version": 2
   },
   "file_extension": ".py",
   "mimetype": "text/x-python",
   "name": "python",
   "nbconvert_exporter": "python",
   "pygments_lexer": "ipython2",
   "version": "2.7.14"
  }
 },
 "nbformat": 4,
 "nbformat_minor": 2
}
