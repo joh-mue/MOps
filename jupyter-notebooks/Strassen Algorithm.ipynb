{
 "cells": [
  {
   "cell_type": "markdown",
   "metadata": {
    "deletable": true,
    "editable": true
   },
   "source": [
    "# Implementing Matrix Multiplication with Strassen"
   ]
  },
  {
   "cell_type": "markdown",
   "metadata": {
    "deletable": true,
    "editable": true
   },
   "source": [
    "Algorithms to implement:\n",
    "* naive distributed\n",
    "* strassen distributed\n",
    "* Caps? Cannon?"
   ]
  },
  {
   "cell_type": "code",
   "execution_count": 67,
   "metadata": {
    "collapsed": true,
    "deletable": true,
    "editable": true
   },
   "outputs": [],
   "source": [
    "import numpy as np"
   ]
  },
  {
   "cell_type": "code",
   "execution_count": 126,
   "metadata": {
    "collapsed": false,
    "deletable": true,
    "editable": true
   },
   "outputs": [
    {
     "name": "stdout",
     "output_type": "stream",
     "text": [
      " A =  [[ 1  2  3  4]\n",
      " [ 5  6  7  8]\n",
      " [ 9 10 11 12]\n",
      " [13 14 15 16]]\n",
      "A*A' =  [[ 30  70 110 150]\n",
      " [ 70 174 278 382]\n",
      " [110 278 446 614]\n",
      " [150 382 614 846]]\n",
      "B = A' =  [[ 1  5  9 13]\n",
      " [ 2  6 10 14]\n",
      " [ 3  7 11 15]\n",
      " [ 4  8 12 16]]\n"
     ]
    }
   ],
   "source": [
    "matA = np.array([[1,2,3,4],[5,6,7,8],[9,10,11,12],[13,14,15,16]])\n",
    "print \"A = \", matA\n",
    "print \"A*A' = \", matA.dot(matA.transpose())\n",
    "matB = matA.transpose()\n",
    "print \"B = A' = \", matB"
   ]
  },
  {
   "cell_type": "code",
   "execution_count": null,
   "metadata": {
    "collapsed": false,
    "deletable": true,
    "editable": true
   },
   "outputs": [],
   "source": []
  },
  {
   "cell_type": "code",
   "execution_count": null,
   "metadata": {
    "collapsed": false,
    "deletable": true,
    "editable": true
   },
   "outputs": [],
   "source": []
  },
  {
   "cell_type": "code",
   "execution_count": 127,
   "metadata": {
    "collapsed": false,
    "deletable": true,
    "editable": true
   },
   "outputs": [
    {
     "name": "stdout",
     "output_type": "stream",
     "text": [
      "[[ True  True]\n",
      " [ True  True]]\n",
      "[[ True  True]\n",
      " [ True  True]]\n",
      "[[ True  True]\n",
      " [ True  True]]\n",
      "[[ True  True]\n",
      " [ True  True]]\n",
      "[[ True  True]\n",
      " [ True  True]]\n",
      "[[ True  True]\n",
      " [ True  True]]\n",
      "[[ True  True]\n",
      " [ True  True]]\n",
      "[[ True  True]\n",
      " [ True  True]]\n"
     ]
    }
   ],
   "source": [
    "print split4(matA,0,0) == [[1,2],\n",
    "                           [5,6]]\n",
    "print split4(matA,0,1) == [[3,4],\n",
    "                           [7,8]]\n",
    "print split4(matA,1,0) == [[9,10],\n",
    "                           [13,14]]\n",
    "print split4(matA,1,1) == [[11,12],\n",
    "                           [15,16]]\n",
    "print split4(matB,0,0) == [[1,5],\n",
    "                           [2,6]]\n",
    "print split4(matB,0,1) == [[9,13],\n",
    "                           [10,14]]\n",
    "print split4(matB,1,0) == [[3,7],\n",
    "                           [4,8]]\n",
    "print split4(matB,1,1) == [[11,15],\n",
    "                           [12,16]]"
   ]
  },
  {
   "cell_type": "code",
   "execution_count": null,
   "metadata": {
    "collapsed": true,
    "deletable": true,
    "editable": true
   },
   "outputs": [],
   "source": []
  },
  {
   "cell_type": "code",
   "execution_count": null,
   "metadata": {
    "collapsed": false,
    "deletable": true,
    "editable": true
   },
   "outputs": [],
   "source": [
    "def split4(array, col, row):\n",
    "    cols, rows = array.shape\n",
    "    return array[(cols/2)*col:(cols+cols*col)/2, (rows/2)*row:(rows+rows*row)/2]"
   ]
  },
  {
   "cell_type": "code",
   "execution_count": null,
   "metadata": {
    "collapsed": true
   },
   "outputs": [],
   "source": []
  },
  {
   "cell_type": "raw",
   "metadata": {
    "collapsed": false,
    "deletable": true,
    "editable": true
   },
   "source": [
    "def strassen(X, Y):\n",
    "    M0 = (split4(X,0,0) + split4(X,1,1)).dot(split4(Y,0,0) + split4(Y,1,1))\n",
    "    M1 = (split4(X,1,0) + split4(X,1,1)).dot(split4(Y,0,0))\n",
    "    M2 = split4(X,0,0).dot(split4(Y,0,1) - split4(Y,1,1))\n",
    "    M3 = split4(X,1,1).dot(split4(Y,1,0) - split4(Y,0,0))\n",
    "    M4 = (split4(X,0,0) + split4(X,0,1)).dot(split4(Y,1,1))\n",
    "    M5 = (split4(X,1,0) - split4(X,0,0)).dot(split4(Y,0,0) + split4(Y,0,1))\n",
    "    M6 = (split4(X,0,1) - split4(X,1,1)).dot(split4(Y,1,0) + split4(Y,1,1))\n",
    "    \n",
    "    print(M0)\n",
    "    \n",
    "    Q00 = M0 + M3 - M4 + M6\n",
    "    Q01 = M2 + M4\n",
    "    Q10 = M1 + M3\n",
    "    Q11 = M0 + M2 - M1 + M5\n",
    "                \n",
    "    S = np.array([np.append(Q00[0], Q01[0]),\n",
    "            np.append(Q00[1], Q01[1]),\n",
    "            np.append(Q10[0], Q11[0]),\n",
    "            np.append(Q10[1], Q11[1])])\n",
    "\n",
    "    return S\n"
   ]
  },
  {
   "cell_type": "code",
   "execution_count": 194,
   "metadata": {
    "collapsed": false,
    "deletable": true,
    "editable": true
   },
   "outputs": [
    {
     "name": "stdout",
     "output_type": "stream",
     "text": [
      "[[340 548]\n",
      " [548 884]]\n"
     ]
    },
    {
     "data": {
      "text/plain": [
       "array([[ 30,  70, 110, 150],\n",
       "       [ 70, 174, 278, 382],\n",
       "       [110, 278, 446, 614],\n",
       "       [150, 382, 614, 846]])"
      ]
     },
     "execution_count": 194,
     "metadata": {},
     "output_type": "execute_result"
    }
   ],
   "source": [
    "S = strassen(matA,matB)\n",
    "S"
   ]
  },
  {
   "cell_type": "code",
   "execution_count": 146,
   "metadata": {
    "collapsed": false,
    "deletable": true,
    "editable": true
   },
   "outputs": [
    {
     "data": {
      "text/plain": [
       "True"
      ]
     },
     "execution_count": 146,
     "metadata": {},
     "output_type": "execute_result"
    }
   ],
   "source": [
    "np.array_equal(S, matA.dot(matA.transpose()))"
   ]
  },
  {
   "cell_type": "code",
   "execution_count": 141,
   "metadata": {
    "collapsed": false,
    "deletable": true,
    "editable": true
   },
   "outputs": [
    {
     "data": {
      "text/plain": [
       "array([[ 30,  70, 110, 150],\n",
       "       [ 70, 174, 278, 382],\n",
       "       [110, 278, 446, 614],\n",
       "       [150, 382, 614, 846]])"
      ]
     },
     "execution_count": 141,
     "metadata": {},
     "output_type": "execute_result"
    }
   ],
   "source": [
    "matA.dot(matA.transpose())"
   ]
  },
  {
   "cell_type": "code",
   "execution_count": 143,
   "metadata": {
    "collapsed": false,
    "deletable": true,
    "editable": true
   },
   "outputs": [],
   "source": [
    "matF = np.array([[1,2,3,4,5,6],[7,8,9,10,11,12],[13,14,15,16,17,18],[19,20,21,22,23,24]])"
   ]
  },
  {
   "cell_type": "code",
   "execution_count": 144,
   "metadata": {
    "collapsed": false,
    "deletable": true,
    "editable": true
   },
   "outputs": [
    {
     "data": {
      "text/plain": [
       "array([[False, False, False, False],\n",
       "       [False, False, False, False],\n",
       "       [False, False, False, False],\n",
       "       [False, False, False, False]], dtype=bool)"
      ]
     },
     "execution_count": 144,
     "metadata": {},
     "output_type": "execute_result"
    }
   ],
   "source": [
    "matF.dot(matF.transpose()) == strassen(matA, matA.transpose())"
   ]
  },
  {
   "cell_type": "code",
   "execution_count": 159,
   "metadata": {
    "collapsed": true,
    "deletable": true,
    "editable": true
   },
   "outputs": [],
   "source": [
    "class Strassen:\n",
    "    def __init__(self):\n",
    "        pass\n",
    "    \n",
    "    def special_function():\n",
    "        print(\"Hell yeah\")"
   ]
  },
  {
   "cell_type": "code",
   "execution_count": 155,
   "metadata": {
    "collapsed": false,
    "deletable": true,
    "editable": true
   },
   "outputs": [],
   "source": [
    "function = globals()['special_function']\n",
    "# function_to_call = getattr('special_function')"
   ]
  },
  {
   "cell_type": "code",
   "execution_count": 156,
   "metadata": {
    "collapsed": false,
    "deletable": true,
    "editable": true
   },
   "outputs": [
    {
     "name": "stdout",
     "output_type": "stream",
     "text": [
      "Hell yeah\n"
     ]
    }
   ],
   "source": [
    "function()"
   ]
  },
  {
   "cell_type": "code",
   "execution_count": 165,
   "metadata": {
    "collapsed": false,
    "deletable": true,
    "editable": true
   },
   "outputs": [
    {
     "ename": "AttributeError",
     "evalue": "'builtin_function_or_method' object has no attribute 'special_function'",
     "output_type": "error",
     "traceback": [
      "\u001b[0;31m---------------------------------------------------------------------------\u001b[0m",
      "\u001b[0;31mAttributeError\u001b[0m                            Traceback (most recent call last)",
      "\u001b[0;32m<ipython-input-165-8ae8f2c466a0>\u001b[0m in \u001b[0;36m<module>\u001b[0;34m()\u001b[0m\n\u001b[0;32m----> 1\u001b[0;31m \u001b[0mmethod_to_call\u001b[0m \u001b[0;34m=\u001b[0m \u001b[0mgetattr\u001b[0m\u001b[0;34m(\u001b[0m\u001b[0mglobals\u001b[0m\u001b[0;34m,\u001b[0m \u001b[0;34m'special_function'\u001b[0m\u001b[0;34m)\u001b[0m\u001b[0;34m\u001b[0m\u001b[0m\n\u001b[0m\u001b[1;32m      2\u001b[0m \u001b[0mmethod_to_call\u001b[0m\u001b[0;34m(\u001b[0m\u001b[0;34m)\u001b[0m\u001b[0;34m\u001b[0m\u001b[0m\n",
      "\u001b[0;31mAttributeError\u001b[0m: 'builtin_function_or_method' object has no attribute 'special_function'"
     ]
    }
   ],
   "source": []
  },
  {
   "cell_type": "code",
   "execution_count": 170,
   "metadata": {
    "collapsed": true,
    "deletable": true,
    "editable": true
   },
   "outputs": [],
   "source": [
    "a,b,x,y = [0,0,10,10]\n",
    "descriptor = (a,b)\n",
    "flex_descriptor = ((a,b),(x,y)) # for non-fixed size partials"
   ]
  },
  {
   "cell_type": "code",
   "execution_count": 171,
   "metadata": {
    "collapsed": false,
    "deletable": true,
    "editable": true
   },
   "outputs": [
    {
     "data": {
      "text/plain": [
       "((0, 0), (10, 10))"
      ]
     },
     "execution_count": 171,
     "metadata": {},
     "output_type": "execute_result"
    }
   ],
   "source": [
    "flex_descriptor"
   ]
  },
  {
   "cell_type": "code",
   "execution_count": 182,
   "metadata": {
    "collapsed": false,
    "deletable": true,
    "editable": true
   },
   "outputs": [
    {
     "data": {
      "text/plain": [
       "['m_%(x)d', 'm_%(x)d', 'm_%(x)d', 'm_%(x)d', 'm_%(x)d', 'm_%(x)d', 'm_%(x)d']"
      ]
     },
     "execution_count": 182,
     "metadata": {},
     "output_type": "execute_result"
    }
   ],
   "source": [
    "['m_%(x)d' for x in range(0,7)]"
   ]
  },
  {
   "cell_type": "code",
   "execution_count": 183,
   "metadata": {
    "collapsed": false,
    "deletable": true,
    "editable": true
   },
   "outputs": [],
   "source": [
    "partials = []"
   ]
  },
  {
   "cell_type": "code",
   "execution_count": 184,
   "metadata": {
    "collapsed": true,
    "deletable": true,
    "editable": true
   },
   "outputs": [],
   "source": [
    "partials.append(1)"
   ]
  },
  {
   "cell_type": "code",
   "execution_count": 185,
   "metadata": {
    "collapsed": false,
    "deletable": true,
    "editable": true
   },
   "outputs": [
    {
     "data": {
      "text/plain": [
       "[1]"
      ]
     },
     "execution_count": 185,
     "metadata": {},
     "output_type": "execute_result"
    }
   ],
   "source": [
    "partials"
   ]
  },
  {
   "cell_type": "markdown",
   "metadata": {
    "deletable": true,
    "editable": true
   },
   "source": [
    "### Including numpy/scipy/sklearn libraries\n",
    "\n",
    "    $ docker pull amazonlinux:2017.03\n",
    "    $ docker run -v $(pwd):/outputs -it amazonlinux:2016.09 \\\n",
    "          /bin/bash /outputs/build.sh\n",
    "    \n",
    "serverless package information updated so that numpy/scipy/sklearn libraries are included only in the strassen function \n",
    "    \n",
    "    sls invoke -v --log --function strassen --data '{\"method\": \"strassen-local\", \"matrix-X\": \"matX\", \"matrix-Y\": \"matY\", \"bucket\": \"bucket\" }'\n",
    "    {\n",
    "        \"Strassen correct\": true\n",
    "    }\n",
    "    --------------------------------------------------------------------\n",
    "    START RequestId: cc2ca7b4-568f-11e7-938c-530bf2b089ea Version: $LATEST\n",
    "    [[ 30  70 110 150]\n",
    "     [ 70 174 278 382]\n",
    "     [110 278 446 614]\n",
    "     [150 382 614 846]]\n",
    "    END RequestId: cc2ca7b4-568f-11e7-938c-530bf2b089ea\n",
    "    REPORT RequestId: cc2ca7b4-568f-11e7-938c-530bf2b089ea\tDuration: 0.61 ms\tBilled Duration: 100 ms \tMemory Size: 1024 MB\tMax Memory Used: 63 MB\n"
   ]
  },
  {
   "cell_type": "code",
   "execution_count": 191,
   "metadata": {
    "collapsed": false,
    "deletable": true,
    "editable": true
   },
   "outputs": [
    {
     "data": {
      "text/plain": [
       "'Darwin'"
      ]
     },
     "execution_count": 191,
     "metadata": {},
     "output_type": "execute_result"
    }
   ],
   "source": [
    "import platform\n",
    "platform.system()"
   ]
  },
  {
   "cell_type": "markdown",
   "metadata": {
    "collapsed": true,
    "deletable": true,
    "editable": true
   },
   "source": [
    "### Create and upload dense sample matrices\n",
    "\n",
    "matrix-A-4\n",
    "\n",
    "matrix-B-4 = matrix-A-4.transpose()\n",
    "\n",
    "4 by 4 elements\n"
   ]
  },
  {
   "cell_type": "code",
   "execution_count": 196,
   "metadata": {
    "collapsed": false
   },
   "outputs": [
    {
     "name": "stdout",
     "output_type": "stream",
     "text": [
      "A =  [[ 1  2  3  4]\n",
      " [ 5  6  7  8]\n",
      " [ 9 10 11 12]\n",
      " [13 14 15 16]]\n",
      "B = A' =  [[ 1  5  9 13]\n",
      " [ 2  6 10 14]\n",
      " [ 3  7 11 15]\n",
      " [ 4  8 12 16]]\n",
      "A*A' =  [[ 30  70 110 150]\n",
      " [ 70 174 278 382]\n",
      " [110 278 446 614]\n",
      " [150 382 614 846]]\n"
     ]
    }
   ],
   "source": [
    "matA = np.array([[1,2,3,4],[5,6,7,8],[9,10,11,12],[13,14,15,16]])\n",
    "print \"A = \", matA\n",
    "matB = matA.transpose()\n",
    "print \"B = A' = \", matB\n",
    "print \"A*A' = \", matA.dot(matA.transpose())"
   ]
  },
  {
   "cell_type": "markdown",
   "metadata": {},
   "source": [
    "### write these test matrices to file and then upload them to S3"
   ]
  },
  {
   "cell_type": "code",
   "execution_count": 200,
   "metadata": {
    "collapsed": true
   },
   "outputs": [],
   "source": [
    "np.save('/tmp/matrix-A-4.npy', matA)\n",
    "np.save('/tmp/matrix-B-4.npy', matB)"
   ]
  },
  {
   "cell_type": "code",
   "execution_count": 206,
   "metadata": {
    "collapsed": false
   },
   "outputs": [],
   "source": [
    "import boto3\n",
    "\n",
    "s3_client = boto3.client('s3')\n",
    "s3_client.upload_file('/tmp/matrix-A-4.npy', 'jmue-matrix-tests', 'matrix-A-4')\n",
    "s3_client.upload_file('/tmp/matrix-B-4.npy', 'jmue-matrix-tests', 'matrix-B-4')"
   ]
  },
  {
   "cell_type": "code",
   "execution_count": 207,
   "metadata": {
    "collapsed": false
   },
   "outputs": [],
   "source": [
    "s3_client.download_file('jmue-matrix-tests', 'matrix-A-4', '/tmp/downloaded')"
   ]
  },
  {
   "cell_type": "code",
   "execution_count": 208,
   "metadata": {
    "collapsed": true
   },
   "outputs": [],
   "source": [
    "pyq = np.load('/tmp/downloaded')"
   ]
  },
  {
   "cell_type": "code",
   "execution_count": 209,
   "metadata": {
    "collapsed": false
   },
   "outputs": [
    {
     "data": {
      "text/plain": [
       "array([[ 1,  2,  3,  4],\n",
       "       [ 5,  6,  7,  8],\n",
       "       [ 9, 10, 11, 12],\n",
       "       [13, 14, 15, 16]])"
      ]
     },
     "execution_count": 209,
     "metadata": {},
     "output_type": "execute_result"
    }
   ],
   "source": [
    "pyq"
   ]
  },
  {
   "cell_type": "code",
   "execution_count": 210,
   "metadata": {
    "collapsed": false
   },
   "outputs": [
    {
     "data": {
      "text/plain": [
       "array([[128, 160],\n",
       "       [128, 160]])"
      ]
     },
     "execution_count": 210,
     "metadata": {},
     "output_type": "execute_result"
    }
   ],
   "source": [
    "np.load('/Users/Johannes/Downloads/m_5')"
   ]
  },
  {
   "cell_type": "markdown",
   "metadata": {},
   "source": [
    "## Strassen Matrix Multiplication Test"
   ]
  },
  {
   "cell_type": "markdown",
   "metadata": {},
   "source": [
    "### 1. call strassen master"
   ]
  },
  {
   "cell_type": "code",
   "execution_count": 219,
   "metadata": {
    "collapsed": true
   },
   "outputs": [],
   "source": [
    "import boto3\n",
    "import json\n",
    "import base64"
   ]
  },
  {
   "cell_type": "code",
   "execution_count": 216,
   "metadata": {
    "collapsed": true
   },
   "outputs": [],
   "source": [
    "lambda_client = boto3.client('lambda')"
   ]
  },
  {
   "cell_type": "code",
   "execution_count": 227,
   "metadata": {
    "collapsed": false
   },
   "outputs": [],
   "source": [
    "response = lambda_client.invoke(\n",
    "    FunctionName=\"mmultiply-prod-strassen\",\n",
    "    InvocationType='RequestResponse',\n",
    "    LogType='Tail',\n",
    "    Payload=json.dumps({\n",
    "        \"op\": \"strassen\",\n",
    "        \"matrix-X\": \"matrix-A-4\",\n",
    "        \"matrix-Y\": \"matrix-B-4\",\n",
    "        \"result-bucket\": \"jmue-matrix-tests\"\n",
    "    })\n",
    ")\n",
    "print base64.b64decode(response['LogResult'])"
   ]
  },
  {
   "cell_type": "code",
   "execution_count": null,
   "metadata": {
    "collapsed": false
   },
   "outputs": [],
   "source": []
  },
  {
   "cell_type": "markdown",
   "metadata": {},
   "source": [
    "### 2. Check Results\n",
    "\n",
    "* check files in S3 bucket\n",
    "* download partial results\n",
    "* double check result correctness"
   ]
  },
  {
   "cell_type": "code",
   "execution_count": 229,
   "metadata": {
    "collapsed": true
   },
   "outputs": [],
   "source": [
    "s3_client = boto3.client('s3')"
   ]
  },
  {
   "cell_type": "code",
   "execution_count": 231,
   "metadata": {
    "collapsed": false
   },
   "outputs": [],
   "source": [
    "response = s3_client.list_objects_v2(\n",
    "    Bucket='jmue-matrix-tests',\n",
    "    Delimiter='string',\n",
    "    EncodingType='url',\n",
    "    MaxKeys=10,\n",
    "    Prefix='m_'\n",
    ")"
   ]
  },
  {
   "cell_type": "code",
   "execution_count": 236,
   "metadata": {
    "collapsed": false
   },
   "outputs": [
    {
     "data": {
      "text/plain": [
       "[{u'ETag': '\"5dbd1792055a3129630dd89999ea4a70\"',\n",
       "  u'Key': 'm_0',\n",
       "  u'LastModified': datetime.datetime(2017, 7, 4, 11, 25, 51, tzinfo=tzutc()),\n",
       "  u'Size': 318,\n",
       "  u'StorageClass': 'STANDARD'},\n",
       " {u'ETag': '\"c8e3d20848ab0202a3873791b9cd13ea\"',\n",
       "  u'Key': 'm_1',\n",
       "  u'LastModified': datetime.datetime(2017, 7, 4, 11, 25, 51, tzinfo=tzutc()),\n",
       "  u'Size': 318,\n",
       "  u'StorageClass': 'STANDARD'},\n",
       " {u'ETag': '\"981195ee8431f62bdf752b574f01c077\"',\n",
       "  u'Key': 'm_2',\n",
       "  u'LastModified': datetime.datetime(2017, 7, 4, 11, 25, 51, tzinfo=tzutc()),\n",
       "  u'Size': 318,\n",
       "  u'StorageClass': 'STANDARD'},\n",
       " {u'ETag': '\"5e2688696c95fb6a08b8582ef549038d\"',\n",
       "  u'Key': 'm_3',\n",
       "  u'LastModified': datetime.datetime(2017, 7, 4, 11, 25, 52, tzinfo=tzutc()),\n",
       "  u'Size': 318,\n",
       "  u'StorageClass': 'STANDARD'},\n",
       " {u'ETag': '\"facacebdcd2d7afef7278778b7406485\"',\n",
       "  u'Key': 'm_4',\n",
       "  u'LastModified': datetime.datetime(2017, 7, 4, 11, 25, 52, tzinfo=tzutc()),\n",
       "  u'Size': 312,\n",
       "  u'StorageClass': 'STANDARD'},\n",
       " {u'ETag': '\"0186638ed245aabc8ef9f66dcf362aeb\"',\n",
       "  u'Key': 'm_5',\n",
       "  u'LastModified': datetime.datetime(2017, 7, 4, 11, 25, 52, tzinfo=tzutc()),\n",
       "  u'Size': 318,\n",
       "  u'StorageClass': 'STANDARD'},\n",
       " {u'ETag': '\"530c469fe0d942407fe9475bda4c233d\"',\n",
       "  u'Key': 'm_6',\n",
       "  u'LastModified': datetime.datetime(2017, 7, 4, 11, 25, 52, tzinfo=tzutc()),\n",
       "  u'Size': 312,\n",
       "  u'StorageClass': 'STANDARD'}]"
      ]
     },
     "execution_count": 236,
     "metadata": {},
     "output_type": "execute_result"
    }
   ],
   "source": [
    "response['Contents']"
   ]
  },
  {
   "cell_type": "code",
   "execution_count": null,
   "metadata": {
    "collapsed": true
   },
   "outputs": [],
   "source": []
  }
 ],
 "metadata": {
  "kernelspec": {
   "display_name": "Python 2",
   "language": "python",
   "name": "python2"
  },
  "language_info": {
   "codemirror_mode": {
    "name": "ipython",
    "version": 2
   },
   "file_extension": ".py",
   "mimetype": "text/x-python",
   "name": "python",
   "nbconvert_exporter": "python",
   "pygments_lexer": "ipython2",
   "version": "2.7.13"
  }
 },
 "nbformat": 4,
 "nbformat_minor": 2
}
