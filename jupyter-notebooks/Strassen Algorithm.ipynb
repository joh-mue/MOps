{
 "cells": [
  {
   "cell_type": "markdown",
   "metadata": {
    "deletable": true,
    "editable": true
   },
   "source": [
    "# Implementing Matrix Multiplication with Strassen"
   ]
  },
  {
   "cell_type": "markdown",
   "metadata": {
    "deletable": true,
    "editable": true
   },
   "source": [
    "Algorithms to implement:\n",
    "* naive distributed\n",
    "* strassen distributed\n",
    "* Caps? Cannon?"
   ]
  },
  {
   "cell_type": "code",
   "execution_count": 3,
   "metadata": {
    "collapsed": true,
    "deletable": true,
    "editable": true
   },
   "outputs": [],
   "source": [
    "import numpy as np\n",
    "import boto3"
   ]
  },
  {
   "cell_type": "code",
   "execution_count": null,
   "metadata": {
    "collapsed": false,
    "deletable": true,
    "editable": true
   },
   "outputs": [],
   "source": [
    "matA = np.array([[1,2,3,4],[5,6,7,8],[9,10,11,12],[13,14,15,16]])\n",
    "print \"A = \", matA\n",
    "print \"A*A' = \", matA.dot(matA.transpose())\n",
    "matB = matA.transpose()\n",
    "print \"B = A' = \", matB"
   ]
  },
  {
   "cell_type": "code",
   "execution_count": null,
   "metadata": {
    "collapsed": false,
    "deletable": true,
    "editable": true
   },
   "outputs": [],
   "source": []
  },
  {
   "cell_type": "code",
   "execution_count": null,
   "metadata": {
    "collapsed": false,
    "deletable": true,
    "editable": true
   },
   "outputs": [],
   "source": []
  },
  {
   "cell_type": "code",
   "execution_count": null,
   "metadata": {
    "collapsed": false,
    "deletable": true,
    "editable": true
   },
   "outputs": [],
   "source": [
    "print split4(matA,0,0) == [[1,2],\n",
    "                           [5,6]]\n",
    "print split4(matA,0,1) == [[3,4],\n",
    "                           [7,8]]\n",
    "print split4(matA,1,0) == [[9,10],\n",
    "                           [13,14]]\n",
    "print split4(matA,1,1) == [[11,12],\n",
    "                           [15,16]]\n",
    "print split4(matB,0,0) == [[1,5],\n",
    "                           [2,6]]\n",
    "print split4(matB,0,1) == [[9,13],\n",
    "                           [10,14]]\n",
    "print split4(matB,1,0) == [[3,7],\n",
    "                           [4,8]]\n",
    "print split4(matB,1,1) == [[11,15],\n",
    "                           [12,16]]"
   ]
  },
  {
   "cell_type": "code",
   "execution_count": null,
   "metadata": {
    "collapsed": true,
    "deletable": true,
    "editable": true
   },
   "outputs": [],
   "source": []
  },
  {
   "cell_type": "code",
   "execution_count": 107,
   "metadata": {
    "collapsed": false,
    "deletable": true,
    "editable": true
   },
   "outputs": [],
   "source": [
    "def split4(array, col, row):\n",
    "    cols, rows = array.shape\n",
    "    return array[(cols/2)*col:(cols+cols*col)/2, (rows/2)*row:(rows+rows*row)/2]"
   ]
  },
  {
   "cell_type": "code",
   "execution_count": null,
   "metadata": {
    "collapsed": true,
    "deletable": true,
    "editable": true
   },
   "outputs": [],
   "source": []
  },
  {
   "cell_type": "code",
   "execution_count": 105,
   "metadata": {
    "collapsed": true,
    "deletable": true,
    "editable": true
   },
   "outputs": [],
   "source": [
    "def strassen(X, Y):\n",
    "    M0 = (split4(X,0,0) + split4(X,1,1)).dot(split4(Y,0,0) + split4(Y,1,1))\n",
    "    M1 = (split4(X,1,0) + split4(X,1,1)).dot(split4(Y,0,0))\n",
    "    M2 = split4(X,0,0).dot(split4(Y,0,1) - split4(Y,1,1))\n",
    "    M3 = split4(X,1,1).dot(split4(Y,1,0) - split4(Y,0,0))\n",
    "    M4 = (split4(X,0,0) + split4(X,0,1)).dot(split4(Y,1,1))\n",
    "    M5 = (split4(X,1,0) - split4(X,0,0)).dot(split4(Y,0,0) + split4(Y,0,1))\n",
    "    M6 = (split4(X,0,1) - split4(X,1,1)).dot(split4(Y,1,0) + split4(Y,1,1))\n",
    "\n",
    "    print(\"M0: \", M0)\n",
    "    print(\"M1: \", M1)\n",
    "    print(\"M2: \", M2)\n",
    "    print(\"M3: \", M3)\n",
    "    print(\"M4: \", M4)\n",
    "    print(\"M5: \", M5)\n",
    "    print(\"M6: \", M6)\n",
    "        \n",
    "    \n",
    "    Q00 = M0 + M3 - M4 + M6\n",
    "    Q01 = M2 + M4\n",
    "    Q10 = M1 + M3\n",
    "    Q11 = M0 + M2 - M1 + M5\n",
    "                \n",
    "    top = np.concatenate((Q00, Q01), axis=1)\n",
    "    bottom = np.concatenate((Q10,Q11), axis=1)\n",
    "    S = np.concatenate((top, bottom), axis=0)\n",
    "\n",
    "    return S\n"
   ]
  },
  {
   "cell_type": "code",
   "execution_count": 104,
   "metadata": {
    "collapsed": false,
    "deletable": true,
    "editable": true
   },
   "outputs": [
    {
     "name": "stdout",
     "output_type": "stream",
     "text": [
      "[[1 2]\n",
      " [5 6]]\n",
      "[[3 4]\n",
      " [7 8]]\n",
      "[[ 9 10]\n",
      " [13 14]]\n",
      "[[11 12]\n",
      " [15 16]]\n",
      "[[ 1  2  3  4]\n",
      " [ 5  6  7  8]\n",
      " [ 9 10 11 12]\n",
      " [13 14 15 16]]\n",
      "[[ 1  2  3  4]\n",
      " [ 5  6  7  8]\n",
      " [ 9 10 11 12]\n",
      " [13 14 15 16]]\n"
     ]
    }
   ],
   "source": [
    "Q00 = np.array([[1,2],[5,6]])\n",
    "print Q00\n",
    "Q01 = np.array([[3,4],[7,8]])\n",
    "print Q01\n",
    "Q10 = np.array([[9,10],[13,14]])\n",
    "print Q10\n",
    "Q11 = np.array([[11,12],[15,16]])\n",
    "print Q11\n",
    "\n",
    "reference = np.array([[1,2,3,4],[5,6,7,8],[9,10,11,12],[13,14,15,16]])\n",
    "print reference\n",
    "\n",
    "top = np.concatenate((Q00, Q01), axis=1)\n",
    "bottom = np.concatenate((Q10,Q11), axis=1)\n",
    "result = np.concatenate((top, bottom), axis=0)\n",
    "print result"
   ]
  },
  {
   "cell_type": "code",
   "execution_count": 108,
   "metadata": {
    "collapsed": false,
    "deletable": true,
    "editable": true
   },
   "outputs": [
    {
     "name": "stdout",
     "output_type": "stream",
     "text": [
      "('M0: ', array([[340, 548],\n",
      "       [548, 884]]))\n",
      "('M1: ', array([[ 64, 232],\n",
      "       [ 88, 320]]))\n",
      "('M2: ', array([[ -6,  -6],\n",
      "       [-22, -22]]))\n",
      "('M3: ', array([[46, 46],\n",
      "       [62, 62]]))\n",
      "('M4: ', array([[116, 156],\n",
      "       [300, 404]]))\n",
      "('M5: ', array([[176, 304],\n",
      "       [176, 304]]))\n",
      "('M6: ', array([[-240, -368],\n",
      "       [-240, -368]]))\n"
     ]
    },
    {
     "data": {
      "text/plain": [
       "array([[ 30,  70, 110, 150],\n",
       "       [ 70, 174, 278, 382],\n",
       "       [110, 278, 446, 614],\n",
       "       [150, 382, 614, 846]])"
      ]
     },
     "execution_count": 108,
     "metadata": {},
     "output_type": "execute_result"
    }
   ],
   "source": [
    "S = strassen(matA,matB)\n",
    "S"
   ]
  },
  {
   "cell_type": "code",
   "execution_count": null,
   "metadata": {
    "collapsed": false,
    "deletable": true,
    "editable": true
   },
   "outputs": [],
   "source": [
    "m['m_1']\n"
   ]
  },
  {
   "cell_type": "code",
   "execution_count": 109,
   "metadata": {
    "collapsed": false,
    "deletable": true,
    "editable": true
   },
   "outputs": [
    {
     "data": {
      "text/plain": [
       "True"
      ]
     },
     "execution_count": 109,
     "metadata": {},
     "output_type": "execute_result"
    }
   ],
   "source": [
    "np.array_equal(S, matA.dot(matA.transpose()))"
   ]
  },
  {
   "cell_type": "code",
   "execution_count": null,
   "metadata": {
    "collapsed": false,
    "deletable": true,
    "editable": true
   },
   "outputs": [],
   "source": [
    "matA.dot(matA.transpose())"
   ]
  },
  {
   "cell_type": "code",
   "execution_count": null,
   "metadata": {
    "collapsed": false,
    "deletable": true,
    "editable": true
   },
   "outputs": [],
   "source": [
    "matF = np.array([[1,2,3,4,5,6],[7,8,9,10,11,12],[13,14,15,16,17,18],[19,20,21,22,23,24]])"
   ]
  },
  {
   "cell_type": "code",
   "execution_count": null,
   "metadata": {
    "collapsed": false,
    "deletable": true,
    "editable": true
   },
   "outputs": [],
   "source": [
    "matF.dot(matF.transpose()) == strassen(matA, matA.transpose())"
   ]
  },
  {
   "cell_type": "code",
   "execution_count": null,
   "metadata": {
    "collapsed": true,
    "deletable": true,
    "editable": true
   },
   "outputs": [],
   "source": [
    "class Strassen:\n",
    "    def __init__(self):\n",
    "        pass\n",
    "    \n",
    "    def special_function():\n",
    "        print(\"Hell yeah\")"
   ]
  },
  {
   "cell_type": "code",
   "execution_count": null,
   "metadata": {
    "collapsed": false,
    "deletable": true,
    "editable": true
   },
   "outputs": [],
   "source": [
    "function = globals()['special_function']\n",
    "# function_to_call = getattr('special_function')"
   ]
  },
  {
   "cell_type": "code",
   "execution_count": null,
   "metadata": {
    "collapsed": false,
    "deletable": true,
    "editable": true
   },
   "outputs": [],
   "source": [
    "function()"
   ]
  },
  {
   "cell_type": "code",
   "execution_count": null,
   "metadata": {
    "collapsed": false,
    "deletable": true,
    "editable": true
   },
   "outputs": [],
   "source": []
  },
  {
   "cell_type": "code",
   "execution_count": null,
   "metadata": {
    "collapsed": true,
    "deletable": true,
    "editable": true
   },
   "outputs": [],
   "source": [
    "a,b,x,y = [0,0,10,10]\n",
    "descriptor = (a,b)\n",
    "flex_descriptor = ((a,b),(x,y)) # for non-fixed size partials"
   ]
  },
  {
   "cell_type": "code",
   "execution_count": null,
   "metadata": {
    "collapsed": false,
    "deletable": true,
    "editable": true
   },
   "outputs": [],
   "source": [
    "flex_descriptor"
   ]
  },
  {
   "cell_type": "code",
   "execution_count": null,
   "metadata": {
    "collapsed": false,
    "deletable": true,
    "editable": true
   },
   "outputs": [],
   "source": [
    "['m_%(x)d' for x in range(0,7)]"
   ]
  },
  {
   "cell_type": "code",
   "execution_count": null,
   "metadata": {
    "collapsed": false,
    "deletable": true,
    "editable": true
   },
   "outputs": [],
   "source": [
    "partials = []"
   ]
  },
  {
   "cell_type": "code",
   "execution_count": null,
   "metadata": {
    "collapsed": true,
    "deletable": true,
    "editable": true
   },
   "outputs": [],
   "source": [
    "partials.append(1)"
   ]
  },
  {
   "cell_type": "code",
   "execution_count": null,
   "metadata": {
    "collapsed": false,
    "deletable": true,
    "editable": true
   },
   "outputs": [],
   "source": [
    "partials"
   ]
  },
  {
   "cell_type": "markdown",
   "metadata": {
    "deletable": true,
    "editable": true
   },
   "source": [
    "### Including numpy/scipy/sklearn libraries\n",
    "\n",
    "    $ docker pull amazonlinux:2017.03\n",
    "    $ docker run -v $(pwd):/outputs -it amazonlinux:2016.09 \\\n",
    "          /bin/bash /outputs/build.sh\n",
    "    \n",
    "serverless package information updated so that numpy/scipy/sklearn libraries are included only in the strassen function \n",
    "    \n",
    "    sls invoke -v --log --function strassen --data '{\"method\": \"strassen-local\", \"matrix-X\": \"matX\", \"matrix-Y\": \"matY\", \"bucket\": \"bucket\" }'\n",
    "    {\n",
    "        \"Strassen correct\": true\n",
    "    }\n",
    "    --------------------------------------------------------------------\n",
    "    START RequestId: cc2ca7b4-568f-11e7-938c-530bf2b089ea Version: $LATEST\n",
    "    [[ 30  70 110 150]\n",
    "     [ 70 174 278 382]\n",
    "     [110 278 446 614]\n",
    "     [150 382 614 846]]\n",
    "    END RequestId: cc2ca7b4-568f-11e7-938c-530bf2b089ea\n",
    "    REPORT RequestId: cc2ca7b4-568f-11e7-938c-530bf2b089ea\tDuration: 0.61 ms\tBilled Duration: 100 ms \tMemory Size: 1024 MB\tMax Memory Used: 63 MB\n"
   ]
  },
  {
   "cell_type": "code",
   "execution_count": null,
   "metadata": {
    "collapsed": false,
    "deletable": true,
    "editable": true
   },
   "outputs": [],
   "source": [
    "import platform\n",
    "platform.system()"
   ]
  },
  {
   "cell_type": "markdown",
   "metadata": {
    "collapsed": true,
    "deletable": true,
    "editable": true
   },
   "source": [
    "### Create and upload dense sample matrices\n",
    "\n",
    "#### Simple Sample Matrix 4x4\n",
    "matrix-A-4\n",
    "\n",
    "matrix-B-4 = matrix-A-4.transpose()\n",
    "\n",
    "Sim4 by 4 elements"
   ]
  },
  {
   "cell_type": "code",
   "execution_count": 3,
   "metadata": {
    "collapsed": false,
    "deletable": true,
    "editable": true
   },
   "outputs": [
    {
     "name": "stdout",
     "output_type": "stream",
     "text": [
      "A =  [[ 1  2  3  4]\n",
      " [ 5  6  7  8]\n",
      " [ 9 10 11 12]\n",
      " [13 14 15 16]]\n",
      "B = A' =  [[ 1  5  9 13]\n",
      " [ 2  6 10 14]\n",
      " [ 3  7 11 15]\n",
      " [ 4  8 12 16]]\n",
      "A*A' =  [[ 30  70 110 150]\n",
      " [ 70 174 278 382]\n",
      " [110 278 446 614]\n",
      " [150 382 614 846]]\n"
     ]
    }
   ],
   "source": [
    "matA = np.array([[1,2,3,4],[5,6,7,8],[9,10,11,12],[13,14,15,16]])\n",
    "print \"A = \", matA\n",
    "matB = matA.transpose()\n",
    "print \"B = A' = \", matB\n",
    "print \"A*A' = \", matA.dot(matA.transpose())"
   ]
  },
  {
   "cell_type": "markdown",
   "metadata": {
    "deletable": true,
    "editable": true
   },
   "source": [
    "### Staircase Matrixes of size n"
   ]
  },
  {
   "cell_type": "code",
   "execution_count": 4,
   "metadata": {
    "collapsed": false,
    "deletable": true,
    "editable": true
   },
   "outputs": [],
   "source": [
    "def create_square_staircase_matrix(n=10):\n",
    "    Matrix = [[1 for x in range(n)] for y in range(n)] \n",
    "    for i in range(n):\n",
    "        for j in range(n):\n",
    "            Matrix[i][j] = i+j\n",
    "    return np.array(Matrix)\n"
   ]
  },
  {
   "cell_type": "code",
   "execution_count": 127,
   "metadata": {
    "collapsed": false,
    "deletable": true,
    "editable": true
   },
   "outputs": [
    {
     "name": "stdout",
     "output_type": "stream",
     "text": [
      "CPU times: user 6.1 s, sys: 1.08 s, total: 7.18 s\n",
      "Wall time: 8.28 s\n"
     ]
    }
   ],
   "source": [
    "%%time\n",
    "sq_m = create_square_staircase_matrix(3500)"
   ]
  },
  {
   "cell_type": "code",
   "execution_count": 128,
   "metadata": {
    "collapsed": false,
    "deletable": true,
    "editable": true
   },
   "outputs": [
    {
     "name": "stdout",
     "output_type": "stream",
     "text": [
      "CPU times: user 3min 55s, sys: 2.19 s, total: 3min 57s\n",
      "Wall time: 4min 1s\n"
     ]
    },
    {
     "data": {
      "text/plain": [
       "array([[14285542250, 14291665500, 14297788750, ..., 35698547500,\n",
       "        35704670750, 35710794000],\n",
       "       [14291665500, 14297792250, 14303919000, ..., 35716910250,\n",
       "        35723037000, 35729163750],\n",
       "       [14297788750, 14303919000, 14310049250, ..., 35735273000,\n",
       "        35741403250, 35747533500],\n",
       "       ..., \n",
       "       [35698547500, 35716910250, 35735273000, ..., 99913084250,\n",
       "        99931447000, 99949809750],\n",
       "       [35704670750, 35723037000, 35741403250, ..., 99931447000,\n",
       "        99949813250, 99968179500],\n",
       "       [35710794000, 35729163750, 35747533500, ..., 99949809750,\n",
       "        99968179500, 99986549250]])"
      ]
     },
     "execution_count": 128,
     "metadata": {},
     "output_type": "execute_result"
    }
   ],
   "source": [
    "%%time\n",
    "sq_m.dot(sq_m)"
   ]
  },
  {
   "cell_type": "markdown",
   "metadata": {
    "collapsed": false,
    "deletable": true,
    "editable": true
   },
   "source": [
    "### Timings int\n",
    "\n",
    "1000 -   0,6s  \n",
    "1500 -   8,3s  \n",
    "2000 -  25,8s  \n",
    "2500 -  57,0s  \n",
    "3000 - 123,0s  \n",
    "3500 - 245,0s  \n",
    "4000 - 374,0s  "
   ]
  },
  {
   "cell_type": "code",
   "execution_count": 12,
   "metadata": {
    "collapsed": true
   },
   "outputs": [],
   "source": [
    "m,n,k = 16000, 16000, 16000"
   ]
  },
  {
   "cell_type": "code",
   "execution_count": 13,
   "metadata": {
    "collapsed": false
   },
   "outputs": [],
   "source": [
    "floatrix = np.random.random_sample((n,n))"
   ]
  },
  {
   "cell_type": "code",
   "execution_count": null,
   "metadata": {
    "collapsed": true
   },
   "outputs": [],
   "source": [
    "floatrix_2 = np.random.random_sample((n,n))"
   ]
  },
  {
   "cell_type": "code",
   "execution_count": null,
   "metadata": {
    "collapsed": false
   },
   "outputs": [],
   "source": [
    "%%time\n",
    "floatrix.dot(floatrix_2)"
   ]
  },
  {
   "cell_type": "markdown",
   "metadata": {},
   "source": [
    "### Timings float\n",
    "\n",
    "2000\n",
    "3000\n",
    "4000\n",
    "5000\n",
    "8000"
   ]
  },
  {
   "cell_type": "markdown",
   "metadata": {
    "deletable": true,
    "editable": true
   },
   "source": [
    "### Writing  Matrixes to S3"
   ]
  },
  {
   "cell_type": "code",
   "execution_count": 63,
   "metadata": {
    "collapsed": false,
    "deletable": true,
    "editable": true
   },
   "outputs": [],
   "source": [
    "path = '/tmp/sq-staircase1000.npy'\n",
    "np.save(path, sq_m)w\n",
    "# np.save('/tmp/matrix-B-4.npy', matB)"
   ]
  },
  {
   "cell_type": "code",
   "execution_count": 40,
   "metadata": {
    "collapsed": true,
    "deletable": true,
    "editable": true
   },
   "outputs": [],
   "source": [
    "import boto3"
   ]
  },
  {
   "cell_type": "code",
   "execution_count": 41,
   "metadata": {
    "collapsed": false,
    "deletable": true,
    "editable": true
   },
   "outputs": [],
   "source": [
    "s3_client = boto3.client('s3')\n",
    "# s3_client.upload_file('/tmp/matrix-A-4.npy', 'jmue-matrix-tests', 'matrix-A-4')\n",
    "# s3_client.upload_file('/tmp/matrix-B-4.npy', 'jmue-matrix-tests', 'matrix-B-4')"
   ]
  },
  {
   "cell_type": "code",
   "execution_count": 43,
   "metadata": {
    "collapsed": false,
    "deletable": true,
    "editable": true
   },
   "outputs": [],
   "source": [
    "s3_client.upload_file('/tmp/sq-staircase1000.npy', 'jmue-matrix-tests', '1000/sq-staircase1000')"
   ]
  },
  {
   "cell_type": "code",
   "execution_count": 23,
   "metadata": {
    "collapsed": false,
    "deletable": true,
    "editable": true
   },
   "outputs": [],
   "source": [
    "s3_client.download_file('jmue-matrix-tests', 'sq-staircase3000', '/tmp/downloaded')"
   ]
  },
  {
   "cell_type": "code",
   "execution_count": 24,
   "metadata": {
    "collapsed": true,
    "deletable": true,
    "editable": true
   },
   "outputs": [],
   "source": [
    "pyq = np.load('/tmp/downloaded')"
   ]
  },
  {
   "cell_type": "code",
   "execution_count": 25,
   "metadata": {
    "collapsed": false,
    "deletable": true,
    "editable": true
   },
   "outputs": [
    {
     "data": {
      "text/plain": [
       "array([[   0,    1,    2, ...,  997,  998,  999],\n",
       "       [   1,    2,    3, ...,  998,  999, 1000],\n",
       "       [   2,    3,    4, ...,  999, 1000, 1001],\n",
       "       ..., \n",
       "       [ 997,  998,  999, ..., 1994, 1995, 1996],\n",
       "       [ 998,  999, 1000, ..., 1995, 1996, 1997],\n",
       "       [ 999, 1000, 1001, ..., 1996, 1997, 1998]])"
      ]
     },
     "execution_count": 25,
     "metadata": {},
     "output_type": "execute_result"
    }
   ],
   "source": [
    "pyq"
   ]
  },
  {
   "cell_type": "markdown",
   "metadata": {
    "deletable": true,
    "editable": true
   },
   "source": [
    "## Strassen Matrix Multiplication Test"
   ]
  },
  {
   "cell_type": "markdown",
   "metadata": {
    "deletable": true,
    "editable": true
   },
   "source": [
    "### 1. call strassen master"
   ]
  },
  {
   "cell_type": "code",
   "execution_count": 14,
   "metadata": {
    "collapsed": true,
    "deletable": true,
    "editable": true
   },
   "outputs": [],
   "source": [
    "import boto3\n",
    "import json\n",
    "import base64"
   ]
  },
  {
   "cell_type": "code",
   "execution_count": 44,
   "metadata": {
    "collapsed": true,
    "deletable": true,
    "editable": true
   },
   "outputs": [],
   "source": [
    "lambda_client = boto3.client('lambda')"
   ]
  },
  {
   "cell_type": "code",
   "execution_count": 49,
   "metadata": {
    "collapsed": false,
    "deletable": true,
    "editable": true
   },
   "outputs": [
    {
     "name": "stdout",
     "output_type": "stream",
     "text": [
      "START RequestId: aa5227da-623c-11e7-8286-43ad914c0ce8 Version: $LATEST\n",
      "END RequestId: aa5227da-623c-11e7-8286-43ad914c0ce8\n",
      "REPORT RequestId: aa5227da-623c-11e7-8286-43ad914c0ce8\tDuration: 357.18 ms\tBilled Duration: 400 ms \tMemory Size: 1024 MB\tMax Memory Used: 50 MB\t\n",
      "\n"
     ]
    }
   ],
   "source": [
    "response = lambda_client.invoke(\n",
    "    FunctionName=\"mmultiply-prod-strassen\",\n",
    "    InvocationType='RequestResponse',\n",
    "    LogType='Tail',\n",
    "    Payload=json.dumps({\n",
    "        \"op\": \"strassen\",\n",
    "        \"matrix-X\": \"sq-staircase1000\",\n",
    "        \"matrix-Y\": \"sq-staircase1000\",\n",
    "        \"result-bucket\": \"jmue-matrix-tests\"\n",
    "    })\n",
    ")\n",
    "print base64.b64decode(response['LogResult'])"
   ]
  },
  {
   "cell_type": "code",
   "execution_count": null,
   "metadata": {
    "collapsed": false,
    "deletable": true,
    "editable": true
   },
   "outputs": [],
   "source": []
  },
  {
   "cell_type": "markdown",
   "metadata": {
    "deletable": true,
    "editable": true
   },
   "source": [
    "### 2. Check Results\n",
    "\n",
    "* check files in S3 bucket\n",
    "* download partial results\n",
    "* double check result correctness"
   ]
  },
  {
   "cell_type": "code",
   "execution_count": 27,
   "metadata": {
    "collapsed": true,
    "deletable": true,
    "editable": true
   },
   "outputs": [],
   "source": [
    "from io import BytesIO"
   ]
  },
  {
   "cell_type": "markdown",
   "metadata": {
    "deletable": true,
    "editable": true
   },
   "source": [
    "Check if intermediate results are in yet and display their timestamp"
   ]
  },
  {
   "cell_type": "code",
   "execution_count": 54,
   "metadata": {
    "collapsed": false,
    "deletable": true,
    "editable": true,
    "scrolled": true
   },
   "outputs": [
    {
     "name": "stdout",
     "output_type": "stream",
     "text": [
      "('All intermediate results where found: ', True)\n",
      "2017-07-06T11:17:18+00:00\n",
      "2017-07-06T11:17:18+00:00\n",
      "2017-07-06T11:17:18+00:00\n",
      "2017-07-06T11:17:18+00:00\n",
      "2017-07-06T11:17:18+00:00\n",
      "2017-07-06T11:17:18+00:00\n",
      "2017-07-06T11:17:18+00:00\n"
     ]
    }
   ],
   "source": [
    "bucket = \"jmue-matrix-tests\"\n",
    "s3_client = boto3.client('s3')\n",
    "response = s3_client.list_objects_v2(\n",
    "    Bucket=bucket,\n",
    "    Prefix=\"m_\",\n",
    ")\n",
    "expected = [\"m_\" + str(x) for x in range(0,7)]\n",
    "loaded = []\n",
    "for item in response['Contents']:\n",
    "    loaded.append(item['Key'])\n",
    "print(\"All intermediate results where found: \", loaded == expected)\n",
    "for item in response['Contents']:\n",
    "    print response['Contents'][0]['LastModified'].isoformat()"
   ]
  },
  {
   "cell_type": "markdown",
   "metadata": {
    "deletable": true,
    "editable": true
   },
   "source": [
    "download intermediates, compute resultparts and put them together"
   ]
  },
  {
   "cell_type": "code",
   "execution_count": 55,
   "metadata": {
    "collapsed": false,
    "deletable": true,
    "editable": true
   },
   "outputs": [],
   "source": [
    "bucket = \"jmue-matrix-tests\"\n",
    "m = {}\n",
    "for key in keys:\n",
    "    obj = s3_client.get_object(Bucket=bucket, Key=key,)\n",
    "    m[key] = np.load(BytesIO(obj['Body'].read()))"
   ]
  },
  {
   "cell_type": "code",
   "execution_count": 56,
   "metadata": {
    "collapsed": false,
    "deletable": true,
    "editable": true
   },
   "outputs": [],
   "source": [
    "Q00 = m['m_0'] + m['m_3'] - m['m_4'] + m['m_6']\n",
    "Q01 = m['m_2'] + m['m_4']\n",
    "Q10 = m['m_1'] + m['m_3']\n",
    "Q11 = m['m_0'] + m['m_2'] - m['m_1'] + m['m_5']"
   ]
  },
  {
   "cell_type": "code",
   "execution_count": 57,
   "metadata": {
    "collapsed": false,
    "deletable": true,
    "editable": true
   },
   "outputs": [
    {
     "name": "stdout",
     "output_type": "stream",
     "text": [
      "[[ 332833500  333333000  333832500 ...,  830835000  831334500  831834000]\n",
      " [ 333333000  333833500  334334000 ...,  832331500  832832000  833332500]\n",
      " [ 582583500  583583000  584582500 ..., 1579085000 1580084500 1581084000]\n",
      " [ 583083000  584083500  585084000 ..., 1580581500 1581582000 1582582500]]\n",
      "('Result of distributed Strassen is correct: ', False)\n"
     ]
    }
   ],
   "source": [
    "S = np.array([np.append(Q00[0], Q01[0]),\n",
    "            np.append(Q00[1], Q01[1]),\n",
    "            np.append(Q10[0], Q11[0]),\n",
    "            np.append(Q10[1], Q11[1])])\n",
    "print S\n",
    "print(\"Result of distributed Strassen is correct: \", np.array_equal(S, sq_m.dot(sq_m)))"
   ]
  },
  {
   "cell_type": "code",
   "execution_count": null,
   "metadata": {
    "collapsed": false,
    "deletable": true,
    "editable": true
   },
   "outputs": [],
   "source": [
    "tmp_obj = s3_client.get_object(\n",
    "    Bucket=bucket,\n",
    "    Key=\"matrix-A-4\"\n",
    ")\n",
    "matA = np.load(BytesIO(tmp_obj['Body'].read()))\n",
    "tmp_obj = s3_client.get_object(\n",
    "    Bucket=bucket,\n",
    "    Key=\"matrix-B-4\"\n",
    ")\n",
    "matB = np.load(BytesIO(tmp_obj['Body'].read()))\n",
    "print(matA.dot(matB))"
   ]
  },
  {
   "cell_type": "code",
   "execution_count": null,
   "metadata": {
    "collapsed": false,
    "deletable": true,
    "editable": true
   },
   "outputs": [],
   "source": []
  },
  {
   "cell_type": "code",
   "execution_count": 60,
   "metadata": {
    "collapsed": false,
    "deletable": true,
    "editable": true
   },
   "outputs": [
    {
     "name": "stdout",
     "output_type": "stream",
     "text": [
      "START RequestId: ff88292e-623d-11e7-8d62-57ebd9a7a348 Version: $LATEST\n",
      "END RequestId: ff88292e-623d-11e7-8d62-57ebd9a7a348\n",
      "REPORT RequestId: ff88292e-623d-11e7-8d62-57ebd9a7a348\tDuration: 9033.93 ms\tBilled Duration: 9100 ms \tMemory Size: 1024 MB\tMax Memory Used: 137 MB\t\n",
      "\n"
     ]
    }
   ],
   "source": [
    "response = lambda_client.invoke(\n",
    "    FunctionName=\"mmultiply-prod-strassen\",\n",
    "    InvocationType='RequestResponse',\n",
    "    LogType='Tail',\n",
    "    Payload=json.dumps({\n",
    "        \"op\": \"collect\",\n",
    "        \"matrix-X\": \"sq-staircase1000\",\n",
    "        \"matrix-Y\": \"sq-staircase1000\",\n",
    "        \"result-bucket\": \"jmue-matrix-tests\",\n",
    "        \"result-name\": \"staircase1000-result\"\n",
    "    })\n",
    ")\n",
    "print base64.b64decode(response['LogResult'])"
   ]
  },
  {
   "cell_type": "code",
   "execution_count": 59,
   "metadata": {
    "collapsed": false,
    "deletable": true,
    "editable": true
   },
   "outputs": [
    {
     "name": "stdout",
     "output_type": "stream",
     "text": [
      "[[ 332833500  333333000  333832500 ...,  830835000  831334500  831834000]\n",
      " [ 333333000  333833500  334334000 ...,  832331500  832832000  833332500]\n",
      " [ 582583500  583583000  584582500 ..., 1579085000 1580084500 1581084000]\n",
      " [ 583083000  584083500  585084000 ..., 1580581500 1581582000 1582582500]]\n"
     ]
    }
   ],
   "source": [
    "tmp_obj = s3_client.get_object(Bucket=bucket, Key=\"staircase1000-result\")\n",
    "matC = np.load(BytesIO(tmp_obj['Body'].read()))\n",
    "print matC"
   ]
  },
  {
   "cell_type": "code",
   "execution_count": null,
   "metadata": {
    "collapsed": true,
    "deletable": true,
    "editable": true
   },
   "outputs": [],
   "source": []
  },
  {
   "cell_type": "code",
   "execution_count": 110,
   "metadata": {
    "collapsed": false,
    "deletable": true,
    "editable": true
   },
   "outputs": [
    {
     "name": "stdout",
     "output_type": "stream",
     "text": [
      "1000000\n"
     ]
    }
   ],
   "source": [
    "tmp_obj = s3_client.get_object(Bucket=bucket, Key=\"manual-result\")\n",
    "m = np.load(BytesIO(tmp_obj['Body'].read()))\n",
    "print m.size"
   ]
  },
  {
   "cell_type": "code",
   "execution_count": 111,
   "metadata": {
    "collapsed": false,
    "deletable": true,
    "editable": true
   },
   "outputs": [
    {
     "name": "stdout",
     "output_type": "stream",
     "text": [
      "('Result of distributed Strassen is correct: ', True)\n"
     ]
    }
   ],
   "source": [
    "print(\"Result of distributed Strassen is correct: \", np.array_equal(m, sq_m.dot(sq_m)))"
   ]
  },
  {
   "cell_type": "code",
   "execution_count": 112,
   "metadata": {
    "collapsed": false,
    "deletable": true,
    "editable": true
   },
   "outputs": [
    {
     "data": {
      "text/plain": [
       "array([[ 332833500,  333333000,  333832500, ...,  830835000,  831334500,\n",
       "         831834000],\n",
       "       [ 333333000,  333833500,  334334000, ...,  832331500,  832832000,\n",
       "         833332500],\n",
       "       [ 333832500,  334334000,  334835500, ...,  833828000,  834329500,\n",
       "         834831000],\n",
       "       ..., \n",
       "       [ 830835000,  832331500,  833828000, ..., 2322845500, 2324342000,\n",
       "        2325838500],\n",
       "       [ 831334500,  832832000,  834329500, ..., 2324342000, 2325839500,\n",
       "        2327337000],\n",
       "       [ 831834000,  833332500,  834831000, ..., 2325838500, 2327337000,\n",
       "        2328835500]])"
      ]
     },
     "execution_count": 112,
     "metadata": {},
     "output_type": "execute_result"
    }
   ],
   "source": [
    "m"
   ]
  },
  {
   "cell_type": "code",
   "execution_count": null,
   "metadata": {
    "collapsed": true,
    "deletable": true,
    "editable": true
   },
   "outputs": [],
   "source": []
  },
  {
   "cell_type": "code",
   "execution_count": 12,
   "metadata": {
    "collapsed": true,
    "deletable": true,
    "editable": true
   },
   "outputs": [],
   "source": [
    "def strassen(X, Y):\n",
    "    M0 = (X[0][0] + X[1][1]) * (Y[0][0] + Y[1][1])\n",
    "    M1 = (X[1][0] + X[1][1]) * Y[0][0]\n",
    "    M2 = X[0][0] * (Y[0][1] - Y[1][1])\n",
    "    M3 = X[1][1] * (Y[1][0] - Y[0][0])\n",
    "    M4 = (X[0][0] + X[0][1]) * Y[1][1]\n",
    "    M5 = (X[1][0] - X[0][0]) * (Y[0][0] + Y[0][1])\n",
    "    M6 = (X[0][1] - X[1][1]) * (Y[1][0] + Y[1][1])\n",
    "    \n",
    "    Q00 = M0 + M3 - M4 + M6\n",
    "    Q01 = M2 + M4\n",
    "    Q10 = M1 + M3\n",
    "    Q11 = M0 + M2 - M1 + M5\n",
    "    \n",
    "    return [[Q00, Q01],\n",
    "           [Q10, Q11]]"
   ]
  },
  {
   "cell_type": "code",
   "execution_count": 13,
   "metadata": {
    "collapsed": false,
    "deletable": true,
    "editable": true
   },
   "outputs": [
    {
     "name": "stdout",
     "output_type": "stream",
     "text": [
      "[[1, 2], [2, 5]]\n"
     ]
    }
   ],
   "source": [
    "A = [[0,1],[1,2]]\n",
    "B = [[0,1],[1,2]]\n",
    "print strassen(A,B)"
   ]
  },
  {
   "cell_type": "code",
   "execution_count": null,
   "metadata": {
    "collapsed": true,
    "deletable": true,
    "editable": true
   },
   "outputs": [],
   "source": []
  }
 ],
 "metadata": {
  "kernelspec": {
   "display_name": "Python 2",
   "language": "python",
   "name": "python2"
  },
  "language_info": {
   "codemirror_mode": {
    "name": "ipython",
    "version": 2
   },
   "file_extension": ".py",
   "mimetype": "text/x-python",
   "name": "python",
   "nbconvert_exporter": "python",
   "pygments_lexer": "ipython2",
   "version": "2.7.13"
  }
 },
 "nbformat": 4,
 "nbformat_minor": 2
}
