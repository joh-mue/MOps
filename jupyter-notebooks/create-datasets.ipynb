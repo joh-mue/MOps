{
 "cells": [
  {
   "cell_type": "code",
   "execution_count": 1,
   "metadata": {
    "collapsed": true,
    "deletable": true,
    "editable": true
   },
   "outputs": [],
   "source": [
    "import numpy as np\n",
    "import scipy.sparse as sps\n",
    "import matplotlib.pyplot as plt\n",
    "import os.path\n",
    "import csv"
   ]
  },
  {
   "cell_type": "code",
   "execution_count": 2,
   "metadata": {
    "collapsed": true,
    "deletable": true,
    "editable": true
   },
   "outputs": [],
   "source": [
    "dataset_path = '/Users/Johannes/Uni/Master/Master Arbeit/datasets/ml-20m/'\n",
    "ratings = os.path.join(dataset_path, 'ratings-sample-4.4M.csv')\n",
    "coo_path = os.path.join(dataset_path, '_coordinate matrix')\n",
    "sr_path = os.path.join(dataset_path, '_row matrix')\n",
    "block_path = os.path.join(dataset_path, '_block matrix')"
   ]
  },
  {
   "cell_type": "code",
   "execution_count": null,
   "metadata": {
    "collapsed": true,
    "deletable": true,
    "editable": true
   },
   "outputs": [],
   "source": []
  },
  {
   "cell_type": "code",
   "execution_count": 57,
   "metadata": {
    "collapsed": false,
    "deletable": true,
    "editable": true
   },
   "outputs": [
    {
     "ename": "KeyboardInterrupt",
     "evalue": "",
     "output_type": "error",
     "traceback": [
      "\u001b[0;31m---------------------------------------------------------------------------\u001b[0m",
      "\u001b[0;31mKeyboardInterrupt\u001b[0m                         Traceback (most recent call last)",
      "\u001b[0;32m<ipython-input-57-aa10679d3e5b>\u001b[0m in \u001b[0;36m<module>\u001b[0;34m()\u001b[0m\n\u001b[1;32m      3\u001b[0m     \u001b[0mreader\u001b[0m \u001b[0;34m=\u001b[0m \u001b[0mcsv\u001b[0m\u001b[0;34m.\u001b[0m\u001b[0mDictReader\u001b[0m\u001b[0;34m(\u001b[0m\u001b[0mratings_file\u001b[0m\u001b[0;34m,\u001b[0m \u001b[0mdelimiter\u001b[0m\u001b[0;34m=\u001b[0m\u001b[0;34m','\u001b[0m\u001b[0;34m)\u001b[0m\u001b[0;34m\u001b[0m\u001b[0m\n\u001b[1;32m      4\u001b[0m     \u001b[0;32mfor\u001b[0m \u001b[0mrow\u001b[0m \u001b[0;32min\u001b[0m \u001b[0mreader\u001b[0m\u001b[0;34m:\u001b[0m\u001b[0;34m\u001b[0m\u001b[0m\n\u001b[0;32m----> 5\u001b[0;31m         \u001b[0;32mwith\u001b[0m \u001b[0mopen\u001b[0m\u001b[0;34m(\u001b[0m\u001b[0mos\u001b[0m\u001b[0;34m.\u001b[0m\u001b[0mpath\u001b[0m\u001b[0;34m.\u001b[0m\u001b[0mjoin\u001b[0m\u001b[0;34m(\u001b[0m\u001b[0mcoo_path\u001b[0m\u001b[0;34m,\u001b[0m \u001b[0mrow\u001b[0m\u001b[0;34m[\u001b[0m\u001b[0;34m'userId'\u001b[0m\u001b[0;34m]\u001b[0m \u001b[0;34m+\u001b[0m \u001b[0;34m\"_\"\u001b[0m \u001b[0;34m+\u001b[0m \u001b[0mrow\u001b[0m\u001b[0;34m[\u001b[0m\u001b[0;34m'movieId'\u001b[0m\u001b[0;34m]\u001b[0m\u001b[0;34m)\u001b[0m\u001b[0;34m,\u001b[0m \u001b[0;34m'w'\u001b[0m\u001b[0;34m)\u001b[0m \u001b[0;32mas\u001b[0m \u001b[0mcoo_file\u001b[0m\u001b[0;34m:\u001b[0m\u001b[0;34m\u001b[0m\u001b[0m\n\u001b[0m\u001b[1;32m      6\u001b[0m             \u001b[0mcoo_file\u001b[0m\u001b[0;34m.\u001b[0m\u001b[0mwrite\u001b[0m\u001b[0;34m(\u001b[0m\u001b[0mrow\u001b[0m\u001b[0;34m[\u001b[0m\u001b[0;34m'rating'\u001b[0m\u001b[0;34m]\u001b[0m\u001b[0;34m)\u001b[0m\u001b[0;34m\u001b[0m\u001b[0m\n",
      "\u001b[0;31mKeyboardInterrupt\u001b[0m: "
     ]
    }
   ],
   "source": [
    "# Coordinate Matrix\n",
    "with open(ratings, 'rb') as ratings_file:\n",
    "    reader = csv.DictReader(ratings_file, delimiter=',')\n",
    "    for row in reader:\n",
    "        with open(os.path.join(coo_path, row['userId'] + \"_\" + row['movieId']), 'w') as coo_file:\n",
    "            coo_file.write(row['rating'])"
   ]
  },
  {
   "cell_type": "code",
   "execution_count": 58,
   "metadata": {
    "collapsed": false,
    "deletable": true,
    "editable": true
   },
   "outputs": [],
   "source": [
    "def write_user_ratings_to_file(user_id, data):\n",
    "    user_ratings_path = os.path.join(sr_path, user_id + \".csv\")\n",
    "    with open(user_ratings_path, 'wb') as ratings_file:\n",
    "        writer = csv.writer(ratings_file)\n",
    "        writer.writerow(['movieId','rating'])\n",
    "        writer.writerows(data)\n",
    "test_data = [[1,2],[1,2],[1,2]]\n",
    "write_user_ratings_to_file('1', test_data)"
   ]
  },
  {
   "cell_type": "code",
   "execution_count": 59,
   "metadata": {
    "collapsed": false,
    "deletable": true,
    "editable": true
   },
   "outputs": [],
   "source": [
    "# Row Matrix\n",
    "with open(ratings, 'rb') as ratings_file:\n",
    "    reader = csv.DictReader(ratings_file, delimiter=',')\n",
    "    current_user_id = \"1\"\n",
    "    user_ratings = []    \n",
    "    for rating in reader:\n",
    "        if rating['userId'] != current_user_id:\n",
    "            write_user_ratings_to_file(current_user_id, user_ratings)\n",
    "            current_user_id = rating['userId']\n",
    "            user_ratings = [[rating['movieId'], rating['rating']]]\n",
    "        else:\n",
    "            user_ratings.append([rating['movieId'], rating['rating']])\n",
    "    write_user_ratings_to_file(current_user_id, user_ratings)\n"
   ]
  },
  {
   "cell_type": "markdown",
   "metadata": {
    "collapsed": true,
    "deletable": true,
    "editable": true
   },
   "source": [
    "### tester for s3 download with pagination"
   ]
  },
  {
   "cell_type": "code",
   "execution_count": 48,
   "metadata": {
    "collapsed": false,
    "deletable": true,
    "editable": true
   },
   "outputs": [],
   "source": [
    "import boto3\n",
    "\n",
    "bucket = 'jmue-s3-benchmark'\n",
    "prefix = 'coordinate_matrix/1_'\n",
    "\n",
    "client = boto3.client('s3', region_name='eu-central-1')\n",
    "paginator = client.get_paginator('list_objects')\n",
    "page_iterator = paginator.paginate(Bucket=bucket,\n",
    "                                   Prefix=prefix)"
   ]
  },
  {
   "cell_type": "code",
   "execution_count": 54,
   "metadata": {
    "collapsed": false,
    "deletable": true,
    "editable": true
   },
   "outputs": [],
   "source": [
    "i = 0\n",
    "pages = []\n",
    "for page in page_iterator:\n",
    "    pages.append(page['Contents'])\n",
    "    i += 1\n",
    "    if i > 15:\n",
    "        break"
   ]
  },
  {
   "cell_type": "code",
   "execution_count": 55,
   "metadata": {
    "collapsed": false
   },
   "outputs": [
    {
     "data": {
      "text/plain": [
       "[u'coordinate_matrix/1_1009',\n",
       " u'coordinate_matrix/1_1036',\n",
       " u'coordinate_matrix/1_1079',\n",
       " u'coordinate_matrix/1_1080',\n",
       " u'coordinate_matrix/1_1089',\n",
       " u'coordinate_matrix/1_1090',\n",
       " u'coordinate_matrix/1_1097',\n",
       " u'coordinate_matrix/1_112',\n",
       " u'coordinate_matrix/1_1136',\n",
       " u'coordinate_matrix/1_1193',\n",
       " u'coordinate_matrix/1_1196',\n",
       " u'coordinate_matrix/1_1198',\n",
       " u'coordinate_matrix/1_1200',\n",
       " u'coordinate_matrix/1_1201',\n",
       " u'coordinate_matrix/1_1208',\n",
       " u'coordinate_matrix/1_1214',\n",
       " u'coordinate_matrix/1_1215',\n",
       " u'coordinate_matrix/1_1217',\n",
       " u'coordinate_matrix/1_1219',\n",
       " u'coordinate_matrix/1_1222',\n",
       " u'coordinate_matrix/1_1240',\n",
       " u'coordinate_matrix/1_1243',\n",
       " u'coordinate_matrix/1_1246',\n",
       " u'coordinate_matrix/1_1249',\n",
       " u'coordinate_matrix/1_1258',\n",
       " u'coordinate_matrix/1_1259',\n",
       " u'coordinate_matrix/1_1261',\n",
       " u'coordinate_matrix/1_1262',\n",
       " u'coordinate_matrix/1_1266',\n",
       " u'coordinate_matrix/1_1278',\n",
       " u'coordinate_matrix/1_1291',\n",
       " u'coordinate_matrix/1_1304',\n",
       " u'coordinate_matrix/1_1321',\n",
       " u'coordinate_matrix/1_1333',\n",
       " u'coordinate_matrix/1_1348',\n",
       " u'coordinate_matrix/1_1350',\n",
       " u'coordinate_matrix/1_1358',\n",
       " u'coordinate_matrix/1_1370',\n",
       " u'coordinate_matrix/1_1374',\n",
       " u'coordinate_matrix/1_1387',\n",
       " u'coordinate_matrix/1_151',\n",
       " u'coordinate_matrix/1_1525',\n",
       " u'coordinate_matrix/1_1584',\n",
       " u'coordinate_matrix/1_1750',\n",
       " u'coordinate_matrix/1_1848',\n",
       " u'coordinate_matrix/1_1920',\n",
       " u'coordinate_matrix/1_1967',\n",
       " u'coordinate_matrix/1_1994',\n",
       " u'coordinate_matrix/1_1997',\n",
       " u'coordinate_matrix/1_2',\n",
       " u'coordinate_matrix/1_2021',\n",
       " u'coordinate_matrix/1_2100',\n",
       " u'coordinate_matrix/1_2118',\n",
       " u'coordinate_matrix/1_2138',\n",
       " u'coordinate_matrix/1_2140',\n",
       " u'coordinate_matrix/1_2143',\n",
       " u'coordinate_matrix/1_2173',\n",
       " u'coordinate_matrix/1_2174',\n",
       " u'coordinate_matrix/1_2193',\n",
       " u'coordinate_matrix/1_2194',\n",
       " u'coordinate_matrix/1_223',\n",
       " u'coordinate_matrix/1_2253',\n",
       " u'coordinate_matrix/1_2288',\n",
       " u'coordinate_matrix/1_2291',\n",
       " u'coordinate_matrix/1_253',\n",
       " u'coordinate_matrix/1_2542',\n",
       " u'coordinate_matrix/1_260',\n",
       " u'coordinate_matrix/1_2628',\n",
       " u'coordinate_matrix/1_2644',\n",
       " u'coordinate_matrix/1_2648',\n",
       " u'coordinate_matrix/1_2664',\n",
       " u'coordinate_matrix/1_2683',\n",
       " u'coordinate_matrix/1_2692',\n",
       " u'coordinate_matrix/1_2716',\n",
       " u'coordinate_matrix/1_2761',\n",
       " u'coordinate_matrix/1_2762',\n",
       " u'coordinate_matrix/1_2804',\n",
       " u'coordinate_matrix/1_2872',\n",
       " u'coordinate_matrix/1_29',\n",
       " u'coordinate_matrix/1_2918',\n",
       " u'coordinate_matrix/1_293',\n",
       " u'coordinate_matrix/1_2944',\n",
       " u'coordinate_matrix/1_2947',\n",
       " u'coordinate_matrix/1_2959',\n",
       " u'coordinate_matrix/1_296',\n",
       " u'coordinate_matrix/1_2968',\n",
       " u'coordinate_matrix/1_3000',\n",
       " u'coordinate_matrix/1_3030',\n",
       " u'coordinate_matrix/1_3037',\n",
       " u'coordinate_matrix/1_3081',\n",
       " u'coordinate_matrix/1_3153',\n",
       " u'coordinate_matrix/1_31696',\n",
       " u'coordinate_matrix/1_318',\n",
       " u'coordinate_matrix/1_32',\n",
       " u'coordinate_matrix/1_3265',\n",
       " u'coordinate_matrix/1_337',\n",
       " u'coordinate_matrix/1_3438',\n",
       " u'coordinate_matrix/1_3476',\n",
       " u'coordinate_matrix/1_3479',\n",
       " u'coordinate_matrix/1_3489',\n",
       " u'coordinate_matrix/1_3499',\n",
       " u'coordinate_matrix/1_367',\n",
       " u'coordinate_matrix/1_3889',\n",
       " u'coordinate_matrix/1_3932',\n",
       " u'coordinate_matrix/1_3996',\n",
       " u'coordinate_matrix/1_3997',\n",
       " u'coordinate_matrix/1_4011',\n",
       " u'coordinate_matrix/1_4027',\n",
       " u'coordinate_matrix/1_4105',\n",
       " u'coordinate_matrix/1_4128',\n",
       " u'coordinate_matrix/1_4133',\n",
       " u'coordinate_matrix/1_4226',\n",
       " u'coordinate_matrix/1_4306',\n",
       " u'coordinate_matrix/1_4446',\n",
       " u'coordinate_matrix/1_4467',\n",
       " u'coordinate_matrix/1_4571',\n",
       " u'coordinate_matrix/1_47',\n",
       " u'coordinate_matrix/1_4720',\n",
       " u'coordinate_matrix/1_4754',\n",
       " u'coordinate_matrix/1_4878',\n",
       " u'coordinate_matrix/1_4896',\n",
       " u'coordinate_matrix/1_4911',\n",
       " u'coordinate_matrix/1_4915',\n",
       " u'coordinate_matrix/1_4941',\n",
       " u'coordinate_matrix/1_4980',\n",
       " u'coordinate_matrix/1_4993',\n",
       " u'coordinate_matrix/1_50',\n",
       " u'coordinate_matrix/1_5026',\n",
       " u'coordinate_matrix/1_5039',\n",
       " u'coordinate_matrix/1_5040',\n",
       " u'coordinate_matrix/1_5146',\n",
       " u'coordinate_matrix/1_5171',\n",
       " u'coordinate_matrix/1_541',\n",
       " u'coordinate_matrix/1_5540',\n",
       " u'coordinate_matrix/1_5679',\n",
       " u'coordinate_matrix/1_5797',\n",
       " u'coordinate_matrix/1_5816',\n",
       " u'coordinate_matrix/1_589',\n",
       " u'coordinate_matrix/1_5898',\n",
       " u'coordinate_matrix/1_593',\n",
       " u'coordinate_matrix/1_5952',\n",
       " u'coordinate_matrix/1_5999',\n",
       " u'coordinate_matrix/1_6093',\n",
       " u'coordinate_matrix/1_6242',\n",
       " u'coordinate_matrix/1_6333',\n",
       " u'coordinate_matrix/1_6502',\n",
       " u'coordinate_matrix/1_653',\n",
       " u'coordinate_matrix/1_6539',\n",
       " u'coordinate_matrix/1_6754',\n",
       " u'coordinate_matrix/1_6755',\n",
       " u'coordinate_matrix/1_6774',\n",
       " u'coordinate_matrix/1_6807',\n",
       " u'coordinate_matrix/1_6834',\n",
       " u'coordinate_matrix/1_6888',\n",
       " u'coordinate_matrix/1_7001',\n",
       " u'coordinate_matrix/1_7045',\n",
       " u'coordinate_matrix/1_7046',\n",
       " u'coordinate_matrix/1_7153',\n",
       " u'coordinate_matrix/1_7164',\n",
       " u'coordinate_matrix/1_7247',\n",
       " u'coordinate_matrix/1_7387',\n",
       " u'coordinate_matrix/1_7389',\n",
       " u'coordinate_matrix/1_7438',\n",
       " u'coordinate_matrix/1_7449',\n",
       " u'coordinate_matrix/1_7454',\n",
       " u'coordinate_matrix/1_7482',\n",
       " u'coordinate_matrix/1_7757',\n",
       " u'coordinate_matrix/1_8368',\n",
       " u'coordinate_matrix/1_8482',\n",
       " u'coordinate_matrix/1_8507',\n",
       " u'coordinate_matrix/1_8636',\n",
       " u'coordinate_matrix/1_8690',\n",
       " u'coordinate_matrix/1_8961',\n",
       " u'coordinate_matrix/1_919',\n",
       " u'coordinate_matrix/1_924']"
      ]
     },
     "execution_count": 55,
     "metadata": {},
     "output_type": "execute_result"
    }
   ],
   "source": [
    "keys = []\n",
    "for page in pages:\n",
    "    for item in page:\n",
    "        keys.append(item['Key'])\n",
    "keys"
   ]
  },
  {
   "cell_type": "markdown",
   "metadata": {},
   "source": [
    "### this is the actual code"
   ]
  },
  {
   "cell_type": "code",
   "execution_count": 1,
   "metadata": {
    "collapsed": true
   },
   "outputs": [],
   "source": [
    "import boto3"
   ]
  },
  {
   "cell_type": "code",
   "execution_count": 15,
   "metadata": {
    "collapsed": true
   },
   "outputs": [],
   "source": [
    "bucket = 'jmue-s3-benchmark'\n",
    "prefix = 'coordinate_matrix/1_'\n",
    "\n",
    "s3_client = boto3.client('s3', region_name='eu-central-1')\n",
    "paginator = s3_client.get_paginator('list_objects')\n",
    "page_iterator = paginator.paginate(Bucket=bucket,\n",
    "                                   Prefix=prefix)"
   ]
  },
  {
   "cell_type": "code",
   "execution_count": 3,
   "metadata": {
    "collapsed": false
   },
   "outputs": [
    {
     "data": {
      "text/plain": [
       "[u'coordinate_matrix/1_1009',\n",
       " u'coordinate_matrix/1_1036',\n",
       " u'coordinate_matrix/1_1079',\n",
       " u'coordinate_matrix/1_1080',\n",
       " u'coordinate_matrix/1_1089',\n",
       " u'coordinate_matrix/1_1090',\n",
       " u'coordinate_matrix/1_1097',\n",
       " u'coordinate_matrix/1_112',\n",
       " u'coordinate_matrix/1_1136',\n",
       " u'coordinate_matrix/1_1193',\n",
       " u'coordinate_matrix/1_1196',\n",
       " u'coordinate_matrix/1_1198',\n",
       " u'coordinate_matrix/1_1200',\n",
       " u'coordinate_matrix/1_1201',\n",
       " u'coordinate_matrix/1_1208',\n",
       " u'coordinate_matrix/1_1214',\n",
       " u'coordinate_matrix/1_1215',\n",
       " u'coordinate_matrix/1_1217',\n",
       " u'coordinate_matrix/1_1219',\n",
       " u'coordinate_matrix/1_1222',\n",
       " u'coordinate_matrix/1_1240',\n",
       " u'coordinate_matrix/1_1243',\n",
       " u'coordinate_matrix/1_1246',\n",
       " u'coordinate_matrix/1_1249',\n",
       " u'coordinate_matrix/1_1258',\n",
       " u'coordinate_matrix/1_1259',\n",
       " u'coordinate_matrix/1_1261',\n",
       " u'coordinate_matrix/1_1262',\n",
       " u'coordinate_matrix/1_1266',\n",
       " u'coordinate_matrix/1_1278',\n",
       " u'coordinate_matrix/1_1291',\n",
       " u'coordinate_matrix/1_1304',\n",
       " u'coordinate_matrix/1_1321',\n",
       " u'coordinate_matrix/1_1333',\n",
       " u'coordinate_matrix/1_1348',\n",
       " u'coordinate_matrix/1_1350',\n",
       " u'coordinate_matrix/1_1358',\n",
       " u'coordinate_matrix/1_1370',\n",
       " u'coordinate_matrix/1_1374',\n",
       " u'coordinate_matrix/1_1387',\n",
       " u'coordinate_matrix/1_151',\n",
       " u'coordinate_matrix/1_1525',\n",
       " u'coordinate_matrix/1_1584',\n",
       " u'coordinate_matrix/1_1750',\n",
       " u'coordinate_matrix/1_1848',\n",
       " u'coordinate_matrix/1_1920',\n",
       " u'coordinate_matrix/1_1967',\n",
       " u'coordinate_matrix/1_1994',\n",
       " u'coordinate_matrix/1_1997',\n",
       " u'coordinate_matrix/1_2',\n",
       " u'coordinate_matrix/1_2021',\n",
       " u'coordinate_matrix/1_2100',\n",
       " u'coordinate_matrix/1_2118',\n",
       " u'coordinate_matrix/1_2138',\n",
       " u'coordinate_matrix/1_2140',\n",
       " u'coordinate_matrix/1_2143',\n",
       " u'coordinate_matrix/1_2173',\n",
       " u'coordinate_matrix/1_2174',\n",
       " u'coordinate_matrix/1_2193',\n",
       " u'coordinate_matrix/1_2194',\n",
       " u'coordinate_matrix/1_223',\n",
       " u'coordinate_matrix/1_2253',\n",
       " u'coordinate_matrix/1_2288',\n",
       " u'coordinate_matrix/1_2291',\n",
       " u'coordinate_matrix/1_253',\n",
       " u'coordinate_matrix/1_2542',\n",
       " u'coordinate_matrix/1_260',\n",
       " u'coordinate_matrix/1_2628',\n",
       " u'coordinate_matrix/1_2644',\n",
       " u'coordinate_matrix/1_2648',\n",
       " u'coordinate_matrix/1_2664',\n",
       " u'coordinate_matrix/1_2683',\n",
       " u'coordinate_matrix/1_2692',\n",
       " u'coordinate_matrix/1_2716',\n",
       " u'coordinate_matrix/1_2761',\n",
       " u'coordinate_matrix/1_2762',\n",
       " u'coordinate_matrix/1_2804',\n",
       " u'coordinate_matrix/1_2872',\n",
       " u'coordinate_matrix/1_29',\n",
       " u'coordinate_matrix/1_2918',\n",
       " u'coordinate_matrix/1_293',\n",
       " u'coordinate_matrix/1_2944',\n",
       " u'coordinate_matrix/1_2947',\n",
       " u'coordinate_matrix/1_2959',\n",
       " u'coordinate_matrix/1_296',\n",
       " u'coordinate_matrix/1_2968',\n",
       " u'coordinate_matrix/1_3000',\n",
       " u'coordinate_matrix/1_3030',\n",
       " u'coordinate_matrix/1_3037',\n",
       " u'coordinate_matrix/1_3081',\n",
       " u'coordinate_matrix/1_3153',\n",
       " u'coordinate_matrix/1_31696',\n",
       " u'coordinate_matrix/1_318',\n",
       " u'coordinate_matrix/1_32',\n",
       " u'coordinate_matrix/1_3265',\n",
       " u'coordinate_matrix/1_337',\n",
       " u'coordinate_matrix/1_3438',\n",
       " u'coordinate_matrix/1_3476',\n",
       " u'coordinate_matrix/1_3479',\n",
       " u'coordinate_matrix/1_3489',\n",
       " u'coordinate_matrix/1_3499',\n",
       " u'coordinate_matrix/1_367',\n",
       " u'coordinate_matrix/1_3889',\n",
       " u'coordinate_matrix/1_3932',\n",
       " u'coordinate_matrix/1_3996',\n",
       " u'coordinate_matrix/1_3997',\n",
       " u'coordinate_matrix/1_4011',\n",
       " u'coordinate_matrix/1_4027',\n",
       " u'coordinate_matrix/1_4105',\n",
       " u'coordinate_matrix/1_4128',\n",
       " u'coordinate_matrix/1_4133',\n",
       " u'coordinate_matrix/1_4226',\n",
       " u'coordinate_matrix/1_4306',\n",
       " u'coordinate_matrix/1_4446',\n",
       " u'coordinate_matrix/1_4467',\n",
       " u'coordinate_matrix/1_4571',\n",
       " u'coordinate_matrix/1_47',\n",
       " u'coordinate_matrix/1_4720',\n",
       " u'coordinate_matrix/1_4754',\n",
       " u'coordinate_matrix/1_4878',\n",
       " u'coordinate_matrix/1_4896',\n",
       " u'coordinate_matrix/1_4911',\n",
       " u'coordinate_matrix/1_4915',\n",
       " u'coordinate_matrix/1_4941',\n",
       " u'coordinate_matrix/1_4980',\n",
       " u'coordinate_matrix/1_4993',\n",
       " u'coordinate_matrix/1_50',\n",
       " u'coordinate_matrix/1_5026',\n",
       " u'coordinate_matrix/1_5039',\n",
       " u'coordinate_matrix/1_5040',\n",
       " u'coordinate_matrix/1_5146',\n",
       " u'coordinate_matrix/1_5171',\n",
       " u'coordinate_matrix/1_541',\n",
       " u'coordinate_matrix/1_5540',\n",
       " u'coordinate_matrix/1_5679',\n",
       " u'coordinate_matrix/1_5797',\n",
       " u'coordinate_matrix/1_5816',\n",
       " u'coordinate_matrix/1_589',\n",
       " u'coordinate_matrix/1_5898',\n",
       " u'coordinate_matrix/1_593',\n",
       " u'coordinate_matrix/1_5952',\n",
       " u'coordinate_matrix/1_5999',\n",
       " u'coordinate_matrix/1_6093',\n",
       " u'coordinate_matrix/1_6242',\n",
       " u'coordinate_matrix/1_6333',\n",
       " u'coordinate_matrix/1_6502',\n",
       " u'coordinate_matrix/1_653',\n",
       " u'coordinate_matrix/1_6539',\n",
       " u'coordinate_matrix/1_6754',\n",
       " u'coordinate_matrix/1_6755',\n",
       " u'coordinate_matrix/1_6774',\n",
       " u'coordinate_matrix/1_6807',\n",
       " u'coordinate_matrix/1_6834',\n",
       " u'coordinate_matrix/1_6888',\n",
       " u'coordinate_matrix/1_7001',\n",
       " u'coordinate_matrix/1_7045',\n",
       " u'coordinate_matrix/1_7046',\n",
       " u'coordinate_matrix/1_7153',\n",
       " u'coordinate_matrix/1_7164',\n",
       " u'coordinate_matrix/1_7247',\n",
       " u'coordinate_matrix/1_7387',\n",
       " u'coordinate_matrix/1_7389',\n",
       " u'coordinate_matrix/1_7438',\n",
       " u'coordinate_matrix/1_7449',\n",
       " u'coordinate_matrix/1_7454',\n",
       " u'coordinate_matrix/1_7482',\n",
       " u'coordinate_matrix/1_7757',\n",
       " u'coordinate_matrix/1_8368',\n",
       " u'coordinate_matrix/1_8482',\n",
       " u'coordinate_matrix/1_8507',\n",
       " u'coordinate_matrix/1_8636',\n",
       " u'coordinate_matrix/1_8690',\n",
       " u'coordinate_matrix/1_8961',\n",
       " u'coordinate_matrix/1_919',\n",
       " u'coordinate_matrix/1_924']"
      ]
     },
     "execution_count": 3,
     "metadata": {},
     "output_type": "execute_result"
    }
   ],
   "source": [
    "keys = []\n",
    "for page in page_iterator:\n",
    "    for item in page['Contents']:\n",
    "        keys.append(item['Key'])\n",
    "keys"
   ]
  },
  {
   "cell_type": "code",
   "execution_count": 12,
   "metadata": {
    "collapsed": true
   },
   "outputs": [],
   "source": [
    "def download_user_ratings(user_id):\n",
    "    '''Download from coordinate matrix'''\n",
    "    bucket = 'jmue-s3-benchmark'\n",
    "    prefix = 'coordinate_matrix/' + str(user_id) + '_'\n",
    "\n",
    "    s3_client = boto3.client('s3', region_name='eu-central-1')\n",
    "    paginator = s3_client.get_paginator('list_objects')\n",
    "    page_iterator = paginator.paginate(Bucket=bucket,\n",
    "                                       Prefix=prefix)\n",
    "    keys = []\n",
    "    for page in page_iterator:\n",
    "        for item in page['Contents']:\n",
    "            keys.append(item['Key'])\n",
    "            \n",
    "    # TODO: make sure the directory exists! /tmp/coordinate_matrix...\n",
    "    for key in keys:\n",
    "        s3_client.download_file('jmue-s3-benchmark', key, '/tmp/' + str(key) + '.csv')"
   ]
  },
  {
   "cell_type": "code",
   "execution_count": 5,
   "metadata": {
    "collapsed": false
   },
   "outputs": [],
   "source": [
    "download_user_ratings(1)"
   ]
  },
  {
   "cell_type": "code",
   "execution_count": 31,
   "metadata": {
    "collapsed": false
   },
   "outputs": [],
   "source": [
    "def download_row(user_id):\n",
    "    bucket = 'jmue-s3-benchmark'\n",
    "    key = 'row_matrix/' + str(user_id) + '.csv'\n",
    "    s3_client.download_file(bucket, key, '/tmp/' + str(key))"
   ]
  },
  {
   "cell_type": "code",
   "execution_count": 34,
   "metadata": {
    "collapsed": false
   },
   "outputs": [],
   "source": [
    "download_row(user_id=5)"
   ]
  },
  {
   "cell_type": "code",
   "execution_count": null,
   "metadata": {
    "collapsed": true
   },
   "outputs": [],
   "source": []
  },
  {
   "cell_type": "code",
   "execution_count": null,
   "metadata": {
    "collapsed": true
   },
   "outputs": [],
   "source": []
  },
  {
   "cell_type": "code",
   "execution_count": 9,
   "metadata": {
    "collapsed": true
   },
   "outputs": [],
   "source": [
    "# TODO: implement\n",
    "def download_rows(number_of_rows):\n",
    "    '''Download from coordinate matrix'''\n",
    "    bucket = 'jmue-s3-benchmark'\n",
    "    prefix = 'row_matrix/'\n",
    "\n",
    "    paginator = s3_client.get_paginator('list_objects')\n",
    "    page_iterator = paginator.paginate(Bucket=bucket, Prefix=prefix)\n",
    "    \n",
    "    keys = []\n",
    "    for page in page_iterator:\n",
    "        for item in page['Contents']:\n",
    "            keys.append(item['Key'])\n",
    "    for key in keys:\n",
    "        s3_client.download_file(bucket, key, '/tmp/' + str(key) + '.csv')\n",
    "    "
   ]
  },
  {
   "cell_type": "code",
   "execution_count": null,
   "metadata": {
    "collapsed": true
   },
   "outputs": [],
   "source": []
  }
 ],
 "metadata": {
  "kernelspec": {
   "display_name": "Python 2",
   "language": "python",
   "name": "python2"
  },
  "language_info": {
   "codemirror_mode": {
    "name": "ipython",
    "version": 2
   },
   "file_extension": ".py",
   "mimetype": "text/x-python",
   "name": "python",
   "nbconvert_exporter": "python",
   "pygments_lexer": "ipython2",
   "version": "2.7.13"
  }
 },
 "nbformat": 4,
 "nbformat_minor": 2
}
