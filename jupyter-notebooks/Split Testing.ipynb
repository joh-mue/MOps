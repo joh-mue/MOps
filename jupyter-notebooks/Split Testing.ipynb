{
 "cells": [
  {
   "cell_type": "code",
   "execution_count": 74,
   "metadata": {},
   "outputs": [],
   "source": [
    "# automatically reload the libraries from time_profiling.py\n",
    "import os\n",
    "import sys\n",
    "module_path = os.path.abspath(os.path.join('/Users/Johannes/Uni/Master/Master Arbeit/repos/matrix-operations'))\n",
    "if module_path not in sys.path:\n",
    "    sys.path.append(module_path)\n",
    "from split import Split\n",
    "%reload_ext autoreload\n",
    "%autoreload 2"
   ]
  },
  {
   "cell_type": "code",
   "execution_count": 75,
   "metadata": {
    "collapsed": true
   },
   "outputs": [],
   "source": [
    "from collections import namedtuple\n",
    "\n",
    "MatrixDimensions = namedtuple('MatrixDimensions', ['height', 'width'])"
   ]
  },
  {
   "cell_type": "code",
   "execution_count": 103,
   "metadata": {},
   "outputs": [],
   "source": [
    "BUCKET = 'jmue-multiplication-benchmarks'\n",
    "name_matrixA = \"sq_8kx8k_bs{}k\".format(bl)\n",
    "name_matrixB = \"sq_8kx8k_bs{}k-2\"\n",
    "block_size = 2000\n",
    "matrix_dimensions = MatrixDimensions(8000,8000)\n",
    "split_size = block_size * 2"
   ]
  },
  {
   "cell_type": "code",
   "execution_count": 109,
   "metadata": {
    "collapsed": true
   },
   "outputs": [],
   "source": [
    "event = {\n",
    "    'state-machine-name': \"state_machine_name\",\n",
    "            'executionName': \"executionName\",\n",
    "            'matA': {\n",
    "                'bucket': BUCKET,\n",
    "                'folder': name_matrixA,\n",
    "                'block-size': block_size,\n",
    "                'rows': matrix_dimensions.height,\n",
    "                'columns': matrix_dimensions.width\n",
    "            },\n",
    "            'matB': {\n",
    "                'bucket': BUCKET,\n",
    "                'folder': name_matrixB,\n",
    "                'block-size': block_size,\n",
    "                'rows': matrix_dimensions.height,\n",
    "                'columns': matrix_dimensions.height\n",
    "            },\n",
    "            'result': {\n",
    "                'bucket': BUCKET,\n",
    "                'folder': name_matrixA + '-result',\n",
    "                'block-size': block_size,\n",
    "                \"split\": {\n",
    "                    'x': 0,\n",
    "                    'y': 0\n",
    "                }\n",
    "            },\n",
    "            'split-size': block_size * 2,\n",
    "            'split': 1,\n",
    "            'unit': 1\n",
    "        }"
   ]
  },
  {
   "cell_type": "code",
   "execution_count": 105,
   "metadata": {},
   "outputs": [],
   "source": [
    "result_split = Split(event['result'], event['result']['split'], event['split-size'])"
   ]
  },
  {
   "cell_type": "code",
   "execution_count": 106,
   "metadata": {},
   "outputs": [
    {
     "name": "stdout",
     "output_type": "stream",
     "text": [
      "{\"y\": 0, \"x\": 0, \"block_size\": 2000, \"matrix\": \"jmue-multiplication-benchmarks/sq_8kx8k_bs4k-result\", \"split_size\": 4000}\n"
     ]
    }
   ],
   "source": [
    "print result_split"
   ]
  },
  {
   "cell_type": "code",
   "execution_count": 107,
   "metadata": {},
   "outputs": [
    {
     "name": "stdout",
     "output_type": "stream",
     "text": [
      "{\"y\": 0, \"x\": 0, \"block_size\": 2000, \"matrix\": \"jmue-multiplication-benchmarks/sq_8kx8k_bs4k\", \"split_size\": 4000}\n",
      "{\"y\": 0, \"x\": 0, \"block_size\": 2000, \"matrix\": \"jmue-multiplication-benchmarks/sq_8kx8k_bs4k-2\", \"split_size\": 4000}\n"
     ]
    }
   ],
   "source": [
    "left_split = Split.left_inputsplit_for(event['matA'], result_split, event['unit'])\n",
    "right_split = Split.right_inputsplit_for(event['matB'], result_split, event['unit'])\n",
    "print left_split\n",
    "print right_split"
   ]
  },
  {
   "cell_type": "code",
   "execution_count": 108,
   "metadata": {},
   "outputs": [
    {
     "name": "stdout",
     "output_type": "stream",
     "text": [
      "m_1_1.npy\n",
      "4000\n",
      "(4000, 4000)\n"
     ]
    }
   ],
   "source": [
    "loaded = left_split.block(1,1)"
   ]
  },
  {
   "cell_type": "code",
   "execution_count": null,
   "metadata": {},
   "outputs": [],
   "source": []
  },
  {
   "cell_type": "markdown",
   "metadata": {},
   "source": [
    "## Does blocksize affect download time?"
   ]
  },
  {
   "cell_type": "code",
   "execution_count": 33,
   "metadata": {
    "collapsed": true
   },
   "outputs": [],
   "source": [
    "import numpy as np\n",
    "import boto3"
   ]
  },
  {
   "cell_type": "code",
   "execution_count": 34,
   "metadata": {
    "collapsed": true
   },
   "outputs": [],
   "source": [
    "s3_client = boto3.client('s3')"
   ]
  },
  {
   "cell_type": "code",
   "execution_count": null,
   "metadata": {
    "collapsed": true
   },
   "outputs": [],
   "source": [
    "# 4 * 122.1MB\n",
    "'jmue-multiplication-benchmarks/sq_8kx8k_bs4k', range(0,2)\n",
    "\n",
    "# 16 * 7,6MB\n",
    "'jmue-multiplication-benchmarks/sq_8kx8k_bs1k', range(0,8)"
   ]
  },
  {
   "cell_type": "code",
   "execution_count": 36,
   "metadata": {
    "collapsed": true
   },
   "outputs": [],
   "source": [
    "bucket = 'jmue-multiplication-benchmarks'"
   ]
  },
  {
   "cell_type": "code",
   "execution_count": 42,
   "metadata": {
    "collapsed": true
   },
   "outputs": [],
   "source": [
    "def download_all_parts(indeces, matrix_name):\n",
    "    for i in indeces:\n",
    "        for j in indeces:\n",
    "            with open('/tmp/tmp_filename', 'wb') as data:\n",
    "                key = \"{}/m_{}_{}.npy\".format(matrix_name, i, j)\n",
    "                s3_client.download_fileobj(bucket, key, data)"
   ]
  },
  {
   "cell_type": "code",
   "execution_count": null,
   "metadata": {
    "collapsed": true
   },
   "outputs": [],
   "source": []
  },
  {
   "cell_type": "code",
   "execution_count": 47,
   "metadata": {},
   "outputs": [
    {
     "name": "stdout",
     "output_type": "stream",
     "text": [
      "CPU times: user 3.61 s, sys: 3.6 s, total: 7.21 s\n",
      "Wall time: 55.1 s\n"
     ]
    }
   ],
   "source": [
    "%%time\n",
    "download_all_parts(range(0,8), 'sq_8kx8k_bs1k')"
   ]
  },
  {
   "cell_type": "markdown",
   "metadata": {},
   "source": [
    "CPU times: user 3.17 s, sys: 3.22 s, total: 6.39 s\n",
    "Wall time: 54.2 s\n",
    "\n",
    "CPU times: user 3.61 s, sys: 3.6 s, total: 7.21 s\n",
    "Wall time: 55.1 s"
   ]
  },
  {
   "cell_type": "code",
   "execution_count": 48,
   "metadata": {},
   "outputs": [
    {
     "name": "stdout",
     "output_type": "stream",
     "text": [
      "CPU times: user 3.77 s, sys: 4.58 s, total: 8.35 s\n",
      "Wall time: 29.4 s\n"
     ]
    }
   ],
   "source": [
    "%%time\n",
    "download_all_parts(range(0,2), 'sq_8kx8k_bs4k')"
   ]
  },
  {
   "cell_type": "markdown",
   "metadata": {},
   "source": [
    "CPU times: user 3.62 s, sys: 4.54 s, total: 8.16 s\n",
    "Wall time: 28.9 s\n",
    "\n",
    "CPU times: user 3.77 s, sys: 4.58 s, total: 8.35 s\n",
    "Wall time: 29.4 s"
   ]
  },
  {
   "cell_type": "code",
   "execution_count": null,
   "metadata": {
    "collapsed": true
   },
   "outputs": [],
   "source": []
  }
 ],
 "metadata": {
  "kernelspec": {
   "display_name": "Python 2",
   "language": "python",
   "name": "python2"
  },
  "language_info": {
   "codemirror_mode": {
    "name": "ipython",
    "version": 2
   },
   "file_extension": ".py",
   "mimetype": "text/x-python",
   "name": "python",
   "nbconvert_exporter": "python",
   "pygments_lexer": "ipython2",
   "version": "2.7.14"
  }
 },
 "nbformat": 4,
 "nbformat_minor": 2
}
