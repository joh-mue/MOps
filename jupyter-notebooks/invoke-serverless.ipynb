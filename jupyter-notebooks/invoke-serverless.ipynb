{
 "cells": [
  {
   "cell_type": "code",
   "execution_count": 74,
   "metadata": {
    "collapsed": false,
    "deletable": true,
    "editable": true
   },
   "outputs": [],
   "source": [
    "import boto3\n",
    "import json"
   ]
  },
  {
   "cell_type": "code",
   "execution_count": 75,
   "metadata": {
    "collapsed": false,
    "deletable": true,
    "editable": true
   },
   "outputs": [],
   "source": [
    "lambda_client = boto3.client('lambda')"
   ]
  },
  {
   "cell_type": "code",
   "execution_count": 76,
   "metadata": {
    "collapsed": false,
    "deletable": true,
    "editable": true
   },
   "outputs": [],
   "source": [
    "response = lambda_client.invoke(\n",
    "    FunctionName=\"mmultiply-prod-cellcalc\",\n",
    "    InvocationType='RequestResponse',\n",
    "    LogType='Tail',\n",
    "    Payload=json.dumps({\n",
    "        \"column\": 35,\n",
    "        \"row\": 35,\n",
    "        \"matrix-a-key\": \"test-matrix-C-100\",\n",
    "        \"matrix-b-key\": \"test-matrix-C-100\",\n",
    "        \"bucket\": \"jmue-matrix-tests\"\n",
    "    })\n",
    ")"
   ]
  },
  {
   "cell_type": "code",
   "execution_count": 77,
   "metadata": {
    "collapsed": false,
    "deletable": true,
    "editable": true
   },
   "outputs": [
    {
     "data": {
      "text/plain": [
       "{u'FunctionError': 'Unhandled',\n",
       " u'LogResult': 'U1RBUlQgUmVxdWVzdElkOiBiNzM2OGVkNS0xZmJmLTExZTctYmYzNy1kNzNkMDg5Y2VhODMgVmVyc2lvbjogJExBVEVTVAonbWF0cml4X2EnOiBLZXlFcnJvcgpUcmFjZWJhY2sgKG1vc3QgcmVjZW50IGNhbGwgbGFzdCk6CiAgRmlsZSAiL3Zhci90YXNrL2NlbGxjYWxjLnB5IiwgbGluZSAxOSwgaW4gaGFuZGxlcgogICAgbWF0cml4X2EgPSBldmVudFsnbWF0cml4X2EnXQpLZXlFcnJvcjogJ21hdHJpeF9hJwoKRU5EIFJlcXVlc3RJZDogYjczNjhlZDUtMWZiZi0xMWU3LWJmMzctZDczZDA4OWNlYTgzClJFUE9SVCBSZXF1ZXN0SWQ6IGI3MzY4ZWQ1LTFmYmYtMTFlNy1iZjM3LWQ3M2QwODljZWE4MwlEdXJhdGlvbjogMC41NyBtcwlCaWxsZWQgRHVyYXRpb246IDEwMCBtcyAJTWVtb3J5IFNpemU6IDI1NiBNQglNYXggTWVtb3J5IFVzZWQ6IDMyIE1CCQo=',\n",
       " u'Payload': <botocore.response.StreamingBody at 0x108182490>,\n",
       " 'ResponseMetadata': {'HTTPHeaders': {'connection': 'keep-alive',\n",
       "   'content-length': '145',\n",
       "   'content-type': 'application/json',\n",
       "   'date': 'Wed, 12 Apr 2017 20:36:33 GMT',\n",
       "   'x-amz-function-error': 'Unhandled',\n",
       "   'x-amz-log-result': 'U1RBUlQgUmVxdWVzdElkOiBiNzM2OGVkNS0xZmJmLTExZTctYmYzNy1kNzNkMDg5Y2VhODMgVmVyc2lvbjogJExBVEVTVAonbWF0cml4X2EnOiBLZXlFcnJvcgpUcmFjZWJhY2sgKG1vc3QgcmVjZW50IGNhbGwgbGFzdCk6CiAgRmlsZSAiL3Zhci90YXNrL2NlbGxjYWxjLnB5IiwgbGluZSAxOSwgaW4gaGFuZGxlcgogICAgbWF0cml4X2EgPSBldmVudFsnbWF0cml4X2EnXQpLZXlFcnJvcjogJ21hdHJpeF9hJwoKRU5EIFJlcXVlc3RJZDogYjczNjhlZDUtMWZiZi0xMWU3LWJmMzctZDczZDA4OWNlYTgzClJFUE9SVCBSZXF1ZXN0SWQ6IGI3MzY4ZWQ1LTFmYmYtMTFlNy1iZjM3LWQ3M2QwODljZWE4MwlEdXJhdGlvbjogMC41NyBtcwlCaWxsZWQgRHVyYXRpb246IDEwMCBtcyAJTWVtb3J5IFNpemU6IDI1NiBNQglNYXggTWVtb3J5IFVzZWQ6IDMyIE1CCQo=',\n",
       "   'x-amzn-remapped-content-length': '0',\n",
       "   'x-amzn-requestid': 'b7368ed5-1fbf-11e7-bf37-d73d089cea83'},\n",
       "  'HTTPStatusCode': 200,\n",
       "  'RequestId': 'b7368ed5-1fbf-11e7-bf37-d73d089cea83',\n",
       "  'RetryAttempts': 0},\n",
       " u'StatusCode': 200}"
      ]
     },
     "execution_count": 77,
     "metadata": {},
     "output_type": "execute_result"
    }
   ],
   "source": [
    "response"
   ]
  },
  {
   "cell_type": "code",
   "execution_count": 78,
   "metadata": {
    "collapsed": false,
    "deletable": true,
    "editable": true
   },
   "outputs": [],
   "source": [
    "result = response['Payload'].read()"
   ]
  },
  {
   "cell_type": "code",
   "execution_count": 79,
   "metadata": {
    "collapsed": false,
    "deletable": true,
    "editable": true
   },
   "outputs": [
    {
     "data": {
      "text/plain": [
       "'{\"stackTrace\": [[\"/var/task/cellcalc.py\", 19, \"handler\", \"matrix_a = event[\\'matrix_a\\']\"]], \"errorType\": \"KeyError\", \"errorMessage\": \"\\'matrix_a\\'\"}'"
      ]
     },
     "execution_count": 79,
     "metadata": {},
     "output_type": "execute_result"
    }
   ],
   "source": [
    "result"
   ]
  },
  {
   "cell_type": "code",
   "execution_count": 80,
   "metadata": {
    "collapsed": true,
    "deletable": true,
    "editable": true
   },
   "outputs": [],
   "source": [
    "import base64"
   ]
  },
  {
   "cell_type": "code",
   "execution_count": 81,
   "metadata": {
    "collapsed": false,
    "deletable": true,
    "editable": true,
    "scrolled": false
   },
   "outputs": [
    {
     "name": "stdout",
     "output_type": "stream",
     "text": [
      "START RequestId: b7368ed5-1fbf-11e7-bf37-d73d089cea83 Version: $LATEST\n",
      "'matrix_a': KeyError\n",
      "Traceback (most recent call last):\n",
      "  File \"/var/task/cellcalc.py\", line 19, in handler\n",
      "    matrix_a = event['matrix_a']\n",
      "KeyError: 'matrix_a'\n",
      "\n",
      "END RequestId: b7368ed5-1fbf-11e7-bf37-d73d089cea83\n",
      "REPORT RequestId: b7368ed5-1fbf-11e7-bf37-d73d089cea83\tDuration: 0.57 ms\tBilled Duration: 100 ms \tMemory Size: 256 MB\tMax Memory Used: 32 MB\t\n",
      "\n"
     ]
    }
   ],
   "source": [
    "print base64.b64decode(response['LogResult'])"
   ]
  },
  {
   "cell_type": "code",
   "execution_count": null,
   "metadata": {
    "collapsed": true,
    "deletable": true,
    "editable": true
   },
   "outputs": [],
   "source": []
  }
 ],
 "metadata": {
  "kernelspec": {
   "display_name": "Python 2",
   "language": "python",
   "name": "python2"
  },
  "language_info": {
   "codemirror_mode": {
    "name": "ipython",
    "version": 2
   },
   "file_extension": ".py",
   "mimetype": "text/x-python",
   "name": "python",
   "nbconvert_exporter": "python",
   "pygments_lexer": "ipython2",
   "version": "2.7.13"
  }
 },
 "nbformat": 4,
 "nbformat_minor": 2
}
