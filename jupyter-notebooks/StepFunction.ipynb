{
 "cells": [
  {
   "cell_type": "code",
   "execution_count": 44,
   "metadata": {
    "collapsed": true
   },
   "outputs": [],
   "source": [
    "import boto3\n",
    "import json"
   ]
  },
  {
   "cell_type": "code",
   "execution_count": 45,
   "metadata": {
    "collapsed": false
   },
   "outputs": [],
   "source": [
    "sfn_client = boto3.client('stepfunctions')"
   ]
  },
  {
   "cell_type": "code",
   "execution_count": 46,
   "metadata": {
    "collapsed": false
   },
   "outputs": [],
   "source": [
    "intermediate_input = {\n",
    "    \"matA\": {\n",
    "        \"bucket\": \"jmue-matrix-tests\",\n",
    "        \"key\": \"sq-staircase1000\"\n",
    "    },\n",
    "    \"matB\": {\n",
    "        \"bucket\": \"jmue-matrix-tests\",\n",
    "        \"key\": \"sq-staircase1000\"\n",
    "    },\n",
    "    \"result\": {\n",
    "        \"bucket\": \"jmue-matrix-tests\",\n",
    "        \"key\": \"staircase1000-result\"\n",
    "    },\n",
    "    \"intermediate\": \"m_*\"\n",
    "}"
   ]
  },
  {
   "cell_type": "code",
   "execution_count": 47,
   "metadata": {
    "collapsed": false
   },
   "outputs": [],
   "source": [
    "collector_input = {\n",
    "    \"result\": {\n",
    "        \"bucket\": \"jmue-matrix-tests\",\n",
    "        \"key\": \"staircase1000-result\"\n",
    "    }\n",
    "}"
   ]
  },
  {
   "cell_type": "code",
   "execution_count": 48,
   "metadata": {
    "collapsed": false
   },
   "outputs": [],
   "source": [
    "with open('/Users/Johannes/Uni/Master/Master Arbeit/repos/matrix-operations/strassen-sfn.asl', 'r') as file:\n",
    "    asl = file.read()"
   ]
  },
  {
   "cell_type": "code",
   "execution_count": 54,
   "metadata": {
    "collapsed": false
   },
   "outputs": [
    {
     "ename": "ClientError",
     "evalue": "An error occurred (AccessDeniedException) when calling the CreateStateMachine operation: User: arn:aws:iam::146904559692:user/CLI is not authorized to perform: states:CreateStateMachine on resource: arn:aws:states:eu-central-1:146904559692:*",
     "output_type": "error",
     "traceback": [
      "\u001b[0;31m---------------------------------------------------------------------------\u001b[0m",
      "\u001b[0;31mClientError\u001b[0m                               Traceback (most recent call last)",
      "\u001b[0;32m<ipython-input-54-6d78fbedf674>\u001b[0m in \u001b[0;36m<module>\u001b[0;34m()\u001b[0m\n\u001b[1;32m      2\u001b[0m \u001b[0mdefinition\u001b[0m \u001b[0;34m=\u001b[0m \u001b[0masl\u001b[0m\u001b[0;34m\u001b[0m\u001b[0m\n\u001b[1;32m      3\u001b[0m \u001b[0marn\u001b[0m \u001b[0;34m=\u001b[0m \u001b[0;34m'arn:aws:iam::146904559692:role/StepFunctionRole'\u001b[0m\u001b[0;34m\u001b[0m\u001b[0m\n\u001b[0;32m----> 4\u001b[0;31m \u001b[0mresponse\u001b[0m \u001b[0;34m=\u001b[0m \u001b[0msfn_client\u001b[0m\u001b[0;34m.\u001b[0m\u001b[0mcreate_state_machine\u001b[0m\u001b[0;34m(\u001b[0m\u001b[0mname\u001b[0m\u001b[0;34m=\u001b[0m\u001b[0;34m\"StrassenStateMachine\"\u001b[0m\u001b[0;34m,\u001b[0m \u001b[0mdefinition\u001b[0m\u001b[0;34m=\u001b[0m\u001b[0masl\u001b[0m\u001b[0;34m,\u001b[0m \u001b[0mroleArn\u001b[0m\u001b[0;34m=\u001b[0m\u001b[0marn\u001b[0m\u001b[0;34m)\u001b[0m\u001b[0;34m\u001b[0m\u001b[0m\n\u001b[0m",
      "\u001b[0;32m/usr/local/lib/python2.7/site-packages/botocore/client.pyc\u001b[0m in \u001b[0;36m_api_call\u001b[0;34m(self, *args, **kwargs)\u001b[0m\n\u001b[1;32m    308\u001b[0m                     \"%s() only accepts keyword arguments.\" % py_operation_name)\n\u001b[1;32m    309\u001b[0m             \u001b[0;31m# The \"self\" in this scope is referring to the BaseClient.\u001b[0m\u001b[0;34m\u001b[0m\u001b[0;34m\u001b[0m\u001b[0m\n\u001b[0;32m--> 310\u001b[0;31m             \u001b[0;32mreturn\u001b[0m \u001b[0mself\u001b[0m\u001b[0;34m.\u001b[0m\u001b[0m_make_api_call\u001b[0m\u001b[0;34m(\u001b[0m\u001b[0moperation_name\u001b[0m\u001b[0;34m,\u001b[0m \u001b[0mkwargs\u001b[0m\u001b[0;34m)\u001b[0m\u001b[0;34m\u001b[0m\u001b[0m\n\u001b[0m\u001b[1;32m    311\u001b[0m \u001b[0;34m\u001b[0m\u001b[0m\n\u001b[1;32m    312\u001b[0m         \u001b[0m_api_call\u001b[0m\u001b[0;34m.\u001b[0m\u001b[0m__name__\u001b[0m \u001b[0;34m=\u001b[0m \u001b[0mstr\u001b[0m\u001b[0;34m(\u001b[0m\u001b[0mpy_operation_name\u001b[0m\u001b[0;34m)\u001b[0m\u001b[0;34m\u001b[0m\u001b[0m\n",
      "\u001b[0;32m/usr/local/lib/python2.7/site-packages/botocore/client.pyc\u001b[0m in \u001b[0;36m_make_api_call\u001b[0;34m(self, operation_name, api_params)\u001b[0m\n\u001b[1;32m    597\u001b[0m             \u001b[0merror_code\u001b[0m \u001b[0;34m=\u001b[0m \u001b[0mparsed_response\u001b[0m\u001b[0;34m.\u001b[0m\u001b[0mget\u001b[0m\u001b[0;34m(\u001b[0m\u001b[0;34m\"Error\"\u001b[0m\u001b[0;34m,\u001b[0m \u001b[0;34m{\u001b[0m\u001b[0;34m}\u001b[0m\u001b[0;34m)\u001b[0m\u001b[0;34m.\u001b[0m\u001b[0mget\u001b[0m\u001b[0;34m(\u001b[0m\u001b[0;34m\"Code\"\u001b[0m\u001b[0;34m)\u001b[0m\u001b[0;34m\u001b[0m\u001b[0m\n\u001b[1;32m    598\u001b[0m             \u001b[0merror_class\u001b[0m \u001b[0;34m=\u001b[0m \u001b[0mself\u001b[0m\u001b[0;34m.\u001b[0m\u001b[0mexceptions\u001b[0m\u001b[0;34m.\u001b[0m\u001b[0mfrom_code\u001b[0m\u001b[0;34m(\u001b[0m\u001b[0merror_code\u001b[0m\u001b[0;34m)\u001b[0m\u001b[0;34m\u001b[0m\u001b[0m\n\u001b[0;32m--> 599\u001b[0;31m             \u001b[0;32mraise\u001b[0m \u001b[0merror_class\u001b[0m\u001b[0;34m(\u001b[0m\u001b[0mparsed_response\u001b[0m\u001b[0;34m,\u001b[0m \u001b[0moperation_name\u001b[0m\u001b[0;34m)\u001b[0m\u001b[0;34m\u001b[0m\u001b[0m\n\u001b[0m\u001b[1;32m    600\u001b[0m         \u001b[0;32melse\u001b[0m\u001b[0;34m:\u001b[0m\u001b[0;34m\u001b[0m\u001b[0m\n\u001b[1;32m    601\u001b[0m             \u001b[0;32mreturn\u001b[0m \u001b[0mparsed_response\u001b[0m\u001b[0;34m\u001b[0m\u001b[0m\n",
      "\u001b[0;31mClientError\u001b[0m: An error occurred (AccessDeniedException) when calling the CreateStateMachine operation: User: arn:aws:iam::146904559692:user/CLI is not authorized to perform: states:CreateStateMachine on resource: arn:aws:states:eu-central-1:146904559692:*"
     ]
    }
   ],
   "source": [
    "# Create State Machine\n",
    "definition = asl\n",
    "arn = 'arn:aws:iam::146904559692:role/StepFunctionRole'\n",
    "response = sfn_client.create_state_machine(name=\"StrassenStateMachine\", definition=asl, roleArn=arn)"
   ]
  },
  {
   "cell_type": "markdown",
   "metadata": {},
   "source": [
    "## Setup Test Environment"
   ]
  },
  {
   "cell_type": "code",
   "execution_count": 79,
   "metadata": {
    "collapsed": true
   },
   "outputs": [],
   "source": [
    "input_json = json.dumps({\n",
    "  \"matA\": {\n",
    "    \"bucket\": \"jmue-matrix-tests\",\n",
    "    \"key\": \"sq-staircase1000\"\n",
    "  },\n",
    "  \"matB\": {\n",
    "    \"bucket\": \"jmue-matrix-tests\",\n",
    "    \"key\": \"sq-staircase1000\"\n",
    "  },\n",
    "  \"result\": {\n",
    "    \"bucket\": \"jmue-matrix-tests\",\n",
    "    \"key\": \"staircase1000-result\"\n",
    "  }\n",
    "})\n",
    "state_machine_arn = 'arn:aws:states:eu-central-1:146904559692:stateMachine:strassen-multiplication-12'\n",
    "execution_name = 'boto3_execution_timed'"
   ]
  },
  {
   "cell_type": "markdown",
   "metadata": {},
   "source": [
    "## Start Execution"
   ]
  },
  {
   "cell_type": "code",
   "execution_count": 80,
   "metadata": {
    "collapsed": false
   },
   "outputs": [],
   "source": [
    "response = sfn_client.start_execution(\n",
    "    stateMachineArn=state_machine_arn,\n",
    "    name=execution_name,\n",
    "    input=input_json\n",
    ")\n",
    "list_exec_response = client.list_executions(\n",
    "    stateMachineArn=state_machine_arn,\n",
    "    statusFilter='RUNNING',\n",
    "    maxResults=20\n",
    ")"
   ]
  },
  {
   "cell_type": "code",
   "execution_count": 107,
   "metadata": {
    "collapsed": false
   },
   "outputs": [
    {
     "data": {
      "text/plain": [
       "u'arn:aws:states:eu-central-1:146904559692:execution:strassen-multiplication-12:boto3_execution_timed'"
      ]
     },
     "execution_count": 107,
     "metadata": {},
     "output_type": "execute_result"
    }
   ],
   "source": [
    "exec_arn = response['executionArn']\n",
    "exec_arn"
   ]
  },
  {
   "cell_type": "markdown",
   "metadata": {},
   "source": [
    "## Check Execution State"
   ]
  },
  {
   "cell_type": "code",
   "execution_count": 127,
   "metadata": {
    "collapsed": false
   },
   "outputs": [],
   "source": [
    "def execution_check(exec_arn, state_machine_arn, status_filter):\n",
    "    list_exec_response = sfn_client.list_executions(\n",
    "        stateMachineArn=state_machine_arn,\n",
    "        statusFilter=status_filter\n",
    "    )\n",
    "    for execution in list_exec_response['executions']:\n",
    "        if exec_arn == execution['executionArn']:\n",
    "            return True\n",
    "    return false"
   ]
  },
  {
   "cell_type": "code",
   "execution_count": 129,
   "metadata": {
    "collapsed": false
   },
   "outputs": [],
   "source": [
    "def execution_succeeded(exec_arn, state_machine_arn):\n",
    "    return execution_check(exec_arn, state_machine_arn, 'SUCCEEDED')"
   ]
  },
  {
   "cell_type": "code",
   "execution_count": 130,
   "metadata": {
    "collapsed": true
   },
   "outputs": [],
   "source": [
    "def execution_failed(exec_arn, state_machine_arn):\n",
    "    return execution_check(exec_arn, state_machine_arn, 'FAILED')"
   ]
  },
  {
   "cell_type": "code",
   "execution_count": 131,
   "metadata": {
    "collapsed": true
   },
   "outputs": [],
   "source": [
    "def execution_running(exec_arn, state_machine_arn):\n",
    "    return execution_check(exec_arn, state_machine_arn, 'RUNNING')"
   ]
  },
  {
   "cell_type": "code",
   "execution_count": 132,
   "metadata": {
    "collapsed": true
   },
   "outputs": [],
   "source": [
    "def get_execution_status(exec_arn, state_machine_arn):\n",
    "    list_exec_response = sfn_client.list_executions(\n",
    "        stateMachineArn=state_machine_arn\n",
    "    )\n",
    "    for execution in list_exec_response['executions']:\n",
    "        if exec_arn == execution['executionArn']:\n",
    "            return execution['status']"
   ]
  },
  {
   "cell_type": "code",
   "execution_count": 135,
   "metadata": {
    "collapsed": true
   },
   "outputs": [],
   "source": [
    "exec_history = sfn_client.get_execution_history(\n",
    "    executionArn=exec_arn,\n",
    "    maxResults=10,\n",
    "    reverseOrder=True\n",
    ")"
   ]
  },
  {
   "cell_type": "code",
   "execution_count": 149,
   "metadata": {
    "collapsed": false
   },
   "outputs": [
    {
     "name": "stdout",
     "output_type": "stream",
     "text": [
      "ExecutionSucceeded\n"
     ]
    }
   ],
   "source": [
    "if 'ExecutionSucceeded' == exec_history['events'][0]['type']:\n",
    "    print exec_history['events'][0]['type']\n",
    "elif 'ExecutionFailed' == exec_history['events'][0]['type']:\n",
    "    print exec_history['events'][0]['type']"
   ]
  },
  {
   "cell_type": "code",
   "execution_count": 134,
   "metadata": {
    "collapsed": false,
    "scrolled": true
   },
   "outputs": [
    {
     "name": "stdout",
     "output_type": "stream",
     "text": [
      "CPU times: user 5.04 ms, sys: 3.04 ms, total: 8.09 ms\n",
      "Wall time: 395 ms\n"
     ]
    },
    {
     "data": {
      "text/plain": [
       "u'SUCCEEDED'"
      ]
     },
     "execution_count": 134,
     "metadata": {},
     "output_type": "execute_result"
    }
   ],
   "source": [
    "%%time\n",
    "get_execution_status(exec_arn, state_machine_arn)"
   ]
  },
  {
   "cell_type": "code",
   "execution_count": null,
   "metadata": {
    "collapsed": false
   },
   "outputs": [],
   "source": []
  },
  {
   "cell_type": "code",
   "execution_count": 103,
   "metadata": {
    "collapsed": false
   },
   "outputs": [
    {
     "name": "stdout",
     "output_type": "stream",
     "text": [
      "dict_keys([u'status', u'startDate', u'name', u'executionArn', u'stateMachineArn', u'stopDate'])\n"
     ]
    }
   ],
   "source": [
    "print list_exec_response['executions'][0].viewkeys()"
   ]
  },
  {
   "cell_type": "code",
   "execution_count": null,
   "metadata": {
    "collapsed": true
   },
   "outputs": [],
   "source": [
    "response"
   ]
  },
  {
   "cell_type": "code",
   "execution_count": null,
   "metadata": {
    "collapsed": true
   },
   "outputs": [],
   "source": []
  },
  {
   "cell_type": "code",
   "execution_count": null,
   "metadata": {
    "collapsed": true
   },
   "outputs": [],
   "source": []
  },
  {
   "cell_type": "markdown",
   "metadata": {},
   "source": [
    "## Check Results"
   ]
  },
  {
   "cell_type": "code",
   "execution_count": 39,
   "metadata": {
    "collapsed": true
   },
   "outputs": [],
   "source": []
  },
  {
   "cell_type": "code",
   "execution_count": 43,
   "metadata": {
    "collapsed": false
   },
   "outputs": [
    {
     "data": {
      "text/plain": [
       "'safsagasg'"
      ]
     },
     "execution_count": 43,
     "metadata": {},
     "output_type": "execute_result"
    }
   ],
   "source": []
  },
  {
   "cell_type": "code",
   "execution_count": null,
   "metadata": {
    "collapsed": true
   },
   "outputs": [],
   "source": []
  },
  {
   "cell_type": "code",
   "execution_count": null,
   "metadata": {
    "collapsed": true
   },
   "outputs": [],
   "source": []
  },
  {
   "cell_type": "code",
   "execution_count": null,
   "metadata": {
    "collapsed": true
   },
   "outputs": [],
   "source": []
  },
  {
   "cell_type": "code",
   "execution_count": 154,
   "metadata": {
    "collapsed": false
   },
   "outputs": [
    {
     "name": "stdout",
     "output_type": "stream",
     "text": [
      "4\n",
      "4\n"
     ]
    }
   ],
   "source": [
    "for number in (4000,4000):\n",
    "    print number/1000"
   ]
  },
  {
   "cell_type": "code",
   "execution_count": null,
   "metadata": {
    "collapsed": true
   },
   "outputs": [],
   "source": []
  }
 ],
 "metadata": {
  "kernelspec": {
   "display_name": "Python 2",
   "language": "python",
   "name": "python2"
  },
  "language_info": {
   "codemirror_mode": {
    "name": "ipython",
    "version": 2
   },
   "file_extension": ".py",
   "mimetype": "text/x-python",
   "name": "python",
   "nbconvert_exporter": "python",
   "pygments_lexer": "ipython2",
   "version": "2.7.13"
  }
 },
 "nbformat": 4,
 "nbformat_minor": 2
}
