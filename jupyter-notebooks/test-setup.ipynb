{
 "cells": [
  {
   "cell_type": "code",
   "execution_count": 23,
   "metadata": {
    "collapsed": true,
    "deletable": true,
    "editable": true
   },
   "outputs": [],
   "source": [
    "import boto3\n",
    "import json\n",
    "import pickle"
   ]
  },
  {
   "cell_type": "code",
   "execution_count": 31,
   "metadata": {
    "collapsed": true,
    "deletable": true,
    "editable": true
   },
   "outputs": [],
   "source": [
    "bucket = 'jmue-matrix-tests'"
   ]
  },
  {
   "cell_type": "code",
   "execution_count": 32,
   "metadata": {
    "collapsed": false,
    "deletable": true,
    "editable": true
   },
   "outputs": [],
   "source": [
    "matrix_a = {'key': 'test-matrix-A-1000', 'size': 1000 }\n",
    "matrix_b = { 'key': 'test-matrix-B-1000', 'size': 1000 }\n",
    "matrix_c = { 'key': 'text-matrix-C-1000-1000', 'size': 1000 }"
   ]
  },
  {
   "cell_type": "code",
   "execution_count": 33,
   "metadata": {
    "collapsed": true,
    "deletable": true,
    "editable": true
   },
   "outputs": [],
   "source": [
    "def fill_matrix(matrix_size):\n",
    "    matrix_data = []\n",
    "    for i in range(matrix_size):\n",
    "        row = [x for x in range(1, matrix_size + 1)] #[1, 2, ... , matrix_size]\n",
    "        matrix_data.append(row)\n",
    "    return matrix_data"
   ]
  },
  {
   "cell_type": "code",
   "execution_count": 34,
   "metadata": {
    "collapsed": false,
    "deletable": true,
    "editable": true
   },
   "outputs": [],
   "source": [
    "matrix_a['data'] = fill_matrix(matrix_a['size'])\n",
    "matrix_b['data'] = fill_matrix(matrix_b['size'])"
   ]
  },
  {
   "cell_type": "code",
   "execution_count": 35,
   "metadata": {
    "collapsed": false,
    "deletable": true,
    "editable": true
   },
   "outputs": [],
   "source": [
    "s3_client = boto3.client('s3')\n",
    "def write_to_s3(data, bucket, key):\n",
    "  with open(\"/tmp/\" + key, \"wb\") as file:\n",
    "    pickle.dump(data, file)\n",
    "  s3_client.upload_file(\"/tmp/\" + key, bucket, key)"
   ]
  },
  {
   "cell_type": "code",
   "execution_count": 36,
   "metadata": {
    "collapsed": false,
    "deletable": true,
    "editable": true
   },
   "outputs": [],
   "source": [
    "write_to_s3(matrix_a['data'], bucket, matrix_a['key'])\n",
    "write_to_s3(matrix_b['data'], bucket, matrix_b['key'])"
   ]
  },
  {
   "cell_type": "code",
   "execution_count": null,
   "metadata": {
    "collapsed": true,
    "deletable": true,
    "editable": true
   },
   "outputs": [],
   "source": []
  }
 ],
 "metadata": {
  "kernelspec": {
   "display_name": "Python 2",
   "language": "python",
   "name": "python2"
  },
  "language_info": {
   "codemirror_mode": {
    "name": "ipython",
    "version": 2
   },
   "file_extension": ".py",
   "mimetype": "text/x-python",
   "name": "python",
   "nbconvert_exporter": "python",
   "pygments_lexer": "ipython2",
   "version": "2.7.13"
  }
 },
 "nbformat": 4,
 "nbformat_minor": 2
}
