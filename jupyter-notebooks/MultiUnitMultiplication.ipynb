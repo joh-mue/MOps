{
 "cells": [
  {
   "cell_type": "markdown",
   "metadata": {},
   "source": [
    "# MultiUniMulitplication\n",
    "\n",
    "A unit is a Strassen-Multiplication StepFunction.\n",
    "Matrix multiplication to be performed is `m.dot(m.transpose)` with `m.dim(4000,4000)`.\n",
    "M will be divided into `4*4=16` matrix partitions of dimension `1000*1000`. Partitions will be named m_row_col from m_0_0, m_0_1 ... to m_3_3.\n",
    "\n",
    "\n",
    "m_0_0  |  m_0_1  |  m_0_2  |  m_0_3\n",
    "\n",
    "m_1_0  |  m_1_1  |  m_1_2  |  m_1_3\n",
    "\n",
    "m_2_0  |  m_2_1  |  m_2_2  |  m_2_3\n",
    "\n",
    "m_3_0  |  m_3_1  |  m_3_2  |  m_3_3"
   ]
  },
  {
   "cell_type": "markdown",
   "metadata": {
    "collapsed": true
   },
   "source": [
    "## Content\n",
    "\n",
    "1. Matrix Creation (matrix_dimension, block_sizes)\n",
    "2. Matrix deployment (bucket, matrix_names)\n",
    "3. Matrix multiplication (invoke matrix-multiplication-lambda)\n",
    "4. check results in S3\n",
    "5. create time profile for 3 stages (interm., collection, accumulation)\n",
    "6. Compare Timings\n",
    "\n",
    "matrix dimensions: 4000x4000, 8000x8000, 2000x16000   \n",
    "block sizes: 1000x1000, 2000x2000, 3000x3000"
   ]
  },
  {
   "cell_type": "markdown",
   "metadata": {},
   "source": [
    "## 0. Imports & Setup"
   ]
  },
  {
   "cell_type": "code",
   "execution_count": 2,
   "metadata": {
    "collapsed": true
   },
   "outputs": [],
   "source": [
    "from collections import namedtuple\n",
    "from collections import defaultdict\n",
    "from datetime import datetime\n",
    "from time import sleep\n",
    "import numpy as np\n",
    "import matplotlib.pyplot as plt\n",
    "import os\n",
    "import boto3\n",
    "import json\n",
    "import base64\n",
    "import csv"
   ]
  },
  {
   "cell_type": "code",
   "execution_count": 20,
   "metadata": {},
   "outputs": [],
   "source": [
    "# automatically reload the libraries from time_profiling.py\n",
    "import sys\n",
    "module_path = os.path.abspath(os.path.join('/Users/Johannes/Uni/Master/Master Arbeit/repos/matrix-operations/benchmarks'))\n",
    "if module_path not in sys.path:\n",
    "    sys.path.append(module_path)\n",
    "from time_profiling import *\n",
    "%load_ext autoreload\n",
    "%autoreload 2"
   ]
  },
  {
   "cell_type": "code",
   "execution_count": 8,
   "metadata": {
    "collapsed": true
   },
   "outputs": [],
   "source": [
    "# NAMEDTUPLES\n",
    "MatrixDimensions = namedtuple('MatrixDimensions', ['height', 'width'])\n",
    "Timings = namedtuple('Timings', ['down','up','calculation'])"
   ]
  },
  {
   "cell_type": "code",
   "execution_count": 770,
   "metadata": {
    "collapsed": true
   },
   "outputs": [],
   "source": [
    "# global constants\n",
    "BLOCK_SIZE = 1000\n",
    "BUCKET = 'jmue-multiplication-benchmarks'\n",
    "PREFIX = 'sq'\n",
    "BENCHMARKS_FOLDER = '/Users/Johannes/Uni/Master/Master Arbeit/repos/matrix-operations/benchmarks/'\n",
    "SFN_PREFIX = 'log-test'"
   ]
  },
  {
   "cell_type": "code",
   "execution_count": 5,
   "metadata": {
    "collapsed": true
   },
   "outputs": [],
   "source": [
    "# CLIENTS\n",
    "s3_client = boto3.client('s3')\n",
    "lambda_client = boto3.client('lambda')\n",
    "sfn_client = boto3.client('stepfunctions')"
   ]
  },
  {
   "cell_type": "code",
   "execution_count": 6,
   "metadata": {
    "collapsed": true
   },
   "outputs": [],
   "source": [
    "def _log(message):\n",
    "    timestamp = datetime.now().strftime('%d.%m.%y %H:%M:%S > ')\n",
    "#     LOG_FILE.write(timestamp + message)\n",
    "    print timestamp + message"
   ]
  },
  {
   "cell_type": "markdown",
   "metadata": {},
   "source": [
    "## 1. Matrix Creation"
   ]
  },
  {
   "cell_type": "markdown",
   "metadata": {},
   "source": [
    "### Generate Matrix Blocks"
   ]
  },
  {
   "cell_type": "code",
   "execution_count": 142,
   "metadata": {
    "collapsed": true
   },
   "outputs": [],
   "source": [
    "def write_block_to_file(block, directory, row, column):\n",
    "    if not os.path.exists(directory):\n",
    "        os.mkdir(directory)\n",
    "    path = os.path.join(directory, \"m_\" + str(row) + \"_\" + str(column))\n",
    "    np.save(path, block)"
   ]
  },
  {
   "cell_type": "markdown",
   "metadata": {},
   "source": [
    "### create random blocks"
   ]
  },
  {
   "cell_type": "code",
   "execution_count": 67,
   "metadata": {
    "collapsed": true
   },
   "outputs": [],
   "source": [
    "def get_block_with_random(height, width):\n",
    "    return np.random.random_sample((height,width))"
   ]
  },
  {
   "cell_type": "code",
   "execution_count": 660,
   "metadata": {
    "collapsed": true
   },
   "outputs": [],
   "source": [
    "def create_blocks_with_random(x, y, block_height, block_width, matrix_name):\n",
    "    for i in range(0,x):\n",
    "        for j in range(0,y):\n",
    "            block = get_block_with_random(block_height, block_width)\n",
    "            directory = '/tmp/' + matrix_name\n",
    "            write_block_to_file(block, directory, i, j)"
   ]
  },
  {
   "cell_type": "code",
   "execution_count": 150,
   "metadata": {
    "collapsed": true
   },
   "outputs": [],
   "source": [
    "create_blocks_with_random(matrix_dimensions.height/1000, matrix_dimensions.width/1000, block_size, block_size, matrix_name)"
   ]
  },
  {
   "cell_type": "code",
   "execution_count": 151,
   "metadata": {
    "collapsed": true
   },
   "outputs": [],
   "source": [
    "create_blocks_with_random(matrix_dimensions.height/1000, matrix_dimensions.width/1000, block_size, block_size, matrix_name=matrix_name + \"-2\")"
   ]
  },
  {
   "cell_type": "markdown",
   "metadata": {},
   "source": [
    "### (OR create specific matrix and split it)"
   ]
  },
  {
   "cell_type": "code",
   "execution_count": 143,
   "metadata": {
    "collapsed": true
   },
   "outputs": [],
   "source": [
    "def split_matrix_into(matrix, x, y, block_size):\n",
    "    '''split matrix into x*y partitions of given size'''\n",
    "    p = block_size\n",
    "    for i in range(0,x):\n",
    "        for j in range(0,y):\n",
    "            block = matrix[i*p:(i+1)*p, j*p:(j+1)*p]\n",
    "            directory = \"/tmp/\" + matrix_name\n",
    "            write_block_to_file(block, directory, i, j)"
   ]
  },
  {
   "cell_type": "code",
   "execution_count": 144,
   "metadata": {
    "collapsed": true
   },
   "outputs": [],
   "source": [
    "def create_square_staircase_matrix(matrix_dimensions):\n",
    "    matrix = np.zeros(matrix_dimensions, dtype=np.int)\n",
    "    for i in range(matrix_dimensions.height):\n",
    "        for j in range(matrix_dimensions.width):\n",
    "            matrix[i][j] = i+j\n",
    "    return np.array(matrix)"
   ]
  },
  {
   "cell_type": "code",
   "execution_count": 261,
   "metadata": {
    "collapsed": true
   },
   "outputs": [],
   "source": [
    "sq_m = create_square_staircase_matrix(matrix_dimensions)\n",
    "sq_m = np.transpose(create_square_staircase_matrix(width=4000))\n",
    "split_matrix_into(sq_m, 4, 4, 1000)"
   ]
  },
  {
   "cell_type": "markdown",
   "metadata": {},
   "source": [
    "## 2. Matrix Deployment"
   ]
  },
  {
   "cell_type": "code",
   "execution_count": 773,
   "metadata": {
    "collapsed": true
   },
   "outputs": [],
   "source": [
    "def upload_blocks(matrix_name, bucket, s3_matrix_name=None):\n",
    "    localpath = '/tmp/' + matrix_name\n",
    "    filenames = os.listdir(localpath)\n",
    "\n",
    "    s3_folder = matrix_name\n",
    "    if s3_matrix_name is not None:\n",
    "        s3_folder = s3_matrix_name\n",
    "    \n",
    "    for filename in filenames:\n",
    "        _log('Uploading to s3: {}'.format(filename))\n",
    "        s3_client.upload_file(\n",
    "            Filename=os.path.join(localpath,filename),\n",
    "            Bucket=bucket,\n",
    "            Key=os.path.join(s3_folder,filename)\n",
    "        )"
   ]
  },
  {
   "cell_type": "code",
   "execution_count": 774,
   "metadata": {
    "collapsed": true
   },
   "outputs": [],
   "source": [
    "def deploy_matrices(matrix_name):\n",
    "    _log('Uploading matrix to s3: {}'.format(matrix_name))\n",
    "    upload_blocks(matrix_name, BUCKET)\n",
    "    _log('Uploading matrix to s3: {}'.format(matrix_name + '-2'))\n",
    "    upload_blocks(matrix_name, BUCKET, s3_matrix_name=matrix_name + '-2')"
   ]
  },
  {
   "cell_type": "code",
   "execution_count": 829,
   "metadata": {
    "collapsed": true
   },
   "outputs": [],
   "source": [
    "def deployed(matrix_names, bucket, matrix_dimensions, block_size):\n",
    "    for matrix_name in matrix_names:\n",
    "        key_count = s3_client.list_objects_v2(Bucket=bucket, Prefix=matrix_name+'/')['KeyCount']\n",
    "        print key_count\n",
    "        if key_count != (matrix_dimensions.height/block_size * matrix_dimensions.width/block_size):\n",
    "            return False # this one is not deployed yet\n",
    "    return True"
   ]
  },
  {
   "cell_type": "code",
   "execution_count": 830,
   "metadata": {},
   "outputs": [
    {
     "name": "stdout",
     "output_type": "stream",
     "text": [
      "4\n",
      "4\n"
     ]
    },
    {
     "data": {
      "text/plain": [
       "True"
      ]
     },
     "execution_count": 830,
     "metadata": {},
     "output_type": "execute_result"
    }
   ],
   "source": [
    "deployed(['sq_2kx2k','sq_2kx2k-2'], 'jmue-multiplication-benchmarks', MatrixDimensions(2000,2000), 1000)"
   ]
  },
  {
   "cell_type": "code",
   "execution_count": 827,
   "metadata": {
    "collapsed": true
   },
   "outputs": [],
   "source": [
    "res = s3_client.list_objects_v2(Bucket=bucket, Prefix=matrix_name)"
   ]
  },
  {
   "cell_type": "code",
   "execution_count": 828,
   "metadata": {},
   "outputs": [
    {
     "data": {
      "text/plain": [
       "{u'Contents': [{u'ETag': '\"bf4cba65588650a093d9df20b38cce21\"',\n",
       "   u'Key': 'square_matrix_2kx2k-2/m_0_0.npy',\n",
       "   u'LastModified': datetime.datetime(2017, 8, 29, 12, 56, 56, tzinfo=tzutc()),\n",
       "   u'Size': 8000080,\n",
       "   u'StorageClass': 'STANDARD'},\n",
       "  {u'ETag': '\"c1f83bfb89a88af7adfe082c43678be5\"',\n",
       "   u'Key': 'square_matrix_2kx2k-2/m_0_1.npy',\n",
       "   u'LastModified': datetime.datetime(2017, 8, 29, 12, 56, 56, tzinfo=tzutc()),\n",
       "   u'Size': 8000080,\n",
       "   u'StorageClass': 'STANDARD'},\n",
       "  {u'ETag': '\"3e98bc61457e257d7bac68664c6f80e1\"',\n",
       "   u'Key': 'square_matrix_2kx2k-2/m_1_0.npy',\n",
       "   u'LastModified': datetime.datetime(2017, 8, 29, 12, 56, 58, tzinfo=tzutc()),\n",
       "   u'Size': 8000080,\n",
       "   u'StorageClass': 'STANDARD'},\n",
       "  {u'ETag': '\"31dbb129525cb034be7e737a81dc2b36\"',\n",
       "   u'Key': 'square_matrix_2kx2k-2/m_1_1.npy',\n",
       "   u'LastModified': datetime.datetime(2017, 8, 29, 12, 56, 59, tzinfo=tzutc()),\n",
       "   u'Size': 8000080,\n",
       "   u'StorageClass': 'STANDARD'},\n",
       "  {u'ETag': '\"a492200a88924052bb19464b90437fb7\"',\n",
       "   u'Key': 'square_matrix_2kx2k-result/S0_U0_m0',\n",
       "   u'LastModified': datetime.datetime(2017, 9, 10, 21, 2, 23, tzinfo=tzutc()),\n",
       "   u'Size': 8000080,\n",
       "   u'StorageClass': 'STANDARD'},\n",
       "  {u'ETag': '\"b3863b84b4707bfa5c1357e82cc31db1\"',\n",
       "   u'Key': 'square_matrix_2kx2k-result/S0_U0_m1',\n",
       "   u'LastModified': datetime.datetime(2017, 9, 10, 21, 2, 23, tzinfo=tzutc()),\n",
       "   u'Size': 8000080,\n",
       "   u'StorageClass': 'STANDARD'},\n",
       "  {u'ETag': '\"5c2451ff667e22b6bd30d6e23e726d80\"',\n",
       "   u'Key': 'square_matrix_2kx2k-result/S0_U0_m2',\n",
       "   u'LastModified': datetime.datetime(2017, 9, 10, 21, 2, 23, tzinfo=tzutc()),\n",
       "   u'Size': 8000080,\n",
       "   u'StorageClass': 'STANDARD'},\n",
       "  {u'ETag': '\"5c2451ff667e22b6bd30d6e23e726d80\"',\n",
       "   u'Key': 'square_matrix_2kx2k-result/S0_U0_m3',\n",
       "   u'LastModified': datetime.datetime(2017, 9, 10, 21, 2, 23, tzinfo=tzutc()),\n",
       "   u'Size': 8000080,\n",
       "   u'StorageClass': 'STANDARD'},\n",
       "  {u'ETag': '\"b3863b84b4707bfa5c1357e82cc31db1\"',\n",
       "   u'Key': 'square_matrix_2kx2k-result/S0_U0_m4',\n",
       "   u'LastModified': datetime.datetime(2017, 9, 10, 21, 2, 23, tzinfo=tzutc()),\n",
       "   u'Size': 8000080,\n",
       "   u'StorageClass': 'STANDARD'},\n",
       "  {u'ETag': '\"5c2451ff667e22b6bd30d6e23e726d80\"',\n",
       "   u'Key': 'square_matrix_2kx2k-result/S0_U0_m5',\n",
       "   u'LastModified': datetime.datetime(2017, 9, 10, 21, 2, 23, tzinfo=tzutc()),\n",
       "   u'Size': 8000080,\n",
       "   u'StorageClass': 'STANDARD'},\n",
       "  {u'ETag': '\"5c2451ff667e22b6bd30d6e23e726d80\"',\n",
       "   u'Key': 'square_matrix_2kx2k-result/S0_U0_m6',\n",
       "   u'LastModified': datetime.datetime(2017, 9, 10, 21, 2, 23, tzinfo=tzutc()),\n",
       "   u'Size': 8000080,\n",
       "   u'StorageClass': 'STANDARD'},\n",
       "  {u'ETag': '\"b3863b84b4707bfa5c1357e82cc31db1\"',\n",
       "   u'Key': 'square_matrix_2kx2k-result/S0_X00_U0',\n",
       "   u'LastModified': datetime.datetime(2017, 9, 10, 21, 2, 27, tzinfo=tzutc()),\n",
       "   u'Size': 8000080,\n",
       "   u'StorageClass': 'STANDARD'},\n",
       "  {u'ETag': '\"b3863b84b4707bfa5c1357e82cc31db1\"',\n",
       "   u'Key': 'square_matrix_2kx2k-result/S0_X01_U0',\n",
       "   u'LastModified': datetime.datetime(2017, 9, 10, 21, 2, 27, tzinfo=tzutc()),\n",
       "   u'Size': 8000080,\n",
       "   u'StorageClass': 'STANDARD'},\n",
       "  {u'ETag': '\"b3863b84b4707bfa5c1357e82cc31db1\"',\n",
       "   u'Key': 'square_matrix_2kx2k-result/S0_X10_U0',\n",
       "   u'LastModified': datetime.datetime(2017, 9, 10, 21, 2, 28, tzinfo=tzutc()),\n",
       "   u'Size': 8000080,\n",
       "   u'StorageClass': 'STANDARD'},\n",
       "  {u'ETag': '\"b3863b84b4707bfa5c1357e82cc31db1\"',\n",
       "   u'Key': 'square_matrix_2kx2k-result/S0_X11_U0',\n",
       "   u'LastModified': datetime.datetime(2017, 9, 10, 21, 2, 28, tzinfo=tzutc()),\n",
       "   u'Size': 8000080,\n",
       "   u'StorageClass': 'STANDARD'},\n",
       "  {u'ETag': '\"b3863b84b4707bfa5c1357e82cc31db1\"',\n",
       "   u'Key': 'square_matrix_2kx2k-result/m_0_0',\n",
       "   u'LastModified': datetime.datetime(2017, 9, 10, 21, 2, 31, tzinfo=tzutc()),\n",
       "   u'Size': 8000080,\n",
       "   u'StorageClass': 'STANDARD'},\n",
       "  {u'ETag': '\"b3863b84b4707bfa5c1357e82cc31db1\"',\n",
       "   u'Key': 'square_matrix_2kx2k-result/m_0_1',\n",
       "   u'LastModified': datetime.datetime(2017, 8, 29, 16, 55, 9, tzinfo=tzutc()),\n",
       "   u'Size': 8000080,\n",
       "   u'StorageClass': 'STANDARD'},\n",
       "  {u'ETag': '\"b3863b84b4707bfa5c1357e82cc31db1\"',\n",
       "   u'Key': 'square_matrix_2kx2k-result/m_1_0',\n",
       "   u'LastModified': datetime.datetime(2017, 8, 29, 16, 55, 12, tzinfo=tzutc()),\n",
       "   u'Size': 8000080,\n",
       "   u'StorageClass': 'STANDARD'},\n",
       "  {u'ETag': '\"b3863b84b4707bfa5c1357e82cc31db1\"',\n",
       "   u'Key': 'square_matrix_2kx2k-result/m_1_1',\n",
       "   u'LastModified': datetime.datetime(2017, 8, 29, 16, 55, 12, tzinfo=tzutc()),\n",
       "   u'Size': 8000080,\n",
       "   u'StorageClass': 'STANDARD'},\n",
       "  {u'ETag': '\"bf4cba65588650a093d9df20b38cce21\"',\n",
       "   u'Key': 'square_matrix_2kx2k/m_0_0.npy',\n",
       "   u'LastModified': datetime.datetime(2017, 8, 29, 12, 56, 49, tzinfo=tzutc()),\n",
       "   u'Size': 8000080,\n",
       "   u'StorageClass': 'STANDARD'},\n",
       "  {u'ETag': '\"c1f83bfb89a88af7adfe082c43678be5\"',\n",
       "   u'Key': 'square_matrix_2kx2k/m_0_1.npy',\n",
       "   u'LastModified': datetime.datetime(2017, 8, 29, 12, 56, 50, tzinfo=tzutc()),\n",
       "   u'Size': 8000080,\n",
       "   u'StorageClass': 'STANDARD'},\n",
       "  {u'ETag': '\"3e98bc61457e257d7bac68664c6f80e1\"',\n",
       "   u'Key': 'square_matrix_2kx2k/m_1_0.npy',\n",
       "   u'LastModified': datetime.datetime(2017, 8, 29, 12, 56, 51, tzinfo=tzutc()),\n",
       "   u'Size': 8000080,\n",
       "   u'StorageClass': 'STANDARD'},\n",
       "  {u'ETag': '\"31dbb129525cb034be7e737a81dc2b36\"',\n",
       "   u'Key': 'square_matrix_2kx2k/m_1_1.npy',\n",
       "   u'LastModified': datetime.datetime(2017, 8, 29, 12, 56, 52, tzinfo=tzutc()),\n",
       "   u'Size': 8000080,\n",
       "   u'StorageClass': 'STANDARD'}],\n",
       " u'IsTruncated': False,\n",
       " u'KeyCount': 23,\n",
       " u'MaxKeys': 1000,\n",
       " u'Name': 'jmue-matrix-tests',\n",
       " u'Prefix': 'square_matrix_2kx2k',\n",
       " 'ResponseMetadata': {'HTTPHeaders': {'content-type': 'application/xml',\n",
       "   'date': 'Wed, 13 Sep 2017 19:07:36 GMT',\n",
       "   'server': 'AmazonS3',\n",
       "   'transfer-encoding': 'chunked',\n",
       "   'x-amz-bucket-region': 'eu-central-1',\n",
       "   'x-amz-id-2': 'xzx0V9lHnzoAfWqJNLVkeSXyqHP1aRJoL7WIpgU083fHKu8M/F575LrhXiPx1WODyk/8BffqGK4=',\n",
       "   'x-amz-request-id': '864E7D07452D0D27'},\n",
       "  'HTTPStatusCode': 200,\n",
       "  'HostId': 'xzx0V9lHnzoAfWqJNLVkeSXyqHP1aRJoL7WIpgU083fHKu8M/F575LrhXiPx1WODyk/8BffqGK4=',\n",
       "  'RequestId': '864E7D07452D0D27',\n",
       "  'RetryAttempts': 0}}"
      ]
     },
     "execution_count": 828,
     "metadata": {},
     "output_type": "execute_result"
    }
   ],
   "source": [
    "res"
   ]
  },
  {
   "cell_type": "code",
   "execution_count": 154,
   "metadata": {
    "collapsed": true
   },
   "outputs": [],
   "source": [
    "upload_blocks(matrix_name, bucket)\n",
    "upload_blocks(matrix_name, bucket, matrix_name + \"-2\")"
   ]
  },
  {
   "cell_type": "markdown",
   "metadata": {},
   "source": [
    "## 3. Matrix Multiplication"
   ]
  },
  {
   "cell_type": "markdown",
   "metadata": {},
   "source": [
    "### Create Input"
   ]
  },
  {
   "cell_type": "code",
   "execution_count": 775,
   "metadata": {
    "collapsed": true
   },
   "outputs": [],
   "source": [
    "def create_input(state_machine_name, executionName, name_matrixA, name_matrixB):\n",
    "    input = {\n",
    "            'state-machine-name': state_machine_name,\n",
    "            'executionName': executionName,\n",
    "            'matA': {\n",
    "            'bucket': BUCKET,\n",
    "            'folder': name_matrixA,\n",
    "            'rows': matrix_dimensions.height,\n",
    "            'columns': matrix_dimensions.width\n",
    "            },\n",
    "            'matB': {\n",
    "              'bucket': BUCKET,\n",
    "              'folder': name_matrixB,\n",
    "              'rows': matrix_dimensions.height,\n",
    "              'columns': matrix_dimensions.height\n",
    "            },\n",
    "            'result': {\n",
    "              'bucket': BUCKET,\n",
    "              'folder': matrix_name + '-result'\n",
    "            },\n",
    "            'split-size': BLOCK_SIZE * 2\n",
    "        }\n",
    "    return input"
   ]
  },
  {
   "cell_type": "code",
   "execution_count": 776,
   "metadata": {},
   "outputs": [
    {
     "data": {
      "text/plain": [
       "{'executionName': '2kx2k-online-profiled-3',\n",
       " 'matA': {'bucket': 'jmue-multiplication-benchmarks',\n",
       "  'columns': 2000,\n",
       "  'folder': 'square_matrix_2kx2k',\n",
       "  'rows': 2000},\n",
       " 'matB': {'bucket': 'jmue-multiplication-benchmarks',\n",
       "  'columns': 2000,\n",
       "  'folder': 'square_matrix_2kx2k-2',\n",
       "  'rows': 2000},\n",
       " 'result': {'bucket': 'jmue-multiplication-benchmarks',\n",
       "  'folder': 'square_matrix_2kx2k-result'},\n",
       " 'split-size': 2000,\n",
       " 'state-machine-name': 'multi-unit-mmultiply-2kx2k'}"
      ]
     },
     "execution_count": 776,
     "metadata": {},
     "output_type": "execute_result"
    }
   ],
   "source": [
    "create_input(\n",
    "        state_machine_name=\"multi-unit-mmultiply-2kx2k\",\n",
    "        executionName=\"2kx2k-online-profiled-3\",\n",
    "        name_matrixA=matrix_name,\n",
    "        name_matrixB=matrix_name + \"-2\"\n",
    ")"
   ]
  },
  {
   "cell_type": "markdown",
   "metadata": {},
   "source": [
    "### Invoke Matrix Multiplication Lambda"
   ]
  },
  {
   "cell_type": "code",
   "execution_count": 777,
   "metadata": {
    "collapsed": true
   },
   "outputs": [],
   "source": [
    "def invoke_matrix_multiplication(state_machine_name, executionName, name_matrixA, name_matrixB):\n",
    "    \"\"\" execution_info.keys() :> ['deploy-nr', 'split-executions', 'split'] \"\"\"\n",
    "    sfn_input = create_input(state_machine_name, executionName, name_matrixA, name_matrixB)\n",
    "    _log(\"Invoking matrix multiplication with input: {}\".format(sfn_input))\n",
    "    response = lambda_client.invoke(\n",
    "        FunctionName='mmultiply-prod-multi-unit-multiplication',\n",
    "        InvocationType='RequestResponse',\n",
    "        LogType='Tail',\n",
    "        Payload=json.dumps(sfn_input)\n",
    "    )\n",
    "    _log('LogResult: \\n{}'.format(base64.b64decode(response['LogResult'])))\n",
    "    return json.loads(response['Payload'].read())"
   ]
  },
  {
   "cell_type": "code",
   "execution_count": 301,
   "metadata": {},
   "outputs": [
    {
     "name": "stdout",
     "output_type": "stream",
     "text": [
      "START RequestId: 537fc94a-966b-11e7-af2b-47d16c6cff42 Version: $LATEST\n",
      "Split_0 (x:0 y:0) \n",
      "END RequestId: 537fc94a-966b-11e7-af2b-47d16c6cff42\n",
      "REPORT RequestId: 537fc94a-966b-11e7-af2b-47d16c6cff42\tDuration: 305.35 ms\tBilled Duration: 400 ms \tMemory Size: 1024 MB\tMax Memory Used: 37 MB\t\n",
      "\n"
     ]
    }
   ],
   "source": [
    "invoke_matrix_multiplication(\n",
    "        state_machine_name=\"multi-unit-mmultiply-2kx2k\",\n",
    "        executionName=\"2kx2k-online-profiled-3\",\n",
    "        name_matrixA=matrix_name,\n",
    "        name_matrixB=matrix_name + \"-2\"\n",
    ")"
   ]
  },
  {
   "cell_type": "code",
   "execution_count": 778,
   "metadata": {},
   "outputs": [
    {
     "data": {
      "text/plain": [
       "{u'deploy-nr': u'MUM101',\n",
       " u'split-executions': [{u'executionARN': u'arn:aws:states:eu-central-1:146904559692:execution:multi-unit-mmultiply-2kx2k:2kx2k-online-profiled-3-split0',\n",
       "   u'split': 0}],\n",
       " u'state-machine-arn': u'arn:aws:states:eu-central-1:146904559692:stateMachine:multi-unit-mmultiply-2kx2k'}"
      ]
     },
     "execution_count": 778,
     "metadata": {},
     "output_type": "execute_result"
    }
   ],
   "source": [
    "payload"
   ]
  },
  {
   "cell_type": "markdown",
   "metadata": {},
   "source": [
    "## 5. Check Results"
   ]
  },
  {
   "cell_type": "code",
   "execution_count": 779,
   "metadata": {
    "collapsed": true
   },
   "outputs": [],
   "source": [
    "def executions_pending(executionARNs):\n",
    "    \"\"\" Checks if all executions have either succeeded or failed yet.\n",
    "    Failed executions are skipped. \"\"\"\n",
    "    for executionARN in executionARNs:\n",
    "        last_event = sfn_client.get_execution_history(\n",
    "            executionArn=executionARN,\n",
    "            maxResults=1,\n",
    "            reverseOrder=True\n",
    "        )['events'][0]\n",
    "\n",
    "        if last_event['type'] == 'ExecutionFailed':\n",
    "            _log('Execution {} failed.'.format(executionARN))\n",
    "            pass\n",
    "        elif last_event['type'] != 'ExecutionSucceeded':\n",
    "            return True # Executions still pending\n",
    "    _log('All executions finished(failed/succeeded).')\n",
    "    return False"
   ]
  },
  {
   "cell_type": "code",
   "execution_count": 303,
   "metadata": {
    "collapsed": true
   },
   "outputs": [],
   "source": [
    "executionARN = payload['split-executions'][0]['executionARN']"
   ]
  },
  {
   "cell_type": "code",
   "execution_count": 784,
   "metadata": {
    "collapsed": true
   },
   "outputs": [],
   "source": [
    "example_last_events = {'ResponseMetadata': {'HTTPHeaders': {'content-length': '688',\n",
    "   'content-type': 'application/x-amz-json-1.0',\n",
    "   'x-amzn-requestid': 'e5d0e4ed-9672-11e7-be52-1dc3610e5038'},\n",
    "  'HTTPStatusCode': 200,\n",
    "  'RequestId': 'e5d0e4ed-9672-11e7-be52-1dc3610e5038',\n",
    "  'RetryAttempts': 0},\n",
    " u'events': [{u'executionSucceededEventDetails': {u'output': u'{\"deploy-nr\": \"ACC101\", \"time-profile\": {\"s3-up\": 272, \"execution\": 463, \"s3-down\": 181, \"lambda\": \"accumulate\"}}'},\n",
    "   u'id': 71,\n",
    "   u'previousEventId': 70,\n",
    "   u'timestamp': 'datetime.datetime(2017, 9, 10, 23, 2, 30, 289000, tzinfo=tzlocal())',\n",
    "   u'type': u'ExecutionSucceeded'}],\n",
    " u'nextToken': u'AAAAKgAAAAIAAAAAAAAAAXEKCno//DEFaC8MQTHN8/j/sMIb5TAXYFZcn3Yx5Alzsu/jg5+6tKdcIuKW2vig+OECYiBGedLHpb51hZfpvxTUoiZAFC6lAqKJUULDu5LR7bQ8mN+5uUKzk3xqSb6EZJzfdv4ve+IJBIkrJ7c8N3GYjGjFKUpqEPiBWReh9RxzdAO3RWpWJpcOpzPLdceEvaPKKpkj7mP93r+w4txVvc+nTX9az0dMBgRGxmiarOuobnPKNj9sWNHZvueyMZcRsj1K19aBB/99Q/5sLEbQaqSdCdZzuRJJiOgE9bhG2hgCgiNzuAp8jzzfeKT5ZdtlGg=='}"
   ]
  },
  {
   "cell_type": "code",
   "execution_count": 780,
   "metadata": {},
   "outputs": [
    {
     "data": {
      "text/plain": [
       "{'ResponseMetadata': {'HTTPHeaders': {'content-length': '688',\n",
       "   'content-type': 'application/x-amz-json-1.0',\n",
       "   'x-amzn-requestid': 'e5d0e4ed-9672-11e7-be52-1dc3610e5038'},\n",
       "  'HTTPStatusCode': 200,\n",
       "  'RequestId': 'e5d0e4ed-9672-11e7-be52-1dc3610e5038',\n",
       "  'RetryAttempts': 0},\n",
       " u'events': [{u'executionSucceededEventDetails': {u'output': u'{\"deploy-nr\": \"ACC101\", \"time-profile\": {\"s3-up\": 272, \"execution\": 463, \"s3-down\": 181, \"lambda\": \"accumulate\"}}'},\n",
       "   u'id': 71,\n",
       "   u'previousEventId': 70,\n",
       "   u'timestamp': datetime.datetime(2017, 9, 10, 23, 2, 30, 289000, tzinfo=tzlocal()),\n",
       "   u'type': u'ExecutionSucceeded'}],\n",
       " u'nextToken': u'AAAAKgAAAAIAAAAAAAAAAXEKCno//DEFaC8MQTHN8/j/sMIb5TAXYFZcn3Yx5Alzsu/jg5+6tKdcIuKW2vig+OECYiBGedLHpb51hZfpvxTUoiZAFC6lAqKJUULDu5LR7bQ8mN+5uUKzk3xqSb6EZJzfdv4ve+IJBIkrJ7c8N3GYjGjFKUpqEPiBWReh9RxzdAO3RWpWJpcOpzPLdceEvaPKKpkj7mP93r+w4txVvc+nTX9az0dMBgRGxmiarOuobnPKNj9sWNHZvueyMZcRsj1K19aBB/99Q/5sLEbQaqSdCdZzuRJJiOgE9bhG2hgCgiNzuAp8jzzfeKT5ZdtlGg=='}"
      ]
     },
     "execution_count": 780,
     "metadata": {},
     "output_type": "execute_result"
    }
   ],
   "source": [
    "last_events"
   ]
  },
  {
   "cell_type": "markdown",
   "metadata": {
    "collapsed": true
   },
   "source": [
    "## 6. Create Timing Profiles"
   ]
  },
  {
   "cell_type": "markdown",
   "metadata": {},
   "source": [
    "### Get all Timings"
   ]
  },
  {
   "cell_type": "code",
   "execution_count": 785,
   "metadata": {
    "collapsed": true
   },
   "outputs": [],
   "source": [
    "def extract_time_profiles(events):\n",
    "    \"\"\" Time profiles are part of the lambda output which is returned as a json formated string \"\"\"\n",
    "    _log(\"Extracting time profiles\")\n",
    "    lambda_outputs = [x['lambdaFunctionSucceededEventDetails']['output'] for x in events if x['type'] == 'LambdaFunctionSucceeded']\n",
    "    time_profiles = [json.loads(x)['time-profile'] for x in lambda_outputs]\n",
    "\n",
    "    time_profiles_by_lambda = defaultdict(list)\n",
    "    for profile in time_profiles:\n",
    "        time_profiles_by_lambda[profile['lambda']].append(profile)\n",
    "\n",
    "    return time_profiles_by_lambda"
   ]
  },
  {
   "cell_type": "code",
   "execution_count": 786,
   "metadata": {
    "collapsed": true
   },
   "outputs": [],
   "source": [
    "def get_all_events(executionARNs):\n",
    "    events = []\n",
    "    for executionARN in executionARNs:\n",
    "        _log('Retrieving execution history for {}'.format(executionARN))\n",
    "        response = sfn_client.get_execution_history(executionArn=executionARN)\n",
    "        events.extend(response['events'])\n",
    "\n",
    "        while response.has_key('nextToken'):\n",
    "            _log('Loading further events')\n",
    "            response = sfn_client.get_execution_history(\n",
    "                executionArn=executionARN,\n",
    "                nextToken=response['nextToken']\n",
    "            )\n",
    "            events.extend(response['events'])\n",
    "\n",
    "    return events"
   ]
  },
  {
   "cell_type": "code",
   "execution_count": 795,
   "metadata": {
    "collapsed": true
   },
   "outputs": [],
   "source": [
    "def parse_time_profiles(executionARNs):\n",
    "    events = get_all_events(executionARNs)\n",
    "    time_profiles_by_lambda = extract_time_profiles(events)\n",
    "    return time_profiles_by_lambda"
   ]
  },
  {
   "cell_type": "code",
   "execution_count": 794,
   "metadata": {
    "collapsed": true
   },
   "outputs": [],
   "source": [
    "example_time_profiles_by_lambda ={\n",
    "             u'accumulate': [{u'execution': 463,\n",
    "               u'lambda': u'accumulate',\n",
    "               u's3-down': 181,\n",
    "               u's3-up': 272}],\n",
    "             u'collect': [{u'execution': 2978,\n",
    "               u'lambda': u'collect',\n",
    "               u's3-down': 1741,\n",
    "               u's3-up': 1166}],\n",
    "             u'intermediate': [{u'execution': 2303,\n",
    "               u'lambda': u'intermediate',\n",
    "               u's3-down': 923,\n",
    "               u's3-up': 189},\n",
    "              {u'execution': 2693,\n",
    "               u'lambda': u'intermediate',\n",
    "               u's3-down': 980,\n",
    "               u's3-up': 518},\n",
    "              {u'execution': 2152,\n",
    "               u'lambda': u'intermediate',\n",
    "               u's3-down': 735,\n",
    "               u's3-up': 247},\n",
    "              {u'execution': 2295,\n",
    "               u'lambda': u'intermediate',\n",
    "               u's3-down': 902,\n",
    "               u's3-up': 261},\n",
    "              {u'execution': 2288,\n",
    "               u'lambda': u'intermediate',\n",
    "               u's3-down': 868,\n",
    "               u's3-up': 242},\n",
    "              {u'execution': 2489,\n",
    "               u'lambda': u'intermediate',\n",
    "               u's3-down': 993,\n",
    "               u's3-up': 347},\n",
    "              {u'execution': 2416,\n",
    "               u'lambda': u'intermediate',\n",
    "               u's3-down': 1000,\n",
    "               u's3-up': 299}]}"
   ]
  },
  {
   "cell_type": "markdown",
   "metadata": {},
   "source": [
    "## Plot Results"
   ]
  },
  {
   "cell_type": "code",
   "execution_count": 13,
   "metadata": {
    "collapsed": true
   },
   "outputs": [],
   "source": [
    "def plot_timing_profile(timings, lambda_type, state_machine_name, plot_folder, save_to_file=True):\n",
    "    # e.g. './block_size_1000/sq_2kx2k_intermediate.png'\n",
    "    plot_path = '{}/{}_{}.png'.format(folder, state_machine_name, lambda_type)\n",
    "    _log('Creating plot {}'.format(plot_path))\n",
    "    \n",
    "    N = len(timings.down)\n",
    "    index = np.arange(N)    # the x locations for the groups\n",
    "    width = 0.5           # the width of the bars: can also be len(x) sequence\n",
    "\n",
    "    fig, ax = plt.subplots()\n",
    "\n",
    "    p1 = plt.bar(index, timings.down, width, color='b')\n",
    "    p2 = plt.bar(index, timings.up, width, color='c', bottom=timings.down)\n",
    "    p3 = plt.bar(index, timings.calculation, width, color='m', bottom=np.add(timings.down,timings.up))\n",
    "\n",
    "    # ax.set_ybound() # take the max value of execution plus 100\n",
    "    # ax.set_xbound() # number of intermediate lambdas?\n",
    "\n",
    "    ax.set_ylabel('time in ms')\n",
    "    ax.set_xlabel('execution index, 0 is averages across executions')\n",
    "    ax.set_title('Timing profiles for {}-lambda executions.'.format(lambda_type))\n",
    "    ax.legend((p3, p2, p1), ('Calculation', 'S3 upload','S3 download'), loc=4)\n",
    "\n",
    "    if (save_to_file):\n",
    "        plt.savefig(os.path.join(BENCHMARKS_FOLDER, plot_path), dpi=500)\n",
    "    else:\n",
    "        plt.show()"
   ]
  },
  {
   "cell_type": "code",
   "execution_count": 798,
   "metadata": {
    "collapsed": true
   },
   "outputs": [],
   "source": [
    "def collect_values(time_profiles_by_lambda, add_average=True):\n",
    "    \"\"\"collect values into arrays and return them as a timings tuple\"\"\"\n",
    "    s3_down ,s3_up ,calcs = [], [] ,[]\n",
    "    for item in time_profiles_by_lambda:\n",
    "        s3_down.append(item['s3-down'])\n",
    "        s3_up.append(item['s3-up'])\n",
    "        calcs.append(item['execution']-item['s3-down']-item['s3-up'])\n",
    "    \n",
    "    if add_average:\n",
    "        # add the average as the first value\n",
    "        s3_down = np.append(np.average(s3_down), s3_down)\n",
    "        s3_up = np.append(np.average(s3_up), s3_up)\n",
    "        calcs = np.append(np.average(calcs), calcs)\n",
    "      \n",
    "    return Timings(s3_down, s3_up, calcs)"
   ]
  },
  {
   "cell_type": "code",
   "execution_count": 799,
   "metadata": {
    "collapsed": true
   },
   "outputs": [],
   "source": [
    "def plot_time_profiles(time_profiles_by_lambda, state_machine_name, folder):\n",
    "    _log(\"Plotting time profiles for {}\".format(state_machine_name))\n",
    "\n",
    "    for lambda_type in time_profiles_by_lambda.keys():\n",
    "        timings = collect_values(time_profiles_by_lambda[lambda_type], add_average=True)\n",
    "        plot_timing_profile(timings, lambda_type, state_machine_name, folder)"
   ]
  },
  {
   "cell_type": "markdown",
   "metadata": {},
   "source": [
    "### Intermediate Timings"
   ]
  },
  {
   "cell_type": "code",
   "execution_count": 707,
   "metadata": {},
   "outputs": [
    {
     "data": {
      "image/png": "[encoded data removed]",
      "text/plain": [
       "<matplotlib.figure.Figure at 0x1116843d0>"
      ]
     },
     "metadata": {},
     "output_type": "display_data"
    }
   ],
   "source": [
    "lambda_type = 'intermediate'\n",
    "intermediate_timings = collect_values(time_profiles_by_lambda[lambda_type], add_average=True)\n",
    "plot_timing_profile(intermediate_timings, lambda_type)"
   ]
  },
  {
   "cell_type": "markdown",
   "metadata": {},
   "source": [
    "### Collector Timings"
   ]
  },
  {
   "cell_type": "code",
   "execution_count": 676,
   "metadata": {},
   "outputs": [
    {
     "data": {
      "image/png": "[encoded data removed]",
      "text/plain": [
       "<matplotlib.figure.Figure at 0x11078c750>"
      ]
     },
     "metadata": {},
     "output_type": "display_data"
    }
   ],
   "source": [
    "lambda_type = 'collect'\n",
    "collect_timings = collect_values(time_profiles_by_lambda[lambda_type], add_average=True)\n",
    "plot_timing_profile(collect_timings, lambda_type)"
   ]
  },
  {
   "cell_type": "markdown",
   "metadata": {},
   "source": [
    "### Accumulator Timings"
   ]
  },
  {
   "cell_type": "code",
   "execution_count": 674,
   "metadata": {},
   "outputs": [
    {
     "data": {
      "image/png": "[encoded data removed]",
      "text/plain": [
       "<matplotlib.figure.Figure at 0x111303e90>"
      ]
     },
     "metadata": {},
     "output_type": "display_data"
    }
   ],
   "source": [
    "lambda_type = 'accumulate'\n",
    "plot_timing_profile(timings, 'all lambda')"
   ]
  },
  {
   "cell_type": "markdown",
   "metadata": {},
   "source": [
    "### Combined Timings from file"
   ]
  },
  {
   "cell_type": "code",
   "execution_count": 36,
   "metadata": {
    "collapsed": true
   },
   "outputs": [],
   "source": [
    "# Load timings from csv\n",
    "folder = '/Users/Johannes/Uni/Master/Master Arbeit/repos/matrix-operations/benchmarks/v2_benchmark_bs2/block_size_2000/'\n",
    "filename = 'v2_benchmark_bs2-4kx4k.csv'\n",
    "\n",
    "path = os.path.join(folder, filename)\n",
    "\n",
    "with open(path, 'r') as f:\n",
    "    reader = csv.DictReader(f, delimiter=',')\n",
    "    # 'type','down','up','execution'\n",
    "    up, down, calculation = [], [], []\n",
    "    for row in reader:\n",
    "        up.append(row['up']) \n",
    "        down.append(row['down'])\n",
    "        calculation.append(int(row['execution']) - int(row['down']) - int(row['up']))\n",
    "combined_timings = Timings(np.array(up, dtype=int), np.array(down, dtype=int), np.array(calculcation, dtype=int))"
   ]
  },
  {
   "cell_type": "code",
   "execution_count": 37,
   "metadata": {},
   "outputs": [
    {
     "data": {
      "text/plain": [
       "Timings(down=array([4587, 5021,  976, 1446, 1085, 1310, 1243, 1382, 2081]), up=array([2002, 7614, 2085, 2818, 3441, 3414, 3775, 3583, 3250]), calculation=array([ 132,  385, 9362, 9247, 8897, 9248, 9383, 9444, 9268]))"
      ]
     },
     "execution_count": 37,
     "metadata": {},
     "output_type": "execute_result"
    }
   ],
   "source": [
    "combined_timings"
   ]
  },
  {
   "cell_type": "code",
   "execution_count": 38,
   "metadata": {},
   "outputs": [
    {
     "name": "stdout",
     "output_type": "stream",
     "text": [
      "22.09.17 13:51:08 > Creating plot /Users/Johannes/Uni/Master/Master Arbeit/repos/matrix-operations/benchmarks/v2_benchmark_bs2/block_size_2000//v2_benchmark_bs2-8kx8k_combined.png\n"
     ]
    },
    {
     "data": {
      "image/png": "[encoded data removed]",
      "text/plain": [
       "<matplotlib.figure.Figure at 0x111046ed0>"
      ]
     },
     "metadata": {},
     "output_type": "display_data"
    }
   ],
   "source": [
    "plot_timing_profile(combined_timings, \"combined\", \"v2_benchmark_bs2-8kx8k\", \"plot-folder\", save_to_file=False)"
   ]
  },
  {
   "cell_type": "code",
   "execution_count": 76,
   "metadata": {
    "collapsed": true
   },
   "outputs": [],
   "source": [
    "def plot_time_distribution(up, down, calculation):\n",
    "    # Pie chart, where the slices will be ordered and plotted counter-clockwise:\n",
    "    labels = 'up', 'down', 'calculation'\n",
    "    sizes = [up, down, calculation]\n",
    "    explode = (0, 0, 0.1)  # only \"explode\" the 2nd slice (i.e. 'Hogs')\n",
    "\n",
    "    fig1, ax1 = plt.subplots()\n",
    "    ax1.pie(sizes, explode=explode, labels=labels, autopct='%1.1f%%',\n",
    "            shadow=False, startangle=90)\n",
    "    ax1.axis('equal')  # Equal aspect ratio ensures that pie is drawn as a circle.\n",
    "\n",
    "    plt.show()"
   ]
  },
  {
   "cell_type": "code",
   "execution_count": 77,
   "metadata": {},
   "outputs": [
    {
     "data": {
      "image/png": "[encoded data removed]",
      "text/plain": [
       "<matplotlib.figure.Figure at 0x1104318d0>"
      ]
     },
     "metadata": {},
     "output_type": "display_data"
    }
   ],
   "source": [
    "plot_time_distribution(np.sum(combined_timings.up), np.sum(combined_timings.down), np.sum(combined_timings.calculation))"
   ]
  },
  {
   "cell_type": "code",
   "execution_count": 101,
   "metadata": {},
   "outputs": [
    {
     "data": {
      "text/plain": [
       "{u'ETag': '\"c2fd187af5f8937bf52ad74880ae3e09\"',\n",
       " 'ResponseMetadata': {'HTTPHeaders': {'content-length': '0',\n",
       "   'date': 'Fri, 22 Sep 2017 15:22:14 GMT',\n",
       "   'etag': '\"c2fd187af5f8937bf52ad74880ae3e09\"',\n",
       "   'server': 'AmazonS3',\n",
       "   'x-amz-id-2': 'xC1KupFOijlB/Br/2Z5GF36R/ftfxvlUWxkU4KGIYP3822fmn/ia8es7D5hC2T1rQkd4/0hUycs=',\n",
       "   'x-amz-request-id': '49593830053D54FF'},\n",
       "  'HTTPStatusCode': 200,\n",
       "  'HostId': 'xC1KupFOijlB/Br/2Z5GF36R/ftfxvlUWxkU4KGIYP3822fmn/ia8es7D5hC2T1rQkd4/0hUycs=',\n",
       "  'RequestId': '49593830053D54FF',\n",
       "  'RetryAttempts': 0}}"
      ]
     },
     "execution_count": 101,
     "metadata": {},
     "output_type": "execute_result"
    }
   ],
   "source": [
    "data = np.array([1,2,3])\n",
    "s3_client.put_object(Body=data.dumps(), Bucket='jmue-matrix-tests', Key='put-object')"
   ]
  },
  {
   "cell_type": "code",
   "execution_count": 88,
   "metadata": {
    "collapsed": true
   },
   "outputs": [],
   "source": [
    "def download_s3_file(bucket, folder, filename, s3_client):\n",
    "    if not os.path.exists('/tmp/' + folder):\n",
    "        os.mkdir('/tmp/' + folder)\n",
    "\n",
    "    key = folder + \"/\" + filename # e.g. 'S3_U0_m2'\n",
    "    s3_client.download_file(bucket, key, '/tmp/' + key)\n",
    "    return '/tmp/' + key"
   ]
  },
  {
   "cell_type": "code",
   "execution_count": 102,
   "metadata": {},
   "outputs": [
    {
     "data": {
      "text/plain": [
       "array([1, 2, 3])"
      ]
     },
     "execution_count": 102,
     "metadata": {},
     "output_type": "execute_result"
    }
   ],
   "source": [
    "s3_client.download_file('jmue-matrix-tests', 'put-object', '/tmp/put-object')\n",
    "np.load('/tmp/put-object')"
   ]
  },
  {
   "cell_type": "markdown",
   "metadata": {},
   "source": [
    "## Save raw data to file"
   ]
  },
  {
   "cell_type": "code",
   "execution_count": 801,
   "metadata": {
    "collapsed": true
   },
   "outputs": [],
   "source": [
    "def save_raw_data(time_profiles_by_lambda, csv_path):\n",
    "    _log(\"Writing time profiles to file: {}\".format(csv_path))\n",
    "    with open(csv_path, 'wb') as file:\n",
    "        writer =  csv.writer(file, delimiter=',')\n",
    "        writer.writerow(['type','down','up','execution'])\n",
    "        for lambda_type in time_profiles_by_lambda.keys():\n",
    "            timings = time_profiles_by_lambda[lambda_type]\n",
    "            for t in timings:\n",
    "                writer.writerow([lambda_type, t['s3-down'], t['s3-up'], t['execution']])"
   ]
  },
  {
   "cell_type": "code",
   "execution_count": 1,
   "metadata": {},
   "outputs": [
    {
     "ename": "NameError",
     "evalue": "name 'time_profiles_by_lambda' is not defined",
     "output_type": "error",
     "traceback": [
      "\u001b[0;31m---------------------------------------------------------------------------\u001b[0m",
      "\u001b[0;31mNameError\u001b[0m                                 Traceback (most recent call last)",
      "\u001b[0;32m<ipython-input-1-f877ed32f35d>\u001b[0m in \u001b[0;36m<module>\u001b[0;34m()\u001b[0m\n\u001b[0;32m----> 1\u001b[0;31m \u001b[0mtime_profiles_by_lambda\u001b[0m\u001b[0;34m\u001b[0m\u001b[0m\n\u001b[0m",
      "\u001b[0;31mNameError\u001b[0m: name 'time_profiles_by_lambda' is not defined"
     ]
    }
   ],
   "source": [
    "time_profiles_by_lambda"
   ]
  },
  {
   "cell_type": "code",
   "execution_count": 714,
   "metadata": {
    "collapsed": true
   },
   "outputs": [],
   "source": []
  },
  {
   "cell_type": "markdown",
   "metadata": {},
   "source": [
    "## Print Metadata\n",
    "\n",
    "number of elements, number of intermediate-, collect-, accumulate-lambdas ..."
   ]
  },
  {
   "cell_type": "markdown",
   "metadata": {},
   "source": [
    "## EXECUTE BENCHMARK"
   ]
  },
  {
   "cell_type": "code",
   "execution_count": null,
   "metadata": {
    "collapsed": true
   },
   "outputs": [],
   "source": [
    "########################\n",
    "### GLOBAL CONSTANTS ###\n",
    "########################\n",
    "\n",
    "BLOCK_SIZE = 1000\n",
    "BUCKET = 'jmue-multiplication-benchmarks'\n",
    "PREFIX = 'sq'\n",
    "BENCHMARKS_FOLDER = '/Users/Johannes/Uni/Master/Master Arbeit/repos/matrix-operations/benchmarks/'\n",
    "SFN_PREFIX = 'log-test'\n",
    "\n",
    "########################\n",
    "###   Main Programm  ###\n",
    "########################\n",
    "\n",
    "# folder where all the plots, csv, and log files are written\n",
    "folder = os.path.join(BENCHMARKS_FOLDER,'block_size_{}'.format(BLOCK_SIZE), SFN_PREFIX)\n",
    "if not os.path.exists(folder):\n",
    "    os.mkdir(folder)\n",
    "LOG_FILE = open(os.path.join(folder, SFN_PREFIX + '.log'), 'a')\n",
    "\n",
    "_log('benchmark parameters:\\n  BLOCK_SIZE:{}\\n  BUCKET:{}\\n  PREFIX:{}\\n  BENCHMARKS_FOLDER:{}\\n  SFN_PREFIX:{}'.format(\n",
    "                                BLOCK_SIZE, BUCKET, PREFIX, BENCHMARKS_FOLDER, SFN_PREFIX))\n",
    "\n",
    "matrix_dimension_sets = [\n",
    "        MatrixDimensions(height=2000, width=2000),\n",
    "        # MatrixDimensions(height=3000, width=3000),\n",
    "        # MatrixDimensions(height=4000, width=4000)\n",
    "        # MatrixDimensions(height=5000, width=5000)\n",
    "]\n",
    "\n",
    "_log(str(matrix_dimension_sets))\n",
    "\n",
    "for matrix_dimensions in matrix_dimension_sets:\n",
    "    matrix_name = '{}_{}kx{}k'.format(PREFIX, matrix_dimensions.height/1000, matrix_dimensions.width/1000)\n",
    "    _log('Benchmarking {}'.format(matrix_name))\n",
    "\n",
    "    # create_matrices(matrix_dimensions, matrix_name)\n",
    "    # deploy_matrices(matrix_name)\n",
    "\n",
    "    state_machine_name = '{}-{}kx{}k'.format(SFN_PREFIX, matrix_dimensions.height/1000, matrix_dimensions.width/1000)\n",
    "    execution_info = invoke_matrix_multiplication(\n",
    "            state_machine_name=state_machine_name,\n",
    "            executionName=state_machine_name,\n",
    "            name_matrixA=matrix_name,\n",
    "            name_matrixB=matrix_name + '-2'\n",
    "    )\n",
    "    split_executionARNs = [x['executionARN'] for x in execution_info['split-executions']]\n",
    "    _log(\"Waiting for pending executions to finish...\")\n",
    "    while executions_pending(split_executionARNs):\n",
    "        sleep(2)\n",
    "\n",
    "    time_profiles_by_lambda = parse_time_profiles(split_executionARNs)\n",
    "    save_raw_data(time_profiles_by_lambda, csv_path=os.path.join(folder, state_machine_name + '.csv'))\n",
    "    plot_time_profiles(time_profiles_by_lambda, state_machine_name, folder)\n",
    "\n",
    "# compare_time_profiles()\n",
    "\n",
    "LOG_FILE.close()\n"
   ]
  },
  {
   "cell_type": "markdown",
   "metadata": {},
   "source": [
    "## 7. Compare Timings"
   ]
  },
  {
   "cell_type": "markdown",
   "metadata": {},
   "source": [
    "### Baseline Lambda"
   ]
  },
  {
   "cell_type": "code",
   "execution_count": 111,
   "metadata": {
    "collapsed": true
   },
   "outputs": [],
   "source": [
    "import matplotlib.pyplot as plt"
   ]
  },
  {
   "cell_type": "code",
   "execution_count": 139,
   "metadata": {},
   "outputs": [
    {
     "data": {
      "text/plain": [
       "<matplotlib.text.Text at 0x10fe687d0>"
      ]
     },
     "execution_count": 139,
     "metadata": {},
     "output_type": "execute_result"
    },
    {
     "data": {
      "image/png": "[encoded data removed]",
      "text/plain": [
       "<matplotlib.figure.Figure at 0x10fdf9290>"
      ]
     },
     "metadata": {},
     "output_type": "display_data"
    }
   ],
   "source": [
    "%matplotlib inline\n",
    "x = [2000, 4000, 5000, 6000, 8000]\n",
    "y = [5.293, 36.736, 83.031, 124.862, 295.771]\n",
    "mem = [ 87.4, 87.6 ,87.3 ,87.8,152.3]\n",
    "\n",
    "fig, ax = plt.subplots()\n",
    "ax.plot(x, y, color='red', linestyle='--', linewidth=2, marker='s')\n",
    "ax.plot(x, mem, color='blue', linestyle='--', linewidth=2, marker='s')\n",
    "ax.grid()\n",
    "ax.set_xlabel('x')\n",
    "ax.set_ylabel('time in s')\n",
    "ax.set_title('f(x) = x * x')"
   ]
  },
  {
   "cell_type": "code",
   "execution_count": null,
   "metadata": {
    "collapsed": true
   },
   "outputs": [],
   "source": []
  },
  {
   "cell_type": "markdown",
   "metadata": {},
   "source": [
    "### Input Format"
   ]
  },
  {
   "cell_type": "code",
   "execution_count": null,
   "metadata": {
    "collapsed": true
   },
   "outputs": [],
   "source": [
    "{\n",
    "  \"matA\": {\n",
    "    \"bucket\": \"jmue-matrix-tests\",\n",
    "    \"key\": \"sc4000\",\n",
    "    \"split\": { ... }\n",
    "  },\n",
    "  \"matB\": {\n",
    "      \"bucket\": \"jmue-matrix-tests\",\n",
    "      \"key\": \"sc4000t\",\n",
    "      \"split\": { ... }\n",
    "  },\n",
    "  \"result\": {\n",
    "      \"bucket\": \"jmue-matrix-tests\",\n",
    "      \"key\": \"sc4000-result\"\n",
    "  }\n",
    "}\n",
    "\n",
    "{\n",
    "  \"matA\": {\n",
    "    \"bucket\": \"jmue-matrix-tests\",\n",
    "    \"key\": \"sc4000\",\n",
    "    \"split\": {\n",
    "      \"x1\": 0,\n",
    "      \"y1\": 0,\n",
    "      \"x2\":1000,\n",
    "      \"y2\":1000\n",
    "    }\n",
    "  },\n",
    "  \"matB\": {\n",
    "      \"bucket\": \"jmue-matrix-tests\",\n",
    "      \"key\": \"sc4000t\",\n",
    "      \"split\": {\n",
    "        \"x1\": 0,\n",
    "        \"y1\": 0,\n",
    "        \"x2\":1000,\n",
    "        \"y2\":1000\n",
    "      }\n",
    "  },\n",
    "  \"result\": {\n",
    "      \"bucket\": \"jmue-matrix-tests\",\n",
    "      \"key\": \"sc4000-result\"\n",
    "  }\n",
    "}\n",
    "\n",
    "# A split\n",
    "{\n",
    "  \"split\": {\n",
    "    \"x1\": 0,\n",
    "    \"y1\": 0,\n",
    "    \"x2\":1000,\n",
    "    \"y2\":1000\n",
    "  }\n",
    "}"
   ]
  },
  {
   "cell_type": "code",
   "execution_count": 175,
   "metadata": {},
   "outputs": [
    {
     "name": "stdout",
     "output_type": "stream",
     "text": [
      "sc4000/m_0_0.npy\n"
     ]
    }
   ],
   "source": [
    "matrix = { \"bucket\": \"jmue-matrix-tests\", \"key\": \"sc4000\", \"split\": { \"x1\": 0, \"y1\": 0, \"x2\":1000, \"y2\":1000 } }\n",
    "x1 = matrix['split']['x1']\n",
    "y1 = matrix['split']['y1']\n",
    "key = matrix['key'] +  \"/m_\" + str(x1) + \"_\" + str(y1) + \".npy\"\n",
    "print key"
   ]
  },
  {
   "cell_type": "code",
   "execution_count": 184,
   "metadata": {},
   "outputs": [
    {
     "name": "stdout",
     "output_type": "stream",
     "text": [
      "False\n"
     ]
    }
   ],
   "source": [
    "if not False:\n",
    "    print \"False\""
   ]
  },
  {
   "cell_type": "code",
   "execution_count": 185,
   "metadata": {
    "collapsed": true
   },
   "outputs": [],
   "source": [
    "if not os.path.exists('/tmp/' + matrix['key']):\n",
    "    os.mkdir('/tmp/' + matrix['key'])\n",
    "s3_client.download_file('jmue-matrix-tests', key, '/tmp/' + key)\n",
    "split = np.load('/tmp/' + key)"
   ]
  },
  {
   "cell_type": "code",
   "execution_count": 174,
   "metadata": {},
   "outputs": [
    {
     "data": {
      "text/plain": [
       "array([[   0,    1,    2, ...,  997,  998,  999],\n",
       "       [   1,    2,    3, ...,  998,  999, 1000],\n",
       "       [   2,    3,    4, ...,  999, 1000, 1001],\n",
       "       ..., \n",
       "       [ 997,  998,  999, ..., 1994, 1995, 1996],\n",
       "       [ 998,  999, 1000, ..., 1995, 1996, 1997],\n",
       "       [ 999, 1000, 1001, ..., 1996, 1997, 1998]])"
      ]
     },
     "execution_count": 174,
     "metadata": {},
     "output_type": "execute_result"
    }
   ],
   "source": [
    "split"
   ]
  },
  {
   "cell_type": "code",
   "execution_count": null,
   "metadata": {
    "collapsed": true
   },
   "outputs": [],
   "source": []
  },
  {
   "cell_type": "code",
   "execution_count": null,
   "metadata": {
    "collapsed": true
   },
   "outputs": [],
   "source": []
  },
  {
   "cell_type": "code",
   "execution_count": null,
   "metadata": {
    "collapsed": true
   },
   "outputs": [],
   "source": []
  },
  {
   "cell_type": "code",
   "execution_count": 5,
   "metadata": {
    "collapsed": true
   },
   "outputs": [],
   "source": [
    "import json\n",
    "import math"
   ]
  },
  {
   "cell_type": "code",
   "execution_count": 83,
   "metadata": {
    "collapsed": true
   },
   "outputs": [],
   "source": [
    "b = 5\n",
    "a = {\"key\": b, \"key2\": \"Hello\"}\n",
    "sfn_input = json.dumps({\"value\": a[\"key\"]})"
   ]
  },
  {
   "cell_type": "code",
   "execution_count": 84,
   "metadata": {},
   "outputs": [
    {
     "data": {
      "text/plain": [
       "'{\"value\": 5}'"
      ]
     },
     "execution_count": 84,
     "metadata": {},
     "output_type": "execute_result"
    }
   ],
   "source": [
    "sfn_input"
   ]
  },
  {
   "cell_type": "code",
   "execution_count": 98,
   "metadata": {},
   "outputs": [
    {
     "data": {
      "text/plain": [
       "3"
      ]
     },
     "execution_count": 98,
     "metadata": {},
     "output_type": "execute_result"
    }
   ],
   "source": [
    "int(math.ceil(4030.0/2000.0))"
   ]
  },
  {
   "cell_type": "code",
   "execution_count": null,
   "metadata": {
    "collapsed": true
   },
   "outputs": [],
   "source": []
  },
  {
   "cell_type": "code",
   "execution_count": 150,
   "metadata": {
    "collapsed": true
   },
   "outputs": [],
   "source": [
    "ssl = 1000\n",
    "def call_multi(i,j,k):\n",
    "    print \"x1\", str(i*ssl), \"y1\", str(k*ssl), \"| x1\", str(k*ssl), \"y1\", str(j*ssl)\n",
    "    print \"x2\", str((i+1)*ssl), \"y2\", str((k+1)*ssl), \"| x2\", str((k+1)*ssl), \"y2\", str((j+1)*ssl)"
   ]
  },
  {
   "cell_type": "code",
   "execution_count": 151,
   "metadata": {},
   "outputs": [
    {
     "name": "stdout",
     "output_type": "stream",
     "text": [
      "A11*B11\n",
      "x1 0 y1 0 | x1 0 y1 0\n",
      "x2 1000 y2 1000 | x2 1000 y2 1000\n",
      "A12*B21\n",
      "x1 0 y1 1000 | x1 1000 y1 0\n",
      "x2 1000 y2 2000 | x2 2000 y2 1000\n",
      "\n",
      "A11*B12\n",
      "x1 0 y1 0 | x1 0 y1 1000\n",
      "x2 1000 y2 1000 | x2 1000 y2 2000\n",
      "A12*B22\n",
      "x1 0 y1 1000 | x1 1000 y1 1000\n",
      "x2 1000 y2 2000 | x2 2000 y2 2000\n",
      "\n",
      "A21*B11\n",
      "x1 1000 y1 0 | x1 0 y1 0\n",
      "x2 2000 y2 1000 | x2 1000 y2 1000\n",
      "A22*B21\n",
      "x1 1000 y1 1000 | x1 1000 y1 0\n",
      "x2 2000 y2 2000 | x2 2000 y2 1000\n",
      "\n",
      "A21*B12\n",
      "x1 1000 y1 0 | x1 0 y1 1000\n",
      "x2 2000 y2 1000 | x2 1000 y2 2000\n",
      "A22*B22\n",
      "x1 1000 y1 1000 | x1 1000 y1 1000\n",
      "x2 2000 y2 2000 | x2 2000 y2 2000\n",
      "\n",
      "A31*B11\n",
      "x1 2000 y1 0 | x1 0 y1 0\n",
      "x2 3000 y2 1000 | x2 1000 y2 1000\n",
      "A32*B21\n",
      "x1 2000 y1 1000 | x1 1000 y1 0\n",
      "x2 3000 y2 2000 | x2 2000 y2 1000\n",
      "\n",
      "A31*B12\n",
      "x1 2000 y1 0 | x1 0 y1 1000\n",
      "x2 3000 y2 1000 | x2 1000 y2 2000\n",
      "A32*B22\n",
      "x1 2000 y1 1000 | x1 1000 y1 1000\n",
      "x2 3000 y2 2000 | x2 2000 y2 2000\n",
      "\n"
     ]
    }
   ],
   "source": [
    "m = 3\n",
    "n = 2\n",
    "p = 2\n",
    "\n",
    "for i in range(m):\n",
    "    for j in range(n):\n",
    "        for k in range(p):\n",
    "            print \"A\" + str(i+1) + str(k+1) + \"*\" + \"B\" + str(k+1) + str(j+1)\n",
    "            call_multi(i,j,k)\n",
    "        print \"\""
   ]
  },
  {
   "cell_type": "code",
   "execution_count": null,
   "metadata": {
    "collapsed": true
   },
   "outputs": [],
   "source": []
  },
  {
   "cell_type": "code",
   "execution_count": null,
   "metadata": {
    "collapsed": true
   },
   "outputs": [],
   "source": []
  },
  {
   "cell_type": "code",
   "execution_count": null,
   "metadata": {
    "collapsed": true
   },
   "outputs": [],
   "source": []
  },
  {
   "cell_type": "code",
   "execution_count": 242,
   "metadata": {
    "collapsed": true
   },
   "outputs": [],
   "source": [
    "def partition(matrix, x, y):\n",
    "    split = matrix['split']\n",
    "    x += split['x1']/1000\n",
    "    y += split['y1']/1000\n",
    "    partition_factor = ((split['x2']-split['x1'])/2)/1000 # length of split us twice the size of a partition\n",
    "\n",
    "    filename = \"m_\" + str(partition_factor*x) + \"_\" + str(partition_factor*y) + \".npy\"\n",
    "    key = matrix['folder'] + \"/\" + filename # e.g. m_0_0.npy\n",
    "\n",
    "    if not os.path.exists('/tmp/' + matrix['folder']):\n",
    "        os.mkdir('/tmp/' + matrix['folder'])\n",
    "\n",
    "    print key\n",
    "    s3_client.download_file(matrix['bucket'], key, '/tmp/' + key)\n",
    "    return np.load('/tmp/' + key)"
   ]
  },
  {
   "cell_type": "code",
   "execution_count": 241,
   "metadata": {
    "collapsed": true
   },
   "outputs": [],
   "source": [
    "s3_client.download_file(\"jmue-matrix-tests\", \"sc4000/m_3_2.npy\", '/tmp/sc4000/m_3_2.npy')"
   ]
  },
  {
   "cell_type": "code",
   "execution_count": 244,
   "metadata": {},
   "outputs": [
    {
     "name": "stdout",
     "output_type": "stream",
     "text": [
      "sc4000/m_3_2.npy\n"
     ]
    },
    {
     "data": {
      "text/plain": [
       "array([[5000, 5001, 5002, ..., 5997, 5998, 5999],\n",
       "       [5001, 5002, 5003, ..., 5998, 5999, 6000],\n",
       "       [5002, 5003, 5004, ..., 5999, 6000, 6001],\n",
       "       ..., \n",
       "       [5997, 5998, 5999, ..., 6994, 6995, 6996],\n",
       "       [5998, 5999, 6000, ..., 6995, 6996, 6997],\n",
       "       [5999, 6000, 6001, ..., 6996, 6997, 6998]])"
      ]
     },
     "execution_count": 244,
     "metadata": {},
     "output_type": "execute_result"
    }
   ],
   "source": [
    "matrix = { \"bucket\": \"jmue-matrix-tests\", \"folder\": \"sc4000\", \"split\": { \"x1\": 2000, \"y1\": 2000, \"x2\":4000, \"y2\":4000 } }\n",
    "partition(matrix=matrix, x=1, y=0)"
   ]
  },
  {
   "cell_type": "code",
   "execution_count": null,
   "metadata": {
    "collapsed": true
   },
   "outputs": [],
   "source": []
  },
  {
   "cell_type": "markdown",
   "metadata": {},
   "source": [
    "## Building a State Machine in Code"
   ]
  },
  {
   "cell_type": "code",
   "execution_count": 78,
   "metadata": {
    "collapsed": true
   },
   "outputs": [],
   "source": [
    "def task_state(resource, next_state=None):\n",
    "    task_state = {\n",
    "            \"Type\": \"Task\",\n",
    "            \"Resource\": resource,\n",
    "            \"End\": True\n",
    "    }\n",
    "    if next_state is not None:\n",
    "        task_state[\"End\"] = False\n",
    "        task_state[\"Next\"] = next_state\n",
    "    return task_state"
   ]
  },
  {
   "cell_type": "code",
   "execution_count": 79,
   "metadata": {
    "collapsed": true
   },
   "outputs": [],
   "source": [
    "def pass_state(next_state, result=None, resultPath=None, outputPath=None):\n",
    "    return {\n",
    "              \"Type\": \"Pass\",\n",
    "              \"Result\": result,\n",
    "              \"ResultPath\": resultPath,\n",
    "              \"OutputPath\": outputPath,\n",
    "              \"Next\": next_state\n",
    "    }"
   ]
  },
  {
   "cell_type": "code",
   "execution_count": 114,
   "metadata": {
    "collapsed": true
   },
   "outputs": [],
   "source": [
    "def parallel_state(branches, next_state, resultPath=None, outputPath=None):\n",
    "    parallel_state = {\n",
    "            \"Type\": \"Parallel\",\n",
    "            \"Next\": next_state,\n",
    "            \"Branches\": branches\n",
    "    }\n",
    "    if resultPath is not None:\n",
    "        parallel_state[\"ResultPath\"] = resultPath\n",
    "    \n",
    "    if outputPath is not None:\n",
    "        parallel_state[\"OutputPath\"] = outputPath\n",
    "    \n",
    "    return parallel_state"
   ]
  },
  {
   "cell_type": "code",
   "execution_count": 81,
   "metadata": {
    "collapsed": true
   },
   "outputs": [],
   "source": [
    "def branch(startAt, states):\n",
    "    return {\n",
    "        \"StartAt\": startAt,\n",
    "        \"States\": states\n",
    "    }"
   ]
  },
  {
   "cell_type": "code",
   "execution_count": 118,
   "metadata": {
    "collapsed": true
   },
   "outputs": [],
   "source": [
    "def create_strassen_sfn(unit=\"\"):\n",
    "    branches = []\n",
    "    for index in range(0,7):\n",
    "        unit_m = \"U{}_m{}\".format(unit, index) # U0_m_0\n",
    "        unit_m_lambda = \"U{}_m{}_lambda\".format(unit, index) # U0_m_0_lambda\n",
    "        states = {\n",
    "            unit_m: pass_state(next_state=unit_m_lambda, result=index, resultPath=\"$.intermediate\", outputPath=\"$\"),\n",
    "            unit_m_lambda: task_state(resource=\"arn:aws:lambda:eu-central-1:146904559692:function:mmultiply-prod-strassen-split-intermediate\")\n",
    "        }\n",
    "        branches.append(branch(states=states, startAt=unit_m))\n",
    "\n",
    "    unit_name = \"unit\" + unit\n",
    "    i_name = \"U{}_Intermediate\".format(unit)\n",
    "    c_name = \"U{}_Collect\".format(unit)\n",
    "    \n",
    "    unit_setup = pass_state(next_state=i_name, result=unit, resultPath=\"$.unit\", outputPath=\"$\")\n",
    "    intermediates = parallel_state(branches=branches, next_state=c_name, resultPath=\"$.responses\", outputPath=\"$\")\n",
    "    collect = task_state(resource=\"arn:aws:lambda:eu-central-1:146904559692:function:mmultiply-prod-strassen-split-collector\")\n",
    "        \n",
    "    states = { unit_name: unit_setup, i_name: intermediates, c_name: collect }\n",
    "    return branch(startAt=unit_name, states=states)"
   ]
  },
  {
   "cell_type": "code",
   "execution_count": 122,
   "metadata": {
    "collapsed": true
   },
   "outputs": [],
   "source": [
    "accumulation_arn=\"arn:aws:lambda:eu-central-1:146904559692:function:mmultiply-prod-unit-accumulator\"\n",
    "unit_branches = []\n",
    "for i in range(0,2):\n",
    "    unit_branches.append(create_strassen_sfn(unit=str(i)))\n",
    "\n",
    "split_states = {\n",
    "    \"Accumulate\": task_state(resource=accumulation_arn),\n",
    "    \"Units\": parallel_state(branches=unit_branches, next_state=\"Accumulate\", resultPath=\"$.responses\", outputPath=\"$\")\n",
    "}\n",
    "partial = branch(startAt=\"Units\", states=split_states)"
   ]
  },
  {
   "cell_type": "code",
   "execution_count": 123,
   "metadata": {
    "collapsed": true
   },
   "outputs": [],
   "source": [
    "with open('/Users/Johannes/Uni/Master/Master Arbeit/repos/matrix-operations/state-machines/created.asl', 'w') as file:\n",
    "    json.dump(partial, file)"
   ]
  },
  {
   "cell_type": "code",
   "execution_count": null,
   "metadata": {
    "collapsed": true
   },
   "outputs": [],
   "source": []
  },
  {
   "cell_type": "code",
   "execution_count": 124,
   "metadata": {
    "collapsed": true
   },
   "outputs": [],
   "source": [
    "result = { \"folder\": \"sc4000-result\"}\n",
    "split = 3\n",
    "block_index = \"00\"\n",
    "response = s3_client.list_objects_v2(\n",
    "      Bucket=\"jmue-matrix-tests\",\n",
    "      Prefix=\"{}/S{}_X{}\".format(result['folder'], split, block_index)\n",
    "    )"
   ]
  },
  {
   "cell_type": "code",
   "execution_count": 125,
   "metadata": {},
   "outputs": [
    {
     "data": {
      "text/plain": [
       "{u'Contents': [{u'ETag': '\"675ba5b88cb01f66bd6b56d15646cc5e\"',\n",
       "   u'Key': 'sc4000-result/S3_X00_U0',\n",
       "   u'LastModified': datetime.datetime(2017, 8, 4, 15, 59, 30, tzinfo=tzutc()),\n",
       "   u'Size': 8000080,\n",
       "   u'StorageClass': 'STANDARD'},\n",
       "  {u'ETag': '\"675ba5b88cb01f66bd6b56d15646cc5e\"',\n",
       "   u'Key': 'sc4000-result/S3_X00_U1',\n",
       "   u'LastModified': datetime.datetime(2017, 8, 4, 15, 59, 25, tzinfo=tzutc()),\n",
       "   u'Size': 8000080,\n",
       "   u'StorageClass': 'STANDARD'}],\n",
       " u'IsTruncated': False,\n",
       " u'KeyCount': 2,\n",
       " u'MaxKeys': 1000,\n",
       " u'Name': 'jmue-matrix-tests',\n",
       " u'Prefix': 'sc4000-result/S3_X00',\n",
       " 'ResponseMetadata': {'HTTPHeaders': {'content-type': 'application/xml',\n",
       "   'date': 'Fri, 04 Aug 2017 16:19:37 GMT',\n",
       "   'server': 'AmazonS3',\n",
       "   'transfer-encoding': 'chunked',\n",
       "   'x-amz-bucket-region': 'eu-central-1',\n",
       "   'x-amz-id-2': 'e5IR4vIgZJX00HgHbBgBixJWhyqTlnZEKdV+bQatEGkGUysJGlAbJeewKRGgS4YVQvJ5IJth4g0=',\n",
       "   'x-amz-request-id': '11F1494C37A87A8E'},\n",
       "  'HTTPStatusCode': 200,\n",
       "  'HostId': 'e5IR4vIgZJX00HgHbBgBixJWhyqTlnZEKdV+bQatEGkGUysJGlAbJeewKRGgS4YVQvJ5IJth4g0=',\n",
       "  'RequestId': '11F1494C37A87A8E',\n",
       "  'RetryAttempts': 0}}"
      ]
     },
     "execution_count": 125,
     "metadata": {},
     "output_type": "execute_result"
    }
   ],
   "source": [
    "response"
   ]
  },
  {
   "cell_type": "code",
   "execution_count": null,
   "metadata": {
    "collapsed": true
   },
   "outputs": [],
   "source": []
  },
  {
   "cell_type": "code",
   "execution_count": null,
   "metadata": {
    "collapsed": true
   },
   "outputs": [],
   "source": []
  },
  {
   "cell_type": "code",
   "execution_count": null,
   "metadata": {
    "collapsed": true
   },
   "outputs": [],
   "source": []
  },
  {
   "cell_type": "markdown",
   "metadata": {},
   "source": [
    "### Padded matrix multiplication has the same result"
   ]
  },
  {
   "cell_type": "code",
   "execution_count": 5,
   "metadata": {},
   "outputs": [
    {
     "data": {
      "text/plain": [
       "True"
      ]
     },
     "execution_count": 5,
     "metadata": {},
     "output_type": "execute_result"
    }
   ],
   "source": [
    "import numpy as np\n",
    "j = np.array([[x for x in range(10)],\n",
    "              [x for x in range(10)],\n",
    "              [x for x in range(10)],\n",
    "              [x for x in range(10)],\n",
    "              [x for x in range(10)]])\n",
    "j_padded = np.array([[0, 1, 2, 3, 4, 5, 6, 7, 8, 9],\n",
    " [0, 1, 2, 3, 4, 5, 6, 7, 8, 9],\n",
    " [0, 1, 2, 3, 4, 5, 6, 7, 8, 9],\n",
    " [0, 1, 2, 3, 4, 5, 6, 7, 8, 9],\n",
    " [0, 1, 2, 3, 4, 5, 6, 7, 8, 9],\n",
    " [0, 0, 0, 0, 0, 0, 0, 0, 0, 0],\n",
    " [0, 0, 0, 0, 0, 0, 0, 0, 0, 0],\n",
    " [0, 0, 0, 0, 0, 0, 0, 0, 0, 0],\n",
    " [0, 0, 0, 0, 0, 0, 0, 0, 0, 0],\n",
    " [0, 0, 0, 0, 0, 0, 0, 0, 0, 0]])\n",
    "i = j.transpose()\n",
    "i_padded = j_padded.transpose()\n",
    "np.array_equal(i_padded.dot(j_padded), i.dot(j))"
   ]
  },
  {
   "cell_type": "code",
   "execution_count": null,
   "metadata": {
    "collapsed": true
   },
   "outputs": [],
   "source": []
  },
  {
   "cell_type": "code",
   "execution_count": null,
   "metadata": {
    "collapsed": true
   },
   "outputs": [],
   "source": []
  }
 ],
 "metadata": {
  "kernelspec": {
   "display_name": "Python 2",
   "language": "python",
   "name": "python2"
  },
  "language_info": {
   "codemirror_mode": {
    "name": "ipython",
    "version": 2
   },
   "file_extension": ".py",
   "mimetype": "text/x-python",
   "name": "python",
   "nbconvert_exporter": "python",
   "pygments_lexer": "ipython2",
   "version": "2.7.13"
  }
 },
 "nbformat": 4,
 "nbformat_minor": 2
}
