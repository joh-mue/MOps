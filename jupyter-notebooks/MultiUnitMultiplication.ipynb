{
 "cells": [
  {
   "cell_type": "markdown",
   "metadata": {
    "deletable": true,
    "editable": true
   },
   "source": [
    "## MultiUniMulitplication\n",
    "\n",
    "A unit is a Strassen-Multiplication StepFunction.\n",
    "Matrix multiplication to be performed is `m.dot(m.transpose)` with `m.dim(4000,4000)`.\n",
    "M will be divided into `4*4=16` matrix partitions of dimension `1000*1000`. Partitions will be named m_row_col from m_0_0, m_0_1 ... to m_3_3.\n",
    "\n",
    "\n",
    "m_0_0  |  m_0_1  |  m_0_2  |  m_0_3\n",
    "\n",
    "m_1_0  |  m_1_1  |  m_1_2  |  m_1_3\n",
    "\n",
    "m_2_0  |  m_2_1  |  m_2_2  |  m_2_3\n",
    "\n",
    "m_3_0  |  m_3_1  |  m_3_2  |  m_3_3"
   ]
  },
  {
   "cell_type": "code",
   "execution_count": null,
   "metadata": {
    "collapsed": true,
    "deletable": true,
    "editable": true
   },
   "outputs": [],
   "source": []
  },
  {
   "cell_type": "markdown",
   "metadata": {
    "deletable": true,
    "editable": true
   },
   "source": [
    "### Generate Matrix Partitions"
   ]
  },
  {
   "cell_type": "code",
   "execution_count": 3,
   "metadata": {
    "collapsed": true,
    "deletable": true,
    "editable": true
   },
   "outputs": [],
   "source": [
    "import numpy as np\n",
    "import os"
   ]
  },
  {
   "cell_type": "code",
   "execution_count": 3,
   "metadata": {
    "collapsed": true,
    "deletable": true,
    "editable": true
   },
   "outputs": [],
   "source": [
    "def create_square_staircase_matrix(n=10):\n",
    "    Matrix = [[1 for x in range(n)] for y in range(n)] \n",
    "    for i in range(n):\n",
    "        for j in range(n):\n",
    "            Matrix[i][j] = i+j\n",
    "    return np.array(Matrix)"
   ]
  },
  {
   "cell_type": "code",
   "execution_count": 257,
   "metadata": {
    "collapsed": false,
    "deletable": true,
    "editable": true
   },
   "outputs": [],
   "source": [
    "def write_partition_to_file(partition, directory, row, column):\n",
    "    if not os.path.exists(directory):\n",
    "        os.mkdir(directory)\n",
    "    path = os.path.join(directory, \"m_\" + str(row) + \"_\" + str(column))\n",
    "    np.save(path, partition)"
   ]
  },
  {
   "cell_type": "code",
   "execution_count": 259,
   "metadata": {
    "collapsed": false,
    "deletable": true,
    "editable": true
   },
   "outputs": [],
   "source": [
    "def split_matrix_into(matrix, x, y, partition_size):\n",
    "    '''split matrix into x*y partitions of given size'''\n",
    "    p = partition_size\n",
    "    for i in range(0,x):\n",
    "        for j in range(0,y):\n",
    "            partition = matrix[i*p:(i+1)*p, j*p:(j+1)*p]\n",
    "            write_partition_to_file(partition, \"/tmp/sc4000t\", i, j)"
   ]
  },
  {
   "cell_type": "code",
   "execution_count": 261,
   "metadata": {
    "collapsed": false,
    "deletable": true,
    "editable": true
   },
   "outputs": [],
   "source": [
    "sq_m = np.transpose(create_square_staircase_matrix(4000))\n",
    "split_matrix_into(sq_m, 4, 4, 1000)"
   ]
  },
  {
   "cell_type": "code",
   "execution_count": null,
   "metadata": {
    "collapsed": true,
    "deletable": true,
    "editable": true
   },
   "outputs": [],
   "source": []
  },
  {
   "cell_type": "markdown",
   "metadata": {
    "deletable": true,
    "editable": true
   },
   "source": [
    "### Upload Matrix Partitions"
   ]
  },
  {
   "cell_type": "code",
   "execution_count": 40,
   "metadata": {
    "collapsed": true,
    "deletable": true,
    "editable": true
   },
   "outputs": [],
   "source": [
    "import boto3"
   ]
  },
  {
   "cell_type": "code",
   "execution_count": 41,
   "metadata": {
    "collapsed": true,
    "deletable": true,
    "editable": true
   },
   "outputs": [],
   "source": [
    "s3_client = boto3.client('s3')"
   ]
  },
  {
   "cell_type": "code",
   "execution_count": 68,
   "metadata": {
    "collapsed": true,
    "deletable": true,
    "editable": true
   },
   "outputs": [],
   "source": [
    "def upload_partitions(x, y, directory, matrix_name, bucket):\n",
    "    for i in range(0,x):\n",
    "        for j in range(0,y):\n",
    "            filename = \"m_\" + str(i) + \"_\" + str(j) + \".npy\"\n",
    "            path = os.path.join(directory, filename)\n",
    "            s3_client.upload_file(path, bucket, matrix_name + \"/\" + filename)"
   ]
  },
  {
   "cell_type": "code",
   "execution_count": 71,
   "metadata": {
    "collapsed": true,
    "deletable": true,
    "editable": true
   },
   "outputs": [],
   "source": [
    "upload_partitions(4, 4, '/tmp/', \"sc4000\", \"jmue-matrix-tests\")"
   ]
  },
  {
   "cell_type": "markdown",
   "metadata": {
    "deletable": true,
    "editable": true
   },
   "source": [
    "### Call Matrix Multiplication Lambda"
   ]
  },
  {
   "cell_type": "code",
   "execution_count": null,
   "metadata": {
    "collapsed": true,
    "deletable": true,
    "editable": true
   },
   "outputs": [],
   "source": []
  },
  {
   "cell_type": "markdown",
   "metadata": {
    "deletable": true,
    "editable": true
   },
   "source": [
    "### Check Results"
   ]
  },
  {
   "cell_type": "code",
   "execution_count": null,
   "metadata": {
    "collapsed": true,
    "deletable": true,
    "editable": true
   },
   "outputs": [],
   "source": []
  },
  {
   "cell_type": "code",
   "execution_count": null,
   "metadata": {
    "collapsed": true,
    "deletable": true,
    "editable": true
   },
   "outputs": [],
   "source": []
  },
  {
   "cell_type": "code",
   "execution_count": null,
   "metadata": {
    "collapsed": true,
    "deletable": true,
    "editable": true
   },
   "outputs": [],
   "source": []
  },
  {
   "cell_type": "code",
   "execution_count": null,
   "metadata": {
    "collapsed": true,
    "deletable": true,
    "editable": true
   },
   "outputs": [],
   "source": []
  },
  {
   "cell_type": "code",
   "execution_count": null,
   "metadata": {
    "collapsed": true,
    "deletable": true,
    "editable": true
   },
   "outputs": [],
   "source": []
  },
  {
   "cell_type": "markdown",
   "metadata": {
    "deletable": true,
    "editable": true
   },
   "source": [
    "### Input Format"
   ]
  },
  {
   "cell_type": "code",
   "execution_count": null,
   "metadata": {
    "collapsed": false,
    "deletable": true,
    "editable": true
   },
   "outputs": [],
   "source": [
    "{\n",
    "  \"matA\": {\n",
    "    \"bucket\": \"jmue-matrix-tests\",\n",
    "    \"key\": \"sc4000\",\n",
    "    \"split\": { ... }\n",
    "  },\n",
    "  \"matB\": {\n",
    "      \"bucket\": \"jmue-matrix-tests\",\n",
    "      \"key\": \"sc4000t\",\n",
    "      \"split\": { ... }\n",
    "  },\n",
    "  \"result\": {\n",
    "      \"bucket\": \"jmue-matrix-tests\",\n",
    "      \"key\": \"sc4000-result\"\n",
    "  }\n",
    "}\n",
    "\n",
    "{\n",
    "  \"matA\": {\n",
    "    \"bucket\": \"jmue-matrix-tests\",\n",
    "    \"key\": \"sc4000\",\n",
    "    \"split\": {\n",
    "      \"x1\": 0,\n",
    "      \"y1\": 0,\n",
    "      \"x2\":1000,\n",
    "      \"y2\":1000\n",
    "    }\n",
    "  },\n",
    "  \"matB\": {\n",
    "      \"bucket\": \"jmue-matrix-tests\",\n",
    "      \"key\": \"sc4000t\",\n",
    "      \"split\": {\n",
    "        \"x1\": 0,\n",
    "        \"y1\": 0,\n",
    "        \"x2\":1000,\n",
    "        \"y2\":1000\n",
    "      }\n",
    "  },\n",
    "  \"result\": {\n",
    "      \"bucket\": \"jmue-matrix-tests\",\n",
    "      \"key\": \"sc4000-result\"\n",
    "  }\n",
    "}\n",
    "\n",
    "# A split\n",
    "{\n",
    "  \"split\": {\n",
    "    \"x1\": 0,\n",
    "    \"y1\": 0,\n",
    "    \"x2\":1000,\n",
    "    \"y2\":1000\n",
    "  }\n",
    "}"
   ]
  },
  {
   "cell_type": "code",
   "execution_count": 175,
   "metadata": {
    "collapsed": false,
    "deletable": true,
    "editable": true
   },
   "outputs": [
    {
     "name": "stdout",
     "output_type": "stream",
     "text": [
      "sc4000/m_0_0.npy\n"
     ]
    }
   ],
   "source": [
    "matrix = { \"bucket\": \"jmue-matrix-tests\", \"key\": \"sc4000\", \"split\": { \"x1\": 0, \"y1\": 0, \"x2\":1000, \"y2\":1000 } }\n",
    "x1 = matrix['split']['x1']\n",
    "y1 = matrix['split']['y1']\n",
    "key = matrix['key'] +  \"/m_\" + str(x1) + \"_\" + str(y1) + \".npy\"\n",
    "print key"
   ]
  },
  {
   "cell_type": "code",
   "execution_count": 184,
   "metadata": {
    "collapsed": false,
    "deletable": true,
    "editable": true
   },
   "outputs": [
    {
     "name": "stdout",
     "output_type": "stream",
     "text": [
      "False\n"
     ]
    }
   ],
   "source": [
    "if not False:\n",
    "    print \"False\""
   ]
  },
  {
   "cell_type": "code",
   "execution_count": 185,
   "metadata": {
    "collapsed": false,
    "deletable": true,
    "editable": true
   },
   "outputs": [],
   "source": [
    "if not os.path.exists('/tmp/' + matrix['key']):\n",
    "    os.mkdir('/tmp/' + matrix['key'])\n",
    "s3_client.download_file('jmue-matrix-tests', key, '/tmp/' + key)\n",
    "split = np.load('/tmp/' + key)"
   ]
  },
  {
   "cell_type": "code",
   "execution_count": 174,
   "metadata": {
    "collapsed": false,
    "deletable": true,
    "editable": true
   },
   "outputs": [
    {
     "data": {
      "text/plain": [
       "array([[   0,    1,    2, ...,  997,  998,  999],\n",
       "       [   1,    2,    3, ...,  998,  999, 1000],\n",
       "       [   2,    3,    4, ...,  999, 1000, 1001],\n",
       "       ..., \n",
       "       [ 997,  998,  999, ..., 1994, 1995, 1996],\n",
       "       [ 998,  999, 1000, ..., 1995, 1996, 1997],\n",
       "       [ 999, 1000, 1001, ..., 1996, 1997, 1998]])"
      ]
     },
     "execution_count": 174,
     "metadata": {},
     "output_type": "execute_result"
    }
   ],
   "source": [
    "split"
   ]
  },
  {
   "cell_type": "code",
   "execution_count": null,
   "metadata": {
    "collapsed": true,
    "deletable": true,
    "editable": true
   },
   "outputs": [],
   "source": []
  },
  {
   "cell_type": "code",
   "execution_count": null,
   "metadata": {
    "collapsed": true,
    "deletable": true,
    "editable": true
   },
   "outputs": [],
   "source": []
  },
  {
   "cell_type": "code",
   "execution_count": null,
   "metadata": {
    "collapsed": true,
    "deletable": true,
    "editable": true
   },
   "outputs": [],
   "source": []
  },
  {
   "cell_type": "code",
   "execution_count": 5,
   "metadata": {
    "collapsed": true,
    "deletable": true,
    "editable": true
   },
   "outputs": [],
   "source": [
    "import json\n",
    "import math"
   ]
  },
  {
   "cell_type": "code",
   "execution_count": 83,
   "metadata": {
    "collapsed": false,
    "deletable": true,
    "editable": true
   },
   "outputs": [],
   "source": [
    "b = 5\n",
    "a = {\"key\": b, \"key2\": \"Hello\"}\n",
    "sfn_input = json.dumps({\"value\": a[\"key\"]})"
   ]
  },
  {
   "cell_type": "code",
   "execution_count": 84,
   "metadata": {
    "collapsed": false,
    "deletable": true,
    "editable": true
   },
   "outputs": [
    {
     "data": {
      "text/plain": [
       "'{\"value\": 5}'"
      ]
     },
     "execution_count": 84,
     "metadata": {},
     "output_type": "execute_result"
    }
   ],
   "source": [
    "sfn_input"
   ]
  },
  {
   "cell_type": "code",
   "execution_count": 98,
   "metadata": {
    "collapsed": false,
    "deletable": true,
    "editable": true
   },
   "outputs": [
    {
     "data": {
      "text/plain": [
       "3"
      ]
     },
     "execution_count": 98,
     "metadata": {},
     "output_type": "execute_result"
    }
   ],
   "source": [
    "int(math.ceil(4030.0/2000.0))"
   ]
  },
  {
   "cell_type": "code",
   "execution_count": null,
   "metadata": {
    "collapsed": false,
    "deletable": true,
    "editable": true
   },
   "outputs": [],
   "source": []
  },
  {
   "cell_type": "code",
   "execution_count": 150,
   "metadata": {
    "collapsed": false,
    "deletable": true,
    "editable": true
   },
   "outputs": [],
   "source": [
    "ssl = 1000\n",
    "def call_multi(i,j,k):\n",
    "    print \"x1\", str(i*ssl), \"y1\", str(k*ssl), \"| x1\", str(k*ssl), \"y1\", str(j*ssl)\n",
    "    print \"x2\", str((i+1)*ssl), \"y2\", str((k+1)*ssl), \"| x2\", str((k+1)*ssl), \"y2\", str((j+1)*ssl)"
   ]
  },
  {
   "cell_type": "code",
   "execution_count": 151,
   "metadata": {
    "collapsed": false,
    "deletable": true,
    "editable": true
   },
   "outputs": [
    {
     "name": "stdout",
     "output_type": "stream",
     "text": [
      "A11*B11\n",
      "x1 0 y1 0 | x1 0 y1 0\n",
      "x2 1000 y2 1000 | x2 1000 y2 1000\n",
      "A12*B21\n",
      "x1 0 y1 1000 | x1 1000 y1 0\n",
      "x2 1000 y2 2000 | x2 2000 y2 1000\n",
      "\n",
      "A11*B12\n",
      "x1 0 y1 0 | x1 0 y1 1000\n",
      "x2 1000 y2 1000 | x2 1000 y2 2000\n",
      "A12*B22\n",
      "x1 0 y1 1000 | x1 1000 y1 1000\n",
      "x2 1000 y2 2000 | x2 2000 y2 2000\n",
      "\n",
      "A21*B11\n",
      "x1 1000 y1 0 | x1 0 y1 0\n",
      "x2 2000 y2 1000 | x2 1000 y2 1000\n",
      "A22*B21\n",
      "x1 1000 y1 1000 | x1 1000 y1 0\n",
      "x2 2000 y2 2000 | x2 2000 y2 1000\n",
      "\n",
      "A21*B12\n",
      "x1 1000 y1 0 | x1 0 y1 1000\n",
      "x2 2000 y2 1000 | x2 1000 y2 2000\n",
      "A22*B22\n",
      "x1 1000 y1 1000 | x1 1000 y1 1000\n",
      "x2 2000 y2 2000 | x2 2000 y2 2000\n",
      "\n",
      "A31*B11\n",
      "x1 2000 y1 0 | x1 0 y1 0\n",
      "x2 3000 y2 1000 | x2 1000 y2 1000\n",
      "A32*B21\n",
      "x1 2000 y1 1000 | x1 1000 y1 0\n",
      "x2 3000 y2 2000 | x2 2000 y2 1000\n",
      "\n",
      "A31*B12\n",
      "x1 2000 y1 0 | x1 0 y1 1000\n",
      "x2 3000 y2 1000 | x2 1000 y2 2000\n",
      "A32*B22\n",
      "x1 2000 y1 1000 | x1 1000 y1 1000\n",
      "x2 3000 y2 2000 | x2 2000 y2 2000\n",
      "\n"
     ]
    }
   ],
   "source": [
    "m = 3\n",
    "n = 2\n",
    "p = 2\n",
    "\n",
    "for i in range(m):\n",
    "    for j in range(n):\n",
    "        for k in range(p):\n",
    "            print \"A\" + str(i+1) + str(k+1) + \"*\" + \"B\" + str(k+1) + str(j+1)\n",
    "            call_multi(i,j,k)\n",
    "        print \"\""
   ]
  },
  {
   "cell_type": "code",
   "execution_count": null,
   "metadata": {
    "collapsed": false,
    "deletable": true,
    "editable": true
   },
   "outputs": [],
   "source": []
  },
  {
   "cell_type": "code",
   "execution_count": null,
   "metadata": {
    "collapsed": true,
    "deletable": true,
    "editable": true
   },
   "outputs": [],
   "source": []
  },
  {
   "cell_type": "code",
   "execution_count": null,
   "metadata": {
    "collapsed": true,
    "deletable": true,
    "editable": true
   },
   "outputs": [],
   "source": []
  },
  {
   "cell_type": "code",
   "execution_count": 242,
   "metadata": {
    "collapsed": false,
    "deletable": true,
    "editable": true
   },
   "outputs": [],
   "source": [
    "def partition(matrix, x, y):\n",
    "    split = matrix['split']\n",
    "    x += split['x1']/1000\n",
    "    y += split['y1']/1000\n",
    "    partition_factor = ((split['x2']-split['x1'])/2)/1000 # length of split us twice the size of a partition\n",
    "\n",
    "    filename = \"m_\" + str(partition_factor*x) + \"_\" + str(partition_factor*y) + \".npy\"\n",
    "    key = matrix['folder'] + \"/\" + filename # e.g. m_0_0.npy\n",
    "\n",
    "    if not os.path.exists('/tmp/' + matrix['folder']):\n",
    "        os.mkdir('/tmp/' + matrix['folder'])\n",
    "\n",
    "    print key\n",
    "    s3_client.download_file(matrix['bucket'], key, '/tmp/' + key)\n",
    "    return np.load('/tmp/' + key)"
   ]
  },
  {
   "cell_type": "code",
   "execution_count": 241,
   "metadata": {
    "collapsed": true,
    "deletable": true,
    "editable": true
   },
   "outputs": [],
   "source": [
    "s3_client.download_file(\"jmue-matrix-tests\", \"sc4000/m_3_2.npy\", '/tmp/sc4000/m_3_2.npy')"
   ]
  },
  {
   "cell_type": "code",
   "execution_count": 244,
   "metadata": {
    "collapsed": false,
    "deletable": true,
    "editable": true
   },
   "outputs": [
    {
     "name": "stdout",
     "output_type": "stream",
     "text": [
      "sc4000/m_3_2.npy\n"
     ]
    },
    {
     "data": {
      "text/plain": [
       "array([[5000, 5001, 5002, ..., 5997, 5998, 5999],\n",
       "       [5001, 5002, 5003, ..., 5998, 5999, 6000],\n",
       "       [5002, 5003, 5004, ..., 5999, 6000, 6001],\n",
       "       ..., \n",
       "       [5997, 5998, 5999, ..., 6994, 6995, 6996],\n",
       "       [5998, 5999, 6000, ..., 6995, 6996, 6997],\n",
       "       [5999, 6000, 6001, ..., 6996, 6997, 6998]])"
      ]
     },
     "execution_count": 244,
     "metadata": {},
     "output_type": "execute_result"
    }
   ],
   "source": [
    "matrix = { \"bucket\": \"jmue-matrix-tests\", \"folder\": \"sc4000\", \"split\": { \"x1\": 2000, \"y1\": 2000, \"x2\":4000, \"y2\":4000 } }\n",
    "partition(matrix=matrix, x=1, y=0)"
   ]
  },
  {
   "cell_type": "code",
   "execution_count": null,
   "metadata": {
    "collapsed": false,
    "deletable": true,
    "editable": true
   },
   "outputs": [],
   "source": []
  },
  {
   "cell_type": "markdown",
   "metadata": {
    "collapsed": false,
    "deletable": true,
    "editable": true
   },
   "source": [
    "## Building a State Machine in Code"
   ]
  },
  {
   "cell_type": "code",
   "execution_count": 8,
   "metadata": {
    "collapsed": true,
    "deletable": true,
    "editable": true
   },
   "outputs": [],
   "source": [
    "def task_state(resource, next_state=None):\n",
    "    task_state = {\n",
    "            \"Type\": \"Task\",\n",
    "            \"Resource\": resource,\n",
    "            \"End\": True\n",
    "    }\n",
    "    if next_state is not None:\n",
    "        task_state[\"End\"] = False\n",
    "        task_state[\"Next\"] = next_state\n",
    "    return task_state"
   ]
  },
  {
   "cell_type": "code",
   "execution_count": 9,
   "metadata": {
    "collapsed": false,
    "deletable": true,
    "editable": true
   },
   "outputs": [],
   "source": [
    "def pass_state(next_state, result=None, resultPath=None, outputPath=None):\n",
    "    return {\n",
    "              \"Type\": \"Pass\",\n",
    "              \"Result\": result,\n",
    "              \"ResultPath\": resultPath,\n",
    "              \"OutputPath\": outputPath,\n",
    "              \"Next\": next_state\n",
    "    }"
   ]
  },
  {
   "cell_type": "code",
   "execution_count": 10,
   "metadata": {
    "collapsed": false,
    "deletable": true,
    "editable": true
   },
   "outputs": [],
   "source": [
    "def parallel_state(branches, next_state):\n",
    "    return {\n",
    "            \"Type\": \"Parallel\",\n",
    "            \"Next\": next_state,\n",
    "            \"Branches\": branches\n",
    "    }"
   ]
  },
  {
   "cell_type": "code",
   "execution_count": 11,
   "metadata": {
    "collapsed": true,
    "deletable": true,
    "editable": true
   },
   "outputs": [],
   "source": [
    "def branch(startAt, states):\n",
    "    return {\n",
    "        \"StartAt\": startAt,\n",
    "        \"States\": states\n",
    "    }"
   ]
  },
  {
   "cell_type": "code",
   "execution_count": 12,
   "metadata": {
    "collapsed": false,
    "deletable": true,
    "editable": true
   },
   "outputs": [],
   "source": [
    "def create_strassen_sfn(prefix=\"\"):\n",
    "    branches = []\n",
    "    for i in range(0,7):\n",
    "        m = prefix + \"_m\" + str(i)\n",
    "        m_lambda = m + \"_lambda\"\n",
    "        states = {\n",
    "            m: pass_state(next_state=m_lambda, result=m, resultPath=\"$.intermediate\", outputPath=\"$\"),\n",
    "            m_lambda: task_state(resource=\"arn:aws:lambda:eu-central-1:146904559692:function:mmultiply-prod-strassen-intermediate\")\n",
    "        }\n",
    "        branches.append(branch(states=states, startAt=m))\n",
    "\n",
    "    intermediates = parallel_state(branches=branches, next_state=prefix + \"Collect\")\n",
    "    collect = task_state(resource=\"arn:aws:lambda:eu-central-1:146904559692:function:mmultiply-prod-strassen-split-collector\")\n",
    "    \n",
    "    i_name = prefix + \"Intermediates\"\n",
    "    c_name = prefix + \"Collect\"\n",
    "    states = { i_name: intermediates, c_name: collect }\n",
    "    return branch(startAt=i_name, states=states)"
   ]
  },
  {
   "cell_type": "code",
   "execution_count": 13,
   "metadata": {
    "collapsed": false,
    "deletable": true,
    "editable": true
   },
   "outputs": [],
   "source": [
    "branches = []\n",
    "for i in range(0,7):\n",
    "    m = \"m\" + str(i)\n",
    "    m_lambda = m + \"_lambda\"\n",
    "    states = {\n",
    "        m: pass_state(next_state=m_lambda, result=m, resultPath=\"$.intermediate\", outputPath=\"$\"),\n",
    "        m_lambda: task_state(resource=\"arn:aws:lambda:eu-central-1:146904559692:function:mmultiply-prod-strassen-split-intermediate\")\n",
    "    }\n",
    "    branches.append(branch(states=states, startAt=m))\n",
    "    \n",
    "intermediates = parallel_state(branches=branches, next_state=\"Collect\")\n",
    "collect = task_state(resource=\"arn:aws:lambda:eu-central-1:146904559692:function:mmultiply-prod-strassen-collector\")\n",
    "# split_setup = pass_state(next_state=m_lambda, result=unit, resultPath=\"$.intermediate\", outputPath=\"$\")\n",
    "\n",
    "states = { \"Intermediates\": intermediates, \"Collect\": collect }\n",
    "strassen_sfn = branch(startAt=\"Intermediates\", states=states)"
   ]
  },
  {
   "cell_type": "code",
   "execution_count": 14,
   "metadata": {
    "collapsed": false,
    "deletable": true,
    "editable": true
   },
   "outputs": [],
   "source": [
    "# TODO: Fill in arn\n",
    "accumulation_arn=\"arn:aws:lambda:eu-central-1:146904559692:function:mmultiply-prod-unit-accumulate\"\n",
    "unit_branches = []\n",
    "for i in range(0,2):\n",
    "    prefix = str(i)\n",
    "    unit_branches.append(create_strassen_sfn(prefix=prefix))\n",
    "\n",
    "unit_states = {\n",
    "    \"Accumulate\": task_state(resource=accumulation_arn),\n",
    "    \"Units\": parallel_state(branches=unit_branches,next_state=\"Accumulate\")\n",
    "}\n",
    "partial = branch(startAt=\"Units\", states=unit_states)"
   ]
  },
  {
   "cell_type": "code",
   "execution_count": 21,
   "metadata": {
    "collapsed": false,
    "deletable": true,
    "editable": true
   },
   "outputs": [
    {
     "data": {
      "text/plain": [
       "{'StartAt': 'Units',\n",
       " 'States': {'Accumulate': {'End': True,\n",
       "   'Resource': 'arn:aws:lambda:eu-central-1:146904559692:function:mmultiply-prod-unit-accumulate',\n",
       "   'Type': 'Task'},\n",
       "  'Units': {'Branches': [{'StartAt': '0Intermediates',\n",
       "     'States': {'0Collect': {'End': True,\n",
       "       'Resource': 'arn:aws:lambda:eu-central-1:146904559692:function:mmultiply-prod-strassen-collector',\n",
       "       'Type': 'Task'},\n",
       "      '0Intermediates': {'Branches': [{'StartAt': '0_m0',\n",
       "         'States': {'0_m0': {'Next': '0_m0_lambda',\n",
       "           'OutputPath': '$',\n",
       "           'Result': '0_m0',\n",
       "           'ResultPath': '$.intermediate',\n",
       "           'Type': 'Pass'},\n",
       "          '0_m0_lambda': {'End': True,\n",
       "           'Resource': 'arn:aws:lambda:eu-central-1:146904559692:function:mmultiply-prod-strassen-intermediate',\n",
       "           'Type': 'Task'}}},\n",
       "        {'StartAt': '0_m1',\n",
       "         'States': {'0_m1': {'Next': '0_m1_lambda',\n",
       "           'OutputPath': '$',\n",
       "           'Result': '0_m1',\n",
       "           'ResultPath': '$.intermediate',\n",
       "           'Type': 'Pass'},\n",
       "          '0_m1_lambda': {'End': True,\n",
       "           'Resource': 'arn:aws:lambda:eu-central-1:146904559692:function:mmultiply-prod-strassen-intermediate',\n",
       "           'Type': 'Task'}}},\n",
       "        {'StartAt': '0_m2',\n",
       "         'States': {'0_m2': {'Next': '0_m2_lambda',\n",
       "           'OutputPath': '$',\n",
       "           'Result': '0_m2',\n",
       "           'ResultPath': '$.intermediate',\n",
       "           'Type': 'Pass'},\n",
       "          '0_m2_lambda': {'End': True,\n",
       "           'Resource': 'arn:aws:lambda:eu-central-1:146904559692:function:mmultiply-prod-strassen-intermediate',\n",
       "           'Type': 'Task'}}},\n",
       "        {'StartAt': '0_m3',\n",
       "         'States': {'0_m3': {'Next': '0_m3_lambda',\n",
       "           'OutputPath': '$',\n",
       "           'Result': '0_m3',\n",
       "           'ResultPath': '$.intermediate',\n",
       "           'Type': 'Pass'},\n",
       "          '0_m3_lambda': {'End': True,\n",
       "           'Resource': 'arn:aws:lambda:eu-central-1:146904559692:function:mmultiply-prod-strassen-intermediate',\n",
       "           'Type': 'Task'}}},\n",
       "        {'StartAt': '0_m4',\n",
       "         'States': {'0_m4': {'Next': '0_m4_lambda',\n",
       "           'OutputPath': '$',\n",
       "           'Result': '0_m4',\n",
       "           'ResultPath': '$.intermediate',\n",
       "           'Type': 'Pass'},\n",
       "          '0_m4_lambda': {'End': True,\n",
       "           'Resource': 'arn:aws:lambda:eu-central-1:146904559692:function:mmultiply-prod-strassen-intermediate',\n",
       "           'Type': 'Task'}}},\n",
       "        {'StartAt': '0_m5',\n",
       "         'States': {'0_m5': {'Next': '0_m5_lambda',\n",
       "           'OutputPath': '$',\n",
       "           'Result': '0_m5',\n",
       "           'ResultPath': '$.intermediate',\n",
       "           'Type': 'Pass'},\n",
       "          '0_m5_lambda': {'End': True,\n",
       "           'Resource': 'arn:aws:lambda:eu-central-1:146904559692:function:mmultiply-prod-strassen-intermediate',\n",
       "           'Type': 'Task'}}},\n",
       "        {'StartAt': '0_m6',\n",
       "         'States': {'0_m6': {'Next': '0_m6_lambda',\n",
       "           'OutputPath': '$',\n",
       "           'Result': '0_m6',\n",
       "           'ResultPath': '$.intermediate',\n",
       "           'Type': 'Pass'},\n",
       "          '0_m6_lambda': {'End': True,\n",
       "           'Resource': 'arn:aws:lambda:eu-central-1:146904559692:function:mmultiply-prod-strassen-intermediate',\n",
       "           'Type': 'Task'}}}],\n",
       "       'Next': '0Collect',\n",
       "       'Type': 'Parallel'}}},\n",
       "    {'StartAt': '1Intermediates',\n",
       "     'States': {'1Collect': {'End': True,\n",
       "       'Resource': 'arn:aws:lambda:eu-central-1:146904559692:function:mmultiply-prod-strassen-collector',\n",
       "       'Type': 'Task'},\n",
       "      '1Intermediates': {'Branches': [{'StartAt': '1_m0',\n",
       "         'States': {'1_m0': {'Next': '1_m0_lambda',\n",
       "           'OutputPath': '$',\n",
       "           'Result': '1_m0',\n",
       "           'ResultPath': '$.intermediate',\n",
       "           'Type': 'Pass'},\n",
       "          '1_m0_lambda': {'End': True,\n",
       "           'Resource': 'arn:aws:lambda:eu-central-1:146904559692:function:mmultiply-prod-strassen-intermediate',\n",
       "           'Type': 'Task'}}},\n",
       "        {'StartAt': '1_m1',\n",
       "         'States': {'1_m1': {'Next': '1_m1_lambda',\n",
       "           'OutputPath': '$',\n",
       "           'Result': '1_m1',\n",
       "           'ResultPath': '$.intermediate',\n",
       "           'Type': 'Pass'},\n",
       "          '1_m1_lambda': {'End': True,\n",
       "           'Resource': 'arn:aws:lambda:eu-central-1:146904559692:function:mmultiply-prod-strassen-intermediate',\n",
       "           'Type': 'Task'}}},\n",
       "        {'StartAt': '1_m2',\n",
       "         'States': {'1_m2': {'Next': '1_m2_lambda',\n",
       "           'OutputPath': '$',\n",
       "           'Result': '1_m2',\n",
       "           'ResultPath': '$.intermediate',\n",
       "           'Type': 'Pass'},\n",
       "          '1_m2_lambda': {'End': True,\n",
       "           'Resource': 'arn:aws:lambda:eu-central-1:146904559692:function:mmultiply-prod-strassen-intermediate',\n",
       "           'Type': 'Task'}}},\n",
       "        {'StartAt': '1_m3',\n",
       "         'States': {'1_m3': {'Next': '1_m3_lambda',\n",
       "           'OutputPath': '$',\n",
       "           'Result': '1_m3',\n",
       "           'ResultPath': '$.intermediate',\n",
       "           'Type': 'Pass'},\n",
       "          '1_m3_lambda': {'End': True,\n",
       "           'Resource': 'arn:aws:lambda:eu-central-1:146904559692:function:mmultiply-prod-strassen-intermediate',\n",
       "           'Type': 'Task'}}},\n",
       "        {'StartAt': '1_m4',\n",
       "         'States': {'1_m4': {'Next': '1_m4_lambda',\n",
       "           'OutputPath': '$',\n",
       "           'Result': '1_m4',\n",
       "           'ResultPath': '$.intermediate',\n",
       "           'Type': 'Pass'},\n",
       "          '1_m4_lambda': {'End': True,\n",
       "           'Resource': 'arn:aws:lambda:eu-central-1:146904559692:function:mmultiply-prod-strassen-intermediate',\n",
       "           'Type': 'Task'}}},\n",
       "        {'StartAt': '1_m5',\n",
       "         'States': {'1_m5': {'Next': '1_m5_lambda',\n",
       "           'OutputPath': '$',\n",
       "           'Result': '1_m5',\n",
       "           'ResultPath': '$.intermediate',\n",
       "           'Type': 'Pass'},\n",
       "          '1_m5_lambda': {'End': True,\n",
       "           'Resource': 'arn:aws:lambda:eu-central-1:146904559692:function:mmultiply-prod-strassen-intermediate',\n",
       "           'Type': 'Task'}}},\n",
       "        {'StartAt': '1_m6',\n",
       "         'States': {'1_m6': {'Next': '1_m6_lambda',\n",
       "           'OutputPath': '$',\n",
       "           'Result': '1_m6',\n",
       "           'ResultPath': '$.intermediate',\n",
       "           'Type': 'Pass'},\n",
       "          '1_m6_lambda': {'End': True,\n",
       "           'Resource': 'arn:aws:lambda:eu-central-1:146904559692:function:mmultiply-prod-strassen-intermediate',\n",
       "           'Type': 'Task'}}}],\n",
       "       'Next': '1Collect',\n",
       "       'Type': 'Parallel'}}}],\n",
       "   'Next': 'Accumulate',\n",
       "   'Type': 'Parallel'}}}"
      ]
     },
     "execution_count": 21,
     "metadata": {},
     "output_type": "execute_result"
    }
   ],
   "source": [
    "partial"
   ]
  },
  {
   "cell_type": "code",
   "execution_count": 19,
   "metadata": {
    "collapsed": false,
    "deletable": true,
    "editable": true
   },
   "outputs": [],
   "source": [
    "with open('/Users/Johannes/Uni/Master/Master Arbeit/repos/matrix-operations/state-machines/created.asl', 'w') as file:\n",
    "    json.dump(partial, file)"
   ]
  },
  {
   "cell_type": "code",
   "execution_count": null,
   "metadata": {
    "collapsed": false,
    "deletable": true,
    "editable": true
   },
   "outputs": [],
   "source": []
  },
  {
   "cell_type": "code",
   "execution_count": null,
   "metadata": {
    "collapsed": false,
    "deletable": true,
    "editable": true
   },
   "outputs": [],
   "source": []
  },
  {
   "cell_type": "code",
   "execution_count": null,
   "metadata": {
    "collapsed": false
   },
   "outputs": [],
   "source": []
  },
  {
   "cell_type": "code",
   "execution_count": null,
   "metadata": {
    "collapsed": false
   },
   "outputs": [],
   "source": [
    "    "
   ]
  },
  {
   "cell_type": "code",
   "execution_count": 72,
   "metadata": {
    "collapsed": false
   },
   "outputs": [],
   "source": []
  },
  {
   "cell_type": "code",
   "execution_count": null,
   "metadata": {
    "collapsed": false
   },
   "outputs": [],
   "source": []
  },
  {
   "cell_type": "code",
   "execution_count": null,
   "metadata": {
    "collapsed": true
   },
   "outputs": [],
   "source": []
  },
  {
   "cell_type": "code",
   "execution_count": null,
   "metadata": {
    "collapsed": true
   },
   "outputs": [],
   "source": []
  }
 ],
 "metadata": {
  "kernelspec": {
   "display_name": "Python 2",
   "language": "python",
   "name": "python2"
  },
  "language_info": {
   "codemirror_mode": {
    "name": "ipython",
    "version": 2
   },
   "file_extension": ".py",
   "mimetype": "text/x-python",
   "name": "python",
   "nbconvert_exporter": "python",
   "pygments_lexer": "ipython2",
   "version": "2.7.13"
  }
 },
 "nbformat": 4,
 "nbformat_minor": 2
}
