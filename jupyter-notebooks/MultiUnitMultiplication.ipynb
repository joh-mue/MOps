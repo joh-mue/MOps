{
 "cells": [
  {
   "cell_type": "markdown",
   "metadata": {},
   "source": [
    "# MultiUniMulitplication\n",
    "\n",
    "A unit is a Strassen-Multiplication StepFunction.\n",
    "Matrix multiplication to be performed is `m.dot(m.transpose)` with `m.dim(4000,4000)`.\n",
    "M will be divided into `4*4=16` matrix partitions of dimension `1000*1000`. Partitions will be named m_row_col from m_0_0, m_0_1 ... to m_3_3.\n",
    "\n",
    "\n",
    "m_0_0  |  m_0_1  |  m_0_2  |  m_0_3\n",
    "\n",
    "m_1_0  |  m_1_1  |  m_1_2  |  m_1_3\n",
    "\n",
    "m_2_0  |  m_2_1  |  m_2_2  |  m_2_3\n",
    "\n",
    "m_3_0  |  m_3_1  |  m_3_2  |  m_3_3"
   ]
  },
  {
   "cell_type": "markdown",
   "metadata": {
    "collapsed": true
   },
   "source": [
    "## Content\n",
    "\n",
    "1. Matrix Creation (matrix_dimension, block_sizes)\n",
    "2. Matrix deployment (bucket, matrix_names)\n",
    "3. Matrix multiplication (invoke matrix-multiplication-lambda)\n",
    "4. check results in S3\n",
    "5. create time profile for 3 stages (interm., collection, accumulation)\n",
    "6. Compare Timings\n",
    "\n",
    "matrix dimensions: 4000x4000, 8000x8000, 2000x16000   \n",
    "block sizes: 1000x1000, 2000x2000, 3000x3000"
   ]
  },
  {
   "cell_type": "markdown",
   "metadata": {},
   "source": [
    "## 0. Imports & Setup"
   ]
  },
  {
   "cell_type": "code",
   "execution_count": 2,
   "metadata": {
    "collapsed": true
   },
   "outputs": [],
   "source": [
    "from collections import namedtuple\n",
    "from collections import defaultdict\n",
    "from datetime import datetime\n",
    "from time import sleep\n",
    "import numpy as np\n",
    "import matplotlib.pyplot as plt\n",
    "import os\n",
    "import boto3\n",
    "import json\n",
    "import base64\n",
    "import csv"
   ]
  },
  {
   "cell_type": "code",
   "execution_count": 90,
   "metadata": {
    "collapsed": true
   },
   "outputs": [],
   "source": [
    "# automatically reload the libraries from time_profiling.py\n",
    "import sys\n",
    "module_path = os.path.abspath(os.path.join('/Users/Johannes/Uni/Master/Master Arbeit/repos/matrix-operations/benchmarks'))\n",
    "if module_path not in sys.path:\n",
    "    sys.path.append(module_path)\n",
    "from time_profiling import *\n",
    "%reload_ext autoreload\n",
    "%autoreload 2"
   ]
  },
  {
   "cell_type": "code",
   "execution_count": 4,
   "metadata": {
    "collapsed": true
   },
   "outputs": [],
   "source": [
    "# NAMEDTUPLES\n",
    "MatrixDimensions = namedtuple('MatrixDimensions', ['height', 'width'])\n",
    "Timings = namedtuple('Timings', ['down','up','calculation'])"
   ]
  },
  {
   "cell_type": "code",
   "execution_count": 5,
   "metadata": {
    "collapsed": true
   },
   "outputs": [],
   "source": [
    "# global constants\n",
    "BLOCK_SIZE = 1000\n",
    "BUCKET = 'jmue-multiplication-benchmarks'\n",
    "PREFIX = 'sq'\n",
    "BENCHMARKS_FOLDER = '/Users/Johannes/Uni/Master/Master Arbeit/repos/matrix-operations/benchmarks/'\n",
    "SFN_PREFIX = 'log-test'"
   ]
  },
  {
   "cell_type": "code",
   "execution_count": 5,
   "metadata": {
    "collapsed": true
   },
   "outputs": [],
   "source": [
    "# CLIENTS\n",
    "s3_client = boto3.client('s3')\n",
    "lambda_client = boto3.client('lambda')\n",
    "sfn_client = boto3.client('stepfunctions')"
   ]
  },
  {
   "cell_type": "code",
   "execution_count": 7,
   "metadata": {
    "collapsed": true
   },
   "outputs": [],
   "source": [
    "def _log(message):\n",
    "    timestamp = datetime.now().strftime('%d.%m.%y %H:%M:%S > ')\n",
    "#     LOG_FILE.write(timestamp + message)\n",
    "    print timestamp + message"
   ]
  },
  {
   "cell_type": "markdown",
   "metadata": {},
   "source": [
    "## 1. Matrix Creation"
   ]
  },
  {
   "cell_type": "markdown",
   "metadata": {},
   "source": [
    "### Generate Matrix Blocks"
   ]
  },
  {
   "cell_type": "markdown",
   "metadata": {},
   "source": [
    "### create random blocks"
   ]
  },
  {
   "cell_type": "code",
   "execution_count": null,
   "metadata": {
    "collapsed": true
   },
   "outputs": [],
   "source": [
    "def write_block_to_file(block, directory, row, column):\n",
    "    \n",
    "def get_block_with_random(height, width):\n",
    "\n",
    "def create_blocks_with_random(x, y, block_height, block_width, matrix_name):"
   ]
  },
  {
   "cell_type": "code",
   "execution_count": null,
   "metadata": {
    "collapsed": true
   },
   "outputs": [],
   "source": [
    "create_blocks_with_random(\n",
    "    matrix_dimensions.height/1000,\n",
    "    matrix_dimensions.width/1000,\n",
    "    block_size, block_size, matrix_name)"
   ]
  },
  {
   "cell_type": "code",
   "execution_count": null,
   "metadata": {
    "collapsed": true
   },
   "outputs": [],
   "source": [
    "create_blocks_with_random(\n",
    "    matrix_dimensions.height/1000,\n",
    "    matrix_dimensions.width/1000,\n",
    "    block_size, block_size, matrix_name=matrix_name + \"-2\")"
   ]
  },
  {
   "cell_type": "code",
   "execution_count": 18,
   "metadata": {},
   "outputs": [
    {
     "name": "stdout",
     "output_type": "stream",
     "text": [
      "[WARNING] No LOG_FILE not defined. -> Debug mode.\n",
      "08.10.17 12:23:03 > Writing block to file: /Volumes/data/m_0_0\n"
     ]
    }
   ],
   "source": [
    "write_block_to_file(get_block_with_random(8000, 8000), '/Volumes/data/', 0, 0)"
   ]
  },
  {
   "cell_type": "code",
   "execution_count": 19,
   "metadata": {},
   "outputs": [
    {
     "data": {
      "text/plain": [
       "array([ 2.,  3.])"
      ]
     },
     "execution_count": 19,
     "metadata": {},
     "output_type": "execute_result"
    }
   ],
   "source": [
    "a = np.array([[3,1], [1,2]])\n",
    "b = np.array([9,8])\n",
    "c = np.array()\n",
    "x = np.linalg.solve(a, b)\n",
    "x"
   ]
  },
  {
   "cell_type": "markdown",
   "metadata": {},
   "source": [
    "## 2. Matrix Deployment"
   ]
  },
  {
   "cell_type": "code",
   "execution_count": null,
   "metadata": {
    "collapsed": true
   },
   "outputs": [],
   "source": [
    "def deployed(matrix_name, bucket):\n",
    "\n",
    "def deploy_matrix(matrix_name, bucket):"
   ]
  },
  {
   "cell_type": "code",
   "execution_count": null,
   "metadata": {
    "collapsed": true
   },
   "outputs": [],
   "source": [
    "deployed('sq_2kx2k-2', 'jmue-multiplication-benchmarks')"
   ]
  },
  {
   "cell_type": "markdown",
   "metadata": {},
   "source": [
    "## 3. Matrix Multiplication"
   ]
  },
  {
   "cell_type": "markdown",
   "metadata": {},
   "source": [
    "### Create Input"
   ]
  },
  {
   "cell_type": "code",
   "execution_count": null,
   "metadata": {
    "collapsed": true
   },
   "outputs": [],
   "source": [
    "def create_input(state_machine_name, executionName, name_matrixA, name_matrixB):"
   ]
  },
  {
   "cell_type": "code",
   "execution_count": null,
   "metadata": {
    "collapsed": true
   },
   "outputs": [],
   "source": [
    "create_input(\n",
    "        state_machine_name=\"multi-unit-mmultiply-2kx2k\",\n",
    "        executionName=\"2kx2k-online-profiled-3\",\n",
    "        name_matrixA=matrix_name,\n",
    "        name_matrixB=matrix_name + \"-2\"\n",
    ")"
   ]
  },
  {
   "cell_type": "markdown",
   "metadata": {},
   "source": [
    "### Invoke Matrix Multiplication Lambda"
   ]
  },
  {
   "cell_type": "code",
   "execution_count": null,
   "metadata": {
    "collapsed": true
   },
   "outputs": [],
   "source": [
    "def invoke_matrix_multiplication(state_machine_name, executionName, name_matrixA, name_matrixB):"
   ]
  },
  {
   "cell_type": "code",
   "execution_count": null,
   "metadata": {
    "collapsed": true
   },
   "outputs": [],
   "source": [
    "payload = invoke_matrix_multiplication(\n",
    "        state_machine_name=\"multi-unit-mmultiply-2kx2k\",\n",
    "        executionName=\"2kx2k-online-profiled-3\",\n",
    "        name_matrixA=matrix_name,\n",
    "        name_matrixB=matrix_name + \"-2\"\n",
    ")"
   ]
  },
  {
   "cell_type": "code",
   "execution_count": 778,
   "metadata": {},
   "outputs": [
    {
     "data": {
      "text/plain": [
       "{u'deploy-nr': u'MUM101',\n",
       " u'split-executions': [{u'executionARN': u'arn:aws:states:eu-central-1:146904559692:execution:multi-unit-mmultiply-2kx2k:2kx2k-online-profiled-3-split0',\n",
       "   u'split': 0}],\n",
       " u'state-machine-arn': u'arn:aws:states:eu-central-1:146904559692:stateMachine:multi-unit-mmultiply-2kx2k'}"
      ]
     },
     "execution_count": 778,
     "metadata": {},
     "output_type": "execute_result"
    }
   ],
   "source": [
    "payload"
   ]
  },
  {
   "cell_type": "markdown",
   "metadata": {},
   "source": [
    "## 5. Check Results"
   ]
  },
  {
   "cell_type": "code",
   "execution_count": null,
   "metadata": {
    "collapsed": true
   },
   "outputs": [],
   "source": [
    "def executions_pending(executionARNs):\n",
    "    \"\"\" Checks if all executions have either succeeded or failed yet.\n",
    "    Failed executions are skipped. \"\"\"\n"
   ]
  },
  {
   "cell_type": "code",
   "execution_count": null,
   "metadata": {
    "collapsed": true
   },
   "outputs": [],
   "source": [
    "executionARN = payload['split-executions'][0]['executionARN']"
   ]
  },
  {
   "cell_type": "markdown",
   "metadata": {
    "collapsed": true
   },
   "source": [
    "## 6. Create Timing Profiles"
   ]
  },
  {
   "cell_type": "markdown",
   "metadata": {},
   "source": [
    "### Get all Timings"
   ]
  },
  {
   "cell_type": "code",
   "execution_count": null,
   "metadata": {
    "collapsed": true
   },
   "outputs": [],
   "source": [
    "def extract_time_profiles(events):\n",
    "    \"\"\" Time profiles are part of the lambda output which is returned as a json formated string \"\"\"\n",
    "    \n",
    "def get_all_events(executionARNs):\n",
    "\n",
    "def parse_time_profiles(executionARNs):"
   ]
  },
  {
   "cell_type": "code",
   "execution_count": 109,
   "metadata": {
    "collapsed": true
   },
   "outputs": [],
   "source": [
    "example_time_profiles_by_lambda ={\n",
    "             u'accumulate': [{u'execution': 463,\n",
    "               u'lambda': u'accumulate',\n",
    "               u's3-down': 181,\n",
    "               u's3-up': 272}],\n",
    "             u'collect': [{u'execution': 2978,\n",
    "               u'lambda': u'collect',\n",
    "               u's3-down': 1741,\n",
    "               u's3-up': 1166}],\n",
    "             u'intermediate': [{u'execution': 2303,\n",
    "               u'lambda': u'intermediate',\n",
    "               u's3-down': 923,\n",
    "               u's3-up': 189},\n",
    "              {u'execution': 2693,\n",
    "               u'lambda': u'intermediate',\n",
    "               u's3-down': 980,\n",
    "               u's3-up': 518},\n",
    "              {u'execution': 2152,\n",
    "               u'lambda': u'intermediate',\n",
    "               u's3-down': 735,\n",
    "               u's3-up': 247},\n",
    "              {u'execution': 2295,\n",
    "               u'lambda': u'intermediate',\n",
    "               u's3-down': 902,\n",
    "               u's3-up': 261},\n",
    "              {u'execution': 2288,\n",
    "               u'lambda': u'intermediate',\n",
    "               u's3-down': 868,\n",
    "               u's3-up': 242},\n",
    "              {u'execution': 2489,\n",
    "               u'lambda': u'intermediate',\n",
    "               u's3-down': 993,\n",
    "               u's3-up': 347},\n",
    "              {u'execution': 2416,\n",
    "               u'lambda': u'intermediate',\n",
    "               u's3-down': 1000,\n",
    "               u's3-up': 299}]}"
   ]
  },
  {
   "cell_type": "markdown",
   "metadata": {},
   "source": [
    "## Plot Results"
   ]
  },
  {
   "cell_type": "code",
   "execution_count": null,
   "metadata": {
    "collapsed": true
   },
   "outputs": [],
   "source": [
    "def generate_plot(timings, lambda_type, state_machine_name, plot_folder, save_to_file=True):\n",
    "\n",
    "def collect_values(time_profiles_by_lambda, add_average=True):\n",
    "    \"\"\"collect values into arrays and return them as a timings tuple\"\"\"\n",
    "\n",
    "def plot_time_profiles(time_profiles_by_lambda, state_machine_name, folder):"
   ]
  },
  {
   "cell_type": "markdown",
   "metadata": {},
   "source": [
    "### Intermediate Timings"
   ]
  },
  {
   "cell_type": "code",
   "execution_count": 707,
   "metadata": {},
   "outputs": [
    {
     "data": {
      "image/png": "[encoded data removed]",
      "text/plain": [
       "<matplotlib.figure.Figure at 0x1116843d0>"
      ]
     },
     "metadata": {},
     "output_type": "display_data"
    }
   ],
   "source": [
    "lambda_type = 'intermediate'\n",
    "intermediate_timings = collect_values(time_profiles_by_lambda[lambda_type], add_average=True)\n",
    "generate_plot(intermediate_timings, lambda_type, to_file=False)"
   ]
  },
  {
   "cell_type": "markdown",
   "metadata": {},
   "source": [
    "### Collector Timings"
   ]
  },
  {
   "cell_type": "code",
   "execution_count": 676,
   "metadata": {},
   "outputs": [
    {
     "data": {
      "image/png": "[encoded data removed]",
      "text/plain": [
       "<matplotlib.figure.Figure at 0x11078c750>"
      ]
     },
     "metadata": {},
     "output_type": "display_data"
    }
   ],
   "source": [
    "lambda_type = 'collect'\n",
    "collect_timings = collect_values(time_profiles_by_lambda[lambda_type], add_average=True)\n",
    "generate_plot(collect_timings, lambda_type, to_file=False)"
   ]
  },
  {
   "cell_type": "markdown",
   "metadata": {},
   "source": [
    "### Accumulator Timings"
   ]
  },
  {
   "cell_type": "code",
   "execution_count": 674,
   "metadata": {},
   "outputs": [
    {
     "data": {
      "image/png": "[encoded data removed]",
      "text/plain": [
       "<matplotlib.figure.Figure at 0x111303e90>"
      ]
     },
     "metadata": {},
     "output_type": "display_data"
    }
   ],
   "source": [
    "lambda_type = 'accumulate'\n",
    "generate_plot(timings, 'all lambda', to_file=False)"
   ]
  },
  {
   "cell_type": "markdown",
   "metadata": {},
   "source": [
    "### Combined Timings from file"
   ]
  },
  {
   "cell_type": "code",
   "execution_count": 61,
   "metadata": {
    "collapsed": true
   },
   "outputs": [],
   "source": [
    "# Load timings from csv\n",
    "folder = '/Users/Johannes/Uni/Master/Master Arbeit/repos/matrix-operations/benchmarks/v3_benchmark_bs2/block_size_2000/'\n",
    "filename = 'v3_benchmark_bs2-8kx8k.csv'\n",
    "\n",
    "path = os.path.join(folder, filename)\n",
    "\n",
    "combined_timings = Timings(np.array(up, dtype=int), np.array(down, dtype=int), np.array(calculation, dtype=int))"
   ]
  },
  {
   "cell_type": "code",
   "execution_count": 92,
   "metadata": {},
   "outputs": [
    {
     "data": {
      "image/png": "[encoded data removed]",
      "text/plain": [
       "<matplotlib.figure.Figure at 0x1118a8410>"
      ]
     },
     "metadata": {},
     "output_type": "display_data"
    }
   ],
   "source": [
    "plot_time_distribution(combined_timings, None, to_file=False)"
   ]
  },
  {
   "cell_type": "code",
   "execution_count": 93,
   "metadata": {},
   "outputs": [
    {
     "data": {
      "image/png": "[encoded data removed]",
      "text/plain": [
       "<matplotlib.figure.Figure at 0x10ee079d0>"
      ]
     },
     "metadata": {},
     "output_type": "display_data"
    }
   ],
   "source": [
    "plot_timing_profile(combined_timings, \"combined\", \"v3_benchmark_bs2-8kx8k\", \"plot-folder\", save_to_file=False)"
   ]
  },
  {
   "cell_type": "code",
   "execution_count": 42,
   "metadata": {
    "collapsed": true
   },
   "outputs": [],
   "source": [
    "def plot_time_distribution(up, down, calculation):\n",
    "    # Pie chart, where the slices will be ordered and plotted counter-clockwise:"
   ]
  },
  {
   "cell_type": "code",
   "execution_count": 52,
   "metadata": {
    "collapsed": true
   },
   "outputs": [],
   "source": [
    "# bs1000 - 4000k"
   ]
  },
  {
   "cell_type": "code",
   "execution_count": null,
   "metadata": {
    "collapsed": true
   },
   "outputs": [],
   "source": [
    "plot_time_distribution(np.average(combined_timings.up), np.average(combined_timings.down), np.average(combined_timings.calculation))"
   ]
  },
  {
   "cell_type": "code",
   "execution_count": null,
   "metadata": {
    "collapsed": true
   },
   "outputs": [],
   "source": []
  },
  {
   "cell_type": "code",
   "execution_count": null,
   "metadata": {
    "collapsed": true
   },
   "outputs": [],
   "source": []
  },
  {
   "cell_type": "code",
   "execution_count": 101,
   "metadata": {},
   "outputs": [
    {
     "data": {
      "text/plain": [
       "{u'ETag': '\"c2fd187af5f8937bf52ad74880ae3e09\"',\n",
       " 'ResponseMetadata': {'HTTPHeaders': {'content-length': '0',\n",
       "   'date': 'Fri, 22 Sep 2017 15:22:14 GMT',\n",
       "   'etag': '\"c2fd187af5f8937bf52ad74880ae3e09\"',\n",
       "   'server': 'AmazonS3',\n",
       "   'x-amz-id-2': 'xC1KupFOijlB/Br/2Z5GF36R/ftfxvlUWxkU4KGIYP3822fmn/ia8es7D5hC2T1rQkd4/0hUycs=',\n",
       "   'x-amz-request-id': '49593830053D54FF'},\n",
       "  'HTTPStatusCode': 200,\n",
       "  'HostId': 'xC1KupFOijlB/Br/2Z5GF36R/ftfxvlUWxkU4KGIYP3822fmn/ia8es7D5hC2T1rQkd4/0hUycs=',\n",
       "  'RequestId': '49593830053D54FF',\n",
       "  'RetryAttempts': 0}}"
      ]
     },
     "execution_count": 101,
     "metadata": {},
     "output_type": "execute_result"
    }
   ],
   "source": [
    "data = np.array([1,2,3])\n",
    "s3_client.put_object(Body=data.dumps(), Bucket='jmue-matrix-tests', Key='put-object')"
   ]
  },
  {
   "cell_type": "code",
   "execution_count": 88,
   "metadata": {
    "collapsed": true
   },
   "outputs": [],
   "source": []
  },
  {
   "cell_type": "code",
   "execution_count": 102,
   "metadata": {},
   "outputs": [
    {
     "data": {
      "text/plain": [
       "array([1, 2, 3])"
      ]
     },
     "execution_count": 102,
     "metadata": {},
     "output_type": "execute_result"
    }
   ],
   "source": [
    "s3_client.download_file('jmue-matrix-tests', 'put-object', '/tmp/put-object')\n",
    "np.load('/tmp/put-object')"
   ]
  },
  {
   "cell_type": "markdown",
   "metadata": {},
   "source": [
    "## Save raw data to file"
   ]
  },
  {
   "cell_type": "code",
   "execution_count": 801,
   "metadata": {
    "collapsed": true
   },
   "outputs": [],
   "source": [
    "def save_raw_data(time_profiles_by_lambda, csv_path):"
   ]
  },
  {
   "cell_type": "code",
   "execution_count": 33,
   "metadata": {},
   "outputs": [
    {
     "ename": "NameError",
     "evalue": "name 'time_profiles_by_lambda' is not defined",
     "output_type": "error",
     "traceback": [
      "\u001b[0;31m---------------------------------------------------------------------------\u001b[0m",
      "\u001b[0;31mNameError\u001b[0m                                 Traceback (most recent call last)",
      "\u001b[0;32m<ipython-input-33-f877ed32f35d>\u001b[0m in \u001b[0;36m<module>\u001b[0;34m()\u001b[0m\n\u001b[0;32m----> 1\u001b[0;31m \u001b[0mtime_profiles_by_lambda\u001b[0m\u001b[0;34m\u001b[0m\u001b[0m\n\u001b[0m",
      "\u001b[0;31mNameError\u001b[0m: name 'time_profiles_by_lambda' is not defined"
     ]
    }
   ],
   "source": [
    "time_profiles_by_lambda"
   ]
  },
  {
   "cell_type": "code",
   "execution_count": 714,
   "metadata": {
    "collapsed": true
   },
   "outputs": [],
   "source": []
  },
  {
   "cell_type": "code",
   "execution_count": null,
   "metadata": {
    "collapsed": true
   },
   "outputs": [],
   "source": []
  },
  {
   "cell_type": "markdown",
   "metadata": {},
   "source": [
    "### Create Plots"
   ]
  },
  {
   "cell_type": "code",
   "execution_count": 87,
   "metadata": {
    "collapsed": true
   },
   "outputs": [],
   "source": [
    "%reload_ext autoreload"
   ]
  },
  {
   "cell_type": "code",
   "execution_count": 94,
   "metadata": {
    "collapsed": true
   },
   "outputs": [],
   "source": [
    "def find_ybound(csv_path):\n",
    "    timings = load_timings(csv_path)\n",
    "    execution_times = map(lambda t: t.execution, timings)\n",
    "    return max(excution_times)"
   ]
  },
  {
   "cell_type": "code",
   "execution_count": 102,
   "metadata": {},
   "outputs": [
    {
     "data": {
      "text/plain": [
       "Timings(down=array([ 896,  840,  938, 1005,  881,  964,  894]), up=array([2128, 2495, 2598, 2449, 2347, 3009, 2832]), calculation=array([7885, 8983, 9293, 9270, 9463, 9328, 9243]))"
      ]
     },
     "execution_count": 102,
     "metadata": {},
     "output_type": "execute_result"
    }
   ],
   "source": [
    "load_timings(csv_path, lambda_type='intermediate')"
   ]
  },
  {
   "cell_type": "code",
   "execution_count": 98,
   "metadata": {},
   "outputs": [
    {
     "name": "stdout",
     "output_type": "stream",
     "text": [
      "Timings(down=array([2632, 3557,  896,  840,  938, 1005,  881,  964,  894]), up=array([1810, 3923, 2128, 2495, 2598, 2449, 2347, 3009, 2832]), calculation=array([ 250,  825, 7885, 8983, 9293, 9270, 9463, 9328, 9243]))\n",
      "[ 4692  8305 10909 12318 12829 12724 12691 13301 12969]\n"
     ]
    }
   ],
   "source": [
    "print timings\n",
    "print timings.down + timings.up + timings.calculation"
   ]
  },
  {
   "cell_type": "code",
   "execution_count": 73,
   "metadata": {},
   "outputs": [
    {
     "name": "stdout",
     "output_type": "stream",
     "text": [
      "Timings(down=array([2632]), up=array([1810]), calculation=array([250]))\n",
      "Timings(down=array([ 2632.,  2632.]), up=array([ 1810.,  1810.]), calculation=array([ 250.,  250.]))\n"
     ]
    }
   ],
   "source": [
    "csv_path = '/Users/Johannes/Uni/Master/Master Arbeit/repos/matrix-operations/benchmarks/v4_benchmark/block_size_2000/v4_benchmark-4kx4k.csv'\n",
    "intermediate_timings = load_timings(csv_path, 'accumulate')\n",
    "print intermediate_timings\n",
    "intermediate_timings_with_avg = append_average(intermediate_timings)\n",
    "print intermediate_timings_with_avg"
   ]
  },
  {
   "cell_type": "code",
   "execution_count": 43,
   "metadata": {
    "scrolled": false
   },
   "outputs": [
    {
     "name": "stdout",
     "output_type": "stream",
     "text": [
      "[WARNING] No LOG_FILE not defined. -> Debug mode.\n",
      "13.10.17 01:28:41 > Creating plot made-up-name lambda_type\n"
     ]
    },
    {
     "data": {
      "image/png": "[encoded data removed]",
      "text/plain": [
       "<matplotlib.figure.Figure at 0x11bfb9b10>"
      ]
     },
     "metadata": {},
     "output_type": "display_data"
    },
    {
     "data": {
      "image/png": "[encoded data removed]",
      "text/plain": [
       "<matplotlib.figure.Figure at 0x11bc6c850>"
      ]
     },
     "metadata": {},
     "output_type": "display_data"
    }
   ],
   "source": [
    "create_combined_plots(csv_path, 'made-up-name', to_file=False)"
   ]
  },
  {
   "cell_type": "code",
   "execution_count": 86,
   "metadata": {
    "scrolled": true
   },
   "outputs": [
    {
     "name": "stdout",
     "output_type": "stream",
     "text": [
      "[WARNING] No LOG_FILE not defined. -> Debug mode.\n",
      "13.10.17 02:31:47 > Creating plot masfn intermediate\n"
     ]
    },
    {
     "data": {
      "image/png": "[encoded data removed]",
      "text/plain": [
       "<matplotlib.figure.Figure at 0x121c4aa50>"
      ]
     },
     "metadata": {},
     "output_type": "display_data"
    },
    {
     "data": {
      "image/png": "[encoded data removed]",
      "text/plain": [
       "<matplotlib.figure.Figure at 0x11bc5a1d0>"
      ]
     },
     "metadata": {},
     "output_type": "display_data"
    },
    {
     "name": "stdout",
     "output_type": "stream",
     "text": [
      "[WARNING] No LOG_FILE not defined. -> Debug mode.\n",
      "13.10.17 02:31:48 > Creating plot masfn collect\n"
     ]
    },
    {
     "data": {
      "image/png": "[encoded data removed]",
      "text/plain": [
       "<matplotlib.figure.Figure at 0x121bc4cd0>"
      ]
     },
     "metadata": {},
     "output_type": "display_data"
    },
    {
     "data": {
      "image/png": "[encoded data removed]",
      "text/plain": [
       "<matplotlib.figure.Figure at 0x11a16c810>"
      ]
     },
     "metadata": {},
     "output_type": "display_data"
    },
    {
     "name": "stdout",
     "output_type": "stream",
     "text": [
      "[WARNING] No LOG_FILE not defined. -> Debug mode.\n",
      "13.10.17 02:31:48 > Creating plot masfn accumulate\n"
     ]
    },
    {
     "data": {
      "image/png": "[encoded data removed]",
      "text/plain": [
       "<matplotlib.figure.Figure at 0x11bdd0910>"
      ]
     },
     "metadata": {},
     "output_type": "display_data"
    },
    {
     "data": {
      "image/png": "[encoded data removed]",
      "text/plain": [
       "<matplotlib.figure.Figure at 0x112610b50>"
      ]
     },
     "metadata": {},
     "output_type": "display_data"
    }
   ],
   "source": [
    "create_plots_per_lambda(csv_path, 'masfn', to_file=False)"
   ]
  },
  {
   "cell_type": "code",
   "execution_count": 179,
   "metadata": {
    "collapsed": true
   },
   "outputs": [],
   "source": [
    "collect_timings = load_timings('/Users/Johannes/Uni/Master/Master Arbeit/repos/matrix-operations/benchmarks/v4_8k_bs4k/block_size_4000/v4_8k_bs4k-8kx8k.csv', 'collect')"
   ]
  },
  {
   "cell_type": "code",
   "execution_count": 188,
   "metadata": {
    "collapsed": true
   },
   "outputs": [],
   "source": [
    "m = {3: 4}"
   ]
  },
  {
   "cell_type": "code",
   "execution_count": 190,
   "metadata": {},
   "outputs": [
    {
     "data": {
      "text/plain": [
       "False"
      ]
     },
     "execution_count": 190,
     "metadata": {},
     "output_type": "execute_result"
    }
   ],
   "source": [
    "m.has_key(4)"
   ]
  },
  {
   "cell_type": "code",
   "execution_count": null,
   "metadata": {
    "collapsed": true
   },
   "outputs": [],
   "source": []
  },
  {
   "cell_type": "code",
   "execution_count": 191,
   "metadata": {},
   "outputs": [
    {
     "name": "stdout",
     "output_type": "stream",
     "text": [
      "CPU times: user 1.59 ms, sys: 145 ms, total: 147 ms\n",
      "Wall time: 893 ms\n"
     ]
    },
    {
     "data": {
      "text/plain": [
       "array([[ 0.2301815 ,  0.98993007,  0.69207587, ...,  0.28137766,\n",
       "         0.92584622,  0.09365729],\n",
       "       [ 0.65460598,  0.54159854,  0.94925243, ...,  0.58498415,\n",
       "         0.55808368,  0.00550115],\n",
       "       [ 0.52902089,  0.55998729,  0.56323363, ...,  0.75962579,\n",
       "         0.58405592,  0.92357941],\n",
       "       ..., \n",
       "       [ 0.17928147,  0.53412024,  0.41630925, ...,  0.60843013,\n",
       "         0.58038935,  0.46143703],\n",
       "       [ 0.24877506,  0.6926001 ,  0.59344857, ...,  0.23063171,\n",
       "         0.29694194,  0.43964992],\n",
       "       [ 0.74517637,  0.52624862,  0.38861089, ...,  0.50856937,\n",
       "         0.3219063 ,  0.44976188]])"
      ]
     },
     "execution_count": 191,
     "metadata": {},
     "output_type": "execute_result"
    }
   ],
   "source": [
    "%%time\n",
    "np.load('/Volumes/data/sq_8kx8k_bs4k/m_0_0.npy')"
   ]
  },
  {
   "cell_type": "markdown",
   "metadata": {},
   "source": [
    "## Print Metadata\n",
    "\n",
    "number of elements, number of intermediate-, collect-, accumulate-lambdas ..."
   ]
  },
  {
   "cell_type": "code",
   "execution_count": 122,
   "metadata": {},
   "outputs": [
    {
     "name": "stdout",
     "output_type": "stream",
     "text": [
      "[WARNING] No LOG_FILE not defined. -> Debug mode.\n",
      "15.10.17 21:10:45 > Retrieving execution history for arn:aws:states:eu-central-1:146904559692:execution:v4_benchmark_3-6kx6k:v4_benchmark_3-6kx6k-split0\n"
     ]
    }
   ],
   "source": [
    "events = get_all_events(['arn:aws:states:eu-central-1:146904559692:execution:v4_benchmark_3-6kx6k:v4_benchmark_3-6kx6k-split0'])\n",
    "failed_exec_events = get_all_events(['arn:aws:states:eu-central-1:146904559692:execution:v4_benchmark_10_bs4k-10kx10k:v4_benchmark_10_bs4k-10kx10k-split0'])\n",
    "save_sfn_metadata(events, '/tmp/meta.csv')\n",
    "save_sfn_metadata(failed_exec_events, '/tmp/meta.csv')"
   ]
  },
  {
   "cell_type": "code",
   "execution_count": 139,
   "metadata": {
    "scrolled": true
   },
   "outputs": [
    {
     "name": "stdout",
     "output_type": "stream",
     "text": [
      "2017-10-14 17:18:05.404000+02:00\n",
      "2017-10-14 17:16:39.449000+02:00\n"
     ]
    },
    {
     "data": {
      "text/plain": [
       "[u'executionSucceededEventDetails',\n",
       " u'timestamp',\n",
       " u'type',\n",
       " u'id',\n",
       " u'previousEventId']"
      ]
     },
     "execution_count": 139,
     "metadata": {},
     "output_type": "execute_result"
    }
   ],
   "source": [
    "last_event = events[len(events)-1]\n",
    "last_event.keys()[0]"
   ]
  },
  {
   "cell_type": "code",
   "execution_count": null,
   "metadata": {
    "collapsed": true
   },
   "outputs": [],
   "source": []
  },
  {
   "cell_type": "markdown",
   "metadata": {},
   "source": [
    "## EXECUTE BENCHMARK"
   ]
  },
  {
   "cell_type": "code",
   "execution_count": null,
   "metadata": {
    "collapsed": true
   },
   "outputs": [],
   "source": []
  },
  {
   "cell_type": "code",
   "execution_count": null,
   "metadata": {},
   "outputs": [],
   "source": []
  },
  {
   "cell_type": "code",
   "execution_count": null,
   "metadata": {},
   "outputs": [],
   "source": []
  },
  {
   "cell_type": "code",
   "execution_count": null,
   "metadata": {
    "collapsed": true
   },
   "outputs": [],
   "source": []
  },
  {
   "cell_type": "code",
   "execution_count": null,
   "metadata": {
    "collapsed": true
   },
   "outputs": [],
   "source": []
  },
  {
   "cell_type": "code",
   "execution_count": null,
   "metadata": {
    "collapsed": true
   },
   "outputs": [],
   "source": []
  },
  {
   "cell_type": "markdown",
   "metadata": {},
   "source": [
    "### Input Format"
   ]
  },
  {
   "cell_type": "code",
   "execution_count": null,
   "metadata": {
    "collapsed": true
   },
   "outputs": [],
   "source": [
    "{\n",
    "  \"matA\": {\n",
    "    \"bucket\": \"jmue-matrix-tests\",\n",
    "    \"key\": \"sc4000\",\n",
    "    \"split\": { ... }\n",
    "  },\n",
    "  \"matB\": {\n",
    "      \"bucket\": \"jmue-matrix-tests\",\n",
    "      \"key\": \"sc4000t\",\n",
    "      \"split\": { ... }\n",
    "  },\n",
    "  \"result\": {\n",
    "      \"bucket\": \"jmue-matrix-tests\",\n",
    "      \"key\": \"sc4000-result\"\n",
    "  }\n",
    "}\n",
    "\n",
    "{\n",
    "  \"matA\": {\n",
    "    \"bucket\": \"jmue-matrix-tests\",\n",
    "    \"key\": \"sc4000\",\n",
    "    \"split\": {\n",
    "      \"x1\": 0,\n",
    "      \"y1\": 0,\n",
    "      \"x2\":1000,\n",
    "      \"y2\":1000\n",
    "    }\n",
    "  },\n",
    "  \"matB\": {\n",
    "      \"bucket\": \"jmue-matrix-tests\",\n",
    "      \"key\": \"sc4000t\",\n",
    "      \"split\": {\n",
    "        \"x1\": 0,\n",
    "        \"y1\": 0,\n",
    "        \"x2\":1000,\n",
    "        \"y2\":1000\n",
    "      }\n",
    "  },\n",
    "  \"result\": {\n",
    "      \"bucket\": \"jmue-matrix-tests\",\n",
    "      \"key\": \"sc4000-result\"\n",
    "  }\n",
    "}\n",
    "\n",
    "# A split\n",
    "{\n",
    "  \"split\": {\n",
    "    \"x1\": 0,\n",
    "    \"y1\": 0,\n",
    "    \"x2\":1000,\n",
    "    \"y2\":1000\n",
    "  }\n",
    "}"
   ]
  },
  {
   "cell_type": "code",
   "execution_count": 175,
   "metadata": {},
   "outputs": [
    {
     "name": "stdout",
     "output_type": "stream",
     "text": [
      "sc4000/m_0_0.npy\n"
     ]
    }
   ],
   "source": [
    "matrix = { \"bucket\": \"jmue-matrix-tests\", \"key\": \"sc4000\", \"split\": { \"x1\": 0, \"y1\": 0, \"x2\":1000, \"y2\":1000 } }\n",
    "x1 = matrix['split']['x1']\n",
    "y1 = matrix['split']['y1']\n",
    "key = matrix['key'] +  \"/m_\" + str(x1) + \"_\" + str(y1) + \".npy\"\n",
    "print key"
   ]
  },
  {
   "cell_type": "code",
   "execution_count": 184,
   "metadata": {},
   "outputs": [
    {
     "name": "stdout",
     "output_type": "stream",
     "text": [
      "False\n"
     ]
    }
   ],
   "source": [
    "if not False:\n",
    "    print \"False\""
   ]
  },
  {
   "cell_type": "code",
   "execution_count": 185,
   "metadata": {
    "collapsed": true
   },
   "outputs": [],
   "source": [
    "if not os.path.exists('/tmp/' + matrix['key']):\n",
    "    os.mkdir('/tmp/' + matrix['key'])\n",
    "s3_client.download_file('jmue-matrix-tests', key, '/tmp/' + key)\n",
    "split = np.load('/tmp/' + key)"
   ]
  },
  {
   "cell_type": "code",
   "execution_count": 174,
   "metadata": {},
   "outputs": [
    {
     "data": {
      "text/plain": [
       "array([[   0,    1,    2, ...,  997,  998,  999],\n",
       "       [   1,    2,    3, ...,  998,  999, 1000],\n",
       "       [   2,    3,    4, ...,  999, 1000, 1001],\n",
       "       ..., \n",
       "       [ 997,  998,  999, ..., 1994, 1995, 1996],\n",
       "       [ 998,  999, 1000, ..., 1995, 1996, 1997],\n",
       "       [ 999, 1000, 1001, ..., 1996, 1997, 1998]])"
      ]
     },
     "execution_count": 174,
     "metadata": {},
     "output_type": "execute_result"
    }
   ],
   "source": [
    "split"
   ]
  },
  {
   "cell_type": "code",
   "execution_count": null,
   "metadata": {
    "collapsed": true
   },
   "outputs": [],
   "source": []
  },
  {
   "cell_type": "code",
   "execution_count": null,
   "metadata": {
    "collapsed": true
   },
   "outputs": [],
   "source": []
  },
  {
   "cell_type": "code",
   "execution_count": null,
   "metadata": {
    "collapsed": true
   },
   "outputs": [],
   "source": []
  },
  {
   "cell_type": "code",
   "execution_count": 5,
   "metadata": {
    "collapsed": true
   },
   "outputs": [],
   "source": [
    "import json\n",
    "import math"
   ]
  },
  {
   "cell_type": "code",
   "execution_count": 83,
   "metadata": {
    "collapsed": true
   },
   "outputs": [],
   "source": [
    "b = 5\n",
    "a = {\"key\": b, \"key2\": \"Hello\"}\n",
    "sfn_input = json.dumps({\"value\": a[\"key\"]})"
   ]
  },
  {
   "cell_type": "code",
   "execution_count": 84,
   "metadata": {},
   "outputs": [
    {
     "data": {
      "text/plain": [
       "'{\"value\": 5}'"
      ]
     },
     "execution_count": 84,
     "metadata": {},
     "output_type": "execute_result"
    }
   ],
   "source": [
    "sfn_input"
   ]
  },
  {
   "cell_type": "code",
   "execution_count": 98,
   "metadata": {},
   "outputs": [
    {
     "data": {
      "text/plain": [
       "3"
      ]
     },
     "execution_count": 98,
     "metadata": {},
     "output_type": "execute_result"
    }
   ],
   "source": [
    "int(math.ceil(4030.0/2000.0))"
   ]
  },
  {
   "cell_type": "code",
   "execution_count": null,
   "metadata": {
    "collapsed": true
   },
   "outputs": [],
   "source": []
  },
  {
   "cell_type": "code",
   "execution_count": 150,
   "metadata": {
    "collapsed": true
   },
   "outputs": [],
   "source": [
    "ssl = 1000\n",
    "def call_multi(i,j,k):\n",
    "    print \"x1\", str(i*ssl), \"y1\", str(k*ssl), \"| x1\", str(k*ssl), \"y1\", str(j*ssl)\n",
    "    print \"x2\", str((i+1)*ssl), \"y2\", str((k+1)*ssl), \"| x2\", str((k+1)*ssl), \"y2\", str((j+1)*ssl)"
   ]
  },
  {
   "cell_type": "code",
   "execution_count": 151,
   "metadata": {},
   "outputs": [
    {
     "name": "stdout",
     "output_type": "stream",
     "text": [
      "A11*B11\n",
      "x1 0 y1 0 | x1 0 y1 0\n",
      "x2 1000 y2 1000 | x2 1000 y2 1000\n",
      "A12*B21\n",
      "x1 0 y1 1000 | x1 1000 y1 0\n",
      "x2 1000 y2 2000 | x2 2000 y2 1000\n",
      "\n",
      "A11*B12\n",
      "x1 0 y1 0 | x1 0 y1 1000\n",
      "x2 1000 y2 1000 | x2 1000 y2 2000\n",
      "A12*B22\n",
      "x1 0 y1 1000 | x1 1000 y1 1000\n",
      "x2 1000 y2 2000 | x2 2000 y2 2000\n",
      "\n",
      "A21*B11\n",
      "x1 1000 y1 0 | x1 0 y1 0\n",
      "x2 2000 y2 1000 | x2 1000 y2 1000\n",
      "A22*B21\n",
      "x1 1000 y1 1000 | x1 1000 y1 0\n",
      "x2 2000 y2 2000 | x2 2000 y2 1000\n",
      "\n",
      "A21*B12\n",
      "x1 1000 y1 0 | x1 0 y1 1000\n",
      "x2 2000 y2 1000 | x2 1000 y2 2000\n",
      "A22*B22\n",
      "x1 1000 y1 1000 | x1 1000 y1 1000\n",
      "x2 2000 y2 2000 | x2 2000 y2 2000\n",
      "\n",
      "A31*B11\n",
      "x1 2000 y1 0 | x1 0 y1 0\n",
      "x2 3000 y2 1000 | x2 1000 y2 1000\n",
      "A32*B21\n",
      "x1 2000 y1 1000 | x1 1000 y1 0\n",
      "x2 3000 y2 2000 | x2 2000 y2 1000\n",
      "\n",
      "A31*B12\n",
      "x1 2000 y1 0 | x1 0 y1 1000\n",
      "x2 3000 y2 1000 | x2 1000 y2 2000\n",
      "A32*B22\n",
      "x1 2000 y1 1000 | x1 1000 y1 1000\n",
      "x2 3000 y2 2000 | x2 2000 y2 2000\n",
      "\n"
     ]
    }
   ],
   "source": [
    "m = 3\n",
    "n = 2\n",
    "p = 2\n",
    "\n",
    "for i in range(m):\n",
    "    for j in range(n):\n",
    "        for k in range(p):\n",
    "            print \"A\" + str(i+1) + str(k+1) + \"*\" + \"B\" + str(k+1) + str(j+1)\n",
    "            call_multi(i,j,k)\n",
    "        print \"\""
   ]
  },
  {
   "cell_type": "code",
   "execution_count": null,
   "metadata": {
    "collapsed": true
   },
   "outputs": [],
   "source": []
  },
  {
   "cell_type": "code",
   "execution_count": null,
   "metadata": {
    "collapsed": true
   },
   "outputs": [],
   "source": []
  },
  {
   "cell_type": "code",
   "execution_count": null,
   "metadata": {
    "collapsed": true
   },
   "outputs": [],
   "source": []
  },
  {
   "cell_type": "code",
   "execution_count": 242,
   "metadata": {
    "collapsed": true
   },
   "outputs": [],
   "source": [
    "def partition(matrix, x, y):\n",
    "    split = matrix['split']\n",
    "    x += split['x1']/1000\n",
    "    y += split['y1']/1000\n",
    "    partition_factor = ((split['x2']-split['x1'])/2)/1000 # length of split us twice the size of a partition\n",
    "\n",
    "    filename = \"m_\" + str(partition_factor*x) + \"_\" + str(partition_factor*y) + \".npy\"\n",
    "    key = matrix['folder'] + \"/\" + filename # e.g. m_0_0.npy\n",
    "\n",
    "    if not os.path.exists('/tmp/' + matrix['folder']):\n",
    "        os.mkdir('/tmp/' + matrix['folder'])\n",
    "\n",
    "    print key\n",
    "    s3_client.download_file(matrix['bucket'], key, '/tmp/' + key)\n",
    "    return np.load('/tmp/' + key)"
   ]
  },
  {
   "cell_type": "code",
   "execution_count": 241,
   "metadata": {
    "collapsed": true
   },
   "outputs": [],
   "source": [
    "s3_client.download_file(\"jmue-matrix-tests\", \"sc4000/m_3_2.npy\", '/tmp/sc4000/m_3_2.npy')"
   ]
  },
  {
   "cell_type": "code",
   "execution_count": 244,
   "metadata": {},
   "outputs": [
    {
     "name": "stdout",
     "output_type": "stream",
     "text": [
      "sc4000/m_3_2.npy\n"
     ]
    },
    {
     "data": {
      "text/plain": [
       "array([[5000, 5001, 5002, ..., 5997, 5998, 5999],\n",
       "       [5001, 5002, 5003, ..., 5998, 5999, 6000],\n",
       "       [5002, 5003, 5004, ..., 5999, 6000, 6001],\n",
       "       ..., \n",
       "       [5997, 5998, 5999, ..., 6994, 6995, 6996],\n",
       "       [5998, 5999, 6000, ..., 6995, 6996, 6997],\n",
       "       [5999, 6000, 6001, ..., 6996, 6997, 6998]])"
      ]
     },
     "execution_count": 244,
     "metadata": {},
     "output_type": "execute_result"
    }
   ],
   "source": [
    "matrix = { \"bucket\": \"jmue-matrix-tests\", \"folder\": \"sc4000\", \"split\": { \"x1\": 2000, \"y1\": 2000, \"x2\":4000, \"y2\":4000 } }\n",
    "partition(matrix=matrix, x=1, y=0)"
   ]
  },
  {
   "cell_type": "code",
   "execution_count": null,
   "metadata": {
    "collapsed": true
   },
   "outputs": [],
   "source": []
  },
  {
   "cell_type": "markdown",
   "metadata": {},
   "source": [
    "## Building a State Machine in Code"
   ]
  },
  {
   "cell_type": "code",
   "execution_count": 78,
   "metadata": {
    "collapsed": true
   },
   "outputs": [],
   "source": [
    "def task_state(resource, next_state=None):\n",
    "    task_state = {\n",
    "            \"Type\": \"Task\",\n",
    "            \"Resource\": resource,\n",
    "            \"End\": True\n",
    "    }\n",
    "    if next_state is not None:\n",
    "        task_state[\"End\"] = False\n",
    "        task_state[\"Next\"] = next_state\n",
    "    return task_state"
   ]
  },
  {
   "cell_type": "code",
   "execution_count": 79,
   "metadata": {
    "collapsed": true
   },
   "outputs": [],
   "source": [
    "def pass_state(next_state, result=None, resultPath=None, outputPath=None):\n",
    "    return {\n",
    "              \"Type\": \"Pass\",\n",
    "              \"Result\": result,\n",
    "              \"ResultPath\": resultPath,\n",
    "              \"OutputPath\": outputPath,\n",
    "              \"Next\": next_state\n",
    "    }"
   ]
  },
  {
   "cell_type": "code",
   "execution_count": 114,
   "metadata": {
    "collapsed": true
   },
   "outputs": [],
   "source": [
    "def parallel_state(branches, next_state, resultPath=None, outputPath=None):\n",
    "    parallel_state = {\n",
    "            \"Type\": \"Parallel\",\n",
    "            \"Next\": next_state,\n",
    "            \"Branches\": branches\n",
    "    }\n",
    "    if resultPath is not None:\n",
    "        parallel_state[\"ResultPath\"] = resultPath\n",
    "    \n",
    "    if outputPath is not None:\n",
    "        parallel_state[\"OutputPath\"] = outputPath\n",
    "    \n",
    "    return parallel_state"
   ]
  },
  {
   "cell_type": "code",
   "execution_count": 81,
   "metadata": {
    "collapsed": true
   },
   "outputs": [],
   "source": [
    "def branch(startAt, states):\n",
    "    return {\n",
    "        \"StartAt\": startAt,\n",
    "        \"States\": states\n",
    "    }"
   ]
  },
  {
   "cell_type": "code",
   "execution_count": 118,
   "metadata": {
    "collapsed": true
   },
   "outputs": [],
   "source": [
    "def create_strassen_sfn(unit=\"\"):\n",
    "    branches = []\n",
    "    for index in range(0,7):\n",
    "        unit_m = \"U{}_m{}\".format(unit, index) # U0_m_0\n",
    "        unit_m_lambda = \"U{}_m{}_lambda\".format(unit, index) # U0_m_0_lambda\n",
    "        states = {\n",
    "            unit_m: pass_state(next_state=unit_m_lambda, result=index, resultPath=\"$.intermediate\", outputPath=\"$\"),\n",
    "            unit_m_lambda: task_state(resource=\"arn:aws:lambda:eu-central-1:146904559692:function:mmultiply-prod-strassen-split-intermediate\")\n",
    "        }\n",
    "        branches.append(branch(states=states, startAt=unit_m))\n",
    "\n",
    "    unit_name = \"unit\" + unit\n",
    "    i_name = \"U{}_Intermediate\".format(unit)\n",
    "    c_name = \"U{}_Collect\".format(unit)\n",
    "    \n",
    "    unit_setup = pass_state(next_state=i_name, result=unit, resultPath=\"$.unit\", outputPath=\"$\")\n",
    "    intermediates = parallel_state(branches=branches, next_state=c_name, resultPath=\"$.responses\", outputPath=\"$\")\n",
    "    collect = task_state(resource=\"arn:aws:lambda:eu-central-1:146904559692:function:mmultiply-prod-strassen-split-collector\")\n",
    "        \n",
    "    states = { unit_name: unit_setup, i_name: intermediates, c_name: collect }\n",
    "    return branch(startAt=unit_name, states=states)"
   ]
  },
  {
   "cell_type": "code",
   "execution_count": 122,
   "metadata": {
    "collapsed": true
   },
   "outputs": [],
   "source": [
    "accumulation_arn=\"arn:aws:lambda:eu-central-1:146904559692:function:mmultiply-prod-unit-accumulator\"\n",
    "unit_branches = []\n",
    "for i in range(0,2):\n",
    "    unit_branches.append(create_strassen_sfn(unit=str(i)))\n",
    "\n",
    "split_states = {\n",
    "    \"Accumulate\": task_state(resource=accumulation_arn),\n",
    "    \"Units\": parallel_state(branches=unit_branches, next_state=\"Accumulate\", resultPath=\"$.responses\", outputPath=\"$\")\n",
    "}\n",
    "partial = branch(startAt=\"Units\", states=split_states)"
   ]
  },
  {
   "cell_type": "code",
   "execution_count": 123,
   "metadata": {
    "collapsed": true
   },
   "outputs": [],
   "source": [
    "with open('/Users/Johannes/Uni/Master/Master Arbeit/repos/matrix-operations/state-machines/created.asl', 'w') as file:\n",
    "    json.dump(partial, file)"
   ]
  },
  {
   "cell_type": "code",
   "execution_count": null,
   "metadata": {
    "collapsed": true
   },
   "outputs": [],
   "source": []
  },
  {
   "cell_type": "code",
   "execution_count": 124,
   "metadata": {
    "collapsed": true
   },
   "outputs": [],
   "source": [
    "result = { \"folder\": \"sc4000-result\"}\n",
    "split = 3\n",
    "block_index = \"00\"\n",
    "response = s3_client.list_objects_v2(\n",
    "      Bucket=\"jmue-matrix-tests\",\n",
    "      Prefix=\"{}/S{}_X{}\".format(result['folder'], split, block_index)\n",
    "    )"
   ]
  },
  {
   "cell_type": "code",
   "execution_count": 125,
   "metadata": {},
   "outputs": [
    {
     "data": {
      "text/plain": [
       "{u'Contents': [{u'ETag': '\"675ba5b88cb01f66bd6b56d15646cc5e\"',\n",
       "   u'Key': 'sc4000-result/S3_X00_U0',\n",
       "   u'LastModified': datetime.datetime(2017, 8, 4, 15, 59, 30, tzinfo=tzutc()),\n",
       "   u'Size': 8000080,\n",
       "   u'StorageClass': 'STANDARD'},\n",
       "  {u'ETag': '\"675ba5b88cb01f66bd6b56d15646cc5e\"',\n",
       "   u'Key': 'sc4000-result/S3_X00_U1',\n",
       "   u'LastModified': datetime.datetime(2017, 8, 4, 15, 59, 25, tzinfo=tzutc()),\n",
       "   u'Size': 8000080,\n",
       "   u'StorageClass': 'STANDARD'}],\n",
       " u'IsTruncated': False,\n",
       " u'KeyCount': 2,\n",
       " u'MaxKeys': 1000,\n",
       " u'Name': 'jmue-matrix-tests',\n",
       " u'Prefix': 'sc4000-result/S3_X00',\n",
       " 'ResponseMetadata': {'HTTPHeaders': {'content-type': 'application/xml',\n",
       "   'date': 'Fri, 04 Aug 2017 16:19:37 GMT',\n",
       "   'server': 'AmazonS3',\n",
       "   'transfer-encoding': 'chunked',\n",
       "   'x-amz-bucket-region': 'eu-central-1',\n",
       "   'x-amz-id-2': 'e5IR4vIgZJX00HgHbBgBixJWhyqTlnZEKdV+bQatEGkGUysJGlAbJeewKRGgS4YVQvJ5IJth4g0=',\n",
       "   'x-amz-request-id': '11F1494C37A87A8E'},\n",
       "  'HTTPStatusCode': 200,\n",
       "  'HostId': 'e5IR4vIgZJX00HgHbBgBixJWhyqTlnZEKdV+bQatEGkGUysJGlAbJeewKRGgS4YVQvJ5IJth4g0=',\n",
       "  'RequestId': '11F1494C37A87A8E',\n",
       "  'RetryAttempts': 0}}"
      ]
     },
     "execution_count": 125,
     "metadata": {},
     "output_type": "execute_result"
    }
   ],
   "source": [
    "response"
   ]
  },
  {
   "cell_type": "code",
   "execution_count": null,
   "metadata": {
    "collapsed": true
   },
   "outputs": [],
   "source": []
  },
  {
   "cell_type": "code",
   "execution_count": null,
   "metadata": {
    "collapsed": true
   },
   "outputs": [],
   "source": []
  },
  {
   "cell_type": "code",
   "execution_count": null,
   "metadata": {
    "collapsed": true
   },
   "outputs": [],
   "source": []
  },
  {
   "cell_type": "markdown",
   "metadata": {},
   "source": [
    "### Padded matrix multiplication has the same result"
   ]
  },
  {
   "cell_type": "code",
   "execution_count": 5,
   "metadata": {},
   "outputs": [
    {
     "data": {
      "text/plain": [
       "True"
      ]
     },
     "execution_count": 5,
     "metadata": {},
     "output_type": "execute_result"
    }
   ],
   "source": [
    "import numpy as np\n",
    "j = np.array([[x for x in range(10)],\n",
    "              [x for x in range(10)],\n",
    "              [x for x in range(10)],\n",
    "              [x for x in range(10)],\n",
    "              [x for x in range(10)]])\n",
    "j_padded = np.array([[0, 1, 2, 3, 4, 5, 6, 7, 8, 9],\n",
    " [0, 1, 2, 3, 4, 5, 6, 7, 8, 9],\n",
    " [0, 1, 2, 3, 4, 5, 6, 7, 8, 9],\n",
    " [0, 1, 2, 3, 4, 5, 6, 7, 8, 9],\n",
    " [0, 1, 2, 3, 4, 5, 6, 7, 8, 9],\n",
    " [0, 0, 0, 0, 0, 0, 0, 0, 0, 0],\n",
    " [0, 0, 0, 0, 0, 0, 0, 0, 0, 0],\n",
    " [0, 0, 0, 0, 0, 0, 0, 0, 0, 0],\n",
    " [0, 0, 0, 0, 0, 0, 0, 0, 0, 0],\n",
    " [0, 0, 0, 0, 0, 0, 0, 0, 0, 0]])\n",
    "i = j.transpose()\n",
    "i_padded = j_padded.transpose()\n",
    "np.array_equal(i_padded.dot(j_padded), i.dot(j))"
   ]
  },
  {
   "cell_type": "code",
   "execution_count": null,
   "metadata": {
    "collapsed": true
   },
   "outputs": [],
   "source": []
  },
  {
   "cell_type": "code",
   "execution_count": 111,
   "metadata": {},
   "outputs": [
    {
     "name": "stdout",
     "output_type": "stream",
     "text": [
      "1.21951219512e-06\n",
      "9.375e-05\n"
     ]
    }
   ],
   "source": []
  },
  {
   "cell_type": "code",
   "execution_count": 112,
   "metadata": {},
   "outputs": [
    {
     "data": {
      "text/plain": [
       "78.33333333333333"
      ]
     },
     "execution_count": 112,
     "metadata": {},
     "output_type": "execute_result"
    }
   ],
   "source": []
  },
  {
   "cell_type": "code",
   "execution_count": null,
   "metadata": {
    "collapsed": true
   },
   "outputs": [],
   "source": []
  }
 ],
 "metadata": {
  "kernelspec": {
   "display_name": "Python 2",
   "language": "python",
   "name": "python2"
  },
  "language_info": {
   "codemirror_mode": {
    "name": "ipython",
    "version": 2
   },
   "file_extension": ".py",
   "mimetype": "text/x-python",
   "name": "python",
   "nbconvert_exporter": "python",
   "pygments_lexer": "ipython2",
   "version": "2.7.14"
  }
 },
 "nbformat": 4,
 "nbformat_minor": 2
}
