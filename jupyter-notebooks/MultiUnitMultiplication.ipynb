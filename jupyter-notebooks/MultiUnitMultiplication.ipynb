{
 "cells": [
  {
   "cell_type": "markdown",
   "metadata": {},
   "source": [
    "## MultiUniMulitplication\n",
    "\n",
    "A unit is a Strassen-Multiplication StepFunction.\n",
    "Matrix multiplication to be performed is `m.dot(m.transpose)` with `m.dim(4000,4000)`.\n",
    "M will be divided into `4*4=16` matrix partitions of dimension `1000*1000`. Partitions will be named m_row_col from m_0_0, m_0_1 ... to m_3_3.\n",
    "\n",
    "\n",
    "m_0_0  |  m_0_1  |  m_0_2  |  m_0_3\n",
    "\n",
    "m_1_0  |  m_1_1  |  m_1_2  |  m_1_3\n",
    "\n",
    "m_2_0  |  m_2_1  |  m_2_2  |  m_2_3\n",
    "\n",
    "m_3_0  |  m_3_1  |  m_3_2  |  m_3_3"
   ]
  },
  {
   "cell_type": "code",
   "execution_count": null,
   "metadata": {
    "collapsed": true
   },
   "outputs": [],
   "source": []
  },
  {
   "cell_type": "markdown",
   "metadata": {},
   "source": [
    "### Generate Matrix Partitions"
   ]
  },
  {
   "cell_type": "code",
   "execution_count": 43,
   "metadata": {
    "collapsed": true
   },
   "outputs": [],
   "source": [
    "import numpy as np\n",
    "import os"
   ]
  },
  {
   "cell_type": "code",
   "execution_count": 3,
   "metadata": {
    "collapsed": true
   },
   "outputs": [],
   "source": [
    "def create_square_staircase_matrix(n=10):\n",
    "    Matrix = [[1 for x in range(n)] for y in range(n)] \n",
    "    for i in range(n):\n",
    "        for j in range(n):\n",
    "            Matrix[i][j] = i+j\n",
    "    return np.array(Matrix)"
   ]
  },
  {
   "cell_type": "code",
   "execution_count": 51,
   "metadata": {
    "collapsed": false
   },
   "outputs": [],
   "source": [
    "def write_partition_to_file(partition, directory, row, column):\n",
    "    path = os.path.join(directory, \"m_\" + str(row) + \"_\" + str(column))\n",
    "    np.save(path, partition)"
   ]
  },
  {
   "cell_type": "code",
   "execution_count": 49,
   "metadata": {
    "collapsed": false
   },
   "outputs": [],
   "source": [
    "def split_matrix_into(x, y, partition_size):\n",
    "    '''split matrix into x*y partitions of given size'''\n",
    "    p = partition_size\n",
    "    for i in range(0,x):\n",
    "        for j in range(0,y):\n",
    "            partition = sq_m[i*p:(i+1)*p, j*p:(j+1)*p]\n",
    "            write_partition_to_file(partition, \"/tmp/\", i, j)"
   ]
  },
  {
   "cell_type": "code",
   "execution_count": 73,
   "metadata": {
    "collapsed": false
   },
   "outputs": [],
   "source": [
    "sq_m = create_square_staircase_matrix(4000)\n",
    "split_matrix_into(4, 4, 1000)"
   ]
  },
  {
   "cell_type": "code",
   "execution_count": null,
   "metadata": {
    "collapsed": true
   },
   "outputs": [],
   "source": []
  },
  {
   "cell_type": "markdown",
   "metadata": {},
   "source": [
    "### Upload Matrix Partitions"
   ]
  },
  {
   "cell_type": "code",
   "execution_count": 64,
   "metadata": {
    "collapsed": true
   },
   "outputs": [],
   "source": [
    "import boto3"
   ]
  },
  {
   "cell_type": "code",
   "execution_count": 67,
   "metadata": {
    "collapsed": true
   },
   "outputs": [],
   "source": [
    "s3_client = boto3.client('s3')"
   ]
  },
  {
   "cell_type": "code",
   "execution_count": 68,
   "metadata": {
    "collapsed": true
   },
   "outputs": [],
   "source": [
    "def upload_partitions(x, y, directory, matrix_name, bucket):\n",
    "    for i in range(0,x):\n",
    "        for j in range(0,y):\n",
    "            filename = \"m_\" + str(i) + \"_\" + str(j) + \".npy\"\n",
    "            path = os.path.join(directory, filename)\n",
    "            s3_client.upload_file(path, bucket, matrix_name + \"/\" + filename)"
   ]
  },
  {
   "cell_type": "code",
   "execution_count": 71,
   "metadata": {
    "collapsed": true
   },
   "outputs": [],
   "source": [
    "upload_partitions(4, 4, '/tmp/', \"sc4000\", \"jmue-matrix-tests\")"
   ]
  },
  {
   "cell_type": "markdown",
   "metadata": {},
   "source": [
    "### Call Matrix Multiplication Lambda"
   ]
  },
  {
   "cell_type": "code",
   "execution_count": null,
   "metadata": {
    "collapsed": true
   },
   "outputs": [],
   "source": []
  },
  {
   "cell_type": "markdown",
   "metadata": {},
   "source": [
    "### Check Results"
   ]
  },
  {
   "cell_type": "code",
   "execution_count": null,
   "metadata": {
    "collapsed": true
   },
   "outputs": [],
   "source": []
  },
  {
   "cell_type": "code",
   "execution_count": null,
   "metadata": {
    "collapsed": true
   },
   "outputs": [],
   "source": []
  },
  {
   "cell_type": "code",
   "execution_count": null,
   "metadata": {
    "collapsed": true
   },
   "outputs": [],
   "source": []
  },
  {
   "cell_type": "code",
   "execution_count": null,
   "metadata": {
    "collapsed": true
   },
   "outputs": [],
   "source": []
  },
  {
   "cell_type": "code",
   "execution_count": null,
   "metadata": {
    "collapsed": true
   },
   "outputs": [],
   "source": []
  },
  {
   "cell_type": "markdown",
   "metadata": {},
   "source": [
    "### Input Format"
   ]
  },
  {
   "cell_type": "code",
   "execution_count": null,
   "metadata": {
    "collapsed": false
   },
   "outputs": [],
   "source": [
    "{\n",
    "  \"matA\": {\n",
    "    \"bucket\": \"jmue-matrix-tests\",\n",
    "    \"key\": \"sc4000\",\n",
    "    \"split\": { ... }\n",
    "  },\n",
    "  \"matB\": {\n",
    "      \"bucket\": \"jmue-matrix-tests\",\n",
    "      \"key\": \"sc4000t\",\n",
    "      \"split\": { ... }\n",
    "  },\n",
    "  \"result\": {\n",
    "      \"bucket\": \"jmue-matrix-tests\",\n",
    "      \"key\": \"sc4000-result\"\n",
    "  }\n",
    "}\n",
    "\n",
    "{\n",
    "  \"matA\": {\n",
    "    \"bucket\": \"jmue-matrix-tests\",\n",
    "    \"key\": \"sc4000\",\n",
    "    \"split\": {\n",
    "      \"x1\": 0,\n",
    "      \"y1\": 0,\n",
    "      \"x2\":1000,\n",
    "      \"y2\":1000\n",
    "    }\n",
    "  },\n",
    "  \"matB\": {\n",
    "      \"bucket\": \"jmue-matrix-tests\",\n",
    "      \"key\": \"sc4000t\",\n",
    "      \"split\": {\n",
    "        \"x1\": 0,\n",
    "        \"y1\": 0,\n",
    "        \"x2\":1000,\n",
    "        \"y2\":1000\n",
    "      }\n",
    "  },\n",
    "  \"result\": {\n",
    "      \"bucket\": \"jmue-matrix-tests\",\n",
    "      \"key\": \"sc4000-result\"\n",
    "  }\n",
    "}\n",
    "\n",
    "# A split\n",
    "{\n",
    "  \"split\": {\n",
    "    \"x1\": 0,\n",
    "    \"y1\": 0,\n",
    "    \"x2\":1000,\n",
    "    \"y2\":1000\n",
    "  }\n",
    "}"
   ]
  },
  {
   "cell_type": "code",
   "execution_count": 97,
   "metadata": {
    "collapsed": true
   },
   "outputs": [],
   "source": [
    "import json\n",
    "import math"
   ]
  },
  {
   "cell_type": "code",
   "execution_count": 83,
   "metadata": {
    "collapsed": false
   },
   "outputs": [],
   "source": [
    "b = 5\n",
    "a = {\"key\": b, \"key2\": \"Hello\"}\n",
    "sfn_input = json.dumps({\"value\": a[\"key\"]})"
   ]
  },
  {
   "cell_type": "code",
   "execution_count": 84,
   "metadata": {
    "collapsed": false
   },
   "outputs": [
    {
     "data": {
      "text/plain": [
       "'{\"value\": 5}'"
      ]
     },
     "execution_count": 84,
     "metadata": {},
     "output_type": "execute_result"
    }
   ],
   "source": [
    "sfn_input"
   ]
  },
  {
   "cell_type": "code",
   "execution_count": 98,
   "metadata": {
    "collapsed": false
   },
   "outputs": [
    {
     "data": {
      "text/plain": [
       "3"
      ]
     },
     "execution_count": 98,
     "metadata": {},
     "output_type": "execute_result"
    }
   ],
   "source": [
    "int(math.ceil(4030.0/2000.0))"
   ]
  },
  {
   "cell_type": "code",
   "execution_count": null,
   "metadata": {
    "collapsed": false
   },
   "outputs": [],
   "source": []
  },
  {
   "cell_type": "code",
   "execution_count": 150,
   "metadata": {
    "collapsed": false
   },
   "outputs": [],
   "source": [
    "ssl = 1000\n",
    "def call_multi(i,j,k):\n",
    "    print \"x1\", str(i*ssl), \"y1\", str(k*ssl), \"| x1\", str(k*ssl), \"y1\", str(j*ssl)\n",
    "    print \"x2\", str((i+1)*ssl), \"y2\", str((k+1)*ssl), \"| x2\", str((k+1)*ssl), \"y2\", str((j+1)*ssl)"
   ]
  },
  {
   "cell_type": "code",
   "execution_count": 151,
   "metadata": {
    "collapsed": false
   },
   "outputs": [
    {
     "name": "stdout",
     "output_type": "stream",
     "text": [
      "A11*B11\n",
      "x1 0 y1 0 | x1 0 y1 0\n",
      "x2 1000 y2 1000 | x2 1000 y2 1000\n",
      "A12*B21\n",
      "x1 0 y1 1000 | x1 1000 y1 0\n",
      "x2 1000 y2 2000 | x2 2000 y2 1000\n",
      "\n",
      "A11*B12\n",
      "x1 0 y1 0 | x1 0 y1 1000\n",
      "x2 1000 y2 1000 | x2 1000 y2 2000\n",
      "A12*B22\n",
      "x1 0 y1 1000 | x1 1000 y1 1000\n",
      "x2 1000 y2 2000 | x2 2000 y2 2000\n",
      "\n",
      "A21*B11\n",
      "x1 1000 y1 0 | x1 0 y1 0\n",
      "x2 2000 y2 1000 | x2 1000 y2 1000\n",
      "A22*B21\n",
      "x1 1000 y1 1000 | x1 1000 y1 0\n",
      "x2 2000 y2 2000 | x2 2000 y2 1000\n",
      "\n",
      "A21*B12\n",
      "x1 1000 y1 0 | x1 0 y1 1000\n",
      "x2 2000 y2 1000 | x2 1000 y2 2000\n",
      "A22*B22\n",
      "x1 1000 y1 1000 | x1 1000 y1 1000\n",
      "x2 2000 y2 2000 | x2 2000 y2 2000\n",
      "\n",
      "A31*B11\n",
      "x1 2000 y1 0 | x1 0 y1 0\n",
      "x2 3000 y2 1000 | x2 1000 y2 1000\n",
      "A32*B21\n",
      "x1 2000 y1 1000 | x1 1000 y1 0\n",
      "x2 3000 y2 2000 | x2 2000 y2 1000\n",
      "\n",
      "A31*B12\n",
      "x1 2000 y1 0 | x1 0 y1 1000\n",
      "x2 3000 y2 1000 | x2 1000 y2 2000\n",
      "A32*B22\n",
      "x1 2000 y1 1000 | x1 1000 y1 1000\n",
      "x2 3000 y2 2000 | x2 2000 y2 2000\n",
      "\n"
     ]
    }
   ],
   "source": [
    "m = 3\n",
    "n = 2\n",
    "p = 2\n",
    "\n",
    "for i in range(m):\n",
    "    for j in range(n):\n",
    "        for k in range(p):\n",
    "            print \"A\" + str(i+1) + str(k+1) + \"*\" + \"B\" + str(k+1) + str(j+1)\n",
    "            call_multi(i,j,k)\n",
    "        print \"\""
   ]
  },
  {
   "cell_type": "code",
   "execution_count": null,
   "metadata": {
    "collapsed": true
   },
   "outputs": [],
   "source": []
  }
 ],
 "metadata": {
  "kernelspec": {
   "display_name": "Python 2",
   "language": "python",
   "name": "python2"
  },
  "language_info": {
   "codemirror_mode": {
    "name": "ipython",
    "version": 2
   },
   "file_extension": ".py",
   "mimetype": "text/x-python",
   "name": "python",
   "nbconvert_exporter": "python",
   "pygments_lexer": "ipython2",
   "version": "2.7.13"
  }
 },
 "nbformat": 4,
 "nbformat_minor": 2
}
