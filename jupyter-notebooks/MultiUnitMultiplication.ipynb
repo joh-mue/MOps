{
 "cells": [
  {
   "cell_type": "markdown",
   "metadata": {
    "deletable": true,
    "editable": true
   },
   "source": [
    "# MultiUniMulitplication\n",
    "\n",
    "A unit is a Strassen-Multiplication StepFunction.\n",
    "Matrix multiplication to be performed is `m.dot(m.transpose)` with `m.dim(4000,4000)`.\n",
    "M will be divided into `4*4=16` matrix partitions of dimension `1000*1000`. Partitions will be named m_row_col from m_0_0, m_0_1 ... to m_3_3.\n",
    "\n",
    "\n",
    "m_0_0  |  m_0_1  |  m_0_2  |  m_0_3\n",
    "\n",
    "m_1_0  |  m_1_1  |  m_1_2  |  m_1_3\n",
    "\n",
    "m_2_0  |  m_2_1  |  m_2_2  |  m_2_3\n",
    "\n",
    "m_3_0  |  m_3_1  |  m_3_2  |  m_3_3"
   ]
  },
  {
   "cell_type": "markdown",
   "metadata": {
    "collapsed": true,
    "deletable": true,
    "editable": true
   },
   "source": [
    "## Content\n",
    "\n",
    "1. Matrix Creation (matrix_dimension, block_sizes)\n",
    "2. Matrix deployment (bucket, matrix_names)\n",
    "3. Matrix multiplication (invoke matrix-multiplication-lambda)\n",
    "4. check results in S3\n",
    "5. create time profile for 3 stages (interm., collection, accumulation)\n",
    "6. Compare Timings\n",
    "\n",
    "matrix dimensions: 4000x4000, 8000x8000, 2000x16000   \n",
    "block sizes: 1000x1000, 2000x2000, 3000x3000"
   ]
  },
  {
   "cell_type": "code",
   "execution_count": 46,
   "metadata": {
    "collapsed": true
   },
   "outputs": [],
   "source": [
    "from collections import namedtuple\n",
    "MatrixDimensions = namedtuple(\"MatrixDimensions\", ['height', 'width'])"
   ]
  },
  {
   "cell_type": "code",
   "execution_count": 140,
   "metadata": {
    "collapsed": false
   },
   "outputs": [],
   "source": [
    "# global test variables\n",
    "matrix_dimensions = MatrixDimensions(height=2000,width=2000)\n",
    "block_size = 1000\n",
    "bucket = \"jmue-matrix-tests\"\n",
    "prefix = \"square_matrix\"\n",
    "matrix_name = \"{}_{}kx{}k\".format(prefix, matrix_dimensions.height/1000, matrix_dimensions.width/1000) "
   ]
  },
  {
   "cell_type": "markdown",
   "metadata": {},
   "source": [
    "## 1. Matrix Creation"
   ]
  },
  {
   "cell_type": "markdown",
   "metadata": {
    "deletable": true,
    "editable": true
   },
   "source": [
    "### Generate Matrix Blocks"
   ]
  },
  {
   "cell_type": "code",
   "execution_count": 141,
   "metadata": {
    "collapsed": true,
    "deletable": true,
    "editable": true
   },
   "outputs": [],
   "source": [
    "import numpy as np\n",
    "import os"
   ]
  },
  {
   "cell_type": "code",
   "execution_count": 142,
   "metadata": {
    "collapsed": false,
    "deletable": true,
    "editable": true
   },
   "outputs": [],
   "source": [
    "def write_block_to_file(block, directory, row, column):\n",
    "    if not os.path.exists(directory):\n",
    "        os.mkdir(directory)\n",
    "    path = os.path.join(directory, \"m_\" + str(row) + \"_\" + str(column))\n",
    "    np.save(path, block)"
   ]
  },
  {
   "cell_type": "markdown",
   "metadata": {},
   "source": [
    "### a. create specific matrix and split it"
   ]
  },
  {
   "cell_type": "code",
   "execution_count": 143,
   "metadata": {
    "collapsed": false,
    "deletable": true,
    "editable": true
   },
   "outputs": [],
   "source": [
    "def split_matrix_into(matrix, x, y, block_size):\n",
    "    '''split matrix into x*y partitions of given size'''\n",
    "    p = block_size\n",
    "    for i in range(0,x):\n",
    "        for j in range(0,y):\n",
    "            block = matrix[i*p:(i+1)*p, j*p:(j+1)*p]\n",
    "            directory = \"/tmp/\" + matrix_name\n",
    "            write_block_to_file(block, directory, i, j)"
   ]
  },
  {
   "cell_type": "code",
   "execution_count": 144,
   "metadata": {
    "collapsed": true,
    "deletable": true,
    "editable": true
   },
   "outputs": [],
   "source": [
    "def create_square_staircase_matrix(matrix_dimensions):\n",
    "    matrix = np.zeros(matrix_dimensions, dtype=np.int)\n",
    "    for i in range(matrix_dimensions.height):\n",
    "        for j in range(matrix_dimensions.width):\n",
    "            matrix[i][j] = i+j\n",
    "    return np.array(matrix)"
   ]
  },
  {
   "cell_type": "code",
   "execution_count": 145,
   "metadata": {
    "collapsed": false,
    "deletable": true,
    "editable": true
   },
   "outputs": [],
   "source": [
    "sq_m = create_square_staircase_matrix(matrix_dimensions)"
   ]
  },
  {
   "cell_type": "code",
   "execution_count": 261,
   "metadata": {
    "collapsed": false,
    "deletable": true,
    "editable": true
   },
   "outputs": [],
   "source": [
    "sq_m = np.transpose(create_square_staircase_matrix(width=4000))\n",
    "split_matrix_into(sq_m, 4, 4, 1000)"
   ]
  },
  {
   "cell_type": "markdown",
   "metadata": {},
   "source": [
    "### OR b. alternatively create random blocks"
   ]
  },
  {
   "cell_type": "code",
   "execution_count": 67,
   "metadata": {
    "collapsed": false
   },
   "outputs": [],
   "source": [
    "def get_block_with_random(height, width):\n",
    "    return np.random.random_sample((height,width))\n"
   ]
  },
  {
   "cell_type": "code",
   "execution_count": 147,
   "metadata": {
    "collapsed": false
   },
   "outputs": [],
   "source": [
    "def create_blocks_with_random(x, y, height, width, matrix_name=matrix_name):\n",
    "    for i in range(0,x):\n",
    "        for j in range(0,y):\n",
    "            block = get_block_with_random(height, width)\n",
    "            directory = \"/tmp/\" + matrix_name\n",
    "            write_block_to_file(block, directory, i, j)"
   ]
  },
  {
   "cell_type": "code",
   "execution_count": 150,
   "metadata": {
    "collapsed": true
   },
   "outputs": [],
   "source": [
    "create_blocks_with_random(matrix_dimensions.height/1000, matrix_dimensions.width/1000, block_size, block_size)"
   ]
  },
  {
   "cell_type": "code",
   "execution_count": 151,
   "metadata": {
    "collapsed": true
   },
   "outputs": [],
   "source": [
    "create_blocks_with_random(matrix_dimensions.height/1000, matrix_dimensions.width/1000, block_size, block_size, matrix_name=matrix_name + \"-2\")"
   ]
  },
  {
   "cell_type": "markdown",
   "metadata": {},
   "source": [
    "## 2. Matrix Deployment"
   ]
  },
  {
   "cell_type": "code",
   "execution_count": 78,
   "metadata": {
    "collapsed": true,
    "deletable": true,
    "editable": true
   },
   "outputs": [],
   "source": [
    "import boto3"
   ]
  },
  {
   "cell_type": "code",
   "execution_count": 152,
   "metadata": {
    "collapsed": true,
    "deletable": true,
    "editable": true
   },
   "outputs": [],
   "source": [
    "s3_client = boto3.client('s3')"
   ]
  },
  {
   "cell_type": "code",
   "execution_count": 153,
   "metadata": {
    "collapsed": false,
    "deletable": true,
    "editable": true
   },
   "outputs": [],
   "source": [
    "def upload_blocks(matrix_name, bucket, s3_matrix_name=None):\n",
    "    localpath = \"/tmp/\" + matrix_name\n",
    "    filenames = os.listdir(localpath)\n",
    "\n",
    "    s3_folder = matrix_name\n",
    "    if s3_matrix_name is not None:\n",
    "        s3_folder = s3_matrix_name\n",
    "    \n",
    "    for filename in filenames:\n",
    "        s3_client.upload_file(\n",
    "            Filename=os.path.join(localpath,filename),\n",
    "            Bucket=bucket,\n",
    "            Key=os.path.join(s3_folder,filename)\n",
    "        )"
   ]
  },
  {
   "cell_type": "code",
   "execution_count": 154,
   "metadata": {
    "collapsed": true,
    "deletable": true,
    "editable": true
   },
   "outputs": [],
   "source": [
    "upload_blocks(matrix_name, bucket)"
   ]
  },
  {
   "cell_type": "code",
   "execution_count": 155,
   "metadata": {
    "collapsed": true
   },
   "outputs": [],
   "source": [
    "upload_blocks(matrix_name, bucket, matrix_name + \"-2\")"
   ]
  },
  {
   "cell_type": "markdown",
   "metadata": {
    "deletable": true,
    "editable": true
   },
   "source": [
    "## 3. Matrix Multiplication"
   ]
  },
  {
   "cell_type": "markdown",
   "metadata": {},
   "source": [
    "### Create Input"
   ]
  },
  {
   "cell_type": "code",
   "execution_count": 156,
   "metadata": {
    "collapsed": true
   },
   "outputs": [],
   "source": [
    "state_machine_name = \"multi-unit-mmultiply-2kx2k\"\n",
    "executionName = \"test-2000x2000\"\n",
    "name_matrixA = matrix_name\n",
    "name_matrixB = matrix_name + \"-2\""
   ]
  },
  {
   "cell_type": "code",
   "execution_count": 157,
   "metadata": {
    "collapsed": false,
    "deletable": true,
    "editable": true
   },
   "outputs": [
    {
     "data": {
      "text/plain": [
       "{'executionName': 'test-2000x2000',\n",
       " 'matA': {'bucket': 'jmue-matrix-tests',\n",
       "  'columns': 2000,\n",
       "  'folder': 'square_matrix_2kx2k',\n",
       "  'rows': 2000},\n",
       " 'matB': {'bucket': 'jmue-matrix-tests',\n",
       "  'columns': 2000,\n",
       "  'folder': 'square_matrix_2kx2k-2',\n",
       "  'rows': 2000},\n",
       " 'result': {'bucket': 'jmue-matrix-tests',\n",
       "  'folder': 'square_matrix_2kx2k-result'},\n",
       " 'split-size': 2000,\n",
       " 'state-machine-name': 'multi-unit-mmultiply-2kx2k'}"
      ]
     },
     "execution_count": 157,
     "metadata": {},
     "output_type": "execute_result"
    }
   ],
   "source": [
    "input = {\n",
    "  \"state-machine-name\": state_machine_name,\n",
    "  \"executionName\": executionName,\n",
    "  \"matA\": {\n",
    "    \"bucket\": bucket,\n",
    "    \"folder\": name_matrixA,\n",
    "    \"rows\": matrix_dimensions.height,\n",
    "    \"columns\": matrix_dimensions.width\n",
    "  },\n",
    "  \"matB\": {\n",
    "      \"bucket\": bucket,\n",
    "      \"folder\": name_matrixB,\n",
    "      \"rows\": matrix_dimensions.height,\n",
    "      \"columns\": matrix_dimensions.height\n",
    "  },\n",
    "  \"result\": {\n",
    "      \"bucket\": bucket,\n",
    "      \"folder\": matrix_name + \"-result\"\n",
    "  },\n",
    "  \"split-size\": 2000\n",
    "}\n",
    "input"
   ]
  },
  {
   "cell_type": "markdown",
   "metadata": {},
   "source": [
    "### Invoke Matrix Multiplication Lambda"
   ]
  },
  {
   "cell_type": "code",
   "execution_count": 158,
   "metadata": {
    "collapsed": true
   },
   "outputs": [],
   "source": [
    "import json\n",
    "import base64"
   ]
  },
  {
   "cell_type": "code",
   "execution_count": 159,
   "metadata": {
    "collapsed": false,
    "deletable": true,
    "editable": true
   },
   "outputs": [
    {
     "name": "stdout",
     "output_type": "stream",
     "text": [
      "START RequestId: de517c52-8cb9-11e7-bd58-47392977762e Version: $LATEST\n",
      "Split_0 (x:0 y:0) arn:aws:states:eu-central-1:146904559692:execution:multi-unit-mmultiply-2kx2k:test-2000x2000-split0\n",
      "\n",
      "END RequestId: de517c52-8cb9-11e7-bd58-47392977762e\n",
      "REPORT RequestId: de517c52-8cb9-11e7-bd58-47392977762e\tDuration: 503.26 ms\tBilled Duration: 600 ms \tMemory Size: 1024 MB\tMax Memory Used: 37 MB\t\n",
      "\n"
     ]
    }
   ],
   "source": [
    "lambda_client = boto3.client('lambda')\n",
    "response = lambda_client.invoke(\n",
    "    FunctionName=\"mmultiply-prod-multi-unit-multiplication\",\n",
    "    InvocationType='RequestResponse',\n",
    "    LogType='Tail',\n",
    "    Payload=json.dumps(input)\n",
    ")\n",
    "print base64.b64decode(response['LogResult'])"
   ]
  },
  {
   "cell_type": "markdown",
   "metadata": {
    "deletable": true,
    "editable": true
   },
   "source": [
    "## 5. Check Results"
   ]
  },
  {
   "cell_type": "code",
   "execution_count": null,
   "metadata": {
    "collapsed": true
   },
   "outputs": [],
   "source": []
  },
  {
   "cell_type": "code",
   "execution_count": null,
   "metadata": {
    "collapsed": true,
    "deletable": true,
    "editable": true
   },
   "outputs": [],
   "source": []
  },
  {
   "cell_type": "code",
   "execution_count": null,
   "metadata": {
    "collapsed": false,
    "deletable": true,
    "editable": true
   },
   "outputs": [],
   "source": []
  },
  {
   "cell_type": "code",
   "execution_count": null,
   "metadata": {
    "collapsed": true,
    "deletable": true,
    "editable": true
   },
   "outputs": [],
   "source": []
  },
  {
   "cell_type": "code",
   "execution_count": null,
   "metadata": {
    "collapsed": true,
    "deletable": true,
    "editable": true
   },
   "outputs": [],
   "source": []
  },
  {
   "cell_type": "markdown",
   "metadata": {
    "collapsed": true,
    "deletable": true,
    "editable": true
   },
   "source": [
    "## 6. Create Timing Profile"
   ]
  },
  {
   "cell_type": "code",
   "execution_count": null,
   "metadata": {
    "collapsed": true
   },
   "outputs": [],
   "source": []
  },
  {
   "cell_type": "code",
   "execution_count": null,
   "metadata": {
    "collapsed": true
   },
   "outputs": [],
   "source": []
  },
  {
   "cell_type": "code",
   "execution_count": null,
   "metadata": {
    "collapsed": true
   },
   "outputs": [],
   "source": []
  },
  {
   "cell_type": "code",
   "execution_count": null,
   "metadata": {
    "collapsed": true
   },
   "outputs": [],
   "source": []
  },
  {
   "cell_type": "code",
   "execution_count": null,
   "metadata": {
    "collapsed": true
   },
   "outputs": [],
   "source": []
  },
  {
   "cell_type": "markdown",
   "metadata": {},
   "source": [
    "## 7. Compare Timings"
   ]
  },
  {
   "cell_type": "markdown",
   "metadata": {},
   "source": [
    "### Baseline Lambda"
   ]
  },
  {
   "cell_type": "code",
   "execution_count": 111,
   "metadata": {
    "collapsed": true
   },
   "outputs": [],
   "source": [
    "import matplotlib.pyplot as plt"
   ]
  },
  {
   "cell_type": "code",
   "execution_count": 139,
   "metadata": {
    "collapsed": false
   },
   "outputs": [
    {
     "data": {
      "text/plain": [
       "<matplotlib.text.Text at 0x10fe687d0>"
      ]
     },
     "execution_count": 139,
     "metadata": {},
     "output_type": "execute_result"
    },
    {
     "data": {
      "image/png": "[encoded data removed]",
      "text/plain": [
       "<matplotlib.figure.Figure at 0x10fdf9290>"
      ]
     },
     "metadata": {},
     "output_type": "display_data"
    }
   ],
   "source": [
    "%matplotlib inline\n",
    "x = [2000, 4000, 5000, 6000, 8000]\n",
    "y = [5.293, 36.736, 83.031, 124.862, 295.771]\n",
    "mem = [ 87.4, 87.6 ,87.3 ,87.8,152.3]\n",
    "\n",
    "fig, ax = plt.subplots()\n",
    "ax.plot(x, y, color='red', linestyle='--', linewidth=2, marker='s')\n",
    "ax.plot(x, mem, color='blue', linestyle='--', linewidth=2, marker='s')\n",
    "ax.grid()\n",
    "ax.set_xlabel('x')\n",
    "ax.set_ylabel('time in s')\n",
    "ax.set_title('f(x) = x * x')"
   ]
  },
  {
   "cell_type": "code",
   "execution_count": null,
   "metadata": {
    "collapsed": false
   },
   "outputs": [],
   "source": []
  },
  {
   "cell_type": "markdown",
   "metadata": {
    "deletable": true,
    "editable": true
   },
   "source": [
    "### Input Format"
   ]
  },
  {
   "cell_type": "code",
   "execution_count": null,
   "metadata": {
    "collapsed": false,
    "deletable": true,
    "editable": true
   },
   "outputs": [],
   "source": [
    "{\n",
    "  \"matA\": {\n",
    "    \"bucket\": \"jmue-matrix-tests\",\n",
    "    \"key\": \"sc4000\",\n",
    "    \"split\": { ... }\n",
    "  },\n",
    "  \"matB\": {\n",
    "      \"bucket\": \"jmue-matrix-tests\",\n",
    "      \"key\": \"sc4000t\",\n",
    "      \"split\": { ... }\n",
    "  },\n",
    "  \"result\": {\n",
    "      \"bucket\": \"jmue-matrix-tests\",\n",
    "      \"key\": \"sc4000-result\"\n",
    "  }\n",
    "}\n",
    "\n",
    "{\n",
    "  \"matA\": {\n",
    "    \"bucket\": \"jmue-matrix-tests\",\n",
    "    \"key\": \"sc4000\",\n",
    "    \"split\": {\n",
    "      \"x1\": 0,\n",
    "      \"y1\": 0,\n",
    "      \"x2\":1000,\n",
    "      \"y2\":1000\n",
    "    }\n",
    "  },\n",
    "  \"matB\": {\n",
    "      \"bucket\": \"jmue-matrix-tests\",\n",
    "      \"key\": \"sc4000t\",\n",
    "      \"split\": {\n",
    "        \"x1\": 0,\n",
    "        \"y1\": 0,\n",
    "        \"x2\":1000,\n",
    "        \"y2\":1000\n",
    "      }\n",
    "  },\n",
    "  \"result\": {\n",
    "      \"bucket\": \"jmue-matrix-tests\",\n",
    "      \"key\": \"sc4000-result\"\n",
    "  }\n",
    "}\n",
    "\n",
    "# A split\n",
    "{\n",
    "  \"split\": {\n",
    "    \"x1\": 0,\n",
    "    \"y1\": 0,\n",
    "    \"x2\":1000,\n",
    "    \"y2\":1000\n",
    "  }\n",
    "}"
   ]
  },
  {
   "cell_type": "code",
   "execution_count": 175,
   "metadata": {
    "collapsed": false,
    "deletable": true,
    "editable": true
   },
   "outputs": [
    {
     "name": "stdout",
     "output_type": "stream",
     "text": [
      "sc4000/m_0_0.npy\n"
     ]
    }
   ],
   "source": [
    "matrix = { \"bucket\": \"jmue-matrix-tests\", \"key\": \"sc4000\", \"split\": { \"x1\": 0, \"y1\": 0, \"x2\":1000, \"y2\":1000 } }\n",
    "x1 = matrix['split']['x1']\n",
    "y1 = matrix['split']['y1']\n",
    "key = matrix['key'] +  \"/m_\" + str(x1) + \"_\" + str(y1) + \".npy\"\n",
    "print key"
   ]
  },
  {
   "cell_type": "code",
   "execution_count": 184,
   "metadata": {
    "collapsed": false,
    "deletable": true,
    "editable": true
   },
   "outputs": [
    {
     "name": "stdout",
     "output_type": "stream",
     "text": [
      "False\n"
     ]
    }
   ],
   "source": [
    "if not False:\n",
    "    print \"False\""
   ]
  },
  {
   "cell_type": "code",
   "execution_count": 185,
   "metadata": {
    "collapsed": false,
    "deletable": true,
    "editable": true
   },
   "outputs": [],
   "source": [
    "if not os.path.exists('/tmp/' + matrix['key']):\n",
    "    os.mkdir('/tmp/' + matrix['key'])\n",
    "s3_client.download_file('jmue-matrix-tests', key, '/tmp/' + key)\n",
    "split = np.load('/tmp/' + key)"
   ]
  },
  {
   "cell_type": "code",
   "execution_count": 174,
   "metadata": {
    "collapsed": false,
    "deletable": true,
    "editable": true
   },
   "outputs": [
    {
     "data": {
      "text/plain": [
       "array([[   0,    1,    2, ...,  997,  998,  999],\n",
       "       [   1,    2,    3, ...,  998,  999, 1000],\n",
       "       [   2,    3,    4, ...,  999, 1000, 1001],\n",
       "       ..., \n",
       "       [ 997,  998,  999, ..., 1994, 1995, 1996],\n",
       "       [ 998,  999, 1000, ..., 1995, 1996, 1997],\n",
       "       [ 999, 1000, 1001, ..., 1996, 1997, 1998]])"
      ]
     },
     "execution_count": 174,
     "metadata": {},
     "output_type": "execute_result"
    }
   ],
   "source": [
    "split"
   ]
  },
  {
   "cell_type": "code",
   "execution_count": null,
   "metadata": {
    "collapsed": true,
    "deletable": true,
    "editable": true
   },
   "outputs": [],
   "source": []
  },
  {
   "cell_type": "code",
   "execution_count": null,
   "metadata": {
    "collapsed": true,
    "deletable": true,
    "editable": true
   },
   "outputs": [],
   "source": []
  },
  {
   "cell_type": "code",
   "execution_count": null,
   "metadata": {
    "collapsed": true,
    "deletable": true,
    "editable": true
   },
   "outputs": [],
   "source": []
  },
  {
   "cell_type": "code",
   "execution_count": 5,
   "metadata": {
    "collapsed": true,
    "deletable": true,
    "editable": true
   },
   "outputs": [],
   "source": [
    "import json\n",
    "import math"
   ]
  },
  {
   "cell_type": "code",
   "execution_count": 83,
   "metadata": {
    "collapsed": false,
    "deletable": true,
    "editable": true
   },
   "outputs": [],
   "source": [
    "b = 5\n",
    "a = {\"key\": b, \"key2\": \"Hello\"}\n",
    "sfn_input = json.dumps({\"value\": a[\"key\"]})"
   ]
  },
  {
   "cell_type": "code",
   "execution_count": 84,
   "metadata": {
    "collapsed": false,
    "deletable": true,
    "editable": true
   },
   "outputs": [
    {
     "data": {
      "text/plain": [
       "'{\"value\": 5}'"
      ]
     },
     "execution_count": 84,
     "metadata": {},
     "output_type": "execute_result"
    }
   ],
   "source": [
    "sfn_input"
   ]
  },
  {
   "cell_type": "code",
   "execution_count": 98,
   "metadata": {
    "collapsed": false,
    "deletable": true,
    "editable": true
   },
   "outputs": [
    {
     "data": {
      "text/plain": [
       "3"
      ]
     },
     "execution_count": 98,
     "metadata": {},
     "output_type": "execute_result"
    }
   ],
   "source": [
    "int(math.ceil(4030.0/2000.0))"
   ]
  },
  {
   "cell_type": "code",
   "execution_count": null,
   "metadata": {
    "collapsed": false,
    "deletable": true,
    "editable": true
   },
   "outputs": [],
   "source": []
  },
  {
   "cell_type": "code",
   "execution_count": 150,
   "metadata": {
    "collapsed": false,
    "deletable": true,
    "editable": true
   },
   "outputs": [],
   "source": [
    "ssl = 1000\n",
    "def call_multi(i,j,k):\n",
    "    print \"x1\", str(i*ssl), \"y1\", str(k*ssl), \"| x1\", str(k*ssl), \"y1\", str(j*ssl)\n",
    "    print \"x2\", str((i+1)*ssl), \"y2\", str((k+1)*ssl), \"| x2\", str((k+1)*ssl), \"y2\", str((j+1)*ssl)"
   ]
  },
  {
   "cell_type": "code",
   "execution_count": 151,
   "metadata": {
    "collapsed": false,
    "deletable": true,
    "editable": true
   },
   "outputs": [
    {
     "name": "stdout",
     "output_type": "stream",
     "text": [
      "A11*B11\n",
      "x1 0 y1 0 | x1 0 y1 0\n",
      "x2 1000 y2 1000 | x2 1000 y2 1000\n",
      "A12*B21\n",
      "x1 0 y1 1000 | x1 1000 y1 0\n",
      "x2 1000 y2 2000 | x2 2000 y2 1000\n",
      "\n",
      "A11*B12\n",
      "x1 0 y1 0 | x1 0 y1 1000\n",
      "x2 1000 y2 1000 | x2 1000 y2 2000\n",
      "A12*B22\n",
      "x1 0 y1 1000 | x1 1000 y1 1000\n",
      "x2 1000 y2 2000 | x2 2000 y2 2000\n",
      "\n",
      "A21*B11\n",
      "x1 1000 y1 0 | x1 0 y1 0\n",
      "x2 2000 y2 1000 | x2 1000 y2 1000\n",
      "A22*B21\n",
      "x1 1000 y1 1000 | x1 1000 y1 0\n",
      "x2 2000 y2 2000 | x2 2000 y2 1000\n",
      "\n",
      "A21*B12\n",
      "x1 1000 y1 0 | x1 0 y1 1000\n",
      "x2 2000 y2 1000 | x2 1000 y2 2000\n",
      "A22*B22\n",
      "x1 1000 y1 1000 | x1 1000 y1 1000\n",
      "x2 2000 y2 2000 | x2 2000 y2 2000\n",
      "\n",
      "A31*B11\n",
      "x1 2000 y1 0 | x1 0 y1 0\n",
      "x2 3000 y2 1000 | x2 1000 y2 1000\n",
      "A32*B21\n",
      "x1 2000 y1 1000 | x1 1000 y1 0\n",
      "x2 3000 y2 2000 | x2 2000 y2 1000\n",
      "\n",
      "A31*B12\n",
      "x1 2000 y1 0 | x1 0 y1 1000\n",
      "x2 3000 y2 1000 | x2 1000 y2 2000\n",
      "A32*B22\n",
      "x1 2000 y1 1000 | x1 1000 y1 1000\n",
      "x2 3000 y2 2000 | x2 2000 y2 2000\n",
      "\n"
     ]
    }
   ],
   "source": [
    "m = 3\n",
    "n = 2\n",
    "p = 2\n",
    "\n",
    "for i in range(m):\n",
    "    for j in range(n):\n",
    "        for k in range(p):\n",
    "            print \"A\" + str(i+1) + str(k+1) + \"*\" + \"B\" + str(k+1) + str(j+1)\n",
    "            call_multi(i,j,k)\n",
    "        print \"\""
   ]
  },
  {
   "cell_type": "code",
   "execution_count": null,
   "metadata": {
    "collapsed": false,
    "deletable": true,
    "editable": true
   },
   "outputs": [],
   "source": []
  },
  {
   "cell_type": "code",
   "execution_count": null,
   "metadata": {
    "collapsed": true,
    "deletable": true,
    "editable": true
   },
   "outputs": [],
   "source": []
  },
  {
   "cell_type": "code",
   "execution_count": null,
   "metadata": {
    "collapsed": true,
    "deletable": true,
    "editable": true
   },
   "outputs": [],
   "source": []
  },
  {
   "cell_type": "code",
   "execution_count": 242,
   "metadata": {
    "collapsed": false,
    "deletable": true,
    "editable": true
   },
   "outputs": [],
   "source": [
    "def partition(matrix, x, y):\n",
    "    split = matrix['split']\n",
    "    x += split['x1']/1000\n",
    "    y += split['y1']/1000\n",
    "    partition_factor = ((split['x2']-split['x1'])/2)/1000 # length of split us twice the size of a partition\n",
    "\n",
    "    filename = \"m_\" + str(partition_factor*x) + \"_\" + str(partition_factor*y) + \".npy\"\n",
    "    key = matrix['folder'] + \"/\" + filename # e.g. m_0_0.npy\n",
    "\n",
    "    if not os.path.exists('/tmp/' + matrix['folder']):\n",
    "        os.mkdir('/tmp/' + matrix['folder'])\n",
    "\n",
    "    print key\n",
    "    s3_client.download_file(matrix['bucket'], key, '/tmp/' + key)\n",
    "    return np.load('/tmp/' + key)"
   ]
  },
  {
   "cell_type": "code",
   "execution_count": 241,
   "metadata": {
    "collapsed": true,
    "deletable": true,
    "editable": true
   },
   "outputs": [],
   "source": [
    "s3_client.download_file(\"jmue-matrix-tests\", \"sc4000/m_3_2.npy\", '/tmp/sc4000/m_3_2.npy')"
   ]
  },
  {
   "cell_type": "code",
   "execution_count": 244,
   "metadata": {
    "collapsed": false,
    "deletable": true,
    "editable": true
   },
   "outputs": [
    {
     "name": "stdout",
     "output_type": "stream",
     "text": [
      "sc4000/m_3_2.npy\n"
     ]
    },
    {
     "data": {
      "text/plain": [
       "array([[5000, 5001, 5002, ..., 5997, 5998, 5999],\n",
       "       [5001, 5002, 5003, ..., 5998, 5999, 6000],\n",
       "       [5002, 5003, 5004, ..., 5999, 6000, 6001],\n",
       "       ..., \n",
       "       [5997, 5998, 5999, ..., 6994, 6995, 6996],\n",
       "       [5998, 5999, 6000, ..., 6995, 6996, 6997],\n",
       "       [5999, 6000, 6001, ..., 6996, 6997, 6998]])"
      ]
     },
     "execution_count": 244,
     "metadata": {},
     "output_type": "execute_result"
    }
   ],
   "source": [
    "matrix = { \"bucket\": \"jmue-matrix-tests\", \"folder\": \"sc4000\", \"split\": { \"x1\": 2000, \"y1\": 2000, \"x2\":4000, \"y2\":4000 } }\n",
    "partition(matrix=matrix, x=1, y=0)"
   ]
  },
  {
   "cell_type": "code",
   "execution_count": null,
   "metadata": {
    "collapsed": false,
    "deletable": true,
    "editable": true
   },
   "outputs": [],
   "source": []
  },
  {
   "cell_type": "markdown",
   "metadata": {
    "collapsed": false,
    "deletable": true,
    "editable": true
   },
   "source": [
    "## Building a State Machine in Code"
   ]
  },
  {
   "cell_type": "code",
   "execution_count": 78,
   "metadata": {
    "collapsed": true,
    "deletable": true,
    "editable": true
   },
   "outputs": [],
   "source": [
    "def task_state(resource, next_state=None):\n",
    "    task_state = {\n",
    "            \"Type\": \"Task\",\n",
    "            \"Resource\": resource,\n",
    "            \"End\": True\n",
    "    }\n",
    "    if next_state is not None:\n",
    "        task_state[\"End\"] = False\n",
    "        task_state[\"Next\"] = next_state\n",
    "    return task_state"
   ]
  },
  {
   "cell_type": "code",
   "execution_count": 79,
   "metadata": {
    "collapsed": false,
    "deletable": true,
    "editable": true
   },
   "outputs": [],
   "source": [
    "def pass_state(next_state, result=None, resultPath=None, outputPath=None):\n",
    "    return {\n",
    "              \"Type\": \"Pass\",\n",
    "              \"Result\": result,\n",
    "              \"ResultPath\": resultPath,\n",
    "              \"OutputPath\": outputPath,\n",
    "              \"Next\": next_state\n",
    "    }"
   ]
  },
  {
   "cell_type": "code",
   "execution_count": 114,
   "metadata": {
    "collapsed": false,
    "deletable": true,
    "editable": true
   },
   "outputs": [],
   "source": [
    "def parallel_state(branches, next_state, resultPath=None, outputPath=None):\n",
    "    parallel_state = {\n",
    "            \"Type\": \"Parallel\",\n",
    "            \"Next\": next_state,\n",
    "            \"Branches\": branches\n",
    "    }\n",
    "    if resultPath is not None:\n",
    "        parallel_state[\"ResultPath\"] = resultPath\n",
    "    \n",
    "    if outputPath is not None:\n",
    "        parallel_state[\"OutputPath\"] = outputPath\n",
    "    \n",
    "    return parallel_state"
   ]
  },
  {
   "cell_type": "code",
   "execution_count": 81,
   "metadata": {
    "collapsed": true,
    "deletable": true,
    "editable": true
   },
   "outputs": [],
   "source": [
    "def branch(startAt, states):\n",
    "    return {\n",
    "        \"StartAt\": startAt,\n",
    "        \"States\": states\n",
    "    }"
   ]
  },
  {
   "cell_type": "code",
   "execution_count": 118,
   "metadata": {
    "collapsed": false,
    "deletable": true,
    "editable": true
   },
   "outputs": [],
   "source": [
    "def create_strassen_sfn(unit=\"\"):\n",
    "    branches = []\n",
    "    for index in range(0,7):\n",
    "        unit_m = \"U{}_m{}\".format(unit, index) # U0_m_0\n",
    "        unit_m_lambda = \"U{}_m{}_lambda\".format(unit, index) # U0_m_0_lambda\n",
    "        states = {\n",
    "            unit_m: pass_state(next_state=unit_m_lambda, result=index, resultPath=\"$.intermediate\", outputPath=\"$\"),\n",
    "            unit_m_lambda: task_state(resource=\"arn:aws:lambda:eu-central-1:146904559692:function:mmultiply-prod-strassen-split-intermediate\")\n",
    "        }\n",
    "        branches.append(branch(states=states, startAt=unit_m))\n",
    "\n",
    "    unit_name = \"unit\" + unit\n",
    "    i_name = \"U{}_Intermediate\".format(unit)\n",
    "    c_name = \"U{}_Collect\".format(unit)\n",
    "    \n",
    "    unit_setup = pass_state(next_state=i_name, result=unit, resultPath=\"$.unit\", outputPath=\"$\")\n",
    "    intermediates = parallel_state(branches=branches, next_state=c_name, resultPath=\"$.responses\", outputPath=\"$\")\n",
    "    collect = task_state(resource=\"arn:aws:lambda:eu-central-1:146904559692:function:mmultiply-prod-strassen-split-collector\")\n",
    "        \n",
    "    states = { unit_name: unit_setup, i_name: intermediates, c_name: collect }\n",
    "    return branch(startAt=unit_name, states=states)"
   ]
  },
  {
   "cell_type": "code",
   "execution_count": 122,
   "metadata": {
    "collapsed": false,
    "deletable": true,
    "editable": true
   },
   "outputs": [],
   "source": [
    "accumulation_arn=\"arn:aws:lambda:eu-central-1:146904559692:function:mmultiply-prod-unit-accumulator\"\n",
    "unit_branches = []\n",
    "for i in range(0,2):\n",
    "    unit_branches.append(create_strassen_sfn(unit=str(i)))\n",
    "\n",
    "split_states = {\n",
    "    \"Accumulate\": task_state(resource=accumulation_arn),\n",
    "    \"Units\": parallel_state(branches=unit_branches, next_state=\"Accumulate\", resultPath=\"$.responses\", outputPath=\"$\")\n",
    "}\n",
    "partial = branch(startAt=\"Units\", states=split_states)"
   ]
  },
  {
   "cell_type": "code",
   "execution_count": 123,
   "metadata": {
    "collapsed": false,
    "deletable": true,
    "editable": true
   },
   "outputs": [],
   "source": [
    "with open('/Users/Johannes/Uni/Master/Master Arbeit/repos/matrix-operations/state-machines/created.asl', 'w') as file:\n",
    "    json.dump(partial, file)"
   ]
  },
  {
   "cell_type": "code",
   "execution_count": null,
   "metadata": {
    "collapsed": false,
    "deletable": true,
    "editable": true
   },
   "outputs": [],
   "source": []
  },
  {
   "cell_type": "code",
   "execution_count": 124,
   "metadata": {
    "collapsed": false,
    "deletable": true,
    "editable": true
   },
   "outputs": [],
   "source": [
    "result = { \"folder\": \"sc4000-result\"}\n",
    "split = 3\n",
    "block_index = \"00\"\n",
    "response = s3_client.list_objects_v2(\n",
    "      Bucket=\"jmue-matrix-tests\",\n",
    "      Prefix=\"{}/S{}_X{}\".format(result['folder'], split, block_index)\n",
    "    )"
   ]
  },
  {
   "cell_type": "code",
   "execution_count": 125,
   "metadata": {
    "collapsed": false,
    "deletable": true,
    "editable": true
   },
   "outputs": [
    {
     "data": {
      "text/plain": [
       "{u'Contents': [{u'ETag': '\"675ba5b88cb01f66bd6b56d15646cc5e\"',\n",
       "   u'Key': 'sc4000-result/S3_X00_U0',\n",
       "   u'LastModified': datetime.datetime(2017, 8, 4, 15, 59, 30, tzinfo=tzutc()),\n",
       "   u'Size': 8000080,\n",
       "   u'StorageClass': 'STANDARD'},\n",
       "  {u'ETag': '\"675ba5b88cb01f66bd6b56d15646cc5e\"',\n",
       "   u'Key': 'sc4000-result/S3_X00_U1',\n",
       "   u'LastModified': datetime.datetime(2017, 8, 4, 15, 59, 25, tzinfo=tzutc()),\n",
       "   u'Size': 8000080,\n",
       "   u'StorageClass': 'STANDARD'}],\n",
       " u'IsTruncated': False,\n",
       " u'KeyCount': 2,\n",
       " u'MaxKeys': 1000,\n",
       " u'Name': 'jmue-matrix-tests',\n",
       " u'Prefix': 'sc4000-result/S3_X00',\n",
       " 'ResponseMetadata': {'HTTPHeaders': {'content-type': 'application/xml',\n",
       "   'date': 'Fri, 04 Aug 2017 16:19:37 GMT',\n",
       "   'server': 'AmazonS3',\n",
       "   'transfer-encoding': 'chunked',\n",
       "   'x-amz-bucket-region': 'eu-central-1',\n",
       "   'x-amz-id-2': 'e5IR4vIgZJX00HgHbBgBixJWhyqTlnZEKdV+bQatEGkGUysJGlAbJeewKRGgS4YVQvJ5IJth4g0=',\n",
       "   'x-amz-request-id': '11F1494C37A87A8E'},\n",
       "  'HTTPStatusCode': 200,\n",
       "  'HostId': 'e5IR4vIgZJX00HgHbBgBixJWhyqTlnZEKdV+bQatEGkGUysJGlAbJeewKRGgS4YVQvJ5IJth4g0=',\n",
       "  'RequestId': '11F1494C37A87A8E',\n",
       "  'RetryAttempts': 0}}"
      ]
     },
     "execution_count": 125,
     "metadata": {},
     "output_type": "execute_result"
    }
   ],
   "source": [
    "response"
   ]
  },
  {
   "cell_type": "code",
   "execution_count": null,
   "metadata": {
    "collapsed": false,
    "deletable": true,
    "editable": true
   },
   "outputs": [],
   "source": []
  },
  {
   "cell_type": "code",
   "execution_count": null,
   "metadata": {
    "collapsed": false,
    "deletable": true,
    "editable": true
   },
   "outputs": [],
   "source": [
    "    "
   ]
  },
  {
   "cell_type": "code",
   "execution_count": null,
   "metadata": {
    "collapsed": false,
    "deletable": true,
    "editable": true
   },
   "outputs": [],
   "source": []
  },
  {
   "cell_type": "markdown",
   "metadata": {
    "collapsed": false,
    "deletable": true,
    "editable": true
   },
   "source": [
    "### Padded matrix multiplication has the same result"
   ]
  },
  {
   "cell_type": "code",
   "execution_count": 5,
   "metadata": {
    "collapsed": false,
    "deletable": true,
    "editable": true
   },
   "outputs": [
    {
     "data": {
      "text/plain": [
       "True"
      ]
     },
     "execution_count": 5,
     "metadata": {},
     "output_type": "execute_result"
    }
   ],
   "source": [
    "import numpy as np\n",
    "j = np.array([[x for x in range(10)],\n",
    "              [x for x in range(10)],\n",
    "              [x for x in range(10)],\n",
    "              [x for x in range(10)],\n",
    "              [x for x in range(10)]])\n",
    "j_padded = np.array([[0, 1, 2, 3, 4, 5, 6, 7, 8, 9],\n",
    " [0, 1, 2, 3, 4, 5, 6, 7, 8, 9],\n",
    " [0, 1, 2, 3, 4, 5, 6, 7, 8, 9],\n",
    " [0, 1, 2, 3, 4, 5, 6, 7, 8, 9],\n",
    " [0, 1, 2, 3, 4, 5, 6, 7, 8, 9],\n",
    " [0, 0, 0, 0, 0, 0, 0, 0, 0, 0],\n",
    " [0, 0, 0, 0, 0, 0, 0, 0, 0, 0],\n",
    " [0, 0, 0, 0, 0, 0, 0, 0, 0, 0],\n",
    " [0, 0, 0, 0, 0, 0, 0, 0, 0, 0],\n",
    " [0, 0, 0, 0, 0, 0, 0, 0, 0, 0]])\n",
    "i = j.transpose()\n",
    "i_padded = j_padded.transpose()\n",
    "np.array_equal(i_padded.dot(j_padded), i.dot(j))"
   ]
  },
  {
   "cell_type": "code",
   "execution_count": null,
   "metadata": {
    "collapsed": false,
    "deletable": true,
    "editable": true
   },
   "outputs": [],
   "source": []
  },
  {
   "cell_type": "code",
   "execution_count": null,
   "metadata": {
    "collapsed": true,
    "deletable": true,
    "editable": true
   },
   "outputs": [],
   "source": []
  }
 ],
 "metadata": {
  "kernelspec": {
   "display_name": "Python 2",
   "language": "python",
   "name": "python2"
  },
  "language_info": {
   "codemirror_mode": {
    "name": "ipython",
    "version": 2
   },
   "file_extension": ".py",
   "mimetype": "text/x-python",
   "name": "python",
   "nbconvert_exporter": "python",
   "pygments_lexer": "ipython2",
   "version": "2.7.13"
  }
 },
 "nbformat": 4,
 "nbformat_minor": 2
}
